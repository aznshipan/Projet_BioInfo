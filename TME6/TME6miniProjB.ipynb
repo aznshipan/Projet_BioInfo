{
 "cells": [
  {
   "cell_type": "markdown",
   "metadata": {},
   "source": [
    "# TME 6 : Mini-projet Detection de motifs\n",
    "\n",
    "\n",
    "## Recheche de pattern (motifs) en permettant des variations\n",
    "\n",
    "Les motifs que nous cherchons dans les sequences d'ADN peuvent contenir quelques variations ou mutations. Nous allons developpé dans cet partie differents algoritmes pour la recherche de motifs variables. "
   ]
  },
  {
   "cell_type": "markdown",
   "metadata": {},
   "source": [
    "1\\. Comme dans le TME5, nous alons d'abord générer des données atificielles pour pouvoir tester les algorithmes. Faites une fonction pour générer `t` séquences artificielles de taille `n`. Implantez dans chaque séquence un motif de taille `k` à des positions aléatoires avec `v` substitutions choisies aléatoirement."
   ]
  },
  {
   "cell_type": "code",
   "execution_count": 26,
   "metadata": {},
   "outputs": [
    {
     "name": "stdout",
     "output_type": "stream",
     "text": [
      "Motif :  GATT\n",
      "GATT\n",
      "GTTT\n",
      "GCTT\n",
      "ADN :  ['attagagttGATTc', 'agaagataaGTTTc', 'gGCTTtagcccggc']\n"
     ]
    }
   ],
   "source": [
    "import random\n",
    "\n",
    "nuc = ('A', 'C', 'G', 'T')\n",
    "\n",
    "k=4 #taille de motif\n",
    "v=1 #nb de positions variable dans le motif\n",
    "t=3 #nb de sequences\n",
    "n=10 #longuer des sequence\n",
    "\n",
    "def generateRandomSequence(n, I):\n",
    "    seq_tmp = \"\"\n",
    "    \n",
    "    if I == True:\n",
    "        for i in range(n):\n",
    "            seq_tmp = seq_tmp + random.choice(nuc)\n",
    "    else:\n",
    "        for i in range(n):\n",
    "            seq_tmp = seq_tmp + random.choice(nuc).lower()\n",
    "\n",
    "    return seq_tmp\n",
    "    \n",
    "\n",
    "def generateRandomSequences(n, t):\n",
    "    sequences = [generateRandomSequence(n, False) for i in range(t)]\n",
    "   \n",
    "    return sequences\n",
    "\n",
    "\n",
    "def implantMotifVar(k, v, t, n):\n",
    "    sequences = generateRandomSequences(n, t)\n",
    "    motif = generateRandomSequence(k, True)\n",
    "    print(\"Motif : \", motif)\n",
    "    \n",
    "    for i in range(len(sequences)):\n",
    "        L_seq = list(sequences[i])\n",
    "        L_motif = list(motif)\n",
    "        for nb_mutation in range(v):\n",
    "            index_mutation_motif = random.randint(0,len(motif) - 1)\n",
    "            L_motif[index_mutation_motif] = random.choice(nuc)\n",
    "        chn_motif_mute = \"\".join(L_motif)\n",
    "        print(chn_motif_mute)\n",
    "        L_seq.insert(random.randint(0, len(L_seq) - 1), chn_motif_mute)\n",
    "        \n",
    "        sequences[i] = \"\".join(L_seq)\n",
    "    return sequences\n",
    "\n",
    "sequences = implantMotifVar(k, v, t, n)\n",
    "print (\"ADN : \", sequences)\n"
   ]
  },
  {
   "cell_type": "markdown",
   "metadata": {},
   "source": [
    "2\\. Visualisation de motifs. Nous pouvons visualiser les motifs à l'aide des outils de LOGO https://weblogo.berkeley.edu/logo.cgi. Executer votre fonction de generation de motif variable, extraire les motifs et visulise-le à l'aide de webLogo. Utiliser les parametre ci-dessous.\n"
   ]
  },
  {
   "cell_type": "code",
   "execution_count": 27,
   "metadata": {},
   "outputs": [
    {
     "name": "stdout",
     "output_type": "stream",
     "text": [
      "Motif :  AATGCTTC\n",
      "CATGCTTC\n",
      "CATGCCTC\n",
      "TATGCTTC\n",
      "TCTGCTTC\n",
      "AATGCGTC\n",
      "AATGCTGC\n",
      "AGTGCTTC\n",
      "CATGCTTC\n",
      "CATGCTTC\n",
      "AACGCTTG\n",
      "['agacgtctcCATGCTTCt', 'tcCATGCCTCactctatg', 'cTATGCTTCacatcctgc', 'tagagaTCTGCTTCttaa', 'ggtaagAATGCGTCatcg', 'tAATGCTGCaacacttac', 'ttgAGTGCTTCagttttg', 'ggtggtcCATGCTTCgca', 'tcaCATGCTTCaatagaa', 'atggaaAACGCTTGagac']\n"
     ]
    }
   ],
   "source": [
    "k=8 #taille de motif\n",
    "v=2 #nb de positions variable dans le motif\n",
    "t=10 #nb de sequences\n",
    "n=10 #longuer des sequence\n",
    "\n",
    "sequences = implantMotifVar(k, v, t, n)\n",
    "print (sequences)"
   ]
  },
  {
   "cell_type": "markdown",
   "metadata": {},
   "source": [
    "3\\. Préparation pour l'algorithme _\"Brute Force Motif Search\"_. Avant d'implementer  l'algorithme _\"Brute Force Motif Search\"_, faites une fonction pour calculer le score `score(s, seqs)`, où `s` est un ensemble de position initiales `s`$=(s_1,s_2,...,s_k)$  et `seqs` est une matrice de taille `t x n`  (`t` est le nombre de séquences et `n` la taille de ces séquences), pour tester votre fonction utiliser la matrice et les valeurs ci-dessous (voir aussi les slides du cours).\n"
   ]
  },
  {
   "cell_type": "code",
   "execution_count": 82,
   "metadata": {},
   "outputs": [
    {
     "name": "stdout",
     "output_type": "stream",
     "text": [
      "[[3 0 1 0 3 1 1 0]\n",
      " [2 4 0 0 1 4 0 0]\n",
      " [0 1 4 0 0 0 3 1]\n",
      " [0 0 0 5 1 0 1 4]]\n",
      "30\n"
     ]
    }
   ],
   "source": [
    "import numpy as np\n",
    "\n",
    "k =8\n",
    "n = 68 # length of each DNA sequence\n",
    "t = 5 # number of  DNA sequence samples\n",
    "\n",
    "s=(25,20,2,55,59)\n",
    "\n",
    "seqs = [\n",
    "'CCTGATAGACGCTATCTGGCTATCCAGGTACTTAGGTCCTCTGTGCGAATCTATGCGTTTCCAACCAT',\n",
    "'AGTACTGGTGTACATTTGATCCATACGTACACCGGCAACCTGAAACAAACGCTCAGAACCAGAAGTGC',\n",
    "'AAACGTTAGTGCACCCTCTTTCTTCGTGGCTCTGGCCAACGAGGGCTGATGTATAAGACGAAAATTTT',\n",
    "'AGCCTCCGATGTAAGTCATAGCTGTAACTATTACCTGCCACCCCTATTACATCTTACGTCCATATACA',\n",
    "'CTGTTATACAACGCGTCATGGCGGGGTATGCGTTTTGGTCGTCGTACGCTCGATCGTTACCGTACGGC'\n",
    "]\n",
    "\n",
    "\n",
    "\n",
    "#extract sequences from seqs\n",
    "def extractSeqs(s, seqs):\n",
    "    motifs = []\n",
    "    \n",
    "    L_zip = list(zip(s,seqs))\n",
    "    \n",
    "    for i_ini, seq in L_zip:\n",
    "        seq_tmp = \"\"\n",
    "        for i in range(i_ini, i_ini + k):\n",
    "            seq_tmp = seq_tmp + seq[i]\n",
    "        motifs.append(seq_tmp)\n",
    "                \n",
    "    return motifs\n",
    "\n",
    "\n",
    "#construct Profiles\n",
    "def profile(motifs, k, t, q):\n",
    "    PWM = np.zeros((q, k), dtype = int)\n",
    "    L = [x for x in nuc]\n",
    "    \n",
    "    dictionnaire = {}\n",
    "    for i in range(len(L)):\n",
    "        dictionnaire[L[i]] = PWM[i]\n",
    "    \n",
    "    for i in range(k):\n",
    "        for j in range(len(motifs)):\n",
    "            dictionnaire[motifs[j][i]][i] = dictionnaire[motifs[j][i]][i] + 1\n",
    "            \n",
    "    \n",
    "    for i in range(q):\n",
    "        PWM[i] = dictionnaire[L[i]]\n",
    "        \n",
    "    print(PWM)\n",
    "    \n",
    "    return PWM\n",
    "\n",
    "\n",
    "def score(s, seqs):\n",
    "    sc = 0\n",
    "    profile1 = profile(extractSeqs(s, seqs), k, t, len(nuc))\n",
    "    \n",
    "    L_max_colonne = []\n",
    "    \n",
    "    for i in range(len(profile1[0])):\n",
    "        L_tmp = []\n",
    "        for j in range(len(nuc)):\n",
    "            L_tmp.append(profile1[j][i])\n",
    "        sc = sc + max(L_tmp)\n",
    "    \n",
    "    return (sc)\n",
    "\n",
    "sc = score(s, seqs)\n",
    "#teste, sc doit etre egalle à 30\n",
    "print (sc)\n",
    "\n"
   ]
  },
  {
   "cell_type": "markdown",
   "metadata": {},
   "source": [
    "4\\. Implementer l'algoritme _\"Brute Force Motif Search\"_ pour chercher des motifs de taille variable. Attention, la complexité de cet algorithme est trop importante, car il enumère toutes les positions intiales possibles, nous allons donc le tester seulement sur de petits jeux de données."
   ]
  },
  {
   "cell_type": "code",
   "execution_count": null,
   "metadata": {},
   "outputs": [],
   "source": [
    "from itertools import product\n",
    "\n",
    "\n",
    "#enumeration all initial positions\n",
    "def initialPosition(k, n, t):\n",
    "\tiniPos = []; allIniPos = [];\n",
    "\tfor i in range(0, n-k+1):\n",
    "\t\tiniPos.append(i)\n",
    "        \n",
    "\tfor subset in product(iniPos, repeat=t):\n",
    "\t\tallIniPos.append(subset)\n",
    "\treturn allIniPos\n",
    "\n",
    "def bruteForceMotifSearch(sequences, t, n, k):\n",
    "\tbestscore = 0; bestMotif=''\n",
    "\n",
    "\treturn bestMotif, bestscore\n",
    "\n",
    "#test\n",
    "k=4; v=1; t=3; n=10\n",
    "sequences = implantMotifVar(k, v, t, n)\n",
    "print (sequences)\n",
    "bestMotif, bestscore = bruteForceMotifSearch(sequences, t, n, k)\n",
    "print (bestMotif, bestscore)"
   ]
  },
  {
   "cell_type": "markdown",
   "metadata": {},
   "source": [
    "5\\. L'algorithme est-il performant sur ce jeu de données ? Sinon, pourquoi ?"
   ]
  },
  {
   "cell_type": "markdown",
   "metadata": {},
   "source": [
    "<font color='blue'>\n",
    "réponse: \n",
    "</font>"
   ]
  },
  {
   "cell_type": "markdown",
   "metadata": {},
   "source": [
    "6\\. Tester l'agorithme avec les paramètres suivants `k=7`, `v=1`, `t=5`, et `n=20`. Avez vous de meilleurs performances ?"
   ]
  },
  {
   "cell_type": "code",
   "execution_count": null,
   "metadata": {},
   "outputs": [],
   "source": [
    "k=7; v=1; t=5; n=20\n",
    "\n",
    "sequences = implantMotifVar(k, v, t, n)\n",
    "print (sequences)\n",
    "bestMotif, bestscore = bruteForceMotifSearch(sequences, t, n, k)\n",
    "\n",
    "print (bestMotif)"
   ]
  },
  {
   "cell_type": "markdown",
   "metadata": {},
   "source": [
    "7\\. Implémentez l'algorithme _\"Median String Search\"_ pour chercher des motifs de taille variable. Tester le sur les mêmes jeux de données que la question 3 (voir slides de cours). Vous devez éliminer les motifs peu complexe pour éviter les calculs inutiles."
   ]
  },
  {
   "cell_type": "code",
   "execution_count": null,
   "metadata": {},
   "outputs": [],
   "source": [
    "#generer les k-mers valid\n",
    "validkmers = []\n"
   ]
  },
  {
   "cell_type": "code",
   "execution_count": null,
   "metadata": {},
   "outputs": [],
   "source": [
    "\n",
    "def hamdist(v, x):\n",
    "\tdiffs = 0\n",
    "\n",
    "\treturn diffs\n",
    "\n",
    "\n",
    "def totalDistance(motif, sequences, k):\n",
    "\ttd = 0\n",
    "\t\n",
    "\treturn td\n",
    "\n",
    "\n",
    "def MedianStringSearch(allkmers, sequences, t, n, k):\n",
    "\tbestDistance = 1000\n",
    "\tbestMotif = \"\"\n",
    "\tmotifDist = {} #all motifs found\n",
    "\n",
    "\treturn bestMotif, bestDistance, motifDist\n",
    "\n",
    "#teste, td = 4\n",
    "td = totalDistance(\"acgtacgt\", sequences, k)\n",
    "print (td)\n",
    "bestMotif, bestDistance, motifDist = MedianStringSearch(kmersValid, sequences, t, n, k)\n",
    "print (bestMotif, bestDistance)"
   ]
  },
  {
   "cell_type": "markdown",
   "metadata": {},
   "source": [
    "8\\. Comparation entre les algorithmes _\"Median String Search\"_ et \"_Brute Force Motif Search_\""
   ]
  },
  {
   "cell_type": "markdown",
   "metadata": {},
   "source": [
    "a\\. Produire des séquences artificielles avec les paramètres suivants  `k=7`, `v=1`, `t=5`, `n=20`. Comparer les performance et le temps de calculs des deux algorithmes."
   ]
  },
  {
   "cell_type": "code",
   "execution_count": null,
   "metadata": {},
   "outputs": [],
   "source": [
    "k=7; v=1; t=5; n=20"
   ]
  },
  {
   "cell_type": "markdown",
   "metadata": {},
   "source": [
    "b\\. Quel algorithme peut etre appliqué au probleme de recherche de motifs? Et comment?"
   ]
  },
  {
   "cell_type": "markdown",
   "metadata": {},
   "source": [
    "<font color='blue'>\n",
    "réponse: \n",
    "</font>"
   ]
  },
  {
   "cell_type": "code",
   "execution_count": null,
   "metadata": {},
   "outputs": [],
   "source": [
    "k=7; n=80\n",
    "\n",
    "def readFasta(genome, n):\n",
    "    sequence = []\n",
    "    file = open(genome, \"r\")\n",
    "    sequence = []\n",
    "    for s in file:\n",
    "        if s[0] != \">\":\n",
    "            sequence.append(s.strip().upper())\n",
    "    sequenceStr = \"\".join(sequence)\n",
    "    #sequence = [sequenceStr]\n",
    "    sequence = [sequenceStr[i:i+n] for i in range(0, len(sequenceStr), n)]\n",
    "    return sequence\n",
    "\n",
    "genome = \"\"\n",
    "\n",
    "\n",
    "sequences   = readFasta(genome, n)\n",
    "\n",
    "t = len(sequences)\n"
   ]
  },
  {
   "cell_type": "markdown",
   "metadata": {},
   "source": [
    "9\\. Ulitser la base YEASTRACT : http://www.yeastract.com/formsearchbydnamotif.php pour chercher les motifs. \n",
    "Avez vous une indication pour le facteur de transcription impliqué ? Comparer vos résultats aux résultats obtenu avec algorithme Table de Hachage.\n"
   ]
  },
  {
   "cell_type": "markdown",
   "metadata": {},
   "source": [
    "<font color='blue'>\n",
    "réponse: \n",
    "</font>"
   ]
  },
  {
   "cell_type": "code",
   "execution_count": null,
   "metadata": {},
   "outputs": [],
   "source": []
  }
 ],
 "metadata": {
  "kernelspec": {
   "display_name": "Python 3",
   "language": "python",
   "name": "python3"
  },
  "language_info": {
   "codemirror_mode": {
    "name": "ipython",
    "version": 3
   },
   "file_extension": ".py",
   "mimetype": "text/x-python",
   "name": "python",
   "nbconvert_exporter": "python",
   "pygments_lexer": "ipython3",
   "version": "3.7.4"
  }
 },
 "nbformat": 4,
 "nbformat_minor": 2
}
