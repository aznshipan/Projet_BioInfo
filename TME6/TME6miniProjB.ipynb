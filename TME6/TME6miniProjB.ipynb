{
 "cells": [
  {
   "cell_type": "markdown",
   "metadata": {},
   "source": [
    "# TME 6 : Mini-projet Detection de motifs\n",
    "\n",
    "\n",
    "## Recheche de pattern (motifs) en permettant des variations\n",
    "\n",
    "Les motifs que nous cherchons dans les sequences d'ADN peuvent contenir quelques variations ou mutations. Nous allons developpé dans cet partie differents algoritmes pour la recherche de motifs variables. "
   ]
  },
  {
   "cell_type": "markdown",
   "metadata": {},
   "source": [
    "1\\. Comme dans le TME5, nous alons d'abord générer des données atificielles pour pouvoir tester les algorithmes. Faites une fonction pour générer `t` séquences artificielles de taille `n`. Implantez dans chaque séquence un motif de taille `k` à des positions aléatoires avec `v` substitutions choisies aléatoirement."
   ]
  },
  {
   "cell_type": "code",
   "execution_count": 195,
   "metadata": {},
   "outputs": [
    {
     "name": "stdout",
     "output_type": "stream",
     "text": [
      "Motif :  ACAG\n",
      "ACAA\n",
      "AGAG\n",
      "AAAG\n",
      "ADN :  ['TCACAATCTTTTTT', 'GGGGCCCAGAGGCT', 'TTAGCAAAAGACAG']\n"
     ]
    }
   ],
   "source": [
    "import random\n",
    "\n",
    "nuc = ('A', 'C', 'G', 'T')\n",
    "\n",
    "k=4 #taille de motif\n",
    "v=1 #nb de positions variable dans le motif\n",
    "t=3 #nb de sequences\n",
    "n=10 #longuer des sequence\n",
    "\n",
    "def generateRandomSequence(n, I):\n",
    "    seq_tmp = \"\"\n",
    "    \n",
    "    if I == True:\n",
    "        for i in range(n):\n",
    "            seq_tmp = seq_tmp + random.choice(nuc)\n",
    "    else:\n",
    "        for i in range(n):\n",
    "            seq_tmp = seq_tmp + random.choice(nuc).lower()\n",
    "\n",
    "    return seq_tmp\n",
    "    \n",
    "\n",
    "def generateRandomSequences(n, t):\n",
    "    sequences = [generateRandomSequence(n, True) for i in range(t)]\n",
    "   \n",
    "    return sequences\n",
    "\n",
    "\n",
    "def implantMotifVar(k, v, t, n):\n",
    "    sequences = generateRandomSequences(n, t)\n",
    "    motif = generateRandomSequence(k, True)\n",
    "    print(\"Motif : \", motif)\n",
    "    \n",
    "    for i in range(len(sequences)):\n",
    "        L_seq = list(sequences[i])\n",
    "        L_motif = list(motif)\n",
    "        for nb_mutation in range(v):\n",
    "            index_mutation_motif = random.randint(0,len(motif) - 1)\n",
    "            L_motif[index_mutation_motif] = random.choice(nuc)\n",
    "        chn_motif_mute = \"\".join(L_motif)\n",
    "        print(chn_motif_mute)\n",
    "        L_seq.insert(random.randint(0, len(L_seq) - 1), chn_motif_mute)\n",
    "        \n",
    "        sequences[i] = \"\".join(L_seq)\n",
    "    return sequences\n",
    "\n",
    "sequences = implantMotifVar(k, v, t, n)\n",
    "print (\"ADN : \", sequences)\n"
   ]
  },
  {
   "cell_type": "markdown",
   "metadata": {},
   "source": [
    "2\\. Visualisation de motifs. Nous pouvons visualiser les motifs à l'aide des outils de LOGO https://weblogo.berkeley.edu/logo.cgi. Executer votre fonction de generation de motif variable, extraire les motifs et visulise-le à l'aide de webLogo. Utiliser les parametre ci-dessous.\n"
   ]
  },
  {
   "cell_type": "code",
   "execution_count": 196,
   "metadata": {},
   "outputs": [
    {
     "name": "stdout",
     "output_type": "stream",
     "text": [
      "Motif :  CCTATCAA\n",
      "CCCACCAA\n",
      "CCTATCTG\n",
      "CTTATCAA\n",
      "CTTATTAA\n",
      "CCCATCAA\n",
      "CCTATCCT\n",
      "CCTAGCAA\n",
      "CGTACCAA\n",
      "GCTATCAA\n",
      "ACTATAAA\n",
      "['TAAGTCCCACCAATTCCG', 'GCAACATTCCTATCTGGA', 'GACTTATCAAAGATAACC', 'CCCTTATTAATCATATGC', 'CCCCATCAAAAGCGAGGT', 'CCCTATCCTATGAAAATA', 'GTCCCTAGCAACTTGATA', 'TCTTCGTACCAAGGCCGC', 'GAGCTATCAAGGCGCTCC', 'TCAGCTAGACTATAAATC']\n"
     ]
    }
   ],
   "source": [
    "k=8 #taille de motif\n",
    "v=2 #nb de positions variable dans le motif\n",
    "t=10 #nb de sequences\n",
    "n=10 #longuer des sequence\n",
    "\n",
    "sequences = implantMotifVar(k, v, t, n)\n",
    "print (sequences)"
   ]
  },
  {
   "cell_type": "markdown",
   "metadata": {},
   "source": [
    "3\\. Préparation pour l'algorithme _\"Brute Force Motif Search\"_. Avant d'implementer  l'algorithme _\"Brute Force Motif Search\"_, faites une fonction pour calculer le score `score(s, seqs)`, où `s` est un ensemble de position initiales `s`$=(s_1,s_2,...,s_k)$  et `seqs` est une matrice de taille `t x n`  (`t` est le nombre de séquences et `n` la taille de ces séquences), pour tester votre fonction utiliser la matrice et les valeurs ci-dessous (voir aussi les slides du cours).\n"
   ]
  },
  {
   "cell_type": "code",
   "execution_count": 197,
   "metadata": {},
   "outputs": [
    {
     "name": "stdout",
     "output_type": "stream",
     "text": [
      "30\n"
     ]
    }
   ],
   "source": [
    "import numpy as np\n",
    "\n",
    "k =8\n",
    "n = 68 # length of each DNA sequence\n",
    "t = 5 # number of  DNA sequence samples\n",
    "\n",
    "s=(25,20,2,55,59)\n",
    "\n",
    "seqs = [\n",
    "'CCTGATAGACGCTATCTGGCTATCCAGGTACTTAGGTCCTCTGTGCGAATCTATGCGTTTCCAACCAT',\n",
    "'AGTACTGGTGTACATTTGATCCATACGTACACCGGCAACCTGAAACAAACGCTCAGAACCAGAAGTGC',\n",
    "'AAACGTTAGTGCACCCTCTTTCTTCGTGGCTCTGGCCAACGAGGGCTGATGTATAAGACGAAAATTTT',\n",
    "'AGCCTCCGATGTAAGTCATAGCTGTAACTATTACCTGCCACCCCTATTACATCTTACGTCCATATACA',\n",
    "'CTGTTATACAACGCGTCATGGCGGGGTATGCGTTTTGGTCGTCGTACGCTCGATCGTTACCGTACGGC'\n",
    "]\n",
    "\n",
    "\n",
    "\n",
    "#extract sequences from seqs\n",
    "def extractSeqs(s, seqs):\n",
    "    motifs = []\n",
    "    \n",
    "    L_zip = list(zip(s,seqs))\n",
    "    \n",
    "    for i_ini, seq in L_zip:\n",
    "        seq_tmp = \"\"\n",
    "        for i in range(i_ini, i_ini + k):\n",
    "            seq_tmp = seq_tmp + seq[i]\n",
    "        motifs.append(seq_tmp)\n",
    "                \n",
    "    return motifs\n",
    "\n",
    "\n",
    "#construct Profiles\n",
    "def profile(motifs, k, t, q):\n",
    "    PWM = np.zeros((q, k), dtype = int)\n",
    "    L = [x for x in nuc]\n",
    "    \n",
    "    dictionnaire = {}\n",
    "    for i in range(len(L)):\n",
    "        dictionnaire[L[i]] = PWM[i]\n",
    "    \n",
    "    for i in range(k):\n",
    "        for j in range(len(motifs)):\n",
    "            dictionnaire[motifs[j][i]][i] = dictionnaire[motifs[j][i]][i] + 1\n",
    "            \n",
    "    \n",
    "    for i in range(q):\n",
    "        PWM[i] = dictionnaire[L[i]]\n",
    "        \n",
    "    #print(PWM)\n",
    "    \n",
    "    return PWM\n",
    "\n",
    "\n",
    "def score(s, seqs):\n",
    "    sc = 0\n",
    "    profile1 = profile(extractSeqs(s, seqs), k, t, len(nuc))\n",
    "    \n",
    "    L_max_colonne = []\n",
    "    \n",
    "    for i in range(len(profile1[0])):\n",
    "        L_tmp = []\n",
    "        for j in range(len(nuc)):\n",
    "            L_tmp.append(profile1[j][i])\n",
    "        sc = sc + max(L_tmp)\n",
    "    \n",
    "    return (sc)\n",
    "\n",
    "sc = score(s, seqs)\n",
    "#teste, sc doit etre egalle à 30\n",
    "print (sc)\n",
    "\n"
   ]
  },
  {
   "cell_type": "markdown",
   "metadata": {},
   "source": [
    "4\\. Implementer l'algoritme _\"Brute Force Motif Search\"_ pour chercher des motifs de taille variable. Attention, la complexité de cet algorithme est trop importante, car il enumère toutes les positions intiales possibles, nous allons donc le tester seulement sur de petits jeux de données."
   ]
  },
  {
   "cell_type": "code",
   "execution_count": 198,
   "metadata": {},
   "outputs": [
    {
     "name": "stdout",
     "output_type": "stream",
     "text": [
      "Motif :  AGTG\n",
      "CGTG\n",
      "ACTG\n",
      "AGTG\n",
      "['CGTGTACAGTACTT', 'ACTGGCAAAGATTT', 'CGCAATATAGTGAC']\n",
      "(3, 4, 1) 10\n"
     ]
    }
   ],
   "source": [
    "from itertools import product\n",
    "\n",
    "\n",
    "#enumeration all initial positions\n",
    "def initialPosition(k, n, t):\n",
    "\tiniPos = []; allIniPos = [];\n",
    "\tfor i in range(0, n-k+1):\n",
    "\t\tiniPos.append(i)\n",
    "        \n",
    "\tfor subset in product(iniPos, repeat=t):\n",
    "\t\tallIniPos.append(subset)\n",
    "\treturn allIniPos\n",
    "\n",
    "def bruteForceMotifSearch(sequences, t, n, k):\n",
    "    bestscore = 0\n",
    "    bestMotif = ''#tuple des meilleurs position\n",
    "    \n",
    "    positionIni = initialPosition(k, n, t)\n",
    "    \n",
    "    for pos_tmp in positionIni:\n",
    "        if score(pos_tmp, sequences) > bestscore:\n",
    "            bestscore = score(pos_tmp, sequences)\n",
    "            bestMotif = pos_tmp\n",
    "            \n",
    "\n",
    "    return bestMotif, bestscore\n",
    "\n",
    "#test\n",
    "k=4; v=1; t=3; n=10\n",
    "sequences = implantMotifVar(k, v, t, n)\n",
    "print (sequences)\n",
    "bestMotif, bestscore = bruteForceMotifSearch(sequences, t, n, k)\n",
    "print (bestMotif, bestscore)"
   ]
  },
  {
   "cell_type": "markdown",
   "metadata": {},
   "source": [
    "5\\. L'algorithme est-il performant sur ce jeu de données ? Sinon, pourquoi ?"
   ]
  },
  {
   "cell_type": "markdown",
   "metadata": {},
   "source": [
    "<font color='blue'>\n",
    "réponse: On a k = 4, t = 3, n = 10, comme la complexité de cet algorithme est de O(kn^t), ici on fait donc\n",
    "    4*10^3 soit 4000 calcul. Pour un ordinateur, ca reste encore faisable. Donc ici, comme c'est un petit jeu de donnée, cet algorithme reste \"efficace\"\n",
    "</font>"
   ]
  },
  {
   "cell_type": "markdown",
   "metadata": {},
   "source": [
    "6\\. Tester l'agorithme avec les paramètres suivants `k=7`, `v=1`, `t=5`, et `n=20`. Avez vous de meilleurs performances ?"
   ]
  },
  {
   "cell_type": "code",
   "execution_count": 100,
   "metadata": {},
   "outputs": [
    {
     "name": "stdout",
     "output_type": "stream",
     "text": [
      "Motif :  GTTAGGA\n",
      "GTTAGGA\n",
      "GTTAGGT\n",
      "GTGAGGA\n",
      "GTTACGA\n",
      "GTTAGGT\n",
      "['GCTTGTGTGTGGTTGATGGGTTAGGAT', 'CTCTGTTAGGTACGCGGTGGTGTCTTG', 'GGGTAGAAGGGTGAGGATGTCAACTAG', 'GTTACGAGGTTAAGCATTTCTAGGATT', 'ACATAACCAGATTACGGGGTTAGGTGA']\n",
      "(5, 10, 3, 2, 12)\n"
     ]
    }
   ],
   "source": [
    "k=7; v=1; t=5; n=20\n",
    "\n",
    "sequences = implantMotifVar(k, v, t, n)\n",
    "print (sequences)\n",
    "bestMotif, bestscore = bruteForceMotifSearch(sequences, t, n, k)\n",
    "\n",
    "print (bestMotif)\n",
    "#L'exécution ici a pris beaucoup plus de temps qu'avec les paramètres de la question 4.\n",
    "#En effet ici on a 7 * 20^5 soit 22400000 calculs, ce qui prend quand même un peu de temps... même pour\n",
    "#ordinateur ..."
   ]
  },
  {
   "cell_type": "markdown",
   "metadata": {},
   "source": [
    "7\\. Implémentez l'algorithme _\"Median String Search\"_ pour chercher des motifs de taille variable. Tester le sur les mêmes jeux de données que la question 3 (voir slides de cours). Vous devez éliminer les motifs peu complexe pour éviter les calculs inutiles."
   ]
  },
  {
   "cell_type": "code",
   "execution_count": 199,
   "metadata": {},
   "outputs": [
    {
     "name": "stdout",
     "output_type": "stream",
     "text": [
      "['CCTGATAG', 'CTGATAGA', 'TGATAGAC', 'GATAGACG', 'ATAGACGC', 'TAGACGCT', 'AGACGCTA', 'GACGCTAT', 'ACGCTATC', 'CGCTATCT', 'GCTATCTG', 'CTATCTGG', 'TATCTGGC', 'ATCTGGCT', 'TCTGGCTA', 'CTGGCTAT', 'TGGCTATC', 'GGCTATCC', 'GCTATCCA', 'CTATCCAG', 'TATCCAGG', 'ATCCAGGT', 'TCCAGGTA', 'CCAGGTAC', 'CAGGTACT', 'AGGTACTT', 'GGTACTTA', 'GTACTTAG', 'TACTTAGG', 'ACTTAGGT', 'CTTAGGTC', 'TTAGGTCC', 'TAGGTCCT', 'AGGTCCTC', 'GGTCCTCT', 'GTCCTCTG', 'TCCTCTGT', 'CCTCTGTG', 'CTCTGTGC', 'TCTGTGCG', 'CTGTGCGA', 'TGTGCGAA', 'GTGCGAAT', 'TGCGAATC', 'GCGAATCT', 'CGAATCTA', 'GAATCTAT', 'AATCTATG', 'ATCTATGC', 'TCTATGCG', 'CTATGCGT', 'TATGCGTT', 'ATGCGTTT', 'TGCGTTTC', 'GCGTTTCC', 'CGTTTCCA', 'GTTTCCAA', 'TTTCCAAC', 'TTCCAACC', 'TCCAACCA', 'CCAACCAT', 'AGTACTGG', 'GTACTGGT', 'TACTGGTG', 'ACTGGTGT', 'CTGGTGTA', 'TGGTGTAC', 'GGTGTACA', 'GTGTACAT', 'TGTACATT', 'GTACATTT', 'TACATTTG', 'ACATTTGA', 'CATTTGAT', 'ATTTGATC', 'TTTGATCC', 'TTGATCCA', 'TGATCCAT', 'GATCCATA', 'ATCCATAC', 'TCCATACG', 'CCATACGT', 'CATACGTA', 'ATACGTAC', 'TACGTACA', 'ACGTACAC', 'CGTACACC', 'GTACACCG', 'TACACCGG', 'ACACCGGC', 'CACCGGCA', 'ACCGGCAA', 'CCGGCAAC', 'CGGCAACC', 'GGCAACCT', 'GCAACCTG', 'CAACCTGA', 'AACCTGAA', 'ACCTGAAA', 'CCTGAAAC', 'CTGAAACA', 'ACAAACGC', 'CAAACGCT', 'AAACGCTC', 'AACGCTCA', 'ACGCTCAG', 'CGCTCAGA', 'GCTCAGAA', 'CTCAGAAC', 'TCAGAACC', 'CAGAACCA', 'AGAACCAG', 'GAACCAGA', 'ACCAGAAG', 'CCAGAAGT', 'CAGAAGTG', 'AGAAGTGC', 'AAACGTTA', 'AACGTTAG', 'ACGTTAGT', 'CGTTAGTG', 'GTTAGTGC', 'TTAGTGCA', 'TAGTGCAC', 'AGTGCACC', 'GTGCACCC', 'TGCACCCT', 'ACCCTCTT', 'CCCTCTTT', 'CCTCTTTC', 'TCTTCGTG', 'CTTCGTGG', 'TTCGTGGC', 'TCGTGGCT', 'CGTGGCTC', 'GTGGCTCT', 'TGGCTCTG', 'GGCTCTGG', 'GCTCTGGC', 'CTCTGGCC', 'TCTGGCCA', 'CTGGCCAA', 'TGGCCAAC', 'GGCCAACG', 'GCCAACGA', 'CCAACGAG', 'CAACGAGG', 'AACGAGGG', 'ACGAGGGC', 'CGAGGGCT', 'AGGGCTGA', 'GGGCTGAT', 'GGCTGATG', 'GCTGATGT', 'CTGATGTA', 'TGATGTAT', 'GATGTATA', 'ATGTATAA', 'TGTATAAG', 'GTATAAGA', 'TATAAGAC', 'ATAAGACG', 'TAAGACGA', 'CGAAAATT', 'GAAAATTT', 'AAAATTTT', 'AGCCTCCG', 'GCCTCCGA', 'CCTCCGAT', 'CTCCGATG', 'TCCGATGT', 'CCGATGTA', 'CGATGTAA', 'GATGTAAG', 'ATGTAAGT', 'TGTAAGTC', 'GTAAGTCA', 'TAAGTCAT', 'AAGTCATA', 'AGTCATAG', 'GTCATAGC', 'TCATAGCT', 'CATAGCTG', 'ATAGCTGT', 'TAGCTGTA', 'AGCTGTAA', 'GCTGTAAC', 'CTGTAACT', 'TGTAACTA', 'GTAACTAT', 'TAACTATT', 'AACTATTA', 'ACTATTAC', 'CTATTACC', 'TATTACCT', 'ATTACCTG', 'TTACCTGC', 'TACCTGCC', 'ACCTGCCA', 'ACCCCTAT', 'CCCCTATT', 'CCCTATTA', 'CCTATTAC', 'CTATTACA', 'TATTACAT', 'ATTACATC', 'TTACATCT', 'TACATCTT', 'ACATCTTA', 'CATCTTAC', 'ATCTTACG', 'TCTTACGT', 'CTTACGTC', 'TTACGTCC', 'TACGTCCA', 'ACGTCCAT', 'CGTCCATA', 'GTCCATAT', 'TCCATATA', 'CCATATAC', 'CTGTTATA', 'TGTTATAC', 'GTTATACA', 'TTATACAA', 'TATACAAC', 'ATACAACG', 'TACAACGC', 'ACAACGCG', 'CAACGCGT', 'AACGCGTC', 'ACGCGTCA', 'CGCGTCAT', 'GCGTCATG', 'CGTCATGG', 'GTCATGGC', 'TCATGGCG', 'CATGGCGG', 'CGGGGTAT', 'GGGTATGC', 'GGTATGCG', 'GTATGCGT', 'TATGCGTT', 'ATGCGTTT', 'GCGTTTTG', 'CGTTTTGG', 'TTTGGTCG', 'TTGGTCGT', 'TGGTCGTC', 'GGTCGTCG', 'GTCGTCGT', 'TCGTCGTA', 'CGTCGTAC', 'GTCGTACG', 'TCGTACGC', 'CGTACGCT', 'GTACGCTC', 'TACGCTCG', 'ACGCTCGA', 'CGCTCGAT', 'GCTCGATC', 'CTCGATCG', 'TCGATCGT', 'CGATCGTT', 'GATCGTTA', 'ATCGTTAC', 'TCGTTACC', 'CGTTACCG', 'GTTACCGT', 'TTACCGTA', 'TACCGTAC', 'ACCGTACG', 'CCGTACGG', 'CGTACGGC']\n"
     ]
    }
   ],
   "source": [
    "#generer les k-mers valid\n",
    "k =8\n",
    "n = 68 # length of each DNA sequence\n",
    "t = 5 # number of  DNA sequence samples\n",
    "minrep = 5\n",
    "\n",
    "s=(25,20,2,55,59)\n",
    "\n",
    "sequences = [\n",
    "'CCTGATAGACGCTATCTGGCTATCCAGGTACTTAGGTCCTCTGTGCGAATCTATGCGTTTCCAACCAT',\n",
    "'AGTACTGGTGTACATTTGATCCATACGTACACCGGCAACCTGAAACAAACGCTCAGAACCAGAAGTGC',\n",
    "'AAACGTTAGTGCACCCTCTTTCTTCGTGGCTCTGGCCAACGAGGGCTGATGTATAAGACGAAAATTTT',\n",
    "'AGCCTCCGATGTAAGTCATAGCTGTAACTATTACCTGCCACCCCTATTACATCTTACGTCCATATACA',\n",
    "'CTGTTATACAACGCGTCATGGCGGGGTATGCGTTTTGGTCGTCGTACGCTCGATCGTTACCGTACGGC'\n",
    "]\n",
    "def tousLesKmers(ADN, k):\n",
    "    \"\"\"\n",
    "    List(String) -> List(String)\n",
    "    Rend la liste de tous les k-mers present dans chaque element de ADN\n",
    "    \"\"\"\n",
    "    List_des_Kmer = []\n",
    "    for sequence in ADN:\n",
    "        for i in range(len(sequence)-k+1):\n",
    "            seq_i = \"\"\n",
    "            for j in range(k):\n",
    "                seq_i = seq_i + sequence[i+j]\n",
    "            List_des_Kmer.append(seq_i)\n",
    "    return List_des_Kmer\n",
    "            \n",
    "\n",
    "def removeLowComplexe(motifs, minrep):\n",
    "    validMotif = []\n",
    "    for mot in motifs:\n",
    "        if mot.count('A') < minrep and mot.count('C') < minrep and mot.count('G') < minrep and mot.count('T') < minrep:\n",
    "            validMotif.append(mot)\n",
    "    return validMotif\n",
    "\n",
    "def removeLowComplexePair(motifs):\n",
    "    validMotif = []\n",
    "    \n",
    "    for cle in motifs:\n",
    "        list_tmp = []\n",
    "        list_tmp.append(cle[0])\n",
    "        for i in range(2, len(cle), 2):\n",
    "            if cle[i] == list_tmp[0]:\n",
    "                list_tmp.append(cle[i])\n",
    "        cpt_pos_pair = len(list_tmp)\n",
    "        list_tmp = []\n",
    "        list_tmp.append(cle[1])\n",
    "        for i in range(3, len(cle), 2):\n",
    "            if cle[i] == list_tmp[0]:\n",
    "                list_tmp.append(cle[i])\n",
    "        cpt_pos_impair = len(list_tmp)\n",
    "        \n",
    "        if not cpt_pos_pair == ((len(cle) // 2) + 1) and not cpt_pos_impair == (len(cle) // 2):\n",
    "            validMotif.append(cle)\n",
    "              \n",
    "    return validMotif\n",
    "#Seulement avec sequences en majuscule ...\n",
    "\n",
    "motifs_valides = tousLesKmers(sequences, k)\n",
    "validkmers = removeLowComplexe(motifs_valides, minrep)\n",
    "validkmers = removeLowComplexePair(validkmers)\n",
    "print(validkmers)\n"
   ]
  },
  {
   "cell_type": "code",
   "execution_count": 200,
   "metadata": {},
   "outputs": [
    {
     "name": "stdout",
     "output_type": "stream",
     "text": [
      "10\n",
      "CTGATGTA 6\n"
     ]
    }
   ],
   "source": [
    "\n",
    "def hamdist(v, x):\n",
    "    diffs = 0\n",
    "    for i in range(len(x)):\n",
    "        if v[i] != x[i]:\n",
    "            diffs = diffs + 1\n",
    "    \n",
    "    return diffs\n",
    "\n",
    "\n",
    "def totalDistance(motif, sequences, k):\n",
    "    td = 0\n",
    "    \n",
    "    for sequence_tmp in sequences:\n",
    "        bestDistance = 1000\n",
    "        for i in range(len(sequence_tmp)-k+1):\n",
    "            seq_i = \"\"\n",
    "            for j in range(k):\n",
    "                seq_i = seq_i + sequence_tmp[i+j]\n",
    "            if hamdist(motif, seq_i) < bestDistance:\n",
    "                bestDistance = hamdist(motif, seq_i)\n",
    "        \n",
    "        td = td + bestDistance\n",
    "        \n",
    "    return td\n",
    "#Ne marche qu'avec des sequence en MAJUSCULE ...\n",
    "\n",
    "\n",
    "def MedianStringSearch(allkmers, sequences, t, n, k):\n",
    "    bestDistance = 10000\n",
    "    bestMotif = \"\"\n",
    "    motifDist = {} #all motifs found\n",
    "    \n",
    "    for valid in allkmers:\n",
    "        if totalDistance(valid, sequences, k) < bestDistance:\n",
    "            bestDistance = totalDistance(valid, sequences, k)\n",
    "            bestMotif = valid\n",
    "\n",
    "    return bestMotif, bestDistance, motifDist\n",
    "\n",
    "#teste, td = 4\n",
    "#acgtacgt\n",
    "td = totalDistance(\"ACGTACGT\", sequences, k)\n",
    "print (td)\n",
    "bestMotif, bestDistance, motifDist = MedianStringSearch(validkmers, sequences, t, n, k)\n",
    "print (bestMotif, bestDistance)"
   ]
  },
  {
   "cell_type": "markdown",
   "metadata": {},
   "source": [
    "8\\. Comparation entre les algorithmes _\"Median String Search\"_ et \"_Brute Force Motif Search_\""
   ]
  },
  {
   "cell_type": "markdown",
   "metadata": {},
   "source": [
    "a\\. Produire des séquences artificielles avec les paramètres suivants  `k=7`, `v=1`, `t=5`, `n=20`. Comparer les performance et le temps de calculs des deux algorithmes."
   ]
  },
  {
   "cell_type": "code",
   "execution_count": 201,
   "metadata": {},
   "outputs": [
    {
     "name": "stdout",
     "output_type": "stream",
     "text": [
      "Motif :  CAAGTTC\n",
      "CAAGTTC\n",
      "CAAGTTC\n",
      "CAAGTTC\n",
      "CAAGTTC\n",
      "AAAGTTC\n",
      "['GAGGGTGGCCATCACGTATGAAGCAGG', 'ATAGGTCAATACCGGGAGCCCGCAAAG', 'GGGTGCAGATACTTGTCACCAGGATGC', 'CATGGGGTGGCAAGCCTAATTCAGACC', 'GGGGTGCCAAGGCTCAACGTTGCGAGT']\n",
      "TGCAGAA 11\n"
     ]
    }
   ],
   "source": [
    "k=7; v=1; t=5; n=20\n",
    "\n",
    "sequences_question8 = implantMotifVar(k, v, t, n)\n",
    "print(sequence_question8)\n",
    "\n",
    "motifs_valides_question8 = tousLesKmers(sequences_question8, k)\n",
    "validkmers_question8 = removeLowComplexe(motifs_valides_question8, minrep)\n",
    "validkmers_question8 = removeLowComplexePair(validkmers_question8)\n",
    "#print(validkmers_question8)\n",
    "\n",
    "\n",
    "\n",
    "bestMotif_question8, bestDistance_question8, motifDist_question8 = MedianStringSearch(validkmers_question8, sequence_question8, t, n, k)\n",
    "print (bestMotif_question8, bestDistance_question8)\n",
    "\n",
    "#On remarque que ca prend beaucoup moins de temps que la methode _Brute Force Motif Search_"
   ]
  },
  {
   "cell_type": "markdown",
   "metadata": {},
   "source": [
    "b\\. Quel algorithme peut etre appliqué au probleme de recherche de motifs? Et comment?"
   ]
  },
  {
   "cell_type": "markdown",
   "metadata": {},
   "source": [
    "<font color='blue'>\n",
    "réponse: Le mieux est d'appliquer l'algorithme de \"Median String Search\" car il a moins de calculs à faire...\n",
    "</font>"
   ]
  },
  {
   "cell_type": "code",
   "execution_count": null,
   "metadata": {},
   "outputs": [
    {
     "name": "stdout",
     "output_type": "stream",
     "text": [
      "912\n"
     ]
    }
   ],
   "source": [
    "k=7; n=80\n",
    "minrep = 5\n",
    "\n",
    "def readFasta(genome, n):\n",
    "    sequence = []\n",
    "    file = open(genome, \"r\")\n",
    "    sequence = []\n",
    "    for s in file:\n",
    "        if s[0] != \">\":\n",
    "            sequence.append(s.strip().upper())\n",
    "    sequenceStr = \"\".join(sequence)\n",
    "    #sequence = [sequenceStr]\n",
    "    sequence = [sequenceStr[i:i+n] for i in range(0, len(sequenceStr), n)]\n",
    "    return sequence\n",
    "\n",
    "genome = \"Sequence_by_Peaks_8.fasta\"\n",
    "\n",
    "\n",
    "sequences_question9  = readFasta(genome, n)\n",
    "\n",
    "t = len(sequences_question9)\n",
    "print(t)\n",
    "\n",
    "\n",
    "motifs_valides = tousLesKmers(sequences_question9, k)\n",
    "validkmers_question9 = removeLowComplexe(motifs_valides, minrep)\n",
    "validkmers_question9 = removeLowComplexePair(validkmers_question9)\n",
    "#print(validkmers_question9)\n",
    "\n",
    "bestMotif_question9, bestDistance_question9, motifDist_question9 = MedianStringSearch(validkmers_question9, sequences_question9, t, n, k)\n",
    "print (bestMotif_question9, bestDistance_question9)\n",
    "\n",
    "#resultat: C'est long à executer ..."
   ]
  },
  {
   "cell_type": "markdown",
   "metadata": {},
   "source": [
    "9\\. Ulitser la base YEASTRACT : http://www.yeastract.com/formsearchbydnamotif.php pour chercher les motifs. \n",
    "Avez vous une indication pour le facteur de transcription impliqué ? Comparer vos résultats aux résultats obtenu avec algorithme Table de Hachage.\n"
   ]
  },
  {
   "cell_type": "markdown",
   "metadata": {},
   "source": [
    "<font color='blue'>\n",
    "réponse: \n",
    "</font>"
   ]
  },
  {
   "cell_type": "code",
   "execution_count": null,
   "metadata": {},
   "outputs": [],
   "source": []
  }
 ],
 "metadata": {
  "kernelspec": {
   "display_name": "Python 3",
   "language": "python",
   "name": "python3"
  },
  "language_info": {
   "codemirror_mode": {
    "name": "ipython",
    "version": 3
   },
   "file_extension": ".py",
   "mimetype": "text/x-python",
   "name": "python",
   "nbconvert_exporter": "python",
   "pygments_lexer": "ipython3",
   "version": "3.7.4"
  }
 },
 "nbformat": 4,
 "nbformat_minor": 2
}
