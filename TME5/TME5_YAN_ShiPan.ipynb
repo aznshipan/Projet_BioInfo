{
 "cells": [
  {
   "cell_type": "markdown",
   "metadata": {},
   "source": [
    "# TME 5 : Mini-projet Detection de motifs\n",
    "\n",
    "Nous allons développer des algorithmes pour chercher de motifs dans les données de ChipSeq de C. glabrata.\n",
    "Pour commencer nous allons d'abord produire des données artificielles qui nous permettront de tester rapidement nos algorithmes. Ensuite nous allons chercher les motifs dans C. glabrata et analyser les résultats.\n",
    "\n",
    "## Partie A : Recherche de pattern (motifs) identiques\n"
   ]
  },
  {
   "cell_type": "markdown",
   "metadata": {},
   "source": [
    "1\\. Faites une fonction pour générer aléatoirement des séquences artificielles, puis générer 10 séquences de 41 nucléotides chacune. Toutes les lettres peuvent être équiprobables pour la génération des séquences."
   ]
  },
  {
   "cell_type": "code",
   "execution_count": 40,
   "metadata": {},
   "outputs": [
    {
     "name": "stdout",
     "output_type": "stream",
     "text": [
      "['CAAACATTCTCACGATGGTCTCATCTACGAACACCAAGTAA', 'GGTTTAACTAGGCTTGCCGGCACAAGACTGACCGTGCGAGC', 'GGCATGCAAGTGCGGCGCTGTCAATTACGCTGAACCCAAAT', 'CTACTGGCCGACCTTCAGAAGATTGGGATTCGGCGACGGGG', 'GACGTAAAGAGCGCGACTAACGGCCTCGGCCACAGCGCGCA', 'CCAGGGGCGGGCGGCCACAATTCTTCGGGCTGACGTCAGGT', 'ACAGTCCGATGCTTACGAGCGTCATACTTCTCGACTAACGG', 'GGCTTCAGATACACATCCGTCCTCCGGAGAAATAATCGATA', 'TCCACGGGCATTGTCCGCTGCGTGGTTGGGCTATGGCGAAA', 'GGTTGCATACATGGGGGTAAAGTAGAACCGTTTACTCCATT']\n"
     ]
    }
   ],
   "source": [
    "import random\n",
    "\n",
    "nuc = ('A', 'C', 'G', 'T')\n",
    "\n",
    "t=10 #nombre de sequences\n",
    "n=41 #longueur des sequences\n",
    "\n",
    "\n",
    "def generateRandomSequence(n, I):\n",
    "    seq_tmp = \"\"\n",
    "    \n",
    "    if I == True:\n",
    "        for i in range(n):\n",
    "            seq_tmp = seq_tmp + random.choice(nuc)\n",
    "    else:\n",
    "        for i in range(n):\n",
    "            seq_tmp = seq_tmp + random.choice(nuc).lower()\n",
    "\n",
    "    return seq_tmp\n",
    "    \n",
    "\n",
    "def generateRandomSequences(n, t):\n",
    "    sequences = [generateRandomSequence(n, True) for i in range(t)]\n",
    "   \n",
    "    return sequences\n",
    "    \n",
    "seqs = generateRandomSequences(41, 10);\n",
    "\n",
    "print (seqs)\n"
   ]
  },
  {
   "cell_type": "markdown",
   "metadata": {},
   "source": [
    "2\\. Nous allons maintenant implanter dans les séquences artificielles generés avant trois motifs (`nM`=3) de taille 9 (`k`=9) à des positions aléatoires (choisies uniformément le long de la séquence). On considère une proportion ``f``=0.9 de séquences qui possèdent le motif (attention `len(sequences)*f` doit être plus grand que `nM`)."
   ]
  },
  {
   "cell_type": "code",
   "execution_count": 41,
   "metadata": {},
   "outputs": [
    {
     "name": "stdout",
     "output_type": "stream",
     "text": [
      "['ATAGACTCG', 'GCCAAAAGT', 'GCACTGGTG']\n",
      "9\n",
      "\n",
      "Modified sequences: ['CAAACATTCTCACGATGGTCTCATCTACATAGACTCGGAAGCCAAAAGTCACCAAGTGCACTGGTGAA', 'GGTTTATAGACTCGAACTAGGCTTGCCGGGCCAAAAGTCACGCACTGGTGAAGACTGACCGTGCGAGC', 'GATAGACTCGGCATGCAAGTGCGGCGCTGTCAATTACGCTGAACCGCCAAAAGTGCACTGGTGCAAAT', 'CTACTGGCCGACCTTCAGAAGATTGATAGACTCGGGCCAAAAGTGATTCGGCGACGCACTGGTGGGGG', 'GACGTAAAGAGCGCGACTAACGGCCTCGGCCACAGATAGACTCGGCACTGGTGGCCAAAAGTCGCGCA', 'CCAGGGGCGGGCGGCCACAATTCTTCATAGACTCGGGGCCAAAAGTGCGCACTGGTGTGACGTCAGGT', 'ACAGTCCGATATAGACTCGGCTTACGAGCGGCCAAAAGTTCGCACTGGTGATACTTCTCGACTAACGG', 'GGCTTCAGATACACATCCGTCCTCCGGAATAGACTCGGAAATAATCGCCAAAAGTGCACTGGTGGATA', 'TCCACGGGCATTGTCCGCTGCATAGACTCGGTGGTTGGGCTATGCCAAAAGTGGCGAGCACTGGTGAA', '']\n"
     ]
    }
   ],
   "source": [
    "# nombre de motifs nM = 3 \n",
    "nM = 3 \n",
    "# taille des motifs k = 9\n",
    "k = 9 \n",
    "# frequences des motifs f = .9 \n",
    "f = .9 \n",
    "\n",
    "import random\n",
    "\n",
    "# Generate motifs\n",
    "def generateMotifs(k, nM):\n",
    "    return [generateRandomSequence(k, True) for rs in range(nM)]\n",
    "\n",
    "motifs = generateMotifs(k, nM) \n",
    "print (motifs)\n",
    "\n",
    "def implantMotifs(motifs, f, sequences):\n",
    "    modified_sequences = ['']*len(sequences)\n",
    "    proportion = int(len(sequences) * f)\n",
    "    incre = 0\n",
    "    print(proportion)\n",
    "    for i in range(len(sequences)):\n",
    "        if proportion > nM:\n",
    "            if incre < proportion:\n",
    "                L = list(sequences[i])\n",
    "                index_hasard = random.randint(0, len(sequences[i])-1)\n",
    "                for j in motifs:\n",
    "                    L.insert(index_hasard, j)\n",
    "                    index_hasard = random.randint(index_hasard, len(L)-1)\n",
    "                str = \"\".join(L)\n",
    "                modified_sequences[i] = str\n",
    "                incre = incre + 1\n",
    "    return modified_sequences\n",
    "\n",
    "\n",
    "motif_implanted_seqs = implantMotifs(motifs, f, seqs)\n",
    "print (\"\\nModified sequences:\", motif_implanted_seqs)\n"
   ]
  },
  {
   "cell_type": "markdown",
   "metadata": {},
   "source": [
    "3\\. Faites une fonction pour chercher les $m$ motifs de taille $k$ les plus fréquents dans l'ensemble des séquences. Tester cette fonction sur un l'ensemble de séquences avec le motif implanté génère dans la question précédente. Faite aussi une fonction qu'affiche les N motifis les plus fréquents. "
   ]
  },
  {
   "cell_type": "code",
   "execution_count": 42,
   "metadata": {},
   "outputs": [
    {
     "name": "stdout",
     "output_type": "stream",
     "text": [
      "ATAGACTCG 9\n",
      "GCCAAAAGT 9\n",
      "GCACTGGTG 9\n"
     ]
    }
   ],
   "source": [
    "def searchMotifs(k, f, sequences):\n",
    "    motifsfreq  = {}; #key = motif; value=nombre d'occurrences\n",
    "    occu = 0\n",
    "    for seq in sequences:\n",
    "        if occu < f:\n",
    "            for i in range(len(seq) - k):\n",
    "                seq_tmp = \"\"\n",
    "                for j in range(i, i+k):\n",
    "                    seq_tmp = seq_tmp + seq[j]\n",
    "                if seq_tmp not in motifsfreq.keys():\n",
    "                    motifsfreq[seq_tmp] = 1\n",
    "                else:\n",
    "                    motifsfreq[seq_tmp] = motifsfreq[seq_tmp] + 1\n",
    "            cpt = 0\n",
    "            for mot in motifs:\n",
    "                if mot in seq:\n",
    "                    cpt = cpt + 1\n",
    "                    if cpt == len(motifs):\n",
    "                        occu = occu + 1\n",
    "                \n",
    "    return motifsfreq\n",
    "\n",
    "def printTopFMotifsFreq(motifs, m):\n",
    "\n",
    "    motifsSort = sorted(motifs, reverse=True, key=motifs.get)\n",
    "    #print(motifsSort)\n",
    "    i = 0\n",
    "    while (i < m):\n",
    "        #print motif et nombre d'occurrences\n",
    "        print(motifsSort[i], motifs[motifsSort[i]])\n",
    "        \n",
    "        i = i + 1\n",
    "        \n",
    "\n",
    "\n",
    "motifsFound = searchMotifs(9, 9, motif_implanted_seqs)\n",
    "printTopFMotifsFreq(motifsFound, 3)\n"
   ]
  },
  {
   "cell_type": "markdown",
   "metadata": {},
   "source": [
    "4\\. Quell est la complexité de votre algorithme?"
   ]
  },
  {
   "cell_type": "markdown",
   "metadata": {},
   "source": [
    "<font color='blue'>\n",
    "reponse : |sequence| * k\n",
    "</font>"
   ]
  },
  {
   "cell_type": "markdown",
   "metadata": {},
   "source": [
    "5\\. Certains motifs sont reverse complémentaires. Implanter des motifs reverse complémentaires dans les séquences déjà générés et en suite chercher ces motifs. Attention: vous devez réutiliser les fonctions développés précédemment, pas besoin de définir des nouvelles fonctions. "
   ]
  },
  {
   "cell_type": "code",
   "execution_count": 44,
   "metadata": {},
   "outputs": [
    {
     "name": "stdout",
     "output_type": "stream",
     "text": [
      "['CGAGTCTAT', 'ACTTTTGGC', 'CACCAGTGC']\n",
      "9\n",
      "\n",
      "Reverse Complementaire Modified sequences: ['CAAACATTCTCACGATGCGAGTCTATGTCTCAACTTTTGGCTCTACGAACACCCACCAGTGCAAGTAA', 'GGTTTACGAGTCTATAACTTTTGGCCTAGGCTTGCCACCAGTGCCGGCACAAGACTGACCGTGCGAGC', 'GGCATGCAAGTGCGGCGCTGTCAATTACACTTTTGGCCGAGTCTATGCTGCACCAGTGCAACCCAAAT', 'CTACTGGCCGACCTTCAGAAGATTGGGATTCCGAGTCTATGGCGACGGACTTTTGGCCACCAGTGCGG', 'GACGTAAAGAGCGCGACTAACGGCCTCGGCCACAGCGACTTTTGGCCGAGTCTATCACCAGTGCCGCA', 'CGAGTCTATCCAGGGGCGGGCGGCCACAATTCTTCGGGCTGAACTTTTGGCCACCAGTGCCGTCAGGT', 'ACAGTCCCGAGTCTATCACCAGTGCACTTTTGGCGATGCTTACGAGCGTCATACTTCTCGACTAACGG', 'GGCTTCAGATCGAGTCTATACACATCCGTCCTCCGGAGAAATAATCCACCAGTGCACTTTTGGCGATA', 'TCCACGGCGAGTCTATGCATTGTCACTTTTGGCCGCTGCGTGGTTGGGCTATGGCACCAGTGCCGAAA', '']\n",
      "CGAGTCTAT 9\n",
      "ACTTTTGGC 9\n",
      "CACCAGTGC 9\n"
     ]
    }
   ],
   "source": [
    "def reversecompl(seq):\n",
    "    \"\"\"Renvoie le brin complémentaire d’une séquence.\"\"\"\n",
    "    compl = {'A': 'T', 'C': 'G', 'G': 'C', 'T':'A'}\n",
    "    letters = [compl[seq[i]] for i in range(len(seq))]\n",
    "    return (''.join(letters))[::-1]\n",
    "\n",
    "\n",
    "def ListReverseCompl(Lseq):\n",
    "    ListRC = []\n",
    "    for i in Lseq:\n",
    "        ListRC.append(reversecompl(i))\n",
    "    return ListRC\n",
    "\"\"\"\n",
    "ListeReverseCompl = ListReverseCompl(motif_implanted_seqs)\n",
    "print(ListeReverseCompl)\n",
    "\n",
    "motifsFoundCompl = searchMotifs(9, 9, ListeReverseCompl)\n",
    "printTopFMotifsFreq(motifsFoundCompl, 3)\n",
    "\"\"\"\n",
    "\n",
    "ListeReverseComplmotifs = ListReverseCompl(motifs)\n",
    "print(ListeReverseComplmotifs)\n",
    "reversecompl_motif_implanted_seqs = implantMotifs(ListeReverseComplmotifs, f, seqs)\n",
    "print (\"\\nReverse Complementaire Modified sequences:\", reversecompl_motif_implanted_seqs)\n",
    "reversecomplmotifsFound = searchMotifs(9, 9, reversecompl_motif_implanted_seqs)\n",
    "printTopFMotifsFreq(reversecomplmotifsFound, 3)"
   ]
  },
  {
   "cell_type": "markdown",
   "metadata": {},
   "source": [
    "\n",
    "## Partie B : Recherche de motifs identiques sur vos données"
   ]
  },
  {
   "cell_type": "markdown",
   "metadata": {},
   "source": [
    "1\\. Le fichier \"C_glabrata_1000bp_only.fasta\" contiens les séquences régulatrices pour tous les gènes de C. glabrata. Nous avons pris les 1000bp en amont du codon start. Chercher les 50 motifs de taille 7 les plus fréquents dans les deux brim de votre génome. Measurer le temps de calcule de chaque operation."
   ]
  },
  {
   "cell_type": "code",
   "execution_count": 45,
   "metadata": {},
   "outputs": [
    {
     "name": "stdout",
     "output_type": "stream",
     "text": [
      "sequence : \n",
      "AAAAAAA 8343\n",
      "TTTTTTT 7650\n",
      "ATATATA 3088\n",
      "ATTTTTT 2968\n",
      "AAAAAAT 2944\n",
      "TATATAT 2791\n",
      "AAAAATT 2465\n",
      "AATTTTT 2452\n",
      "GAAAAAA 2409\n",
      "AAAGAAA 2403\n",
      "AAAATTT 2308\n",
      "AAATTTT 2304\n",
      "TTTTTTC 2289\n",
      "TATTTTT 2288\n",
      "AAGAAAA 2231\n",
      "TATATAA 2193\n",
      "AAAAATA 2178\n",
      "TTTATTT 2161\n",
      "TTTCTTT 2158\n",
      "TGAAAAA 2147\n",
      "TTATTTT 2130\n",
      "TTTTATT 2108\n",
      "AAAAGAA 2067\n",
      "TTTTCTT 2052\n",
      "TTTTTCA 1977\n",
      "CAAAAAA 1956\n",
      "AAAATAA 1937\n",
      "ATATAAA 1937\n",
      "TTCTTTT 1909\n",
      "AATATAT 1896\n",
      "ATATATT 1894\n",
      "AATAAAA 1869\n",
      "AAATAAA 1866\n",
      "TTTTTAT 1861\n",
      "CTTTTTT 1860\n",
      "AGAAAAA 1857\n",
      "AAAAAAG 1840\n",
      "TTTTTTA 1812\n",
      "TTTTTTG 1806\n",
      "AATAATA 1805\n",
      "TTTTTCT 1804\n",
      "AAATATA 1786\n",
      "ATATTTT 1777\n",
      "TATATTT 1767\n",
      "ATAAAAA 1760\n",
      "TTATATA 1729\n",
      "TATTATT 1728\n",
      "AAAATAT 1698\n",
      "AAAAAGA 1666\n",
      "TAAAAAA 1646\n",
      "\n",
      "________________________________________________\n",
      "reverse_sequence :\n",
      "TTTTTTT 8373\n",
      "AAAAAAA 7649\n",
      "TATATAT 3081\n",
      "AAAAAAT 2964\n",
      "ATTTTTT 2951\n",
      "ATATATA 2794\n",
      "AATTTTT 2462\n",
      "AAAAATT 2454\n",
      "TTTTTTC 2416\n",
      "TTTCTTT 2414\n",
      "AAATTTT 2306\n",
      "AAAATTT 2302\n",
      "AAAAATA 2287\n",
      "GAAAAAA 2285\n",
      "TTTTCTT 2236\n",
      "TTATATA 2197\n",
      "TATTTTT 2178\n",
      "AAATAAA 2156\n",
      "AAAGAAA 2155\n",
      "TTTTTCA 2150\n",
      "AAAATAA 2133\n",
      "AATAAAA 2106\n",
      "TTCTTTT 2066\n",
      "AAGAAAA 2049\n",
      "TGAAAAA 1975\n",
      "TTTTTTG 1959\n",
      "TTTATAT 1941\n",
      "TTATTTT 1933\n",
      "AAAAGAA 1910\n",
      "AATATAT 1901\n",
      "ATATATT 1894\n",
      "TTTTATT 1881\n",
      "TTTATTT 1875\n",
      "TTTTTCT 1858\n",
      "AAAAAAG 1858\n",
      "ATAAAAA 1857\n",
      "CTTTTTT 1851\n",
      "TATTATT 1813\n",
      "TAAAAAA 1809\n",
      "AGAAAAA 1802\n",
      "CAAAAAA 1801\n",
      "TATATTT 1791\n",
      "AAAATAT 1777\n",
      "TTTTTAT 1775\n",
      "AAATATA 1768\n",
      "TATATAA 1730\n",
      "AATAATA 1724\n",
      "ATATTTT 1697\n",
      "TCTTTTT 1667\n",
      "TTTTTTA 1649\n"
     ]
    }
   ],
   "source": [
    "import time\n",
    "\n",
    "k=7\n",
    "feq=10\n",
    "top= 50\n",
    "genome = \"C_glabrata_1000bp_only.fasta\"\n",
    "\n",
    "def readFasta(genome):\n",
    "    sequence = []\n",
    "    file = open(genome, \"r\")\n",
    "    sequence = []\n",
    "    for s in file:\n",
    "        if s[0] != \">\":\n",
    "            sequence.append(s.strip().upper())\n",
    "    return sequence\n",
    "\n",
    "sequence   = readFasta(genome)\n",
    "reverse_sequence = ListReverseCompl(sequence)\n",
    "\n",
    "print(\"sequence : \")\n",
    "motifstrouve = searchMotifs(k, f, sequence)\n",
    "printTopFMotifsFreq(motifstrouve, 50)\n",
    "\n",
    "\n",
    "print(\"\\n________________________________________________\")\n",
    "print(\"reverse_sequence :\")\n",
    "reverse_motifstrouve = searchMotifs(k, f, reverse_sequence)\n",
    "printTopFMotifsFreq(reverse_motifstrouve, 50)\n",
    "\n",
    "\n",
    "\n"
   ]
  },
  {
   "cell_type": "markdown",
   "metadata": {},
   "source": [
    "2\\. Quel sont les trois motifs de taille 7 les plus frequents? Pensez vous que ces motifs correspondent à de facteur de transcription connus? Justifier votre reponse."
   ]
  },
  {
   "cell_type": "markdown",
   "metadata": {},
   "source": [
    "<font color='blue'>\n",
    "Reponse:\n",
    "    Les 3 motifs de taille 7 les plus fréquentes sont : AAAAAAA, TTTTTTT, ATATATA et TATATAT\n",
    "    \n",
    "</font>"
   ]
  },
  {
   "cell_type": "markdown",
   "metadata": {},
   "source": [
    "3\\. Le motif TGATTCAT correspond au facteur de transcription Gcn4 qui est trés suivant trouvé dans le genome de levures. Est-ce que vous avez trouvé ce motif? Si oui avec quel frequence?"
   ]
  },
  {
   "cell_type": "code",
   "execution_count": 46,
   "metadata": {},
   "outputs": [
    {
     "name": "stdout",
     "output_type": "stream",
     "text": [
      "Brin :  TGATTCA 591\n",
      "Reverse brin :  TGATTCA 594\n"
     ]
    }
   ],
   "source": [
    "motifGcn4 = ['TGATTCA']\n",
    "print(\"Brin : \",motifGcn4[0], motifstrouve[motifGcn4[0]])\n",
    "print(\"Reverse brin : \",motifGcn4[0], reverse_motifstrouve[motifGcn4[0]])\n"
   ]
  },
  {
   "cell_type": "markdown",
   "metadata": {},
   "source": [
    "4\\. Les motifs peu complexes (avec par exemple 5, 6 ou 7 fois la même lettre) sont courants dans les génomes, ils n'ont généralement pas de signification biologique. Dans le context de ce projet, vous pouvez eliminer aussi les motifis ayant deux lettre repetés, comme par exemple AGAGAGA. Faites une fonction pour éliminer les motifs peu complexes, _i. e._ qui ont au moins $m$ fois la même lettre ou qui ont deux lettre consecutive répétés. Dans quel position vous trouver Gcn4 apres enlever les motifs peu complexes?</font>. "
   ]
  },
  {
   "cell_type": "code",
   "execution_count": 47,
   "metadata": {
    "scrolled": false
   },
   "outputs": [],
   "source": [
    "m = 5\n",
    "\n",
    "def removeLowComplexe(motifs, minrep):\n",
    "    validMotif = {}\n",
    "    listkey = motifs.keys()\n",
    "    for cle in listkey:\n",
    "        if cle.count('A') < minrep and cle.count('C') < minrep and cle.count('G') < minrep and cle.count('T') < minrep:\n",
    "            validMotif[cle] = motifs[cle]\n",
    "    return validMotif\n",
    "\n",
    "def removeLowComplexePair(motifs):\n",
    "    validMotif = {}\n",
    "    listkey = motifs.keys()\n",
    "    \n",
    "    for cle in listkey:\n",
    "        list_tmp = []\n",
    "        list_tmp.append(cle[0])\n",
    "        for i in range(2, len(cle), 2):\n",
    "            if cle[i] == list_tmp[0]:\n",
    "                list_tmp.append(cle[i])\n",
    "        cpt_pos_pair = len(list_tmp)\n",
    "        list_tmp = []\n",
    "        list_tmp.append(cle[1])\n",
    "        for i in range(3, len(cle), 2):\n",
    "            if cle[i] == list_tmp[0]:\n",
    "                list_tmp.append(cle[i])\n",
    "        cpt_pos_impair = len(list_tmp)\n",
    "        \n",
    "        if not cpt_pos_pair == ((len(cle) // 2) + 1) and not cpt_pos_impair == (len(cle) // 2):\n",
    "            validMotif[cle] = motifs[cle]\n",
    "              \n",
    "    return validMotif\n",
    "\n",
    "motifs = removeLowComplexe(motifstrouve, m)\n",
    "motifs = removeLowComplexePair(motifs)\n",
    "#print(motifs)"
   ]
  },
  {
   "cell_type": "markdown",
   "metadata": {},
   "source": [
    "5\\. Le fichier \"Sequence_by_Peaks_*.fasta\" contiens les regions de peak trouvé par ChipSeq, qui contient probablement le Facteur de Transcription que nous cherchons. Apliquer les fonctions precedents pour chercher les 3 (ou plus) motifs les plus fréquents dans les deux brim. Il faut bien evidement enlever les motifs peu complexe."
   ]
  },
  {
   "cell_type": "code",
   "execution_count": 50,
   "metadata": {},
   "outputs": [
    {
     "name": "stdout",
     "output_type": "stream",
     "text": [
      "Brin :\n",
      "\n",
      "\n",
      "TCCACGGA 15\n",
      "AATATATT 14\n",
      "ATATATTA 14\n",
      "\n",
      "\n",
      "Brin reverse :\n",
      "\n",
      "\n",
      "TCCGTGGA 15\n",
      "TAATTAAT 14\n",
      "TAATATAT 14\n"
     ]
    }
   ],
   "source": [
    "#Tester plusieur valeurs de k à fin d'augmenter vos chances de trouvé le motif\n",
    "k=8\n",
    "feq=5\n",
    "top= 3\n",
    "m = 5\n",
    "genome = \"Sequence_by_Peaks_8.fasta\"\n",
    "\n",
    "sequence_peak = readFasta(genome)\n",
    "reverse_sequence_peak = ListReverseCompl(sequence_peak)\n",
    "\n",
    "motifs_peak_trouve = searchMotifs(k, feq, sequence_peak)\n",
    "motifs_complexe = removeLowComplexe(motifs_peak_trouve, m)\n",
    "motifs_complexe = removeLowComplexePair(motifs_complexe)\n",
    "\n",
    "\n",
    "reverse_motifs_peak_trouve = searchMotifs(k, feq, reverse_sequence_peak)\n",
    "reverse_motifs_complexe = removeLowComplexe(reverse_motifs_peak_trouve, m)\n",
    "reverse_motifs_complexe = removeLowComplexePair(reverse_motifs_complexe)\n",
    "\n",
    "print(\"Brin :\\n\\n\")\n",
    "printTopFMotifsFreq(motifs_complexe, top)\n",
    "\n",
    "print(\"\\n\\nBrin reverse :\\n\\n\")\n",
    "printTopFMotifsFreq(reverse_motifs_complexe, top)\n",
    "\n"
   ]
  },
  {
   "cell_type": "markdown",
   "metadata": {},
   "source": [
    "6\\. Ulitser la base YEASTRACT : http://www.yeastract.com/formsearchbydnamotif.php pour chercher les motifs. \n",
    "Avez vous une indication pour le facteur de transcription impliqué ?\n"
   ]
  },
  {
   "cell_type": "code",
   "execution_count": null,
   "metadata": {},
   "outputs": [],
   "source": []
  }
 ],
 "metadata": {
  "kernelspec": {
   "display_name": "Python 3",
   "language": "python",
   "name": "python3"
  },
  "language_info": {
   "codemirror_mode": {
    "name": "ipython",
    "version": 3
   },
   "file_extension": ".py",
   "mimetype": "text/x-python",
   "name": "python",
   "nbconvert_exporter": "python",
   "pygments_lexer": "ipython3",
   "version": "3.7.4"
  }
 },
 "nbformat": 4,
 "nbformat_minor": 2
}
