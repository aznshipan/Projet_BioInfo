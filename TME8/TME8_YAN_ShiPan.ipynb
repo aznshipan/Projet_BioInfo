{
 "cells": [
  {
   "cell_type": "markdown",
   "metadata": {},
   "source": [
    "# TME 8 : Mini-projet Detection de motifs\n",
    "\n",
    "\n",
    "## Partie D : Recheche de pattern (motifs) en utilisant les suffix trees\n",
    "\n",
    "Nous allons utiliser l'algorithme suffix-tree pour la recherche rapide et éfficace de motifs. Un suffix-tree est construit à partir d'un jeux de séquences, ensuite nous pouvons rechercher le motif en temps O(k) où k est la longueur du motif."
   ]
  },
  {
   "cell_type": "markdown",
   "metadata": {},
   "source": [
    "1\\. Nous allons réutiliser les fonctions du TME6 pour générer ``t`` séquences artificielles de taille ``n``, et implanter dans chaque séquence un motif de taille ``k`` à des positions aléatoires avec ``v`` substitutions choisies aléatoirement. Cependant, les ``t`` séquences artificielles initiales (sans implantation) ainsi que le motif initial (sans variation/mutation) doivent être générées une seule fois. Ensuite, selon chaque question, nous introduisons des différentes variation au motif initial et les implantons dans les séquences initiales afin de générer des nouveau jeux de données. "
   ]
  },
  {
   "cell_type": "code",
   "execution_count": 1,
   "metadata": {},
   "outputs": [],
   "source": [
    "import random\n",
    "import numpy as np\n",
    "import copy\n",
    "\n",
    "nuc = ('A', 'C', 'G', 'T')\n",
    "\n",
    "k=9 #taille de motif\n",
    "v=0 #nb de positions variables dans le motif\n",
    "t=50 #nb de sequences\n",
    "n=100 #longuer des sequence\n"
   ]
  },
  {
   "cell_type": "markdown",
   "metadata": {},
   "source": [
    "1.1\\. Generer les séquences artificielles initiales et implanter un motif (sans variation, v=0)"
   ]
  },
  {
   "cell_type": "code",
   "execution_count": 2,
   "metadata": {
    "scrolled": true
   },
   "outputs": [
    {
     "name": "stdout",
     "output_type": "stream",
     "text": [
      "Motif :  CCTCGATCA\n",
      "ADN :  ['GAAACTACAGTTAGAGCTACACGTACCACATCCACAGCAGGATACTTTCTTTGTGGGCGAGATCGAAGCTAGGACACCCTCGATCAGATCTCAGGTAGCAATGCGTGCT', 'TCTCAGAATACACCGTCCGTTAGACGTCCTTTGCGGGCGAGGGATGATTCTCCCTCATGACTTTGGTAATCCTGTCGTCGCCCTCGATCAAAATATCGCTCCGGGTAAT', 'AGAACCTCGATCAGTTTGGATTAGTAAGTACCCATAGATCTTCGCTGATCACGGAACTGGCGGAGTTTAAGGTCAAGCCTGGGCCAGGCCATTGGGAAAAGATCACCAT', 'ATCGAGTCCTGCCTCGATCACTCGCTGCCCATATATCCGATCTCCTACTAATGGCGTTGTGACTTGCCTAGTGTGGATAGAGCCACTATGAGCTCAGTATACGCACCTT', 'CCAGTTGCTCCGACACTATCATAATCACCGAATAGGCGATAAGCATGGCGAAGATCGGCGCTTGCGAAAGCAAGCCTCGATCAATTCAACTTTTGTCTCTTCCAACGTT', 'CCGCGAACCGCACTCCGGTGCAGTGTACCGGACAAAGCAGACACAGCGTCCCCCCCTCGATCATAATGGGAAGGTGGAAAGGAATAGGCTGCCCGCAAGCGTATATCTG', 'AAACCTCGATCACAGAGCATGAGTTCCAGCGGGCGGGGCCACCGGATATTTTGAAAGTGTCGTTTCTCACCAAACGTTCGGAAAGCAACGTCGTCGTCGCCGGGCTGTC', 'ACAGAAGCGCTTACATACGTAGACGACCGCGAATACCTCGATCACGGAGAGCGCAGGGTCAGCTACTCTCGTGGCGGCTTTACATCCCAAAGGGGCGAGAGTTTCGCGC', 'CGTCCTTTGGTGAGAATCTGGACTGGCACACCCAATTCTCGGGGATGGTGGATATCGTAGAGGCATCCTCGATCATATCTAAAAGGTCGCCAACGGGTCGGTGTGATCG', 'CCAATAAATCCCTTTTCTCGAACCGTAGTTACCTCGATCATTCGACGAGTACCGAGGTTCTAACGACGTCCGAGGGCGACGCACTGTCCGATTATTCCATTCAAAAGCT', 'TCTTATATGGGACGACGCCGCAAGGTTCTGATAGTCTGACAAGCAATTATGATGACTCGACCGATCTGAGCCTCGATCATATAACAAAGTTCTTCCGGACTCCGGCCCT', 'CAAGACTAAGCGAGTGCGATGCCTCGATCACTTTCAACCAAAGAAAGATGGCCCGCAGTCCGTCATATCATTAGGCTCATCTATTCTCGAGGGTGCTTTTGCATTGCGT', 'TGGGTACGGTCGAGTTAGCAGATGAGTTCGCCACTTCAAGTCGGTACGATACCTCGATCAGGTCGATCGAACAAGCTTTCGGTGTGTGTCTTTCTGTCGTACACCAATA', 'GAGTTGCTAAGTCAGACATCCTGCTTGTTCCCCTTACGACTCGCTTTAGACGAGTGTGCCTACCGGGTGAAGTCCTCGATCACGGATCGGAGGGCCCGGACCAACTTCA', 'AATTCGATACGCGGGCCTTGCTACGGTACGCTCTTGCACGCTTACTGGAAGAAGCCTCCTCGATCAGCCGCACGCTCTGTTTCAACAGTCGCCGCCTCATATGCTGAAC', 'CTGCTGAGTAGTCCACAACACCTGTTCGGCGTGCCGGAAATTAACAGAACGCAACTCTAGCTCGAAGAGAGATATTAGTCTGAAAATATTGATCCTCGATCAGTTCTTT', 'ACTTATTCTTGAGTAACGGTTAAAAACTTTGTGCCAGCCTCGATCACATTTTGATTTTCGTCGTATCGTCGGTGCTGCGAACATAATTTAGGTTGGCTCAATTCCACTT', 'CGGGCTCCTGGCCTTCGTCAAATCTGATCTAGTGAAGAATTCACTAGCCGACATCCTCGATCAAGGCGACGTTTTACCCACATGCTGGGCGATCAGTAGGCGCTCCATT', 'CAAAGTGAGACGATAGTATCTTCTCAAATTTGCCTCGGATAAACGCTCACACCTATTTACTCCTCGATCATGCCGTGAGATGTTCTTATCCGTTTGTAGTGACCGCGCA', 'CGGTCACAGCGTGGTGAGGGGCACAAAGGTATCTGGGGGCGTCACAAGACACAAGGTGATCGGGAATGTGCTACGTAGATAACCCCTCGATCAGAAGGCTGAATCAAGC', 'TGTGCTACATCGCAAATACCTGTAGGGCCGAATTTTCCAGCCCTTCACTCGTCACGGAGCTTTTCACAGTGCGCAAACTCCTTATCGAATACCCTCGATCACTCCTCCC', 'TAACGTTAAGGCAAAGGAGTCCCCAGCCTTCTCGACCCACCGGGCGCACAATGCGGTTCCTCGATCATCAAACTTTATGACGGTGGCCCTCAAACGAACATTAAAGTAT', 'TAAATTGACTCAATGGCTTATGCTCTACATTGAGCCGTCCTATGACTATGTCCTTGGGCAGTCAGTAGGTGGCATTATCCTCGATCACTAAAATGGTCACCAATTTCCA', 'CGCTATCTACGGAGTTTAGACGCCCTAACCTGTGCAGGCCTTACTATGAAATCACGGGTAAGTCGCCTCGATCAGTAGGGCCCTCGCCGTTAGGGCACGCAAATTTCAC', 'GGAGAACACTTGAGAGCTAACGGCAATCACTTATATTCATTTTTCCAACTGTAAATCGGGATAGCATCCTCGATCAGGAGTAGTGAGTTAAATAAAGTCACATATCCGG', 'CAACTCCAATTCAGCTTCGGCATGGGGCACGCAATTTATCTCCGCCTCTTCTATTCTATTCTTCTAGTGACATACATAAGTACCTCGATCACAAAATAGAGGAATTAGT', 'AGCCCGGACCTTTTAGCGAAGGGCCTCCCTGTGACGTTTTTTAGCTACAGATGGTAGCAGAGGTGCCTCGATCAAAATACTAGATATTTTGGGTTGGGGAACATTGCCC', 'AGCCCCTCGATCATGTAGATGGTTCGTTCCTCAACGAAAATGGGACGCCTTGTGAGAGGAGGCTGCACCCGACGGATGAAAGAATCCGAACAAGTATTTACCTCTATTC', 'AGTGCACAGCATGTAAGATTGCTCAATTGGCTATGATGTACAATGGCTCTCTGTGTCCTCGATCAATGAGGAGCACTACACGCCGGCCCTCGTTGGGGCACTCACATCG', 'TCAGCACTTTATTACCTCGATCAAGCACTCTTTATAATCTTTTAGAGCTATCTCGGGTGGGATTTTACGGGGTGTTAAAAGCGCTGTCTGCCTGGCGCATTGCATTGCT', 'CTTTTTCCTGAGGGGTGAGTGGCATACGTCAAGAACCATCCTCGTTCAATTAAAGGATCACCCCTAGCTAACGGCATAACTAGGAACCCTCGATCAACGTCGCATAAAC', 'TAGCGATATCCTGGAAACAAGAGAACCCTGAGTAAACTAGCTTTTTACATATTTGGATCCTATCACCGCAAATGAATAAGGTCTGGGCACCTCCTCGATCACTAGGAAC', 'CGGCCAATAAATAAGCCAAAGAACAGGCAATGAAACAGATCTAGTCGACTGTCTAGTTGGTAAGTGTCTTAAGGCATTCAACTCGGCGTGTCCTCGATCACGATATAGC', 'GCTAACGGACGCAACAGCACCAGCAGGATTCATATCAATTTACAAAGTATTTTTGACTTTCTCGGTGTAGCATACAAGGGAATACAGGTAACCTCGATCAGATACGCAT', 'CGTACAGGAGGATACGGCCCCCAATACGCGACTTATTTTTCGGTAAGGCGGAGTCGGTCAGCGAGGTATAATTCGGACGGGGTCCTCGATCAATATTGACGGCTTTCGC', 'TTAGGCCTTGAGGGAAGTCATGGCCATTACTTATCACTTAATACGAGTTTTTACGAACGTTCGTCCGCGGAATCCTCGATCAGATCTAAGAAGGTCTCCACCATTAGAA', 'GCTAGATCATGACAGCCATAAGTCCTTCAAATAACAATCTAACCCGCTAAGAAACCCTTGACCGGTGCCCGGGAGCATACGCGCCTCGATCATGCCCGAAGAGTCCTAT', 'GCAAACGACGTAAGTCGAACAAGTGTCCCCTCCTCGCGCTGCAAAATACATCCGTATTACTTAACCCAAAATTACGAGGTGACTTGTCCTCGATCAACCCAAAGTATTT', 'CTCGATGTCTGAGGACTGTTAAAGTGTCCCACGCGTATGAGGGCTCTCGTCTAACGGGGCTACTACCCTCAGTGTATCGAGTCCTACGACCTTCCACCTCGATCAAGGT', 'TCGAGGACGACCCGGGATCTTCCTCGATCATCTATCTGCTTAGAGGGATTATCAGCAACCAATTGGATTTGCTGTCTTATGACTAACTTAAACGTTGCCTGATCGTTAA', 'GGACTGTTGTTGGCACAGTTCCATCAATGACTACTGAAAGGACTCGCGGCCCGCAAGCGTATCCTCGATCACACCATGATGGGTTTGGAGGCGCGGCCGGACGAATGAG', 'GCAGAATGCGAATAAGATAGCCCTGGAACGGCAGTATGTCTTCTGCAATACTTTGAATGTCCCTACGGCCCTCGATCACTTACTCACTCTTCTGCCTTTCTACACAGGC', 'CCCCCTCCAAGGAGAATCATCCGGACTAAACTGCCTCGATCACAATGGTGGAAGAACGAGCCTCCGCAAAAGCTACCATACGGTTCGTGAGCTGCGCTATACATATTTT', 'GAGAGTATCGATGGTAAATACACGGATTATTGAAAGTTTAGAGTGAGTAATGGCCGTAGCGCTGAGTGAGAGCCTCGATCAAGACTTTGGTAGTTTCTGGGAAACAGGA', 'TCTCCTATGCAACATTCTATTCGCTCCGATCGTCCTCAACGTCATAACATGGAACCTGTTCTATCCATTGTGGACTCTGTGCTCCTCGATCACATGACTTCATGACCTT', 'GTCTTCAAGACAATACAACAGAGCTTTTTAAGACAGCCTGAACAGGCGAAAAAACGAGGCGACGACCTCGATCAGCCACGTTCATCATCGATTTAAAACAGCTAGCTCT', 'TCTATCATCGCCCATACAGCTAAACTTGGTAGTAGCGTGGGCGAATGTGGAGGCGTTCAATGTGGAGTTAGCATCGTGCCATAGCAACAATCCACAATCCCTCGATCAT', 'TAGAGCTGGTTTTGCAAGGGCTCGGGAATTTTACTATGGTGTCAACCATCTCTTCTCTCCACCTCGATCAGTACCCTCGAAAGGCATAACGGGTATGCTCGGCGAGACA', 'TTAGGCCCAGAAGACGCACAGGTTTCGACCCTCCTTCTTGACACCCTATACGACCTCGACACCCCCCCGCTCCTCGATCAAAGTAGCTCCGTGTGTGGCGTAACGCCCT', 'AATGAACCATACAGAGGTCTACCACTGTTTCATTTCAGGACACTCCGGTGGTCTTTGAAAATTTGATATGCCTGGAAACATCCTCGATCAGCTCCAAATTATTGCGGTG']\n",
      "Motif :  CCTCGATCA\n"
     ]
    }
   ],
   "source": [
    "def generateRandomSequence(n, I):\n",
    "    seq_tmp = \"\"\n",
    "    \n",
    "    if I == True:\n",
    "        for i in range(n):\n",
    "            seq_tmp = seq_tmp + random.choice(nuc)\n",
    "    else:\n",
    "        for i in range(n):\n",
    "            seq_tmp = seq_tmp + random.choice(nuc).lower()\n",
    "\n",
    "    return seq_tmp\n",
    "    \n",
    "\n",
    "def generateRandomSequences(n, t):\n",
    "    sequences = [generateRandomSequence(n, True) for i in range(t)]\n",
    "   \n",
    "    return sequences\n",
    "\n",
    "\n",
    "def implantMotifVar(k, v, t, n):\n",
    "    sequences = generateRandomSequences(n, t)\n",
    "    sequences_ini = copy.deepcopy(sequences)\n",
    "    motif = generateRandomSequence(k, True)\n",
    "    motif_ini = copy.deepcopy(motif)\n",
    "    print(\"Motif : \", motif)\n",
    "    \n",
    "    for i in range(len(sequences)):\n",
    "        L_seq = list(sequences[i])\n",
    "        L_motif = list(motif)\n",
    "        for nb_mutation in range(v):\n",
    "            index_mutation_motif = random.randint(0,len(motif) - 1)\n",
    "            L_motif[index_mutation_motif] = random.choice(nuc)\n",
    "        chn_motif_mute = \"\".join(L_motif)\n",
    "        #print(chn_motif_mute)\n",
    "        L_seq.insert(random.randint(0, len(L_seq) - 1), chn_motif_mute)\n",
    "        \n",
    "        sequences[i] = \"\".join(L_seq)\n",
    "    return sequences_ini, sequences, motif_ini\n",
    "\n",
    "sequences_ini, sequences_implanted, fix_motif = implantMotifVar(k, v, t, n)\n",
    "print (\"ADN : \", sequences_implanted)\n",
    "print(\"Motif : \", fix_motif)"
   ]
  },
  {
   "cell_type": "markdown",
   "metadata": {},
   "source": [
    "2\\. Définissez une fonction ``construct_tree`` pour construire un suffix tree à partir des séquences artificielles (après implantation) en utilisant le python package suffix-trees trouvable ici: https://pypi.org/project/suffix-trees/. Tester si votre fonction est capable de trouver le motif sans variation implanté."
   ]
  },
  {
   "cell_type": "code",
   "execution_count": 3,
   "metadata": {},
   "outputs": [
    {
     "name": "stdout",
     "output_type": "stream",
     "text": [
      "3\n",
      "{0, 8}\n",
      "abc\n",
      "{30}\n",
      "qqqabcqwa\n",
      "{514, 1924, 3204, 1797, 3721, 2832, 1170, 2707, 663, 5015, 3611, 2974, 2595, 805, 5159, 4653, 3502, 946, 4276, 4923, 3387, 4157, 1597, 191, 3136, 2368, 2498, 4802, 4043, 77, 1231, 1743, 3923, 341, 4311, 1371, 604, 5471, 224, 1503, 4579, 5351, 2925, 4462, 5231, 3823, 2292, 2041, 1021, 2174}\n"
     ]
    }
   ],
   "source": [
    "from suffix_trees import STree\n",
    "\n",
    "st = STree.STree(\"abcdefghab\")\n",
    "print(st.find(\"def\")) # 0\n",
    "print(st.find_all(\"ab\")) # [0, 8]\n",
    "\n",
    "a = [\"xxxabcxxx\", \"adsaabcaa\", \"ytysabcre\", \"qqqabcqwa\", \"aaabcaaaa\"]\n",
    "st = STree.STree(a)\n",
    "print(st.lcs()) # \"abc\"\n",
    "print(st.find_all(\"qqqabcqwa\"))\n",
    "print(a[30//9])\n",
    "\n",
    "\n",
    "def construct_tree(sequences):\n",
    "    return STree.STree(sequences)\n",
    "\n",
    "tree = construct_tree(sequences_implanted)\n",
    "print(tree.find_all(fix_motif))\n"
   ]
  },
  {
   "cell_type": "markdown",
   "metadata": {},
   "source": [
    "3\\. Avant de chercher les motifs, implémentez ou reutilisez les fonctions pour générer tous les motifs (k-mer) possibles de taille k, en éliminant les motifs peu complexe pour éviter les calculs inutiles."
   ]
  },
  {
   "cell_type": "code",
   "execution_count": 4,
   "metadata": {},
   "outputs": [],
   "source": [
    "import itertools\n",
    "def generateKmers(alphabet, k):#avec k = 9 et len(alphabet) = 4, il y a plus de 200 000 combinaison possible !\n",
    "    validKmers = []\n",
    "    nuc_str = \"\".join(alphabet)\n",
    "    kmers = itertools.product(nuc_str, repeat = k)\n",
    "    validKmers = list(kmers)\n",
    "    \n",
    "    return validKmers\n",
    "\n",
    "\n",
    "def tousLesKmers(ADN, k): #+ optimal pour la question 8, car ca evitera beaucoup de calculs inutiles\n",
    "    \"\"\"\n",
    "    List(String) -> List(String)\n",
    "    Rend la liste de tous les k-mers present dans chaque element de ADN\n",
    "    \"\"\"\n",
    "    List_des_Kmer = []\n",
    "    for sequence in ADN:\n",
    "        for i in range(len(sequence)-k+1):\n",
    "            seq_i = \"\"\n",
    "            for j in range(k):\n",
    "                seq_i = seq_i + sequence[i+j]\n",
    "            if not seq_i in List_des_Kmer:\n",
    "                List_des_Kmer.append(seq_i)\n",
    "    return List_des_Kmer\n",
    "\n",
    "def removeLowComplexe(motifs, minrep):\n",
    "    validMotif = []\n",
    "    for mot in motifs:\n",
    "        if mot.count('A') < minrep and mot.count('C') < minrep and mot.count('G') < minrep and mot.count('T') < minrep:\n",
    "            validMotif.append(\"\".join(mot))\n",
    "    return validMotif\n",
    "\n",
    "def removeLowComplexePair(motifs):\n",
    "    validMotif = []\n",
    "    \n",
    "    for cle in motifs:\n",
    "        list_tmp = []\n",
    "        list_tmp.append(cle[0])\n",
    "        for i in range(2, len(cle), 2):\n",
    "            if cle[i] == list_tmp[0]:\n",
    "                list_tmp.append(cle[i])\n",
    "        cpt_pos_pair = len(list_tmp)\n",
    "        list_tmp = []\n",
    "        list_tmp.append(cle[1])\n",
    "        for i in range(3, len(cle), 2):\n",
    "            if cle[i] == list_tmp[0]:\n",
    "                list_tmp.append(cle[i])\n",
    "        cpt_pos_impair = len(list_tmp)\n",
    "        \n",
    "        if not cpt_pos_pair == ((len(cle) // 2) + 1) and not cpt_pos_impair == (len(cle) // 2):\n",
    "            validMotif.append(cle)\n",
    "              \n",
    "    return validMotif\n",
    "\n",
    "minrep = 5\n",
    "\n",
    "kmers = generateKmers(nuc, k)\n",
    "kmersValid = removeLowComplexe(kmers, minrep)\n",
    "kmersValid = removeLowComplexePair(kmersValid)\n",
    "\n",
    "#print(kmersValid)\n"
   ]
  },
  {
   "cell_type": "markdown",
   "metadata": {},
   "source": [
    "4\\. **Exact matching:** Définissez la fonction ``exact_match`` qui cherche dans le suffix tree tous les motifs possibles (k-mers), générés à la question precedent. La fonction renvoie un dictionnaire qui contient les motifs (keys) et leurs nombre d'occurrence (values). Ce dictionnaire doit être trié par nombre d'occurrences. \n",
    "\n",
    "Ensuite, trouvez et affichez les 10 motifs plus fréquents dans notre jeux de données artificiels."
   ]
  },
  {
   "cell_type": "code",
   "execution_count": 5,
   "metadata": {},
   "outputs": [
    {
     "name": "stdout",
     "output_type": "stream",
     "text": [
      "[('CCTCGATCA', 50), ('TCCTCGATC', 20), ('CTCGATCAC', 15), ('CTCGATCAG', 13), ('CTCGATCAA', 12), ('ACCTCGATC', 11), ('CTCGATCAT', 10), ('GCCTCGATC', 10), ('ATCCTCGAT', 8), ('TCGATCACA', 6)]\n"
     ]
    }
   ],
   "source": [
    "import operator\n",
    "\n",
    "def exact_match(kmersV, stree):\n",
    "    match = {}\n",
    "    for kmer in kmersV:\n",
    "        res_tmp_tree = stree.find_all(kmer)\n",
    "        match[kmer] = len(res_tmp_tree)\n",
    "        \n",
    "    sorted_match = sorted(match.items(), key=operator.itemgetter(1), reverse = True)\n",
    "    final_sorted_match = {k:v for k,v in sorted_match}\n",
    "        \n",
    "    return final_sorted_match\n",
    "\n",
    "st = construct_tree(sequences_implanted)\n",
    "motif_occur_sorted = exact_match(kmersValid, st)\n",
    "print(list(motif_occur_sorted.items())[:10])  #correct si motif implanté est complexe"
   ]
  },
  {
   "cell_type": "markdown",
   "metadata": {},
   "source": [
    "5\\. Avez-vous réussi à trouver votre motif initial implanté en séquences? l'algorithme était-il rapide? Faites attention aux valeurs élevées des variable k, t, et n par rapport aux TMEs précedants. Quelle est la complexité de chaque recherche de motif? "
   ]
  },
  {
   "cell_type": "markdown",
   "metadata": {},
   "source": [
    "\n",
    "\n",
    "\n",
    "Par rapport aux TMEs précedents, même si les variables k, t et n ont des valeurs plus grandes qu'aux TMEs précedents,\n",
    "cet algorithme est plus rapide.\n",
    "\n",
    "Et, oui j'ai réussi à trouver le motif initial implanté.\n",
    "Par contre, si les motif implanté est un motif PEU COMPLEXE, on ne le retrouvera pas car il ne sera pas dans kmersValid\n",
    "\n",
    "\n",
    "\n"
   ]
  },
  {
   "cell_type": "markdown",
   "metadata": {},
   "source": [
    "6\\. Introduisez deux variation (v=2) au motif initial. Pour cela avant de chaque implantation, créez d'abord un motif varié (avec v substitutions choisies aléatoirement) à partir du motif initial et puis implantez-le dans une séquence. Repetez pour chaque sequence dans le Jeux de donnée. Il suffit de mettre ``v`` égal ``2`` et réutiliser les fonctions définies à la question 1."
   ]
  },
  {
   "cell_type": "code",
   "execution_count": 6,
   "metadata": {},
   "outputs": [
    {
     "name": "stdout",
     "output_type": "stream",
     "text": [
      "['GAAACTACAGTTAGAGCTACACGTACCACATCCACAGCAGGATACTTTCTTTGACTCAATCATGGGCGAGATCGAAGCTAGGACACGATCTCAGGTAGCAATGCGTGCT', 'TCTCAGAATACACCGTCCGTTAGACGTCCTTTGCGGGCGAGGGATGATTCTCCCTCATGACTTTGGTAATCCTGTCGTCGCAAATATCGCTCCGGCCTCGAGGAGTAAT', 'AGAAGTTTGGATTAGTAAGTACCCATAGATCTTCGCTGATCACGGAACTGGCGGAGTTTAAGGTCAAGCCTGGGCCAGGCCCTTGATCACATTGGGAAAAGATCACCAT', 'ATCGAGTCCTGCTCGCTGCCCATATATCCGATCTCCTACTAATGGCGTTGTGACTTGCCTAGTGTGGATAGAGCCCCTCAACCAACTATGAGCTCAGTATACGCACCTT', 'CCAGTTGCTCCGACACTATCATAATCACCGAATAGGCACTGGATCAGATAAGCATGGCGAAGATCGGCGCTTGCGAAAGCAAGATTCAACTTTTGTCTCTTCCAACGTT', 'CCGCGAACCGCACTCCGGTGCAGTGTACCGGACAAAGCAGACACAGCGTCCCCCTAATGGGAAGGTGGAAAGGAATAGGCTGCCCGCAAGCGTATCCTTGATCGATCTG', 'AAACAGAGCATGAGTTCCAGCGGGCGGGGCCACCGGATATTTTGAAAGTGTCGTTTCTCACCAAACGTTCGGAAAGCAACGTCGTCCCTCGCTCAGTCGCCGGGCTGTC', 'ACAGCCACGATCAAAGCGCTTACATACGTAGACGACCGCGAATACGGAGAGCGCAGGGTCAGCTACTCTCGTGGCGGCTTTACATCCCAAAGGGGCGAGAGTTTCGCGC', 'CGTCCTTTGGTGAGAATCTGGACTGGCACCCTCGATTAACCCAATTCTCGGGGATGGTGGATATCGTAGAGGCATTATCTAAAAGGTCGCCAACGGGTCGGTGTGATCG', 'CCAATAAATCCCTTTTCTCCCTCGATTAGAACCGTAGTTATTCGACGAGTACCGAGGTTCTAACGACGTCCGAGGGCGACGCACTGTCCGATTATTCCATTCAAAAGCT', 'TCTTATATGGGACGACGCCGCAAGGTTCTGATAGTCTGACAAGCAATTATGATGACTCGACCGATCTGACATCGCTCAGTATAACAAAGTTCTTCCGGACTCCGGCCCT', 'CAAGACTAAGCGAGTGCGATTCTCGATCAGCTTTCAACCAAAGAAAGATGGCCCGCAGTCCGTCATATCATTAGGCTCATCTATTCTCGAGGGTGCTTTTGCATTGCGT', 'TGGGTACGGTCGAGTTAGCAGATGAGTTCGCCACTTCAAGTCGGTACGATAGGTCGATCGAACAAGCTTCCTCGTGCATCGGTGTGTGTCTTTCTGTCGTACACCAATA', 'GAGTTGCTAAGTCAGACATCCTGCTTGTTCCCCTTACGACTCGCTTTAGCCTCGAACAACGAGTGTGCCTACCGGGTGAAGTCGGATCGGAGGGCCCGGACCAACTTCA', 'AATTCGCACCGATCAATACGCGGGCCTTGCTACGGTACGCTCTTGCACGCTTACTGGAAGAAGCCTGCCGCACGCTCTGTTTCAACAGTCGCCGCCTCATATGCTGAAC', 'CTGCTGAGTAGTCCACAACACCTGTTCGGCGTGCCGGAAATTAACAGAACGCAACTCTAGCTCGAAGAGAGATATTAGTCTGAACCTCCATCAAATATTGATGTTCTTT', 'ACTTATTCTTGAGTAACGGTTAAAAACTTTGTGCCAGCATTTTGATTTTCGTCGTATCGTCGGTGCTGCGAACATAATTTAGGTTGGCTCAATTCCACACTCGATCATT', 'CGGGCTCCTGGCCTTCGTCAAATCTGATCTAGTGAAGAATTCACTAGCCGACATAGGCGACGTTTTACCCACATGCTGGGCGATCAGTAGCCTCCTTCAGCGCTCCATT', 'CAACTTCGATGAAGTGAGACGATAGTATCTTCTCAAATTTGCCTCGGATAAACGCTCACACCTATTTACTTGCCGTGAGATGTTCTTATCCGTTTGTAGTGACCGCGCA', 'CGGTCACAGCGTGGTGAGGGGCACAAAGGTATCTGGGGGCGTCACAAGACACAAGGCCTCCATCATGATCGGGAATGTGCTACGTAGATAACCGAAGGCTGAATCAAGC', 'TGTGCTACATCGCAAATACCTGTAGGGCCGAATTTTCCAGCCCTTCACTCGTCCTCGAGCACACGGAGCTTTTCACAGTGCGCAAACTCCTTATCGAATACCTCCTCCC', 'TAACGTTAAGGCAAAGGAGTCCCCAGCCTTCTCGACCCACCGGGCGCACAATGCGGTTTCAAACTTTATGACCCTCGATCAGGTGGCCCTCAAACGAACATTAAAGTAT', 'CCTCCATCCTAAATTGACTCAATGGCTTATGCTCTACATTGAGCCGTCCTATGACTATGTCCTTGGGCAGTCAGTAGGTGGCATTATCTAAAATGGTCACCAATTTCCA', 'CGCTATCTACGGAGTTTAGACGCCCTAACCTGTGCAGGCCTTACTATGAAATCACGGGTAAGTCGGTAGGGCCCTCGCCGTTAGGGCACGCAAATCCTCGATTATTCAC', 'GGAGAACACTTGAGAGCTAACGGCAATCACTTATATTCATTTTTCCAACTGTAAATCGGGATAGCATGGAGTAGTGAGTTAAATAAAGTCACATATCGCGCGATCACGG', 'CAACTCCAATTCAGCTTCGGCATGGGGCACGCAATTTATCTCCGCCTCTTCTATTCTATTCTTCTAGTGACATACATAAGTACACATCGATCAAAATAGAGGAATTAGT', 'AGCCCGGACCTTTTAGCGAAGGGCCTCCCTGTGACGTTTTTTAGCTACAGATGGTAGCAGAGGTGAAATACTAGATCGTCGGTCAATTTTGGGTTGGGGAACATTGCCC', 'AGCCTGTACCGCGATCAGATGGTTCGTTCCTCAACGAAAATGGGACGCCTTGTGAGAGGAGGCTGCACCCGACGGATGAAAGAATCCGAACAAGTATTTACCTCTATTC', 'AGTGCACAGCATCGTCGATCTGTAAGATTGCTCAATTGGCTATGATGTACAATGGCTCTCTGTGTATGAGGAGCACTACACGCCGGCCCTCGTTGGGGCACTCACATCG', 'TCAGCACTTTATTAAGCACTCTTTATAATCTTTTAGAGCTATCTCGGGTGGGATTTTACCTCTATCACGGGGTGTTAAAAGCGCTGTCTGCCTGGCGCATTGCATTGCT', 'CTTTTTCCTGAGGGGTGAGTGGCATACGTCAAGAACTCTCGATGACATCCTCGTTCAATTAAAGGATCACCCCTAGCTAACGGCATAACTAGGAACACGTCGCATAAAC', 'TAGCGATATCCTGGAAACAAGAGAACCACGATCACCCTGAGTAAACTAGCTTTTTACATATTTGGATCCTATCACCGCAAATGAATAAGGTCTGGGCACCTCTAGGAAC', 'CCTCGGTCGCGGCCAATAAATAAGCCAAAGAACAGGCAATGAAACAGATCTAGTCGACTGTCTAGTTGGTAAGTGTCTTAAGGCATTCAACTCGGCGTGTCGATATAGC', 'GCTAACGGACGCAACAGCACCAGCAGGATTCATATCAATTTACAAAGTATTTTTGACTTTCTCGGTGTAGCATACAAGGGAATACTCTGGATCAAGGTAAGATACGCAT', 'CGTACAGGAGGATACGGCCCCCAATACGCGACTTATTTTTCGGTAAGGCGGAGCCCCGATAATCGGTCAGCGAGGTATAATTCGGACGGGGTATATTGACGGCTTTCGC', 'TTAGGCCTTGAGGGAAGTCATGGCCATTACTTATCACTTAATACGAGTTTTTACGAACGTTCGTCCGCGGAATGATCTAAGAAGGTCTCCACCATTAGACCTCAATCGA', 'GCTTGGATCACTAGATCATGACAGCCATAAGTCCTTCAAATAACAATCTAACCCGCTAAGAAACCCTTGACCGGTGCCCGGGAGCATACGCGTGCCCGAAGAGTCCTAT', 'GCAAACGACGTAAGTCGAACAAGTGTCCCCTCCTCGCGCTGCAAAATACATCCGTATTACTTAACCCAAAATTACGAGGTGACTTGTACCGTCGATCGCCAAAGTATTT', 'CTCGATGTCTGAGGACTGTTAAAGTGTCCCACGCGTATGAGGGCTCTCGTCTAACGGGGCTACTACCCTCAGTGTATCGAGTCCTACCTCGGTCACGACCTTCCAAGGT', 'TCGAGGACGACCCGGGATCTTTCTATCTGCTTAGAGCCACCATCAGGATTATCAGCAACCAATTGGATTTGCTGTCTTATGACTAACTTAAACGTTGCCTGATCGTTAA', 'GGACTGTTGTTGGCACACTTCGGTCAGTTCCATCAATGACTACTGAAAGGACTCGCGGCCCGCAAGCGTATCACCATGATGGGTTTGGAGGCGCGGCCGGACGAATGAG', 'GCAGAATGCGAATAAGATAGACTCGATCACCCTGGAACGGCAGTATGTCTTCTGCAATACTTTGAATGTCCCTACGGCCTTACTCACTCTTCTGCCTTTCTACACAGGC', 'CCCCCTCCAAGGAGACCTCGTTCAATCATCCGGACTAAACTGCAATGGTGGAAGAACGAGCCTCCGCAAAAGCTACCATACGGTTCGTGAGCTGCGCTATACATATTTT', 'GAGAGTATCGATGGTAAATACACGGATTATTGAAAGTTTAGAGTGAGTAACCTCGATCATGGCCGTAGCGCTGAGTGAGAGAGACTTTGGTAGTTTCTGGGAAACAGGA', 'TCTCCTATGCAACATTCTATTCGCTCCGATCGTCCTCAACGTCATAACATGGAACCTGTTCTATCCATTGTGGACCATGATCACTCTGTGCTCATGACTTCATGACCTT', 'GTCTTCAAGACAATACAACAGAGCTTTTTAAGACAGCCCCGCGATCATGAACAGGCGAAAAAACGAGGCGACGAGCCACGTTCATCATCGATTTAAAACAGCTAGCTCT', 'TCTATCATCGCCCATACAGCTAAACTTGGTAGTAGCGTGGGCGAATGTGGAGGCGTTCAATGTGCCTCGCTCAGAGTTAGCATCGTGCCATAGCAACAATCCACAATCT', 'TAGAGCCTGGATCGCTGGTTTTGCAAGGGCTCGGGAATTTTACTATGGTGTCAACCATCTCTTCTCTCCAGTACCCTCGAAAGGCATAACGGGTATGCTCGGCGAGACA', 'TTAGGCCCAGAAGACGCACAGGTTTCGACCCTCCTTCTTGACACCCTCGAGCACCTATACGACCTCGACACCCCCCCGCTAAGTAGCTCCGTGTGTGGCGTAACGCCCT', 'AATGAACCATACAGAGGTCTACCACTGTTTCATTTCAGGACACTCCGGTGGTCTTTGACCTCGTTCAAAATTTGATATGCCTGGAAACATGCTCCAAATTATTGCGGTG']\n"
     ]
    }
   ],
   "source": [
    "v=2\n",
    "\n",
    "def variation_motif(motif,v):\n",
    "    \"\"\"\n",
    "    String * int -> String\n",
    "    Retourne le motif avec v substitutions placé aléatoirement\n",
    "    \"\"\"\n",
    "    motif_varie = copy.deepcopy(motif)\n",
    "    L_motif = list(motif_varie)\n",
    "    for nb_mutation in range(v):\n",
    "        index_mutation_motif = random.randint(0,len(motif) - 1)\n",
    "        L_motif[index_mutation_motif] = random.choice(nuc)\n",
    "    \n",
    "    motif_varie = \"\".join(L_motif)\n",
    "    \n",
    "    return motif_varie\n",
    "\n",
    "def implantMotifVarie(seqs, v, motif):\n",
    "    \"\"\"\n",
    "    List[String] * int * String -> List[String]\n",
    "    Retourne la liste des sequences avec les motifs ayant v substitution implanté dans chaque sequence\n",
    "    \"\"\"\n",
    "    sequence_implante = copy.deepcopy(seqs)\n",
    "    \n",
    "    for i in range(len(sequence_implante)):\n",
    "        L_seq = list(sequence_implante[i])\n",
    "        motif_mute = variation_motif(motif, v)\n",
    "        L_seq.insert(random.randint(0, len(L_seq) - 1), motif_mute)\n",
    "        sequence_implante[i] = \"\".join(L_seq)\n",
    "    \n",
    "    return sequence_implante\n",
    "    \n",
    "    \n",
    "#print(variation_motif(fix_motif, v))\n",
    "sequences_implanted_with_var = implantMotifVarie(sequences_ini, v, fix_motif)\n",
    "print(sequences_implanted_with_var)\n",
    "\n",
    "kmers2 = tousLesKmers(sequences_implanted_with_var, k) #Pour la question suivante\n",
    "kmersValid2 = removeLowComplexe(kmers2, minrep)\n",
    "kmersValid2 = removeLowComplexePair(kmersValid2)"
   ]
  },
  {
   "cell_type": "markdown",
   "metadata": {},
   "source": [
    "7\\. Construisez le suffix tree à nouveau à partir des nouvelles séquences en utilisant le python package suffix-trees."
   ]
  },
  {
   "cell_type": "code",
   "execution_count": 7,
   "metadata": {},
   "outputs": [],
   "source": [
    "tree2 = construct_tree(sequences_implanted_with_var)"
   ]
  },
  {
   "cell_type": "markdown",
   "metadata": {},
   "source": [
    "8\\. **Inexact matching:** \n",
    "\n",
    "Définissez fonction ``inexact_match`` qui cherche tous les motifs possibles (k-mers) générés à la question 2 dans le nouveau suffix tree donné (construit à partir des nouvelle séquences qui incluent le motif varié), et renvoie un dictionnaire qui contient les motifs (keys) et les listes de toutes leurs variations (values) ainsi que le meilleur motif variable. Il faut que vous utilisiez la algorithm *seed* pour trouver le motif variable. \n",
    "\n",
    "Ensuite, affichez le meilleur motif variable avec toutes son variation dans notre nouveaux jeux de données artificiels."
   ]
  },
  {
   "cell_type": "code",
   "execution_count": 9,
   "metadata": {},
   "outputs": [
    {
     "name": "stdout",
     "output_type": "stream",
     "text": [
      "v =  2\n",
      "Nb de kmers complexe dans 'sequences_implanted_with_var' :  3918\n",
      "('CCTCGATCA', (['CCTCGCTCA', 'CCTCGTTCA', 'CCTGGATCG', 'CCTCGATTA', 'CCTCCATCA', 'CCTTGATCG', 'CCTCGGTCA', 'CCTCGATCA', 'CCTCTATCA', 'CCTCCATCA', 'CCTCGAGCA', 'CCTCGAGCA', 'CCTCGAGGA', 'CCTCGCTCA', 'CCTCGTTCA', 'CCTTGATCA', 'CCTCGTTCA', 'CCTCGATCA', 'CCTCAATCG', 'CCTCGTGCA', 'CCTCCATCC', 'CCTCGATTA', 'CCTCAACCA', 'CCTCCTTCA', 'CCTCGGTCG', 'CCTCGAACA', 'CCTCGATTA', 'CACCGATCA', 'CGTCGATCT', 'CGTCGATCG', 'CCTCGATTA', 'CCTCGATCA', 'GCGCGATCA', 'CCTCGAGCA', 'CCTCGAGGA', 'CCTCGAGCA', 'TCTCGATCA', 'CCCCGATAA', 'CCACGATCA', 'TCTCGATGA', 'CATCGATCA', 'ACTCGATCA', 'CCTCGATCA', 'CCACGATCA', 'CCGCGATCA', 'CCTCGATTA', 'CCGCGATCA', 'ACTCGATCA', 'CTTCGATGA', 'CCTCGAACA', 'CCTCGATTA', 'CCTCGCTCA', 'CACCGATCA', 'CCTCGTTCA', 'ACTCAATCA', 'CCTCCATCA', 'TCTGGATCA', 'CATCGCTCA', 'CCTCGGTCA', 'CCTCGATCA', 'CCTCTATCA', 'GCGCGATCA', 'CCTCCATCA', 'TCTCGATCA', 'CCACCATCA', 'CCTCGCTCA', 'CCACGATCA', 'CATCGATCA', 'CCTCGTTCA', 'CCTTGATCA', 'CCATGATCA', 'CTTCGGTCA', 'ACTCGATCA', 'CCTCGTTCA', 'CCTCGATCA', 'CCACGATCA', 'CGTCGGTCA', 'CTTGGATCA', 'CCGCGATCA', 'ACTAGATCA', 'CCACGTTCA', 'CCGCGATCA', 'CCTCCTTCA', 'ACTCGATCA', 'ACTGGATCA'], 85))\n"
     ]
    }
   ],
   "source": [
    "\n",
    "def hamdist(v, x):\n",
    "    diffs = 0\n",
    "    for i in range(len(x)):\n",
    "        if v[i] != x[i]:\n",
    "            diffs = diffs + 1\n",
    "    \n",
    "    return diffs\n",
    "\n",
    "\n",
    "def decoupe_en_seed(text, motif, k, d, tree):\n",
    "    Ns = d + 1\n",
    "    Ls = k // Ns\n",
    "    allCandidates = []\n",
    "    \n",
    "    for i in range(Ns):\n",
    "        seed = motif[i*Ls : i*Ls + Ls]\n",
    "        candidateIndex = tree.find_all(seed)\n",
    "        for index in candidateIndex:\n",
    "            if not tree.find(text[index//(n + k + 1)]) == 0: #index//(n + k + 1) = numero de sequence\n",
    "                candidateText = text[index//(n + k + 1)][(index % (tree.find(text[index//(n + k + 1)])))-i*Ls : (index % (tree.find(text[index//(n + k + 1)])))+k-i*Ls]\n",
    "                if len(candidateText) == k and hamdist(motif, candidateText) <= d:\n",
    "                    allCandidates.append(candidateText)\n",
    "            else:\n",
    "                candidateText = text[0][index-i*Ls : index+k-i*Ls]\n",
    "                if len(candidateText) == k and hamdist(motif, candidateText) <= d:\n",
    "                    allCandidates.append(candidateText)\n",
    "                \n",
    "    \n",
    "    return allCandidates\n",
    "\n",
    "def inexact_match(kmersV, sequences, stree, v):\n",
    "    dic_des_var = {}\n",
    "    \n",
    "    for kmer in kmersV:\n",
    "        candi = decoupe_en_seed(sequences, kmer, k, v, stree)\n",
    "        if kmer not in dic_des_var:\n",
    "            dic_des_var[kmer] = candi, len(candi)\n",
    "        else:\n",
    "            dic_des_var[kmer] = dic_des_var[kmer] + candi, len(dic_des_var[kmer] + candi)\n",
    "            \n",
    "        sorted_inexact_match = sorted(dic_des_var.items(), key=lambda x: x[1][1], reverse = True)\n",
    "        final_sorted_inexact_match = {k:v for k,v in sorted_inexact_match}\n",
    "                        \n",
    "    return final_sorted_inexact_match\n",
    "            \n",
    "    \n",
    "        \n",
    "print(\"v = \",v)  \n",
    "print(\"Nb de kmers complexe dans 'sequences_implanted_with_var' : \",len(kmersValid2))\n",
    "test3 = inexact_match(kmersValid2, sequences_implanted_with_var, tree2, v)\n",
    "print(list(test3.items())[0])\n",
    "\n",
    "mot,(seq_tmp, nbVar) = list(test3.items())[0]\n",
    "\n",
    "file = open(\"FichierPourLogo.txt\", \"w\")\n",
    "for s in seq_tmp:\n",
    "    file.write(s)\n",
    "    file.write(\"\\n\")\n",
    "file.close()\n",
    "    \n",
    "\n",
    "    "
   ]
  },
  {
   "cell_type": "markdown",
   "metadata": {},
   "source": [
    "9\\. Créez le motif logo à partir des séquences du meilleur motif variable que vouz venez de trouver. Vous pouvez utilizer ce site: https://weblogo.berkeley.edu/logo.cgi. Affichez votre logo ci-dessous."
   ]
  },
  {
   "cell_type": "code",
   "execution_count": null,
   "metadata": {},
   "outputs": [],
   "source": []
  },
  {
   "cell_type": "markdown",
   "metadata": {},
   "source": [
    "Motif LOGO:"
   ]
  },
  {
   "cell_type": "markdown",
   "metadata": {},
   "source": [
    "10\\. Avez-vous réussi à trouver votre motif initial implanté en séquences? l'algorithme était-il rapide? Quelle est la complexité de chaque recherche de motif?"
   ]
  },
  {
   "cell_type": "markdown",
   "metadata": {},
   "source": [
    "C'est très lent si nous utilisons les kmers générés apr GenerateKmers(alphabet, k) car ici il y a plus de 200 000\n",
    "combinaison possible, et l'algorithme du seed a une complité plutot elevé (mais bcp moins par rapport aux algorithme\n",
    "des TMEs précédent !).\n",
    "Cependant elle est assez rapide si nous générérons tous les kmers possible directement depuis les séquences (avec la fonction : tousLesKmers(sequences_implanted_with_var, k) car il y a environ 3900 kmers possible ici, en enlevant les kmers non-complexe !"
   ]
  },
  {
   "cell_type": "markdown",
   "metadata": {},
   "source": [
    "11\\. Tester l'algorithme  suffix tree sur vos données de chipSeq. Puis générér le LOGO du motif trouvé"
   ]
  },
  {
   "cell_type": "code",
   "execution_count": null,
   "metadata": {},
   "outputs": [
    {
     "name": "stdout",
     "output_type": "stream",
     "text": [
      "Execution\n",
      "39157\n"
     ]
    }
   ],
   "source": [
    "minrep = 5\n",
    "\n",
    "def readFasta(genome, n):\n",
    "    sequence = []\n",
    "    file = open(genome, \"r\")\n",
    "    sequence = []\n",
    "    for s in file:\n",
    "        if s[0] != \">\":\n",
    "            sequence.append(s.strip().upper())\n",
    "    sequenceStr = \"\".join(sequence)\n",
    "    #sequence = [sequenceStr]\n",
    "    sequence = [sequenceStr[i:i+n] for i in range(0, len(sequenceStr), n)]\n",
    "    return sequence[:len(sequence) - 2]\n",
    "genome = \"Sequence_by_Peaks_8.fasta\" #votre fichier\n",
    "sequences_chips = readFasta(genome,n)\n",
    "#print(sequences)\n",
    "\n",
    "print(\"Execution\")\n",
    "kmers3 = tousLesKmers(sequences_chips, k)\n",
    "kmersValid3 = removeLowComplexe(kmers3, minrep)\n",
    "kmersValid3 = removeLowComplexePair(kmersValid3)\n",
    "print(len(kmersValid3))\n",
    "tree4 = construct_tree(sequences_chips)\n",
    "\n",
    "test_chips = inexact_match(kmersValid3, sequences_chips, tree4, v)\n",
    "print(list(test_chips.items())[0])\n",
    "\n",
    "mot2,(seq_tmp2, nbVa2r) = list(test_chips.items())[0]\n",
    "file2 = open(\"FichierPourLogo2.txt\", \"w\")\n",
    "for s in seq_tmp2:\n",
    "    file2.write(s)\n",
    "    file2.write(\"\\n\")\n",
    "file2.close()\n",
    "#Ca met trop de temps....\n",
    "print(\"Ca passe\")"
   ]
  },
  {
   "cell_type": "markdown",
   "metadata": {},
   "source": [
    "12\\. Créez le motif logo à partir des séquences du meilleur motif variable que vouz venez de trouver. Vous pouvez utilizer ce site: https://weblogo.berkeley.edu/logo.cgi. Affichez votre logo ci-dessous.\n"
   ]
  },
  {
   "cell_type": "markdown",
   "metadata": {},
   "source": []
  },
  {
   "cell_type": "code",
   "execution_count": null,
   "metadata": {},
   "outputs": [],
   "source": []
  }
 ],
 "metadata": {
  "celltoolbar": "Raw Cell Format",
  "kernelspec": {
   "display_name": "Python 3",
   "language": "python",
   "name": "python3"
  },
  "language_info": {
   "codemirror_mode": {
    "name": "ipython",
    "version": 3
   },
   "file_extension": ".py",
   "mimetype": "text/x-python",
   "name": "python",
   "nbconvert_exporter": "python",
   "pygments_lexer": "ipython3",
   "version": "3.7.4"
  }
 },
 "nbformat": 4,
 "nbformat_minor": 2
}
