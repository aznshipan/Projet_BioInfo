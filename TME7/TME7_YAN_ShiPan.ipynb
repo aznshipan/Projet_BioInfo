{
 "cells": [
  {
   "cell_type": "markdown",
   "metadata": {},
   "source": [
    "# TME 7 : Mini-projet Detection de motifs\n",
    "\n",
    "\n",
    "## Partie C : Recheche de pattern (motifs) en utilisant les algoritmes randomisés\n",
    "\n",
    "Les algorithmes randomisés prendre des décisions aléatoire plutôt que déterministes.\n",
    "l'algorithme s'exécute différemment à chaque fois. Ils sont couramment utilisés dans situations où aucun algorithme exact et rapide est connu. Nous allons implémenter deux algorithmes randomisés pour la recherche de motifs : Greedy Profile Motif Search et random Projections.\n"
   ]
  },
  {
   "cell_type": "markdown",
   "metadata": {},
   "source": [
    "1\\. Nous allons réutiliser les fonctions du TME6 pour générer t séquences artificielles de taille n, et implanter dans chaque séquence un motif de taille k à des positions aléatoires avec v substitutions choisies aléatoirement."
   ]
  },
  {
   "cell_type": "code",
   "execution_count": 1,
   "metadata": {},
   "outputs": [],
   "source": [
    "import random\n",
    "import numpy as np\n",
    "import copy\n",
    "\n",
    "nuc = ('A', 'C', 'G', 'T')\n",
    "\n",
    "k=7 #taille de motif\n",
    "v=4 #nb de positions variable dans le motif\n",
    "t=20 #nb de sequences\n",
    "n=50 #longuer des sequence\n",
    "\n",
    "def generateRandomSequence(n, I):\n",
    "    seq_tmp = \"\"\n",
    "    \n",
    "    if I == True:\n",
    "        for i in range(n):\n",
    "            seq_tmp = seq_tmp + random.choice(nuc)\n",
    "    else:\n",
    "        for i in range(n):\n",
    "            seq_tmp = seq_tmp + random.choice(nuc).lower()\n",
    "\n",
    "    return seq_tmp\n",
    "    \n",
    "\n",
    "def generateRandomSequences(n, t):\n",
    "    sequences = [generateRandomSequence(n, True) for i in range(t)]\n",
    "   \n",
    "    return sequences\n",
    "\n",
    "\n",
    "def implantMotifVar(k, v, t, n):\n",
    "    sequences = generateRandomSequences(n, t)\n",
    "    motif = generateRandomSequence(k, True)\n",
    "    print(\"Motif : \", motif)\n",
    "    \n",
    "    for i in range(len(sequences)):\n",
    "        L_seq = list(sequences[i])\n",
    "        L_motif = list(motif)\n",
    "        for nb_mutation in range(v):\n",
    "            index_mutation_motif = random.randint(0,len(motif) - 1)\n",
    "            L_motif[index_mutation_motif] = random.choice(nuc)\n",
    "        chn_motif_mute = \"\".join(L_motif)\n",
    "        print(chn_motif_mute)\n",
    "        L_seq.insert(random.randint(0, len(L_seq) - 1), chn_motif_mute)\n",
    "        \n",
    "        sequences[i] = \"\".join(L_seq)\n",
    "    return sequences\n"
   ]
  },
  {
   "cell_type": "code",
   "execution_count": 2,
   "metadata": {},
   "outputs": [
    {
     "name": "stdout",
     "output_type": "stream",
     "text": [
      "Motif :  GTCTTTC\n",
      "GTACCTC\n",
      "GTTTCTC\n",
      "GGTTGTC\n",
      "CGCCTTA\n",
      "GACGTTC\n",
      "GTCTTTT\n",
      "ATATTTC\n",
      "GTCTTTG\n",
      "CTCTTCC\n",
      "GTTTTCC\n",
      "GGCCATC\n",
      "TTCTCCC\n",
      "ATATATC\n",
      "CACTTAC\n",
      "GTGTTCC\n",
      "ATCGCTC\n",
      "ATCTTAC\n",
      "GGGTCTC\n",
      "GTTTTTC\n",
      "GTACTTC\n",
      "['TGTACCTCCCACGTTACGCAGTAACCGTTTTGCTCGCAACAACTCTTTCAACTTATC', 'CCACTGTCGCGTACCATAGATACGGGATTCCTCCGAAGCGTGCAAGTTTCTCACGGG', 'TGAAGCAGCGACGGCGAACTATCATTGACTCGCTGTTGGGGTTGTCTCACGCAGTCA', 'GTGATCCCTACTCTCCCCGCCTTATGCAAGGACCCGAAAGGGAACCCATCCTTCGAC', 'TTGACTACTGCTATCAGTCAAAAAACGGTGACCTCCTAAGACGTTCCAAATCTCACA', 'TGCTATCCCCTACACGAGCCTGAAGGGATTGCCGGTCGTCTTTTTTGACACAACCAT', 'GGTCATCTTGAAAAACAAATATTTCGTAATTGCCTCGCCCGCTGGTGATGTCTTACA', 'ATTTCTCTCACCTGCATTCCGCGGCTGTGCGGGAGGGTCTTTGCAAACACCTAATCC', 'GATTTTGTTTATATGCCTTGTAACTCTCCGATACGTCGGAGCGAGGCTCTTCCCTGA', 'GCAAGTTTTCCAAAATCTTAGCCTAACACTGGCGCGCGACCCGATATAAGCTCCTTG', 'GGGCCATCTCTGTATCAACTGTTGGCGGGAGACTTGCGCTAACACCCGCGACCGCCC', 'CGACCTGGGCCTCTTTGAAGACCCGATTCACATATCCCGTTCTCCCGCCTCAGTCAA', 'TACAGGAGGGTTAACGTGAGTCAGTGCTCAGACGAAGGTCTAACGGGGATATATCGG', 'GGCCTACACTTACCTAGACCTGATGGATGGTATTTTTCGATGCTGCAAAACACCCGA', 'ACTCAAGGGATCTATTGCTCTAGCTCGGTACGGCCGTAGCGGTGTTCCTGGTCAAAT', 'AGACCGATCGCTCCTCATAGCGCTTGTAGCTGGCCCGCGGATTATTGCCGGACACGG', 'AAGATCTTACGAAAGCAATGGATGCTCCTCTGAAATATGGAACCAAATGGCGCGCCC', 'CACGTGGGTCTCCAACTATAAGTCAAATCTGGTATTCTTTGCACCTGCCATTTGAAT', 'CGGTGATATGTTCTGAGTCAGGCTTAAAAGGTGAACACGTAGGTTTTTCGCGAGGTA', 'CTTATGAGCGATGAGTACTTCGTTTTAGTTATCGCTCTATACTAGTCGACGTGGGTT']\n"
     ]
    }
   ],
   "source": [
    "#generate and implant variavel motifs\n",
    "\n",
    "\n",
    "sequences = implantMotifVar(k, v, t, n)\n",
    "print (sequences)\n"
   ]
  },
  {
   "cell_type": "markdown",
   "metadata": {},
   "source": [
    "2\\. Faire une fonction pour sélectionner des positions de départ aléatoirement s = (s1, …,st).\n"
   ]
  },
  {
   "cell_type": "code",
   "execution_count": 3,
   "metadata": {},
   "outputs": [
    {
     "name": "stdout",
     "output_type": "stream",
     "text": [
      "[41, 9, 41, 32, 39, 18, 3, 4, 5, 9, 23, 46, 36, 23, 6, 15, 7, 40, 36, 33]\n",
      "20\n"
     ]
    }
   ],
   "source": [
    "#creating vector s\n",
    "#Get t random positions from 0 to n - k\n",
    "def generateRandomS(sequences, k):\n",
    "    s = []\n",
    "    for i in range(t):\n",
    "        s.append(random.randint(0, len(sequences[i]) - k))\n",
    "    return s\n",
    "\n",
    "s = generateRandomS(sequences, k)\n",
    "print (s)\n",
    "print(len(s))"
   ]
  },
  {
   "cell_type": "markdown",
   "metadata": {},
   "source": [
    "3\\. Extraire les motifs en utilisant le vecteur s, et construire un profile. Attention, utiliser les pseudocount 1 pour éviter les probabilités zéro.\n"
   ]
  },
  {
   "cell_type": "code",
   "execution_count": 4,
   "metadata": {},
   "outputs": [
    {
     "name": "stdout",
     "output_type": "stream",
     "text": [
      "['ACTCTTT', 'CGTACCA', 'TTGTCTC', 'CCCGAAA', 'GACGTTC', 'CCTGAAG', 'CATCTTG', 'CTCTCAC', 'TGTTTAT', 'CCAAAAT', 'GGCGGGA', 'GCCTCAG', 'GGTCTAA', 'TGGATGG', 'GGGATCT', 'CATAGCG', 'TACGAAA', 'GCACCTG', 'ACGTAGG', 'GCTCTAT']\n",
      "{'A': array([ 3.,  5.,  3.,  6.,  6., 10.,  6.]), 'C': array([8., 9., 7., 6., 6., 4., 4.]), 'G': array([8., 7., 5., 6., 3., 4., 8.]), 'T': array([5., 3., 9., 6., 9., 6., 6.])}\n"
     ]
    }
   ],
   "source": [
    "#extract sequences from seqs\n",
    "def extractSeqs(s, seqs):\n",
    "    motifs = []\n",
    "    for i in range(len(s)):\n",
    "        seq_tmp = \"\"\n",
    "        for j in range(s[i], s[i] + k):\n",
    "            seq_tmp = seq_tmp + seqs[i][j]\n",
    "        motifs.append(seq_tmp)        \n",
    "    \n",
    "    return motifs\n",
    "        \n",
    "motifs = extractSeqs(s, sequences)\n",
    "print (motifs)\n",
    "\n",
    "#construct Profiles\n",
    "def profile(motifs, k, t):\n",
    "    q = len(nuc)\n",
    "    PWM = np.ones((q, k))#pseudo count\n",
    "    \n",
    "    L = [x for x in nuc]\n",
    "    \n",
    "    dictionnaire = {}\n",
    "    for i in range(len(L)):\n",
    "        dictionnaire[L[i]] = PWM[i]\n",
    "    \n",
    "    for i in range(k):\n",
    "        for j in range(len(motifs)):\n",
    "            dictionnaire[motifs[j][i]][i] = dictionnaire[motifs[j][i]][i] + 1\n",
    "            \n",
    "    #print(dictionnaire)\n",
    "    for i in range(q):\n",
    "        PWM[i] = dictionnaire[L[i]]\n",
    "    \n",
    "    #print(PWM)\n",
    "            \n",
    "    return dictionnaire\n",
    "\n",
    "def profile_from_dict(dic, k):#ici k est le v de la question 14\n",
    "    q = len(nuc)\n",
    "    PWM = np.ones((q, k))#pseudo count\n",
    "    L = [x for x in nuc]\n",
    "    \n",
    "    dictionnaire = {}\n",
    "    for i in range(len(L)):\n",
    "        dictionnaire[L[i]] = PWM[i]\n",
    "            \n",
    "    for cle in dic:\n",
    "        for i in range(k):\n",
    "            dictionnaire[cle[i]][i] = dictionnaire[cle[i]][i] + dic[cle]\n",
    "    \n",
    "    for i in range(q):\n",
    "        PWM[i] = dictionnaire[L[i]]\n",
    "    \n",
    "    return dictionnaire\n",
    "    \n",
    "\n",
    "pro = profile(motifs, k, t)\n",
    "print(pro)"
   ]
  },
  {
   "cell_type": "markdown",
   "metadata": {},
   "source": [
    "4\\. Transformer le Profile en PWM. Il faut diviser chaque élément par la somme de ses colonnes."
   ]
  },
  {
   "cell_type": "code",
   "execution_count": 5,
   "metadata": {},
   "outputs": [
    {
     "name": "stdout",
     "output_type": "stream",
     "text": [
      "{'A': array([0.125     , 0.20833333, 0.125     , 0.25      , 0.25      ,\n",
      "       0.41666667, 0.25      ]), 'C': array([0.33333333, 0.375     , 0.29166667, 0.25      , 0.25      ,\n",
      "       0.16666667, 0.16666667]), 'G': array([0.33333333, 0.29166667, 0.20833333, 0.25      , 0.125     ,\n",
      "       0.16666667, 0.33333333]), 'T': array([0.20833333, 0.125     , 0.375     , 0.25      , 0.375     ,\n",
      "       0.25      , 0.25      ])}\n",
      "{'A': array([ 3.,  5.,  3.,  6.,  6., 10.,  6.]), 'C': array([8., 9., 7., 6., 6., 4., 4.]), 'G': array([8., 7., 5., 6., 3., 4., 8.]), 'T': array([5., 3., 9., 6., 9., 6., 6.])}\n"
     ]
    }
   ],
   "source": [
    "#Somme des colonnes est toujours = t + len(nuc) = 24\n",
    "def somme_colonnes(profile):\n",
    "    colonne = []\n",
    "    for i in range(k):\n",
    "        s = 0\n",
    "        for j in nuc:\n",
    "            s = s + profile[j][i]\n",
    "        colonne.append(s)\n",
    "    return colonne\n",
    "\n",
    "def PWM(profile):\n",
    "    s_colonne = somme_colonnes(profile)\n",
    "    profile_modifie = copy.deepcopy(profile)\n",
    "    \n",
    "    for i in range(k):\n",
    "        for j in profile_modifie:\n",
    "            profile_modifie[j][i] = profile_modifie[j][i] / s_colonne[i]\n",
    "    \n",
    "    return profile_modifie\n",
    "\n",
    "pwm = PWM(pro)\n",
    "print(pwm)\n",
    "print(pro)"
   ]
  },
  {
   "cell_type": "markdown",
   "metadata": {},
   "source": [
    "5\\. Faire une fonction pour calculer la probabilité d'un motif de taille k selon une PWM.\n"
   ]
  },
  {
   "cell_type": "code",
   "execution_count": 6,
   "metadata": {},
   "outputs": [],
   "source": [
    "def probability(PWM, seq):\n",
    "    \"\"\"\n",
    "    Hypothese : on suppose que la taille de seq est egale a la taille d'une valeur de PWM\n",
    "    \"\"\"\n",
    "    prob = 1\n",
    "    \n",
    "    for i in range(len(seq)):\n",
    "        prob = prob * PWM[seq[i]][i]\n",
    "        \n",
    "    return prob\n",
    "\n"
   ]
  },
  {
   "cell_type": "markdown",
   "metadata": {},
   "source": [
    "6\\. Faire une fonction pour calculer le pMostProbkmer d'une séquence, voir un exemple dans les slides de cours."
   ]
  },
  {
   "cell_type": "code",
   "execution_count": 7,
   "metadata": {},
   "outputs": [
    {
     "name": "stdout",
     "output_type": "stream",
     "text": [
      "2\n"
     ]
    }
   ],
   "source": [
    "def tousLesKmers(ADN, k):\n",
    "    \"\"\"\n",
    "    String -> List(String)\n",
    "    Rend la liste de tous les k-mers present dans ADN\n",
    "    \"\"\"\n",
    "    List_des_Kmer = []\n",
    "    for i in range(len(ADN)-k+1):\n",
    "        seq_i = \"\"\n",
    "        for j in range(k):\n",
    "            seq_i = seq_i + ADN[i+j]\n",
    "        List_des_Kmer.append(seq_i)\n",
    "    return List_des_Kmer\n",
    "\n",
    "def pMostProbkmer(P, k, sequence):\n",
    "    maxProb = 0\n",
    "    s = 0 # position du k-mer le plus probable dans la sequence    \n",
    "    L_kmer = tousLesKmers(sequence, k)\n",
    "    \n",
    "    for kmer in L_kmer:\n",
    "        if probability(P, kmer) > maxProb:\n",
    "            maxProb = probability(P, kmer)\n",
    "            s = sequence.find(kmer)\n",
    "    return s\n",
    "\n",
    "s1 = pMostProbkmer(pwm, k, \"GCCGGATACT\")\n",
    "print(s1)\n"
   ]
  },
  {
   "cell_type": "markdown",
   "metadata": {},
   "source": [
    "7\\. Faire une fonction pour obtenir les nouvelles positions de départ s = (s1, …,st), c’était à dire les positions qui contiens les k-mer le plus probables."
   ]
  },
  {
   "cell_type": "code",
   "execution_count": 8,
   "metadata": {},
   "outputs": [
    {
     "name": "stdout",
     "output_type": "stream",
     "text": [
      "[25, 38, 31, 18, 33, 18, 3, 10, 5, 40, 8, 46, 36, 41, 16, 19, 28, 46, 21, 33]\n"
     ]
    }
   ],
   "source": [
    "def getNewS(P, k, sequences):\n",
    "    \n",
    "    s = []\n",
    "    for sequence in sequences:\n",
    "        s.append(pMostProbkmer(P, k, sequence))\n",
    "    \n",
    "    return s\n",
    "\n",
    "ns = getNewS(pwm, k, sequences)\n",
    "print (ns)"
   ]
  },
  {
   "cell_type": "markdown",
   "metadata": {},
   "source": [
    "8\\. La condition d’arrêt d’algorithme est le non changement du Profile d'une itération à l'autre, faire une fonction pour comparer deux Profils (matrice) et détecter le changement."
   ]
  },
  {
   "cell_type": "code",
   "execution_count": 9,
   "metadata": {},
   "outputs": [
    {
     "name": "stdout",
     "output_type": "stream",
     "text": [
      "59.0\n",
      "[41, 9, 41, 32, 39, 18, 3, 4, 5, 9, 23, 46, 36, 23, 6, 15, 7, 40, 36, 33] [25, 38, 31, 18, 33, 18, 3, 10, 5, 40, 8, 46, 36, 41, 16, 19, 28, 46, 21, 33]\n",
      "59.0\n"
     ]
    }
   ],
   "source": [
    "def changeProfile(P1, P2):\n",
    "    \n",
    "    changement = False\n",
    "    \n",
    "    L = [x for x in nuc]\n",
    "    L2 = [[\"Pareil\" for i in range(len(P1[L[0]]))] for j in range(len(P1))]\n",
    "    dictionnaire = {}\n",
    "    \n",
    "    for i in range(len(L)):\n",
    "        dictionnaire[L[i]] = L2[i]\n",
    "        \n",
    "    for nucleo in nuc:\n",
    "        for i in range(len(P1[nucleo])):\n",
    "            if P1[nucleo][i] != P2[nucleo][i]:\n",
    "                dictionnaire[nucleo][i] = P2[nucleo][i]\n",
    "                changement = True #Il y a un changement\n",
    "\n",
    "    for definition in dictionnaire:\n",
    "        print(definition, \" \", dictionnaire[definition])\n",
    "    \n",
    "    \n",
    "    return changement \n",
    "    \n",
    "\n",
    "def getScore(P, k):\n",
    "    sc = 0\n",
    "    S = random.choice(nuc)\n",
    "    \n",
    "    for i in range(len(P[S])):\n",
    "        colonne = []\n",
    "        for cle in P:\n",
    "            colonne.append(P[cle][i])\n",
    "        sc = sc + max(colonne)\n",
    "    \n",
    "    return sc\n",
    "\n",
    "def score(s, seqs):\n",
    "    sc = 0\n",
    "    profile1 = profile(extractSeqs(s, seqs), k, t)\n",
    "    \n",
    "    L_max_colonne = []\n",
    "    \n",
    "    for i in range(len(profile1[\"A\"])):\n",
    "        L_tmp = []\n",
    "        for j in nuc:\n",
    "            L_tmp.append(profile1[j][i])\n",
    "        sc = sc + max(L_tmp)\n",
    "    \n",
    "    return (sc)\n",
    "\n",
    "print(score(s, sequences))\n",
    "\n",
    "ns = getNewS(pwm, k, sequences)\n",
    "print (s, ns)\n",
    "\n",
    "sc = getScore(pro, k)\n",
    "print (sc)\n",
    "#test = changeProfile(pwm, pwm)\n",
    "#print(test)"
   ]
  },
  {
   "cell_type": "markdown",
   "metadata": {},
   "source": [
    "9\\. Implementer l'algorithme ``GreedyProfileMotifSearch`` en utilisant les fonctions precedentes. \n"
   ]
  },
  {
   "cell_type": "code",
   "execution_count": 10,
   "metadata": {},
   "outputs": [
    {
     "name": "stdout",
     "output_type": "stream",
     "text": [
      "['CCTCCCA', 'CCTCCGA', 'GCAGCGA', 'CCTACTC', 'CCTCCTA', 'TCCCCTA', 'CCCGCTG', 'GCTGTGC', 'TCTCCGA', 'TAAGCTC', 'CCCGCGA', 'CCTGGGC', 'TCAGTGC', 'GATGGTA', 'CCTGGTC', 'GCTCCTC', 'GCTCCTC', 'TCTGGTA', 'TATGTTC', 'TATACTA']\n"
     ]
    }
   ],
   "source": [
    "def GreedyProfileMotifSearch(sequences, t, n, k):\n",
    "    \n",
    "    bestScore = 0\n",
    "    s = generateRandomS(sequences, k)\n",
    "    \n",
    "    while score(s, sequences) > bestScore:\n",
    "        pro = profile(extractSeqs(s, sequences), k, t)\n",
    "        pwm = PWM(pro)\n",
    "        bestScore = score(s, sequences)\n",
    "        #print(bestScore)\n",
    "            \n",
    "        s = getNewS(pwm, k, sequences)\n",
    "   \n",
    "    return s, bestScore\n",
    "    \n",
    "        \n",
    "s, bestScore = GreedyProfileMotifSearch(sequences, t, n, k)   \n",
    "motifs = extractSeqs(s, sequences)\n",
    "print (motifs)\n",
    "        "
   ]
  },
  {
   "cell_type": "markdown",
   "metadata": {},
   "source": [
    "10\\. Avez vous trouvez le motif implanté? Rexécuter l’algorithme plusieurs fois pour le trouver. "
   ]
  },
  {
   "cell_type": "markdown",
   "metadata": {},
   "source": [
    "Reponse: Trouvé en exécutant beaucoup de fois..."
   ]
  },
  {
   "cell_type": "markdown",
   "metadata": {},
   "source": [
    "11\\. Vous avez certainement observer que l’algorithme ne produire pas toujours la même sortie et que les résultats dépendent de la sélection aléatoire des positions de départ s. Pour augmenter nous chances de retrouvez les bons motifs, nous allons implémenter une version itérative ``GreedyProfileMotifSearchIte`` \n",
    "qui a chaque fois sauvegarde s et le score du profile associé à s, après I itération, l’algorithme renvoie le vecteur s ayant le plus grand score."
   ]
  },
  {
   "cell_type": "code",
   "execution_count": 11,
   "metadata": {},
   "outputs": [
    {
     "name": "stdout",
     "output_type": "stream",
     "text": [
      "['TCCCACG', 'TCTCACG', 'TCTCACG', 'TCTCCCC', 'TCTCACA', 'TATCCCC', 'TCGCCCG', 'TCTCACC', 'ACTCTCC', 'TCTTAGC', 'ACACCCG', 'TCTCCCG', 'TCTAACG', 'ACACCCG', 'ACTCAAG', 'TCGCTCC', 'TCTTACG', 'TTGCACC', 'TTTCGCG', 'TCGCTCT']\n"
     ]
    }
   ],
   "source": [
    "def maximumIndice(liste):\n",
    "    maxi = liste[0]\n",
    "    indice_max = 0\n",
    "    longueur=len(liste)\n",
    "    for i in range(longueur):\n",
    "        if liste[i] >= maxi:\n",
    "            maxi = liste[i]\n",
    "            indice_max = i\n",
    "    return indice_max\n",
    "\n",
    "def GreedyProfileMotifSearchIte(sequences, t, n, k, It):\n",
    "    Scores = []\n",
    "    Positions = []\n",
    "    \n",
    "    for i in range(It):\n",
    "        s, score = GreedyProfileMotifSearch(sequences, t, n, k)\n",
    "        Scores.append(score)\n",
    "        Positions.append(s)\n",
    "    \n",
    "    J = maximumIndice(Scores)\n",
    "    \n",
    "    return Positions[J], Scores[J]\n",
    "    \n",
    "s, bestScore = GreedyProfileMotifSearchIte(sequences, t, n, k, 100)\n",
    "motifs = extractSeqs(s, sequences)\n",
    "print (motifs)"
   ]
  },
  {
   "cell_type": "markdown",
   "metadata": {},
   "source": [
    "12\\. Tester algorithme  ``GreedyProfileMotifSearchIte`` sur vos données de chipSeq."
   ]
  },
  {
   "cell_type": "code",
   "execution_count": 12,
   "metadata": {},
   "outputs": [
    {
     "name": "stdout",
     "output_type": "stream",
     "text": [
      "ACCTTATGGTATTTATTTTCAAGATTCAGCTACACCTAATCAAGAAGGTATTTTAGAATTACATGATAATATTATGTTTT 912 80 7\n",
      "12\n",
      "4216.0 [50, 30, 33, 7, 11, 46, 17, 47, 10, 0, 62, 15, 18, 71, 72, 33, 68, 38, 53, 16, 67, 52, 70, 8, 30, 36, 49, 4, 3, 37, 30, 32, 18, 65, 4, 50, 17, 7, 60, 68, 18, 27, 63, 18, 13, 56, 58, 8, 65, 4, 3, 42, 56, 61, 70, 25, 67, 25, 12, 51, 26, 41, 47, 10, 73, 1, 21, 16, 53, 65, 12, 56, 56, 44, 56, 26, 65, 23, 25, 26, 71, 18, 71, 72, 21, 6, 18, 10, 53, 29, 51, 61, 1, 41, 51, 26, 42, 11, 72, 63, 1, 15, 34, 32, 24, 24, 33, 72, 0, 73, 35, 50, 66, 9, 32, 73, 34, 31, 56, 17, 12, 71, 66, 49, 9, 8, 3, 21, 70, 69, 1, 47, 34, 0, 12, 25, 14, 8, 67, 2, 50, 45, 73, 42, 1, 36, 8, 30, 27, 41, 55, 43, 56, 31, 32, 1, 60, 30, 57, 41, 13, 12, 68, 7, 12, 22, 58, 26, 69, 59, 70, 33, 63, 35, 28, 1, 66, 44, 5, 73, 51, 23, 64, 22, 47, 6, 17, 24, 44, 70, 69, 36, 63, 56, 61, 56, 70, 17, 0, 44, 14, 52, 43, 62, 55, 67, 23, 2, 33, 2, 49, 0, 45, 38, 32, 65, 53, 29, 26, 63, 4, 37, 1, 41, 41, 50, 38, 55, 41, 72, 38, 50, 61, 33, 6, 36, 54, 23, 37, 2, 10, 17, 58, 32, 30, 56, 71, 26, 24, 48, 34, 38, 9, 0, 59, 17, 51, 35, 1, 3, 33, 64, 45, 53, 11, 35, 20, 61, 59, 17, 45, 62, 33, 15, 57, 25, 37, 31, 8, 49, 41, 1, 40, 60, 30, 0, 1, 22, 31, 31, 15, 66, 19, 27, 47, 45, 18, 37, 52, 51, 19, 56, 3, 46, 65, 5, 19, 9, 42, 38, 39, 52, 39, 33, 4, 31, 44, 8, 16, 8, 17, 13, 47, 19, 11, 70, 27, 38, 10, 54, 60, 29, 37, 3, 49, 8, 20, 26, 49, 46, 59, 14, 60, 12, 14, 69, 73, 49, 21, 13, 10, 39, 33, 16, 4, 3, 1, 61, 54, 1, 18, 49, 67, 46, 29, 5, 57, 35, 49, 59, 21, 50, 0, 10, 70, 18, 51, 48, 21, 21, 13, 59, 0, 62, 12, 52, 41, 4, 15, 48, 43, 69, 11, 3, 27, 36, 46, 41, 52, 53, 66, 29, 0, 33, 61, 23, 40, 61, 2, 15, 64, 70, 25, 67, 32, 55, 7, 34, 15, 35, 20, 72, 66, 0, 18, 5, 44, 5, 43, 16, 25, 47, 42, 0, 42, 45, 2, 65, 52, 53, 19, 1, 4, 65, 50, 3, 7, 53, 6, 67, 33, 29, 35, 56, 65, 63, 28, 29, 23, 44, 28, 15, 61, 16, 24, 18, 14, 13, 61, 19, 48, 26, 63, 50, 21, 21, 49, 68, 46, 68, 52, 6, 63, 29, 29, 47, 35, 22, 23, 50, 26, 53, 9, 60, 36, 3, 17, 56, 30, 37, 52, 20, 4, 67, 5, 60, 45, 17, 68, 2, 34, 47, 69, 61, 55, 60, 1, 27, 63, 58, 70, 30, 55, 51, 46, 49, 72, 49, 6, 0, 48, 5, 56, 58, 60, 7, 51, 33, 57, 73, 42, 67, 37, 43, 49, 35, 47, 61, 58, 52, 35, 48, 39, 2, 72, 53, 64, 44, 2, 7, 8, 42, 42, 15, 30, 37, 13, 26, 26, 38, 56, 53, 41, 3, 62, 59, 24, 58, 70, 30, 7, 13, 67, 59, 7, 30, 9, 35, 41, 32, 44, 34, 9, 69, 21, 17, 20, 8, 66, 61, 55, 50, 60, 23, 11, 28, 60, 19, 9, 54, 22, 2, 39, 56, 33, 10, 22, 54, 12, 9, 47, 47, 69, 39, 27, 30, 25, 32, 56, 25, 12, 44, 15, 73, 11, 57, 46, 14, 49, 40, 26, 37, 47, 73, 68, 67, 37, 36, 33, 66, 64, 3, 33, 7, 62, 56, 64, 18, 28, 2, 21, 0, 60, 14, 43, 0, 41, 41, 37, 38, 19, 30, 71, 34, 42, 26, 8, 49, 35, 6, 54, 11, 4, 21, 16, 52, 14, 10, 62, 0, 23, 41, 9, 12, 24, 35, 59, 53, 0, 65, 51, 38, 7, 6, 7, 69, 73, 70, 14, 13, 13, 69, 37, 33, 65, 20, 16, 73, 35, 3, 69, 22, 14, 67, 55, 66, 7, 31, 22, 67, 0, 56, 25, 20, 72, 6, 69, 16, 17, 9, 63, 25, 69, 20, 46, 15, 50, 36, 30, 65, 38, 26, 4, 64, 57, 33, 72, 26, 66, 34, 44, 49, 11, 27, 58, 14, 43, 47, 23, 14, 61, 45, 36, 5, 27, 20, 33, 49, 36, 64, 60, 50, 48, 21, 25, 64, 2, 25, 0, 10, 46, 43, 20, 18, 58, 9, 73, 13, 54, 64, 39, 39, 28, 42, 2, 39, 1, 32, 50, 36, 67, 65, 27, 26, 48, 20, 31, 71, 67, 9, 42, 26, 10, 35, 25, 52, 52, 17, 67, 32, 7, 34, 31, 49, 13, 40, 4, 63, 31, 63, 6, 41, 18, 19, 29, 24, 12, 67, 43, 7, 61, 63, 4, 17, 44, 56, 57, 58, 5, 48, 6, 16, 58, 8, 38, 32, 27, 2, 14, 58, 59, 7, 28, 49, 44, 10, 12, 24, 42, 13, 32, 67, 0, 23, 29, 10, 10, 50, 50, 7, 56, 27, 25, 44, 2, 69, 30, 12, 10, 31, 14, 59, 38, 47, 45, 37, 39, 51, 20, 19, 69, 4]\n",
      "['ATTTTAA', 'ATTTATA', 'ATTTATT', 'ATTTAAA', 'ATTATTA', 'ATTAATA', 'ATTATTA', 'ATTTTTA', 'ATTTATT', 'ATTTATT', 'ATTAATT', 'ATATTTA', 'ATTTTAT', 'ATTTGTA', 'ATTAAAT', 'ATTTATT', 'ATTTTTA', 'ATTTGTA', 'ATTTATT', 'ATTATTA', 'ATTTCTT', 'ATTGCTA', 'ATTAATA', 'ATATATA', 'ATTAATT', 'ATATATA', 'ATATATA', 'TTTTATA', 'ATTAATA', 'ATAGATA', 'ATTTTAA', 'ATATATA', 'ATTTATT', 'ATATATA', 'ATATATA', 'ATTAATA', 'ATTAATA', 'ATATATA', 'ATTTAAA', 'ATTTCAT', 'ATTGTTA', 'ATTATTA', 'ATTTATT', 'ATTTTAA', 'ATTTCTA', 'ATTGCTA', 'ATTTTAA', 'ATTATTA', 'ATATATA', 'ATTTATA', 'ATTTATT', 'ATAAATA', 'ATATATA', 'ATTTAAT', 'ATTTGTA', 'ATTTATT', 'ATTTCTT', 'ATTTGTT', 'TTTTATA', 'ATTTTTA', 'ATTTAAT', 'ATTTTTA', 'ATTATTA', 'ATTTGTA', 'ATTTATA', 'ATTTATT', 'ATTATTA', 'ATTATTA', 'ATTTGTA', 'ATTTATT', 'ATTTATT', 'ATTAAAA', 'ATTTATA', 'ATTTATA', 'ATTTTAT', 'ATTATTA', 'ATTAATT', 'ATTATTA', 'ATTTATT', 'ATTAATT', 'ATTTTTT', 'ATTTATT', 'ATTAGTT', 'ATAATTA', 'ATTTATT', 'ATTTAAA', 'ATTAATT', 'ATTAAAA', 'ATTAATA', 'ATTTATA', 'ATTTTTA', 'ATATATA', 'ATATATT', 'ATTAATA', 'ATAATTA', 'ATATAAA', 'ATTGAAT', 'ATATATA', 'ATTGATA', 'ATTTTTT', 'ATTACTA', 'CTTACTT', 'ATTGTTT', 'TTCTGTA', 'TTTCATA', 'TTTATTT', 'AGAGAAA', 'CTTATCA', 'TTAGTTA', 'TTTGTTA', 'ATATATT', 'TTTCGAT', 'ATTGGTT', 'AATTCAA', 'CTATCTT', 'ATTAATA', 'ATTGTTA', 'ATTTATT', 'ATTGAAA', 'ATTTTAA', 'CTAAAAA', 'TTTGATA', 'TTTTCTA', 'TTTTCAA', 'TTTTCAA', 'AACACAA', 'ATGAGTA', 'TTTGGAA', 'ATTACAT', 'CTTTTTT', 'ATAAGTT', 'ATGATTT', 'ATTGCTT', 'TTTTAAT', 'TTCTATA', 'ATTGATA', 'CTTGCAA', 'ATATCAT', 'TTATTTT', 'TTGAAAA', 'ATCTCTT', 'ATTAATA', 'AGTGATA', 'ATTGATA', 'ATTAATT', 'ATAGATT', 'ATTTTAA', 'TTTTGAA', 'ATTATAT', 'ATGTTTT', 'ATATGAT', 'AGTGGTA', 'ATTGTAT', 'ATTGAAA', 'ATTAATA', 'ATTCATA', 'ATTTTAT', 'ATTCTAA', 'CTAATAA', 'AGTGCTA', 'ATCCCAT', 'ATGACTT', 'CATGATA', 'ATTCCAA', 'ATTTGAA', 'ATTAATA', 'ATATCCA', 'TTTTGCA', 'ATTTATA', 'ATTGTTT', 'ATTGTTC', 'CTTGCAA', 'CTTGGTA', 'TTTGTCA', 'ATAGACA', 'AATGGGA', 'TTGGGTT', 'ATATATA', 'ATTGTTA', 'ATATATT', 'ATTAGCA', 'AGATCTA', 'ATTTTTT', 'ATTTATT', 'ATAGTTA', 'ATATAAT', 'TTTGTTA', 'TTCTCCT', 'ATGGGAT', 'ATTCTAT', 'ATTTTTT', 'ATTTTTT', 'ATAAATT', 'ATACTAA', 'ATTTATT', 'CTTTATA', 'TTTTGTA', 'ATTATCA', 'ATTGATA', 'ATTGATT', 'ATTCAAA', 'ATAATAA', 'TTTAGTA', 'ATTTTTT', 'ATTGTCA', 'ATTTCTT', 'ATTTATA', 'ATTTAAT', 'ATATATA', 'CTATAAT', 'ATCGTTA', 'TTCTCAA', 'ATAGTAT', 'ATTGATA', 'ATTACAA', 'ATCGCAA', 'ATCTGTT', 'ATTAATT', 'ATTAGTA', 'TTCTATT', 'ATCTAAA', 'ATTATTA', 'ATTGTTA', 'ATTCTTA', 'ATTCTAA', 'ATTTCTA', 'ATAATAA', 'ATTATAA', 'TTGGTTA', 'ATTACAA', 'ATAAGTA', 'ATTGTAA', 'ATTCTAA', 'ATAATAA', 'ATTTTTT', 'ATATAAT', 'ATTGATT', 'ATTGATT', 'ATTTCTT', 'TTTTCTT', 'ATTTTTT', 'ATAATAT', 'ATTCTTA', 'ATTTCTA', 'ATTTTTA', 'ATTGCAA', 'ATATGAA', 'ATAAATA', 'ATTAATT', 'AGTTAAA', 'TTTTATA', 'ATTATTT', 'ATTGGTA', 'CTTTGTA', 'ATATTTT', 'ATTGGAA', 'ATTTGTA', 'ATTAATT', 'ATCTTAA', 'ATATTTT', 'ATTGAAA', 'ATATTAA', 'ATTTGAA', 'ATTTAAT', 'ATGTGTT', 'ATTATTA', 'ATTTGTT', 'ATTAATA', 'ATTTCAT', 'ATATGTT', 'ATAAGTT', 'TTTTATA', 'ATTAAAA', 'CTTTCAA', 'ATATCTA', 'ATTCTTA', 'ATTAAAA', 'ATTCATA', 'ATTGATA', 'ATAATTA', 'ATTTTTT', 'ATAAATT', 'ATTTCAA', 'ATGTTTT', 'ATTGATT', 'ATTAGTA', 'ATTAGAT', 'ATTTGTA', 'ATTAATA', 'TTTTATA', 'ATTAGTT', 'TTTTATA', 'ATTTATA', 'ATTTTTT', 'ATTGATA', 'ATTTATT', 'TTTCATA', 'ATTCAAA', 'ATATGTA', 'ATAGTTT', 'ATTGAAA', 'ATTAAAT', 'CTTTATT', 'TTTTATA', 'ATTTTTT', 'ATTTAAA', 'TTTTCTT', 'ATTAAAT', 'ATTGGTA', 'ATAATTA', 'ATATATT', 'ATTAAAT', 'ATCTATT', 'ATTGATA', 'ATTATAA', 'ATATATT', 'AATTTTA', 'ATTCGAT', 'ATGTATT', 'ATTCATA', 'ATTTTTT', 'TTTTAAA', 'ATAAATA', 'CTTTTTA', 'ATTTTAT', 'ATTTAAT', 'ATTATTA', 'CTATTTA', 'TTTGATA', 'ATTAAAA', 'ATTCCAA', 'ATTACTA', 'ATTAGAT', 'ATACATT', 'ATTGTTT', 'ATTTCTT', 'CTTTTTA', 'ATAAGTT', 'TTTGATA', 'ATAAGAT', 'ATATTAA', 'ATTGAAT', 'TTTGGAT', 'ATTTTAA', 'ATCTTTA', 'ATTGAAA', 'ATTACAA', 'ATTCAAT', 'ATTCCTT', 'ATTGTTT', 'ATATTTA', 'ATTTTTA', 'ATAGTAA', 'TTTTTTA', 'ATATGAA', 'ATACATA', 'ATTATAA', 'TTTAATA', 'ATTTATA', 'ATTAATT', 'ATTTTTT', 'ATTGGTA', 'ATTTAAT', 'ATTAATA', 'ATTTCTA', 'TTTGATT', 'ATTGTTT', 'ATAGGAA', 'ATTATTT', 'ATTGTTT', 'ATTGGAT', 'ATCCAAA', 'ATCCAAA', 'ATCCAAA', 'ATACCAA', 'ATAGATA', 'ATAAGTA', 'ATAGTTT', 'ATTGCTA', 'ATAATAA', 'TTTTGAT', 'ATTCCAA', 'ATTGAAA', 'ATTTATT', 'ATTTTTT', 'ATTTAAA', 'ATTATTA', 'ATTGATA', 'ATTTAAT', 'ATTTTTT', 'TTTTCTA', 'ATTTTAT', 'ATAACAA', 'ATAAAAA', 'CTATATA', 'ATTTTTA', 'TTTGTTA', 'ATTTTTT', 'ATTCCAT', 'TTTTCTA', 'ATGGATA', 'ATGTATA', 'ATACAAT', 'TTTGATA', 'ATTAATA', 'ATTGGTA', 'ATTCAAT', 'CTAAATA', 'ATAGTAA', 'ATTTCAA', 'ATTGAAA', 'ATTCTTT', 'ATTTACA', 'ATTGATA', 'ATCAATA', 'ATTTGTT', 'ATTAGAT', 'ATATCCA', 'CTAAATA', 'ATATGAA', 'ATTCCAA', 'ATGGATA', 'ATTAATT', 'TTTATTA', 'ATATCTT', 'ATAAATT', 'ATTGAAA', 'TTTAATA', 'TTTTATT', 'ATTTATA', 'ATATAAT', 'ATTTCAA', 'ATATAAA', 'ATTTGTA', 'CTTGTTT', 'TTTTGAA', 'ATAGGAA', 'ATTACTT', 'ATTGCTT', 'ATGGTAA', 'CTTCAAA', 'ATTTGAT', 'TTTTCTT', 'TTTGGTT', 'ATACTTA', 'ATTGCCA', 'TTGTATA', 'ATTTTCA', 'TTATTAT', 'ATTTCTA', 'ATTTTTT', 'ATTGATA', 'TTTTATA', 'ATAAATA', 'ATATTTA', 'ATTTTTA', 'ATACTTA', 'ATTTGAA', 'ATTGTAA', 'ATTTCAT', 'ATTTTTA', 'AATTATA', 'ATTATAA', 'ATTTGTT', 'ATTGTTA', 'ATTGATT', 'ATTGATA', 'ATATTTA', 'ATTATAT', 'ATTATTA', 'ATTTAAA', 'TTTTCTA', 'AATTATA', 'ATTCATA', 'TTAGATA', 'ATTGCTA', 'ATAGGAA', 'ATTTAAA', 'ATTGATA', 'ATATATA', 'ATATGTA', 'ATATTCA', 'ATATATA', 'ATTTGTT', 'TTTATTA', 'ATCTAAA', 'ATATGTA', 'AAATATA', 'TTTTTAA', 'ATTTGAA', 'ATCTTTA', 'ATTGTTT', 'ATTTTTA', 'ATTTATA', 'ATTTTCA', 'TTTTCTA', 'ATTCCAA', 'ATTAGTA', 'ATTTCTA', 'ATTTTAT', 'ATTTGTT', 'ATATAAA', 'TTTTCTT', 'ATTTTTA', 'ATTTAAA', 'TTTTCTA', 'TTTTGTA', 'ATCGATA', 'TTTTCAA', 'ATTTGTT', 'TTATTTA', 'ATTGATT', 'TTTAATA', 'ATGTGTA', 'CTTTCTA', 'ATAACTT', 'ATATTAA', 'ATAGAAA', 'ATACCTA', 'TTATATT', 'CTTAATA', 'ATTGATT', 'AGTTCAA', 'ATTGGTA', 'ATTCGAA', 'ATACATA', 'CTTAATA', 'ATTGAAA', 'ATTTTAT', 'ATTATTT', 'ATAAAAA', 'ATTCAAA', 'ATATGTA', 'ATTTCAA', 'ATTTAAA', 'ATATAAA', 'ATTTCCA', 'TTTAGTA', 'ATTATTT', 'ATTTAAT', 'ATAAGTT', 'ATTTGTT', 'TTTTAAA', 'ATTTCAA', 'ATATATT', 'ATTATCT', 'TATTGTA', 'TTTAATA', 'ATTTCAA', 'ATTTGTA', 'AGTTGTA', 'ATTCCAT', 'ATAGAAA', 'ATTTACA', 'ATTTCTT', 'ATATTAA', 'ATTATTA', 'ATTTCTA', 'ATTTAAA', 'ATTCTAA', 'ATTCTTA', 'ATTGTTA', 'ATATTTT', 'ATATATT', 'ATACTAA', 'ATGGGAT', 'ATTTTAT', 'ATATGAA', 'CTTTAAA', 'ATAGTAT', 'ATTATTA', 'AATGTAA', 'ATATGTA', 'ATTGGTT', 'ATTTTTA', 'ATTTGTT', 'ATAGATA', 'CTTCATA', 'ATTTTTT', 'ATTTTTT', 'TTTGCTA', 'TTTGATA', 'ATTTCTT', 'CTTTGAT', 'ATTTATT', 'ATTGTAT', 'TTTGGAA', 'ATTGGAT', 'TTTACAA', 'TTTGTTA', 'CTTTATA', 'ATAGTAA', 'TTATATA', 'ATGTCAA', 'ATTAGTA', 'ATTTGAA', 'ATTGGAT', 'ATAGATT', 'TTTTCAA', 'ATATATT', 'AATGATA', 'ATAAATA', 'ATAGATA', 'ATTATTA', 'ATCTGTA', 'ATTTTTT', 'ATTCGTT', 'TTTATTA', 'ATTGATT', 'ATCAGTA', 'ATTGCTT', 'ATAAAAA', 'TTTTGTT', 'ATACTTA', 'CTTTGTA', 'TTTGGTA', 'ATAACTT', 'ATATTTA', 'ATCTGTA', 'ATTTAAA', 'TTTGATT', 'ATAAGAA', 'ATTGCTA', 'ATTGTAT', 'ATACGTA', 'ATATATA', 'ATTAGTA', 'ATTGTAA', 'TTTGTTA', 'ATAAACA', 'CTTGGTA', 'ATTGACA', 'TTTGATA', 'ATTCATA', 'TTTTATA', 'ATTGGAA', 'ATTTTTT', 'AATACTA', 'TTATAAT', 'ATCTGTT', 'ATTGTCA', 'ATTATTT', 'ATTTTTA', 'ATTTGAT', 'ATATTAA', 'ATTCTTT', 'ATTTTTA', 'CTTTCTT', 'ATATATA', 'ATTGCAA', 'TTTTATT', 'TTTGGTA', 'ATTGATT', 'ATTCATT', 'ATTAATA', 'ATTCTTA', 'ATTGTAA', 'ATTTAAA', 'ATTTAGA', 'ATATATT', 'ATAGAAA', 'ATTCCAA', 'TTTGTTA', 'TTTTCTT', 'ATAATTA', 'TTTAAAT', 'ATTCATA', 'ATAAAAA', 'ATTTTTT', 'ATTATAA', 'TTATTTA', 'ATACTAA', 'CTTTATT', 'CTTGTTA', 'ATAGTTA', 'ATTAAAT', 'ATTGAAA', 'ATTGATA', 'TTTTATA', 'ATATATT', 'ATTCTTT', 'ATATTTT', 'ATATGTA', 'ATTGATA', 'ATTGAAA', 'AATGAAA', 'CTTTAAA', 'ATCTTTA', 'ATTTCAA', 'ATATCTT', 'ATTGTTT', 'ATTGATT', 'ATCTAAA', 'TTTAATA', 'ATAAAAT', 'ATCGAAA', 'ATTGCAA', 'ATTTACA', 'TTTCATA', 'TTTATTA', 'TTTGTTT', 'ATTGGTA', 'ATTCATA', 'ATTCTCA', 'ATAAGTA', 'ATTGACA', 'TTATTAA', 'ATTTAAA', 'ATTTTTA', 'ATTCCAA', 'ATTATAT', 'CTTTATA', 'TTTTATA', 'ATTGTTA', 'CGTTGAA', 'ATAGAGA', 'ATGTTCT', 'ATTATTA', 'ATATATA', 'ATTGACA', 'TTTTCTT', 'ATTTGTA', 'ATTTTAT', 'ATTCATA', 'ATGTCTA', 'CTTTGTA', 'ATGGGTA', 'ATAAGAA', 'ATTGTAT', 'ATGAATT', 'ATTTTGT', 'ATTTATT', 'AAAGATA', 'ATTCCTT', 'CTTTCAA', 'ATGCAAA', 'TTTGGTT', 'ATATTTT', 'ATTCCTT', 'ATTTAAT', 'TTTTTTT', 'TTAGATA', 'ATTGCAT', 'ATTTTTT', 'TTTGTAA', 'ATTGTCA', 'ATTGCAA', 'ATAGGTA', 'CTATGTA', 'AGTTTTT', 'AGTGGTA', 'TTAAAAT', 'AGTTGTT', 'ATGACTT', 'ATCCAAA', 'TTATCTT', 'ATTTCTA', 'ATTACAA', 'ATTTCTT', 'ATTTGTA', 'ATTTTAA', 'TTTCCTA', 'ATTATAA', 'ATATATA', 'TTTTGTA', 'ATTACTT', 'ATATTTT', 'ATTGATA', 'TTTTATA', 'ATTTTCA', 'ATATGTA', 'ATTCATT', 'ATATATT', 'ATTGAAA', 'ATAGCAT', 'ATAAATA', 'ATTTATT', 'ATTTATA', 'CTTCATA', 'ATTGTCA', 'CTGGGTA', 'TTCTATT', 'ATGGGAA', 'ATCAATT', 'ATGTACA', 'ATTGGAA', 'ATTTACA', 'ATTTATA', 'ATTGTTT', 'ATTGATA', 'ATTTATT', 'ATTACTT', 'ATTACAA', 'ATTTTAA', 'CTTAATA', 'AGTGAAA', 'TTAACTT', 'ATTTCCA', 'TTTTTTA', 'ATTTGTA', 'ATTAAAT', 'TTTTATA', 'ATGAACA', 'AGTGAAT', 'ATATTAT', 'TTACGTA', 'ATTCAAT', 'TTTTGTA', 'ATAGTTT', 'ATTGGAA', 'TTTGCTT', 'ATACTTA', 'TTTAGTA', 'ATTCCTA', 'ATATTTA', 'ATATTTT', 'TTTAAAT', 'ATTGCTT', 'ATTGGAA', 'ATATGAT', 'ATAACAA', 'ATTGTAA', 'ATTTGTA', 'ATTCCCA', 'ATTCACA', 'CTTCAGA', 'ATCAAAA', 'CTTTGTA', 'ATCTGAA', 'ATTCACT', 'CTTATTA', 'ATTTAGA', 'ATAATTA', 'ATTTATA', 'ATTGTAT', 'ATCAGTA', 'ATGTCTT', 'ATTGAAA', 'ATTTGAA', 'TTTTATA', 'ATCTCTT', 'AGTCCAA', 'ATGGCAA', 'AGTCTAA', 'ATTTTAT', 'CTCTGAT', 'CTTATAT', 'ATCACTA', 'ATTCTAA', 'ATTTTAA', 'ATTTATA', 'ATTTTTT', 'ATTATTT', 'CTATATA', 'ATTGAAA', 'TTAACAA', 'ATGTGAA', 'ATATGTA', 'ATTGAAA', 'ATTATTA', 'ATAATAA', 'ATTGATT', 'ATTCTAT', 'TTTACTA', 'ATTAATT', 'ATAATTT', 'TTTTATT', 'ATTTGCA', 'AATAAAA', 'ATTTCAA', 'TTTTCTA', 'ATGGATA', 'ATGTTAA', 'ATTAACA', 'ATTGATA', 'ATTTTAA', 'ATTTGTA', 'ATCTCTA', 'ATTGTTA', 'AAAACTA', 'ATTTCTA', 'ATACCAA', 'TTCTAAT', 'ATGCTTA', 'ATACATA', 'ATTTATA', 'ATACCTA', 'ATTTATT', 'ATAACTA', 'TTGTTAA', 'ATTTCCT', 'CTTTAAT', 'ATTGATA', 'AGTACAA', 'TTCTAAT', 'ATTTGAA', 'ATTGAAA', 'TTTTATA', 'TTTGAAT', 'ATAAGAA', 'ATGAGTT', 'ATTAGAA', 'AATTGTA', 'ATAAATA', 'ATATGTT', 'AGAGATA', 'TTTGATT', 'CTATGTA', 'ATTATTA', 'ATTGTTA', 'ATTAGAA', 'AGTTCTA']\n"
     ]
    }
   ],
   "source": [
    "k=7; v=1; t=20; n=80\n",
    "\n",
    "def readFasta(genome, n):\n",
    "    sequence = []\n",
    "    file = open(genome, \"r\")\n",
    "    sequence = []\n",
    "    for s in file:\n",
    "        if s[0] != \">\":\n",
    "            sequence.append(s.strip().upper())\n",
    "    sequenceStr = \"\".join(sequence)\n",
    "    \n",
    "    sequence = [sequenceStr[i:i+n] for i in range(0, len(sequenceStr), n)]\n",
    "    sequenceRet = [x for x in sequence if x]\n",
    "    return sequenceRet\n",
    "\n",
    "genome = \"Sequence_by_Peaks_8.fasta\" #path of your fasta seqs\n",
    "\n",
    "\n",
    "sequencesChip   = readFasta(genome, n)\n",
    "t = len(sequencesChip)\n",
    "print (sequencesChip[8], t, n, k)\n",
    "print(len(sequencesChip[len(sequencesChip) - 1]))\n",
    "\n",
    "s, bestScore = GreedyProfileMotifSearchIte(sequencesChip, t, n, k, 100) #Patienter un peu lors de l execution...\n",
    "print (bestScore, s)\n",
    "motifs = extractSeqs(s, sequencesChip)\n",
    "print (motifs)"
   ]
  },
  {
   "cell_type": "markdown",
   "metadata": {},
   "source": [
    "13\\. Nous allons implémenter l'algorithme ``randomProjection``. Faire une fonction pour générer une projection de l à k, voir un exemple dans les slides de cours"
   ]
  },
  {
   "cell_type": "code",
   "execution_count": 15,
   "metadata": {},
   "outputs": [
    {
     "name": "stdout",
     "output_type": "stream",
     "text": [
      "[0, 2, 4, 5]\n"
     ]
    }
   ],
   "source": [
    "k=7 #taille de motif\n",
    "v=4 #nb de positions variable dans le motif\n",
    "t=20 #nb de sequences\n",
    "n=50 #longuer des sequence\n",
    "\n",
    "def getRandomFixePositions(k, n):\n",
    "    listR = []\n",
    "       \n",
    "    for i in range(n):\n",
    "        posHasard = random.randint(0, k-1)\n",
    "        while posHasard in listR:\n",
    "            posHasard = random.randint(0, k-1)\n",
    "        listR.append(posHasard)\n",
    "    return listR\n",
    "\n",
    "lR = getRandomFixePositions(7, 4)\n",
    "lR.sort()\n",
    "print (lR)\n",
    "\n",
    "def generateKey(positions, motif):\n",
    "    m = \"\"\n",
    "    for i in positions:\n",
    "        m = m + motif[i]\n",
    "    \n",
    "    return m\n",
    "\n",
    "\n",
    "def tousLesKmersList(seqs, k):\n",
    "    \"\"\"\n",
    "    List(String) -> List(String)\n",
    "    Rend la liste de tous les k-mers present dans les sequences de seqs\n",
    "    \"\"\"\n",
    "    List_des_Kmer = []\n",
    "    for sequence in seqs:\n",
    "        for i in range(len(sequence) - k + 1):\n",
    "            seq_i = \"\"\n",
    "            for j in range(k):\n",
    "                seq_i = seq_i + sequence[i+j]\n",
    "            List_des_Kmer.append(seq_i)\n",
    "            \n",
    "    return List_des_Kmer\n",
    "\n",
    "def removeLowComplexe(motifs, minrep):\n",
    "    validMotif = []\n",
    "    for mot in motifs:\n",
    "        if mot.count('A') < minrep and mot.count('C') < minrep and mot.count('G') < minrep and mot.count('T') < minrep:\n",
    "            validMotif.append(mot)\n",
    "    return validMotif\n",
    "\n",
    "\n",
    "def removeLowComplexePair(motifs):\n",
    "    validMotif = []\n",
    "    \n",
    "    for cle in motifs:\n",
    "        list_tmp = []\n",
    "        list_tmp.append(cle[0])\n",
    "        for i in range(2, len(cle), 2):\n",
    "            if cle[i] == list_tmp[0]:\n",
    "                list_tmp.append(cle[i])\n",
    "        cpt_pos_pair = len(list_tmp)\n",
    "        list_tmp = []\n",
    "        list_tmp.append(cle[1])\n",
    "        for i in range(3, len(cle), 2):\n",
    "            if cle[i] == list_tmp[0]:\n",
    "                list_tmp.append(cle[i])\n",
    "        cpt_pos_impair = len(list_tmp)\n",
    "        \n",
    "        if not cpt_pos_pair == ((len(cle) // 2) + 1) and not cpt_pos_impair == (len(cle) // 2):\n",
    "            validMotif.append(cle)\n",
    "              \n",
    "    return validMotif\n",
    "\n",
    "def element_des_lists_valeur(dic):\n",
    "    \"\"\"\n",
    "    Dict -> List[String]\n",
    "    Rend la liste des motifs des valeur de chaque cle de dic\n",
    "    \"\"\"\n",
    "    L = []\n",
    "    for cle in dic:\n",
    "        for mot in dic[cle]:\n",
    "            L.append(mot)\n",
    "    \n",
    "    return L\n",
    "\n",
    "minrep = 5"
   ]
  },
  {
   "cell_type": "markdown",
   "metadata": {},
   "source": [
    "14\\. Implémenter l'algorithme ``randomProjection``."
   ]
  },
  {
   "cell_type": "code",
   "execution_count": 16,
   "metadata": {},
   "outputs": [
    {
     "name": "stdout",
     "output_type": "stream",
     "text": [
      "{'TTCT': 3, 'ACCG': 3, 'CCTT': 4, 'CTCC': 3, 'ATGC': 4, 'CATC': 6, 'GCTA': 6, 'TGAC': 4, 'TCCG': 5, 'AAGT': 5, 'CGCT': 6, 'GTAA': 4, 'CAGC': 4, 'AATG': 2, 'GCAC': 3, 'TCAA': 4, 'AGCG': 6, 'ATCT': 5, 'CTGA': 6, 'CTTA': 2, 'GTTC': 6, 'TGTC': 3, 'TCTG': 9, 'TCCT': 5, 'GGTT': 4, 'CCCT': 4, 'CACC': 4, 'GCAT': 6, 'CAAC': 4, 'AACG': 7, 'ACAC': 5, 'CTAA': 4, 'ACCA': 4, 'ATTC': 9, 'CTCA': 9, 'TTTA': 3, 'TATT': 6, 'TACC': 9, 'TCAT': 5, 'CTAT': 6, 'AATC': 2, 'CCGC': 5, 'TGTA': 5, 'GCCC': 4, 'TGGT': 3, 'CTCG': 3, 'GAGT': 1, 'CCTC': 6, 'GCAG': 2, 'ATCG': 2, 'CAAT': 7, 'CGTA': 3, 'AAAC': 2, 'AGAA': 3, 'TGCG': 4, 'AGGA': 4, 'CAGT': 4, 'GTGA': 3, 'GTAC': 3, 'GCTG': 3, 'ACTG': 4, 'TTCG': 4, 'TCCA': 4, 'CGAT': 4, 'AGGC': 3, 'GGGA': 5, 'GAGG': 1, 'GGAG': 1, 'ATGG': 5, 'CGCC': 6, 'AGGT': 6, 'GCAA': 5, 'CGGA': 5, 'GCGC': 6, 'CGAA': 3, 'GGCG': 6, 'ACGC': 3, 'CGGG': 4, 'GACA': 3, 'GAGC': 2, 'CCAG': 4, 'GTAG': 3, 'AACC': 2, 'ATTG': 3, 'CCAA': 3, 'TATA': 4, 'ATCC': 4, 'TTAT': 6, 'AATT': 7, 'TCGC': 6, 'TTAA': 2, 'GCCT': 3, 'AGTT': 1, 'CCCG': 4, 'GTTT': 5, 'CTGC': 5, 'TGTG': 5, 'GGTC': 6, 'GTGT': 6, 'GTTG': 6, 'TCGG': 4, 'TTTG': 7, 'ACCT': 5, 'CACA': 1, 'CTAC': 2, 'TCCC': 5, 'GTCC': 5, 'CTTG': 7, 'TCTC': 2, 'TACT': 8, 'GGAA': 6, 'AAGG': 3, 'GCCA': 3, 'CACG': 4, 'CAGA': 2, 'GGAC': 4, 'AGAC': 5, 'AGGG': 1, 'AAGA': 4, 'GAGA': 4, 'TTCC': 4, 'CCTA': 2, 'CGTT': 7, 'GACT': 4, 'ACTT': 5, 'CTAG': 3, 'TGCA': 3, 'ACTC': 3, 'CTGT': 4, 'TACA': 1, 'CCAT': 3, 'TATG': 4, 'AGCC': 4, 'CCGA': 3, 'GACC': 3, 'TAAA': 3, 'CAAG': 2, 'AGCA': 5, 'ATGA': 4, 'GATA': 4, 'TCAG': 4, 'GTCG': 4, 'CCTG': 5, 'TAAC': 5, 'AGAT': 5, 'GTCA': 2, 'TACG': 2, 'CCCA': 6, 'ACCC': 7, 'CACT': 5, 'CCAC': 7, 'GCGA': 1, 'CATA': 4, 'CAGG': 2, 'GGTG': 2, 'GGCT': 4, 'CCGG': 4, 'GTCT': 4, 'TTTC': 3, 'TCGT': 3, 'TAAT': 3, 'AAAT': 3, 'ACAA': 4, 'AACA': 3, 'TAGT': 4, 'GAAT': 3, 'ATAA': 1, 'TGTT': 3, 'TTCA': 4, 'CATT': 2, 'GTAT': 3, 'TTAC': 2, 'AGTG': 2, 'TCGA': 3, 'TGGG': 2, 'GATC': 3, 'TGAG': 2, 'ACGT': 2, 'AGCT': 2, 'TGCC': 1, 'CGGT': 2, 'GGGC': 2, 'GCGG': 6, 'GTTA': 8, 'TCTT': 5, 'TAGC': 5, 'AAAG': 2, 'TCAC': 1, 'ACGA': 4, 'TATC': 5, 'ATTT': 1, 'GCTC': 2, 'GGCA': 2, 'GCCG': 4, 'TCTA': 1, 'ATAC': 3, 'ATTA': 1, 'ATCA': 2, 'ATAT': 1, 'CGCA': 2, 'AGTA': 3, 'TGGA': 3, 'GGGT': 3, 'CGTC': 4, 'ATAG': 1, 'GATG': 4, 'TAAG': 5, 'ACAT': 3, 'CGTG': 3, 'TGAT': 3, 'ACAG': 2, 'CTCT': 5, 'TGCT': 2, 'CGCG': 2, 'GTGG': 4, 'GTGC': 4, 'CGAG': 2, 'ACGG': 2, 'GAAG': 2, 'AATA': 1, 'AACT': 1, 'CAAA': 2, 'CATG': 2, 'TTGG': 3, 'TAGG': 2, 'TTGT': 5, 'GCTT': 3, 'GAAC': 2, 'TGAA': 2, 'CGAC': 1, 'AAGC': 3, 'CCGT': 1, 'TGGC': 2, 'CTGG': 1, 'CTTC': 2, 'TTAG': 2, 'AGAG': 2, 'TTGA': 1, 'AGTC': 3, 'TAGA': 1, 'ATGT': 1, 'TTGC': 2}\n",
      "{'A': array([206., 206., 200., 201.]), 'C': array([233., 241., 242., 236.]), 'G': array([209., 202., 204., 212.]), 'T': array([232., 231., 234., 231.])}\n"
     ]
    }
   ],
   "source": [
    "def randomProjection(k, v, sequences):\n",
    "    motifs  = {}; motifsSeq  = {}\n",
    "    L_L_tuple = removeLowComplexe(tousLesKmersList(sequences, k), minrep)\n",
    "    L_L_tuple = removeLowComplexePair(L_L_tuple) #On enleve les motifs peu complexes\n",
    "    rfp = getRandomFixePositions(k, v)\n",
    "    \n",
    "    for mot in L_L_tuple:\n",
    "        m = generateKey(rfp, mot)\n",
    "        if m in motifs: \n",
    "            motifs[m] = motifs[m] + 1\n",
    "        else:\n",
    "            motifs[m] = 1\n",
    "        if m in motifsSeq:\n",
    "            motifsSeq[m].append(mot)\n",
    "        else:\n",
    "            motifsSeq[m] = [mot]\n",
    "    \n",
    "    return motifs, motifsSeq\n",
    "#motifsSort = sorted(motifs, reverse=True, key=motifs.get)\n",
    "motifs, motifsSeq = randomProjection(7, 4, sequences)\n",
    "print (motifs)\n",
    "#print(motifsSeq)\n",
    "p_test = profile_from_dict(motifs, 4)\n",
    "print(p_test)\n"
   ]
  },
  {
   "cell_type": "markdown",
   "metadata": {},
   "source": [
    "15\\. Avez vous trouvez le motif implanté? Rexécuter l’algorithme plusieurs fois pour le trouver. "
   ]
  },
  {
   "cell_type": "markdown",
   "metadata": {},
   "source": [
    "reponse: Sans itérations, le resultat depend GRANDEMENT de generateRandomS(sequences, k)"
   ]
  },
  {
   "cell_type": "markdown",
   "metadata": {},
   "source": [
    "16\\. Implémenter la version itérative de l’algorithme ``randomProjection``. "
   ]
  },
  {
   "cell_type": "code",
   "execution_count": 33,
   "metadata": {},
   "outputs": [
    {
     "name": "stdout",
     "output_type": "stream",
     "text": [
      "1662.0\n",
      "{'TGCA': 395, 'CTCC': 398, 'CATC': 409, 'TCCA': 450, 'TCGC': 411, 'AATG': 276, 'CCTT': 550, 'GGAT': 292, 'CTCA': 449, 'ATGC': 338, 'GACG': 315, 'TCAC': 419, 'AGGA': 284, 'ACTG': 376, 'CAAT': 362, 'CGAA': 295, 'GTCA': 383, 'TACC': 428, 'TAGC': 363, 'TCTG': 475, 'TCTT': 375, 'GGTT': 321, 'CTTT': 378, 'CTCG': 424, 'GTTC': 436, 'CGCT': 388, 'ATCG': 345, 'CCAC': 337, 'AGAA': 221, 'ACCA': 386, 'CAAC': 351, 'TAAA': 216, 'CCCA': 299, 'TATC': 431, 'TACT': 418, 'TCTC': 472, 'ACTT': 452, 'ATCT': 422, 'CTAC': 458, 'TTAA': 299, 'AATC': 374, 'TATT': 288, 'CCAT': 445, 'CAGT': 383, 'GCTG': 343, 'CTCT': 525, 'GGGC': 268, 'TTCG': 456, 'ACGC': 326, 'CGTG': 336, 'AGCA': 320, 'TTCC': 497, 'AAAC': 290, 'GCTA': 325, 'ACAT': 327, 'GACA': 284, 'GTGC': 349, 'AAGG': 279, 'TCGG': 365, 'TGAG': 285, 'CGTA': 399, 'CGTT': 419, 'CTTC': 534, 'GCCT': 389, 'ACCC': 326, 'GCAG': 323, 'CCAA': 349, 'GGGA': 283, 'TACG': 351, 'GAGC': 316, 'ACGT': 358, 'AGCG': 359, 'GTAC': 364, 'TGAA': 247, 'TCGA': 376, 'TATG': 310, 'CATT': 430, 'TGTT': 316, 'ATTC': 409, 'GCGC': 360, 'ACCG': 340, 'CAGC': 345, 'GGAG': 237, 'GCCA': 308, 'CGGC': 332, 'GAGG': 248, 'AGGC': 302, 'CGAG': 346, 'TCAA': 347, 'ACTA': 418, 'TTCT': 375, 'TAAC': 361, 'GTTA': 353, 'TTAG': 388, 'GGTC': 355, 'CACT': 454, 'GTCG': 355, 'TGGT': 323, 'GTTT': 326, 'GGGT': 287, 'TTGG': 327, 'TGGG': 304, 'CGGT': 338, 'TTTG': 348, 'AGTC': 387, 'CGGA': 326, 'CTTA': 431, 'ATCC': 418, 'CCTC': 399, 'TCAT': 416, 'TTTC': 341, 'TCCC': 427, 'GCAT': 412, 'ATGT': 321, 'AACG': 297, 'GGAA': 305, 'ACGA': 327, 'CAGG': 330, 'CAAG': 324, 'CGCA': 316, 'GGCC': 353, 'AACC': 407, 'ACAG': 288, 'GCAA': 294, 'GAGA': 274, 'TCCT': 499, 'GCTT': 416, 'ACCT': 440, 'CTGC': 357, 'ATCA': 352, 'CGTC': 422, 'TAAT': 271, 'TAGT': 331, 'CGAT': 321, 'GTCT': 424, 'CTGA': 385, 'AACT': 345, 'AGAC': 278, 'ATAA': 254, 'TTCA': 428, 'CGCC': 289, 'ACAA': 281, 'GAAG': 315, 'TACA': 359, 'TGGC': 354, 'CATG': 335, 'AGCT': 379, 'ATAC': 366, 'TATA': 350, 'CCTA': 447, 'CACC': 329, 'AACA': 286, 'CCGA': 308, 'TGCG': 315, 'GACC': 325, 'GTAA': 288, 'TAGG': 315, 'GGTA': 295, 'GTCC': 387, 'CCGG': 339, 'TGCT': 419, 'TGTC': 444, 'CTGT': 427, 'ATAG': 277, 'CAAA': 288, 'CGAC': 342, 'TTTA': 263, 'GATC': 375, 'ATTT': 266, 'GATT': 337, 'ATTG': 337, 'CCCT': 407, 'GCCG': 321, 'GCTC': 370, 'GCGG': 264, 'GCCC': 298, 'TCCG': 406, 'TTAC': 432, 'GACT': 369, 'CCGC': 277, 'CCTG': 377, 'GTGT': 310, 'TGTG': 355, 'CATA': 339, 'CTAT': 471, 'TTGC': 465, 'GATG': 280, 'GTGG': 259, 'CCAG': 307, 'CACG': 343, 'ACTC': 421, 'TCTA': 428, 'AGAT': 264, 'GTAT': 315, 'TTGA': 341, 'TGCC': 386, 'AGTA': 302, 'GCGT': 379, 'CACA': 365, 'CTGG': 345, 'GTAG': 294, 'TCAG': 370, 'AGTT': 336, 'ACAC': 406, 'AAGA': 223, 'AGTG': 311, 'TGAC': 374, 'GTGA': 289, 'CGCG': 346, 'GGCT': 353, 'TGGA': 284, 'ACGG': 351, 'AGAG': 255, 'TGTA': 324, 'GATA': 265, 'CTAG': 397, 'TCGT': 411, 'AGGT': 293, 'TGAT': 345, 'GCAC': 347, 'GCGA': 306, 'ATGG': 291, 'GGCA': 334, 'GGGG': 116, 'AGCC': 356, 'CCCC': 154, 'GTTG': 270, 'GGAC': 322, 'AAAG': 216, 'AAGT': 264, 'GAAT': 308, 'AAAT': 218, 'TTGT': 345, 'TTTT': 156, 'CCGT': 428, 'AATT': 271, 'GAAA': 224, 'TAGA': 291, 'GAAC': 314, 'AGGG': 241, 'ATTA': 266, 'TAAG': 246, 'ATGA': 261, 'TTAT': 279, 'CTTG': 439, 'ATAT': 281, 'GAGT': 304, 'AATA': 212, 'GGTG': 313, 'CAGA': 314, 'CTAA': 362, 'AAGC': 337, 'CGGG': 277, 'CCCG': 283, 'GGCG': 273, 'AAAA': 108}\n",
      "{'TGTA': 4, 'ATGC': 4, 'CATC': 3, 'CCCA': 1, 'ACCC': 2, 'CACG': 5, 'GCAT': 7, 'TGCT': 5, 'TTGA': 3, 'ATTC': 3, 'CATG': 5, 'GCAC': 2, 'CGCA': 3, 'ACGG': 3, 'GACT': 4, 'TGAA': 2, 'ATGA': 3, 'AATC': 6, 'CAAC': 2, 'CCAG': 2, 'GCCT': 3, 'TTGT': 3, 'TTTG': 6, 'GTTC': 8, 'CGTT': 7, 'CTCG': 3, 'GCTC': 4, 'ACGA': 7, 'AACC': 6, 'CAAA': 6, 'ACAA': 2, 'CAAT': 6, 'TCAC': 2, 'TCTT': 9, 'TTCT': 4, 'TTTC': 6, 'CTTA': 2, 'ACTA': 4, 'TCAT': 4, 'CACT': 3, 'TCAG': 4, 'GTCT': 4, 'TGTC': 3, 'CTGG': 4, 'CGCG': 5, 'GCGT': 2, 'TGCA': 4, 'CCAA': 2, 'ACCT': 4, 'AGAT': 2, 'TAGA': 3, 'ATAC': 3, 'GCAG': 5, 'GGCG': 2, 'GGGA': 6, 'AGGT': 7, 'TAGT': 5, 'TTAC': 3, 'CTTC': 6, 'CCTT': 6, 'TCCC': 6, 'CTCC': 7, 'CCTG': 3, 'GCCA': 6, 'AGCA': 5, 'AAGG': 5, 'GAAC': 4, 'TGCG': 1, 'GTGC': 2, 'CGTA': 6, 'AACG': 4, 'GAAT': 3, 'TGAT': 3, 'CTTT': 3, 'CTCA': 6, 'ACTC': 3, 'AGTA': 5, 'CGAA': 2, 'GACC': 1, 'CGAG': 4, 'GCGA': 7, 'AGCC': 5, 'CAGG': 4, 'GGCC': 3, 'CGGG': 1, 'AAGC': 4, 'TCAA': 4, 'ATCT': 6, 'TATC': 6, 'CTAA': 3, 'ACTT': 3, 'TACT': 3, 'TTAG': 5, 'GTTA': 5, 'AGTC': 4, 'CAGT': 3, 'CGCT': 6, 'TCGG': 5, 'TGTT': 4, 'GTTG': 2, 'GGTG': 3, 'GGGT': 4, 'TGGT': 2, 'TTGG': 2, 'CTGT': 4, 'GTGA': 6, 'AGTT': 4, 'TAGC': 4, 'CTAC': 4, 'CCTC': 4, 'CCCT': 2, 'TCCA': 7, 'ATCC': 4, 'CATT': 4, 'GCCC': 5, 'CGCC': 2, 'CCGT': 8, 'TCCT': 3, 'TTCA': 6, 'ATTT': 4, 'TATG': 5, 'GTAC': 4, 'GAAG': 6, 'GGAA': 1, 'AGGC': 2, 'CAGC': 8, 'CCAC': 4, 'CCCG': 7, 'AAGA': 2, 'AAAG': 2, 'GGAG': 5, 'AGGA': 2, 'TACC': 3, 'TTCC': 3, 'GTCC': 4, 'TCGA': 3, 'ACTG': 5, 'TGAC': 5, 'CTGA': 6, 'AAAA': 3, 'AAAC': 3, 'CAAG': 3, 'GGCT': 5, 'TGGG': 5, 'CCAT': 7, 'ATCA': 5, 'AATG': 3, 'GAAA': 3, 'AGAC': 6, 'TTGC': 4, 'CCTA': 3, 'ACCA': 4, 'AACA': 4, 'AAAT': 6, 'TAAC': 3, 'CTAT': 5, 'CATA': 3, 'ACAC': 6, 'GCAA': 3, 'AGCG': 3, 'GAGC': 2, 'CGAC': 2, 'TCCG': 6, 'GTCA': 4, 'CGTC': 5, 'CCGG': 3, 'GCCG': 2, 'TGGC': 6, 'GCTT': 2, 'TGCC': 2, 'TTTT': 4, 'CACA': 1, 'TTCG': 4, 'TAAA': 2, 'TATT': 3, 'TTAT': 2, 'CTTG': 3, 'AATT': 1, 'TAAT': 1, 'GTCG': 6, 'GGTT': 4, 'TAGG': 6, 'CACC': 4, 'ACGT': 1, 'GCGG': 3, 'CGGT': 3, 'GAGG': 3, 'TATA': 5, 'ATAT': 5, 'GTTT': 2, 'CTCT': 4, 'TCTC': 2, 'AGCT': 6, 'GCTG': 2, 'GGCA': 3, 'GGAC': 2, 'TCGC': 8, 'ATTG': 2, 'GATC': 5, 'GGTC': 3, 'GCGC': 3, 'ATAA': 2, 'CGAT': 3, 'GGGC': 2, 'CGGC': 5, 'CCGA': 2, 'ATGT': 2, 'AGGG': 1, 'GAGA': 1, 'CGTG': 1, 'ACAT': 1, 'TACA': 2, 'ACAG': 1, 'GACG': 2, 'ATTA': 2, 'AGTG': 3, 'GAGT': 3, 'TGAG': 1, 'GACA': 1, 'GGAT': 3, 'TCTA': 4, 'GGGG': 1, 'ATCG': 3, 'GATA': 1, 'GTAG': 5, 'GGTA': 3, 'TGGA': 3, 'GCTA': 2, 'ATGG': 3, 'GTGT': 1, 'CTAG': 2, 'ATAG': 1, 'TCGT': 2, 'TTAA': 1, 'CAGA': 1, 'AACT': 1, 'TAAG': 2, 'TCTG': 3, 'GTGG': 2, 'ACGC': 1, 'GTAT': 1, 'AATA': 1, 'GATG': 1, 'GTAA': 2, 'GATT': 2}\n"
     ]
    }
   ],
   "source": [
    "def randomProjIt(sequences, k, v, It):\n",
    "    total_score=[]\n",
    "    total_Motifs=[]\n",
    "    total_score_dict = {} #dictionnaire des occurences\n",
    "    tous_les_seqMotifs = []\n",
    "    \n",
    "    for i in range(It):\n",
    "        motifss, seqsMotif = randomProjection(k, v, sequences)\n",
    "        \n",
    "        p_seqsMotif = profile(element_des_lists_valeur(seqsMotif), k, t)\n",
    "        score_p_seqsMotif = getScore(p_seqsMotif, k)\n",
    "        \n",
    "        for cle in motifss:\n",
    "            if cle in total_score_dict:\n",
    "                total_score_dict[cle] = total_score_dict[cle] + motifss[cle]\n",
    "            else:\n",
    "                total_score_dict[cle] = motifss[cle]\n",
    "        \n",
    "        total_Motifs.append(motifss)\n",
    "        total_score.append(score_p_seqsMotif)\n",
    "        tous_les_seqMotifs.append(seqsMotif)\n",
    "    \n",
    "    J = maximumIndice(total_score)\n",
    "        \n",
    "    return total_score[J], total_Motifs[J], total_score_dict, tous_les_seqMotifs[J]\n",
    "\n",
    "    #ou alors ...(ce que j'avais fait au debut...)\n",
    "\n",
    "score, Motifss, total_score_dict, tous_les_seqMotifs = randomProjIt(sequences, 7, 4, 100)\n",
    "\n",
    "print (score) #d'apres ce que j'avais compris depuis le forum...\n",
    "print(total_score_dict) #d'apres ce que j'avais compris depuis les pdf de cours...\n",
    "print(Motifss)"
   ]
  },
  {
   "cell_type": "markdown",
   "metadata": {},
   "source": [
    "17\\. Tester l'algorithme  ``randomProjection`` sur vos données de chipSeq. Puis générér le LOGO du motif trouvé"
   ]
  },
  {
   "cell_type": "code",
   "execution_count": 34,
   "metadata": {},
   "outputs": [
    {
     "name": "stdout",
     "output_type": "stream",
     "text": [
      "123523.0\n",
      "[('AATT', 51445), ('TATA', 50627), ('ATAT', 50525), ('TTAA', 50031), ('ATTA', 49078), ('TAAT', 48350), ('TATT', 45516), ('TTTA', 43659), ('TTAT', 43644), ('ATTT', 42738), ('ATAA', 41258), ('AAAT', 40198), ('AATA', 39511), ('TAAA', 38556), ('TGTA', 35399), ('AGTT', 35219), ('TTAG', 35100), ('TAGT', 34810), ('TATG', 34685), ('ATGT', 34441), ('TCTA', 34381), ('TACT', 34342), ('GATT', 33875), ('TTGA', 33816), ('GTTA', 33810), ('TTAC', 33800), ('AAGT', 33621), ('CATT', 33611), ('TATC', 33577), ('ATTG', 33535), ('AGTA', 33443), ('ATAG', 33420), ('GTAT', 33323), ('CTTA', 33188), ('ATGA', 33186), ('ACTT', 33159), ('AGAT', 33136), ('GTAA', 33129), ('TGAT', 33104), ('ATCT', 33008), ('TAAG', 32858), ('GAAT', 32844), ('TGAA', 32830), ('GATA', 32821), ('TCAT', 32741), ('TAGA', 32416), ('CTAA', 32411), ('ATAC', 32385), ('CTAT', 32359), ('ATTC', 32213), ('ACTA', 32178), ('ACAT', 32111), ('TTCA', 32075), ('AACT', 32043), ('AATG', 32029), ('TACA', 31906), ('CATA', 31795), ('TCAA', 31776), ('TGTT', 31694), ('AATC', 31364), ('ATCA', 31180), ('CAAT', 30940), ('TAAC', 30816), ('TTGT', 30610), ('TCTT', 30547), ('TTTG', 30086), ('TTTC', 29638), ('TTCT', 29490), ('GTTT', 29321), ('CTTT', 28993), ('AGAA', 27750), ('ACAA', 27514), ('AAAG', 27098), ('AAGA', 26671), ('GAAA', 26358), ('AAAC', 26302), ('CAAA', 25824), ('AACA', 25279), ('GTGT', 25250), ('TTGG', 24684), ('TGTG', 24407), ('GGTT', 24303), ('GTTG', 24030), ('CCTT', 23958), ('TTCC', 23954), ('CTCT', 23828), ('CACA', 23743), ('TGGT', 23561), ('TCTC', 23516), ('CTTC', 23439), ('GAGT', 23166), ('CCAA', 23133), ('TCCT', 23085), ('TAGG', 23050), ('TACC', 22990), ('TGTC', 22981), ('CCTA', 22859), ('ATGG', 22826), ('CACT', 22819), ('CTAC', 22742), ('AACC', 22646), ('GTAG', 22644), ('TTCG', 22604), ('ACAC', 22600), ('GTGA', 22587), ('CTCA', 22587), ('GGTA', 22569), ('TCGT', 22503), ('GGAA', 22497), ('TCAC', 22479), ('GGAT', 22380), ('GATG', 22343), ('TGCT', 22291), ('AGGA', 22278), ('ATCC', 22275), ('AGAG', 22264), ('CGTT', 22260), ('TGAG', 22254), ('TCTG', 22249), ('AAGG', 22245), ('GAAG', 22226), ('AGTG', 22196), ('AGGT', 22189), ('GAGA', 22129), ('ACCA', 22128), ('CAAC', 22114), ('CTGT', 22088), ('TGGA', 22034), ('GTTC', 21989), ('ACCT', 21929), ('GTCT', 21837), ('ACTC', 21830), ('GCTT', 21777), ('CCAT', 21751), ('CATC', 21676), ('TACG', 21556), ('CTTG', 21511), ('TTGC', 21380), ('TCCA', 21294), ('CGTA', 21105), ('TGAC', 21053), ('GCTA', 21029), ('AGTC', 20996), ('ATCG', 20992), ('ACGT', 20920), ('TCAG', 20915), ('CAGT', 20913), ('GTAC', 20877), ('GACT', 20854), ('TCGA', 20815), ('CTGA', 20800), ('AGAC', 20726), ('GCAT', 20721), ('TTTT', 20603), ('AGCT', 20598), ('GATC', 20533), ('GCAA', 20526), ('ACAG', 20476), ('ATGC', 20377), ('CGAA', 20302), ('ACTG', 20286), ('TGCA', 20285), ('GTCA', 20260), ('CTAG', 20249), ('CGAT', 20189), ('AACG', 20122), ('TAGC', 20012), ('ACGA', 20008), ('CAGA', 19988), ('CATG', 19960), ('GAAC', 19660), ('GACA', 19608), ('AGCA', 19538), ('AAGC', 19467), ('CAAG', 19280), ('AAAA', 18027), ('CTCC', 14586), ('CACC', 14558), ('GTGG', 14373), ('CCAC', 14138), ('CCCA', 14065), ('GGGT', 14008), ('GCGT', 13995), ('CCCT', 13979), ('GGTC', 13922), ('TGGG', 13853), ('GGTG', 13849), ('TCGG', 13742), ('CCTC', 13720), ('ACCC', 13661), ('CGTC', 13612), ('TGCC', 13589), ('CTCG', 13579), ('CCGT', 13518), ('TGCG', 13508), ('GTCC', 13474), ('GTCG', 13461), ('CTGG', 13448), ('GCTG', 13430), ('GTGC', 13426), ('TCCC', 13383), ('TCCG', 13331), ('GCTC', 13291), ('CGCT', 13228), ('TGGC', 13160), ('CGAC', 13156), ('CTGC', 13153), ('AGCC', 13146), ('GGCT', 13136), ('GCCT', 13129), ('GAGG', 13117), ('GGAC', 13091), ('GGGA', 13041), ('CGGT', 13036), ('CACG', 13015), ('CGTG', 13014), ('CCGA', 13014), ('CCTG', 13010), ('GACC', 12945), ('GGAG', 12912), ('CCAG', 12831), ('GCAG', 12829), ('TCGC', 12827), ('CGCA', 12823), ('GCAC', 12811), ('GCGA', 12629), ('ACCG', 12585), ('ACGG', 12562), ('ACGC', 12559), ('GACG', 12478), ('GCCA', 12469), ('CGGA', 12455), ('GAGC', 12413), ('AGGG', 12367), ('CAGG', 12302), ('AGGC', 12248), ('CAGC', 12200), ('AGCG', 12185), ('CGAG', 12184), ('GGCA', 11980), ('GGCC', 7464), ('CGCC', 7387), ('CGCG', 7367), ('GCGC', 7322), ('GCGG', 7302), ('CCCG', 7279), ('CGGC', 7275), ('CCGG', 7255), ('GCCC', 7244), ('GCCG', 7191), ('CCGC', 6970), ('GGCG', 6937), ('GGGC', 6871), ('CGGG', 6760), ('CCCC', 5109), ('GGGG', 4725)]\n",
      "TTATTAA\n"
     ]
    }
   ],
   "source": [
    "k=7; v=1; t=len(sequencesChip); n=80\n",
    "\n",
    "score, Motifsss, total_score_dict, tous_les_seqMotifs = randomProjIt(sequencesChip, k, 4, 100)\n",
    "print(score)\n",
    "total_score_dict = sorted(total_score_dict.items(), reverse = True) #donne une liste de tuple ordonné\n",
    "total_score_dict = sorted(total_score_dict,key = lambda x : x[1] , reverse = True) #liste triée selon les valeur de cles\n",
    "print(total_score_dict)\n",
    "#print(seqsMotif)\n",
    "\n",
    "\n",
    "def concensus(P,k):\n",
    "    concen = \"\"\n",
    "    L_tmp = []\n",
    "    \n",
    "    for cle in P:\n",
    "        for i in range(len(nuc)):\n",
    "            L_tmp.append(P[cle])\n",
    "    \n",
    "    for i in range(k):\n",
    "        maxi_tmp = []\n",
    "        for j in range(len(L_tmp)):\n",
    "            maxi_tmp.append(L_tmp[j][i])\n",
    "        for cle in P:\n",
    "            if P[cle][i] == max(maxi_tmp):\n",
    "                concen = concen + cle\n",
    "                break\n",
    "    return concen\n",
    " \n",
    "#test perso...  \n",
    "m1, n1 = total_score_dict[0]\n",
    "\n",
    "p_t = profile(tous_les_seqMotifs[m1], k, t)\n",
    "conc = concensus(p_t, k)\n",
    "print(conc)\n"
   ]
  },
  {
   "cell_type": "code",
   "execution_count": null,
   "metadata": {},
   "outputs": [],
   "source": []
  },
  {
   "cell_type": "code",
   "execution_count": null,
   "metadata": {},
   "outputs": [],
   "source": []
  }
 ],
 "metadata": {
  "celltoolbar": "Raw Cell Format",
  "kernelspec": {
   "display_name": "Python 3",
   "language": "python",
   "name": "python3"
  },
  "language_info": {
   "codemirror_mode": {
    "name": "ipython",
    "version": 3
   },
   "file_extension": ".py",
   "mimetype": "text/x-python",
   "name": "python",
   "nbconvert_exporter": "python",
   "pygments_lexer": "ipython3",
   "version": "3.7.4"
  }
 },
 "nbformat": 4,
 "nbformat_minor": 2
}
