{
 "cells": [
  {
   "cell_type": "markdown",
   "metadata": {},
   "source": [
    "# TME 7 : Mini-projet Detection de motifs\n",
    "\n",
    "\n",
    "## Partie C : Recheche de pattern (motifs) en utilisant les algoritmes randomisés\n",
    "\n",
    "Les algorithmes randomisés prendre des décisions aléatoire plutôt que déterministes.\n",
    "l'algorithme s'exécute différemment à chaque fois. Ils sont couramment utilisés dans situations où aucun algorithme exact et rapide est connu. Nous allons implémenter deux algorithmes randomisés pour la recherche de motifs : Greedy Profile Motif Search et random Projections.\n"
   ]
  },
  {
   "cell_type": "markdown",
   "metadata": {},
   "source": [
    "1\\. Nous allons réutiliser les fonctions du TME6 pour générer t séquences artificielles de taille n, et implanter dans chaque séquence un motif de taille k à des positions aléatoires avec v substitutions choisies aléatoirement."
   ]
  },
  {
   "cell_type": "code",
   "execution_count": 28,
   "metadata": {},
   "outputs": [],
   "source": [
    "import random\n",
    "import numpy as np\n",
    "import copy\n",
    "\n",
    "nuc = ('A', 'C', 'G', 'T')\n",
    "\n",
    "k=7 #taille de motif\n",
    "v=4 #nb de positions variable dans le motif\n",
    "t=20 #nb de sequences\n",
    "n=50 #longuer des sequence\n",
    "\n",
    "def generateRandomSequence(n, I):\n",
    "    seq_tmp = \"\"\n",
    "    \n",
    "    if I == True:\n",
    "        for i in range(n):\n",
    "            seq_tmp = seq_tmp + random.choice(nuc)\n",
    "    else:\n",
    "        for i in range(n):\n",
    "            seq_tmp = seq_tmp + random.choice(nuc).lower()\n",
    "\n",
    "    return seq_tmp\n",
    "    \n",
    "\n",
    "def generateRandomSequences(n, t):\n",
    "    sequences = [generateRandomSequence(n, True) for i in range(t)]\n",
    "   \n",
    "    return sequences\n",
    "\n",
    "\n",
    "def implantMotifVar(k, v, t, n):\n",
    "    sequences = generateRandomSequences(n, t)\n",
    "    motif = generateRandomSequence(k, True)\n",
    "    print(\"Motif : \", motif)\n",
    "    \n",
    "    for i in range(len(sequences)):\n",
    "        L_seq = list(sequences[i])\n",
    "        L_motif = list(motif)\n",
    "        for nb_mutation in range(v):\n",
    "            index_mutation_motif = random.randint(0,len(motif) - 1)\n",
    "            L_motif[index_mutation_motif] = random.choice(nuc)\n",
    "        chn_motif_mute = \"\".join(L_motif)\n",
    "        print(chn_motif_mute)\n",
    "        L_seq.insert(random.randint(0, len(L_seq) - 1), chn_motif_mute)\n",
    "        \n",
    "        sequences[i] = \"\".join(L_seq)\n",
    "    return sequences\n"
   ]
  },
  {
   "cell_type": "code",
   "execution_count": 29,
   "metadata": {},
   "outputs": [
    {
     "name": "stdout",
     "output_type": "stream",
     "text": [
      "Motif :  GGGCACC\n",
      "GGGCACG\n",
      "GGGCACG\n",
      "TGGCAGC\n",
      "GGGCTCG\n",
      "TCGTACC\n",
      "GGACACG\n",
      "GGCCTCC\n",
      "GGGGACA\n",
      "TTGCACC\n",
      "CGCCATC\n",
      "GAACACC\n",
      "CACAACC\n",
      "GCGTACT\n",
      "GGGTACG\n",
      "GGCATCC\n",
      "TACCACC\n",
      "GGGTTAC\n",
      "GGGCAGA\n",
      "GGGCGCG\n",
      "CGGCACC\n",
      "['ATCTGCTCCGAACGTCAACTCTACACCGATCACGGGCACGACCCACGGGAGCTAGCT', 'TCCATCATTGCAAAGCCCCGATAGGGCACGACTGGTAAGTGGGTACGAATTAAGATC', 'AATGAGCTGGCAGCGTTGCTATCGGCATAGGAGCATCTTTGTGTAAGCCGGGATCCA', 'AGCCGGAACTAGCCCTCGGAAAACACGAACCCTAGGGGCTCGATTCTAGCGGGGCGG', 'GAGGACTAGCCATTCCTTTCGTACCATCTAAAACTACATATGTGGGCTCACAAATAA', 'CACTTCGACTGCTTATAGCGGACCCAAGCGGTTGCTCGGGAGGACACGCCTCTAGTC', 'ACGTGTGGCCTCCAGGGTAGAATCTTAGAGTGCTACAAGACAGGGCCCCGAATACAG', 'ACTAAAGCAGGCTCCCCCATGGGGGACACACAGGGGGCCGCGTTGTAGGACGTCCAA', 'GCTAGCCGGGGACAACGCTTGCACCACGGACCACGAACTTTCTAGCCCCAACGGCTA', 'AGCAGCTCATTTTTTATAATACCGTTATGCTCTGGTCCGAACATACGCCATCTGAGT', 'TGAAAGACCGCCTGGCAGCCGTGAGAGTTGATGCTATCGACTGAACACCACTGTCAG', 'TGGAGTGACAGCTAGGACGGCTACGCTGCGCTGTCGCATCCACAACCAAGCATTCGT', 'CCCGGAGCCCGCGTACTGGCACTCGCCAATGTAGCTTATAGAGTCTGTTAATACTCG', 'CATCAGGGGTACGTAGTGCACATGTCACCTCCACACCCAGTGGGTTACTGGCAAGTT', 'TTCGCAATGGCATCCTAGCCCCGCCATTGTAGGGAATATAACGGTGGTTATTTACTT', 'AGTGAGCAACACTTGCTATGTAGTTACCACCAGTGATCTGGCGAGAAAAGAATCAAG', 'TAGAATCGAAAGAGGGGTTACGGAGTAGTCAAATAACTGGCCTGACGGTAGCTAAGG', 'TTGACACACTGATTACCGAACTGGGGCAGAGCAAATGGCGCCATCCTTTAATCGATC', 'ACAGCCTGCCGGCGAAGGGGATAGGCCTTTCTTAGCATTGTTGAAGGGCGCGCATCT', 'GAATCTTGCAAGCACTGACGCTCTCACTGCAATCAGTTGGCGGCACCATACTTTCCA']\n"
     ]
    }
   ],
   "source": [
    "#generate and implant variavel motifs\n",
    "\n",
    "\n",
    "sequences = implantMotifVar(k, v, t, n)\n",
    "print (sequences)\n"
   ]
  },
  {
   "cell_type": "markdown",
   "metadata": {},
   "source": [
    "2\\. Faire une fonction pour sélectionner des positions de départ aléatoirement s = (s1, …,st).\n"
   ]
  },
  {
   "cell_type": "code",
   "execution_count": 30,
   "metadata": {},
   "outputs": [
    {
     "name": "stdout",
     "output_type": "stream",
     "text": [
      "[43, 13, 25, 39, 16, 35, 27, 6, 8, 5, 44, 23, 44, 9, 18, 45, 46, 23, 50, 24]\n",
      "20\n"
     ]
    }
   ],
   "source": [
    "#creating vector s\n",
    "#Get t random positions from 0 to n - k\n",
    "def generateRandomS(sequences, k):\n",
    "    s = []\n",
    "    for i in range(t):\n",
    "        s.append(random.randint(0, len(sequences[i]) - k))\n",
    "    return s\n",
    "\n",
    "s = generateRandomS(sequences, k)\n",
    "print (s)\n",
    "print(len(s))"
   ]
  },
  {
   "cell_type": "markdown",
   "metadata": {},
   "source": [
    "3\\. Extraire les motifs en utilisant le vecteur s, et construire un profile. Attention, utiliser les pseudocount 1 pour éviter les probabilités zéro.\n"
   ]
  },
  {
   "cell_type": "code",
   "execution_count": 31,
   "metadata": {},
   "outputs": [
    {
     "name": "stdout",
     "output_type": "stream",
     "text": [
      "['CACGGGA', 'AGCCCCG', 'CATAGGA', 'TCGATTC', 'TTTCGTA', 'TCGGGAG', 'GAGTGCT', 'GCAGGCT', 'GGGACAA', 'CTCATTT', 'ACACCAC', 'CGCTGCG', 'CTGTTAA', 'TACGTAG', 'CCCCGCC', 'AAAAGAA', 'GGTAGCT', 'GGGCAGA', 'CGCATCT', 'CACTGCA']\n",
      "{'A': array([4., 7., 4., 8., 2., 7., 9.]), 'C': array([9., 6., 9., 6., 4., 9., 4.]), 'G': array([ 6.,  7.,  7.,  5., 12.,  4.,  5.]), 'T': array([5., 4., 4., 5., 6., 4., 6.])}\n"
     ]
    }
   ],
   "source": [
    "#extract sequences from seqs\n",
    "def extractSeqs(s, seqs):\n",
    "    motifs = []\n",
    "    for i in range(len(s)):\n",
    "        seq_tmp = \"\"\n",
    "        for j in range(s[i], s[i] + k):\n",
    "            seq_tmp = seq_tmp + seqs[i][j]\n",
    "        motifs.append(seq_tmp)        \n",
    "    \n",
    "    return motifs\n",
    "        \n",
    "motifs = extractSeqs(s, sequences)\n",
    "print (motifs)\n",
    "\n",
    "#construct Profiles\n",
    "def profile(motifs, k, t):\n",
    "    q = len(nuc)\n",
    "    PWM = np.ones((q, k))#pseudo count\n",
    "    \n",
    "    L = [x for x in nuc]\n",
    "    \n",
    "    dictionnaire = {}\n",
    "    for i in range(len(L)):\n",
    "        dictionnaire[L[i]] = PWM[i]\n",
    "    \n",
    "    for i in range(k):\n",
    "        for j in range(len(motifs)):\n",
    "            dictionnaire[motifs[j][i]][i] = dictionnaire[motifs[j][i]][i] + 1\n",
    "            \n",
    "    #print(dictionnaire)\n",
    "    for i in range(q):\n",
    "        PWM[i] = dictionnaire[L[i]]\n",
    "    \n",
    "    #print(PWM)\n",
    "            \n",
    "    return dictionnaire\n",
    "\n",
    "def profile_from_dict(dic, k):#ici k est le v de la question 14\n",
    "    q = len(nuc)\n",
    "    PWM = np.ones((q, k))#pseudo count\n",
    "    L = [x for x in nuc]\n",
    "    \n",
    "    dictionnaire = {}\n",
    "    for i in range(len(L)):\n",
    "        dictionnaire[L[i]] = PWM[i]\n",
    "            \n",
    "    for cle in dic:\n",
    "        for i in range(k):\n",
    "            dictionnaire[cle[i]][i] = dictionnaire[cle[i]][i] + dic[cle]\n",
    "    \n",
    "    for i in range(q):\n",
    "        PWM[i] = dictionnaire[L[i]]\n",
    "    \n",
    "    return dictionnaire\n",
    "    \n",
    "\n",
    "pro = profile(motifs, k, t)\n",
    "print(pro)"
   ]
  },
  {
   "cell_type": "markdown",
   "metadata": {},
   "source": [
    "4\\. Transformer le Profile en PWM. Il faut diviser chaque élément par la somme de ses colonnes."
   ]
  },
  {
   "cell_type": "code",
   "execution_count": 32,
   "metadata": {},
   "outputs": [
    {
     "name": "stdout",
     "output_type": "stream",
     "text": [
      "{'A': array([0.16666667, 0.29166667, 0.16666667, 0.33333333, 0.08333333,\n",
      "       0.29166667, 0.375     ]), 'C': array([0.375     , 0.25      , 0.375     , 0.25      , 0.16666667,\n",
      "       0.375     , 0.16666667]), 'G': array([0.25      , 0.29166667, 0.29166667, 0.20833333, 0.5       ,\n",
      "       0.16666667, 0.20833333]), 'T': array([0.20833333, 0.16666667, 0.16666667, 0.20833333, 0.25      ,\n",
      "       0.16666667, 0.25      ])}\n",
      "{'A': array([4., 7., 4., 8., 2., 7., 9.]), 'C': array([9., 6., 9., 6., 4., 9., 4.]), 'G': array([ 6.,  7.,  7.,  5., 12.,  4.,  5.]), 'T': array([5., 4., 4., 5., 6., 4., 6.])}\n"
     ]
    }
   ],
   "source": [
    "#Somme des colonnes est toujours = t + len(nuc) = 24\n",
    "def somme_colonnes(profile):\n",
    "    colonne = []\n",
    "    for i in range(k):\n",
    "        s = 0\n",
    "        for j in nuc:\n",
    "            s = s + profile[j][i]\n",
    "        colonne.append(s)\n",
    "    return colonne\n",
    "\n",
    "def PWM(profile):\n",
    "    s_colonne = somme_colonnes(profile)\n",
    "    profile_modifie = copy.deepcopy(profile)\n",
    "    \n",
    "    for i in range(k):\n",
    "        for j in profile_modifie:\n",
    "            profile_modifie[j][i] = profile_modifie[j][i] / s_colonne[i]\n",
    "    \n",
    "    return profile_modifie\n",
    "\n",
    "pwm = PWM(pro)\n",
    "print(pwm)\n",
    "print(pro)"
   ]
  },
  {
   "cell_type": "markdown",
   "metadata": {},
   "source": [
    "5\\. Faire une fonction pour calculer la probabilité d'un motif de taille k selon une PWM.\n"
   ]
  },
  {
   "cell_type": "code",
   "execution_count": 33,
   "metadata": {},
   "outputs": [],
   "source": [
    "def probability(PWM, seq):\n",
    "    \"\"\"\n",
    "    Hypothese : on suppose que la taille de seq est egale a la taille d'une valeur de PWM\n",
    "    \"\"\"\n",
    "    prob = 1\n",
    "    \n",
    "    for i in range(len(seq)):\n",
    "        prob = prob * PWM[seq[i]][i]\n",
    "        \n",
    "    return prob\n",
    "\n"
   ]
  },
  {
   "cell_type": "markdown",
   "metadata": {},
   "source": [
    "6\\. Faire une fonction pour calculer le pMostProbkmer d'une séquence, voir un exemple dans les slides de cours."
   ]
  },
  {
   "cell_type": "code",
   "execution_count": 34,
   "metadata": {},
   "outputs": [
    {
     "name": "stdout",
     "output_type": "stream",
     "text": [
      "0\n"
     ]
    }
   ],
   "source": [
    "def tousLesKmers(ADN, k):\n",
    "    \"\"\"\n",
    "    String -> List(String)\n",
    "    Rend la liste de tous les k-mers present dans ADN\n",
    "    \"\"\"\n",
    "    List_des_Kmer = []\n",
    "    for i in range(len(ADN)-k+1):\n",
    "        seq_i = \"\"\n",
    "        for j in range(k):\n",
    "            seq_i = seq_i + ADN[i+j]\n",
    "        List_des_Kmer.append(seq_i)\n",
    "    return List_des_Kmer\n",
    "\n",
    "def pMostProbkmer(P, k, sequence):\n",
    "    maxProb = 0\n",
    "    s = 0 # position du k-mer le plus probable dans la sequence    \n",
    "    L_kmer = tousLesKmers(sequence, k)\n",
    "    \n",
    "    for kmer in L_kmer:\n",
    "        if probability(P, kmer) > maxProb:\n",
    "            maxProb = probability(P, kmer)\n",
    "            s = sequence.find(kmer)\n",
    "    return s\n",
    "\n",
    "s1 = pMostProbkmer(pwm, k, \"GCCGGATACT\")\n",
    "print(s1)\n"
   ]
  },
  {
   "cell_type": "markdown",
   "metadata": {},
   "source": [
    "7\\. Faire une fonction pour obtenir les nouvelles positions de départ s = (s1, …,st), c’était à dire les positions qui contiens les k-mer le plus probables."
   ]
  },
  {
   "cell_type": "code",
   "execution_count": 35,
   "metadata": {},
   "outputs": [
    {
     "name": "stdout",
     "output_type": "stream",
     "text": [
      "[23, 15, 8, 1, 43, 6, 45, 35, 26, 0, 38, 6, 2, 13, 18, 40, 20, 26, 9, 24]\n"
     ]
    }
   ],
   "source": [
    "def getNewS(P, k, sequences):\n",
    "    \n",
    "    s = []\n",
    "    for sequence in sequences:\n",
    "        s.append(pMostProbkmer(P, k, sequence))\n",
    "    \n",
    "    return s\n",
    "\n",
    "ns = getNewS(pwm, k, sequences)\n",
    "print (ns)"
   ]
  },
  {
   "cell_type": "markdown",
   "metadata": {},
   "source": [
    "8\\. La condition d’arrêt d’algorithme est le non changement du Profile d'une itération à l'autre, faire une fonction pour comparer deux Profils (matrice) et détecter le changement."
   ]
  },
  {
   "cell_type": "code",
   "execution_count": 36,
   "metadata": {},
   "outputs": [
    {
     "name": "stdout",
     "output_type": "stream",
     "text": [
      "63.0\n",
      "[43, 13, 25, 39, 16, 35, 27, 6, 8, 5, 44, 23, 44, 9, 18, 45, 46, 23, 50, 24] [23, 15, 8, 1, 43, 6, 45, 35, 26, 0, 38, 6, 2, 13, 18, 40, 20, 26, 9, 24]\n",
      "63.0\n"
     ]
    }
   ],
   "source": [
    "def changeProfile(P1, P2):\n",
    "    \n",
    "    changement = False\n",
    "    \n",
    "    L = [x for x in nuc]\n",
    "    L2 = [[\"Pareil\" for i in range(len(P1[L[0]]))] for j in range(len(P1))]\n",
    "    dictionnaire = {}\n",
    "    \n",
    "    for i in range(len(L)):\n",
    "        dictionnaire[L[i]] = L2[i]\n",
    "        \n",
    "    for nucleo in nuc:\n",
    "        for i in range(len(P1[nucleo])):\n",
    "            if P1[nucleo][i] != P2[nucleo][i]:\n",
    "                dictionnaire[nucleo][i] = P2[nucleo][i]\n",
    "                changement = True #Il y a un changement\n",
    "\n",
    "    for definition in dictionnaire:\n",
    "        print(definition, \" \", dictionnaire[definition])\n",
    "    \n",
    "    \n",
    "    return changement \n",
    "    \n",
    "\n",
    "def getScore(P, k):\n",
    "    sc = 0\n",
    "    S = random.choice(nuc)\n",
    "    \n",
    "    for i in range(len(P[S])):\n",
    "        colonne = []\n",
    "        for cle in P:\n",
    "            colonne.append(P[cle][i])\n",
    "        sc = sc + max(colonne)\n",
    "    \n",
    "    return sc\n",
    "\n",
    "def score(s, seqs):\n",
    "    sc = 0\n",
    "    profile1 = profile(extractSeqs(s, seqs), k, t)\n",
    "    \n",
    "    L_max_colonne = []\n",
    "    \n",
    "    for i in range(len(profile1[\"A\"])):\n",
    "        L_tmp = []\n",
    "        for j in nuc:\n",
    "            L_tmp.append(profile1[j][i])\n",
    "        sc = sc + max(L_tmp)\n",
    "    \n",
    "    return (sc)\n",
    "\n",
    "print(score(s, sequences))\n",
    "\n",
    "ns = getNewS(pwm, k, sequences)\n",
    "print (s, ns)\n",
    "\n",
    "sc = getScore(pro, k)\n",
    "print (sc)\n",
    "#test = changeProfile(pwm, pwm)\n",
    "#print(test)"
   ]
  },
  {
   "cell_type": "markdown",
   "metadata": {},
   "source": [
    "9\\. Implementer l'algorithme ``GreedyProfileMotifSearch`` en utilisant les fonctions precedentes. \n"
   ]
  },
  {
   "cell_type": "code",
   "execution_count": 37,
   "metadata": {},
   "outputs": [
    {
     "name": "stdout",
     "output_type": "stream",
     "text": [
      "['ACGGGCA', 'ACTGGTA', 'GCTGGCA', 'ACTAGCC', 'ACTAGCC', 'ACACGCC', 'ACAGGGC', 'ACAGGGG', 'GCTAGCC', 'TCTGGTC', 'CCTGGCA', 'GCTAGGA', 'ACTGGCA', 'ACTGGCA', 'CCTAGCC', 'TCTGGCG', 'ACTGGCC', 'ACTGGGG', 'ATAGGCC', 'GCAAGCA']\n"
     ]
    }
   ],
   "source": [
    "def GreedyProfileMotifSearch(sequences, t, n, k):\n",
    "    \n",
    "    bestScore = 0\n",
    "    s = generateRandomS(sequences, k)\n",
    "    \n",
    "    while score(s, sequences) > bestScore:\n",
    "        pro = profile(extractSeqs(s, sequences), k, t)\n",
    "        pwm = PWM(pro)\n",
    "        bestScore = score(s, sequences)\n",
    "        #print(bestScore)\n",
    "            \n",
    "        s = getNewS(pwm, k, sequences)\n",
    "   \n",
    "    return s, bestScore\n",
    "    \n",
    "        \n",
    "s, bestScore = GreedyProfileMotifSearch(sequences, t, n, k)   \n",
    "motifs = extractSeqs(s, sequences)\n",
    "print (motifs)\n",
    "        "
   ]
  },
  {
   "cell_type": "markdown",
   "metadata": {},
   "source": [
    "10\\. Avez vous trouvez le motif implanté? Rexécuter l’algorithme plusieurs fois pour le trouver. "
   ]
  },
  {
   "cell_type": "markdown",
   "metadata": {},
   "source": [
    "Reponse: Trouvé en exécutant beaucoup de fois..."
   ]
  },
  {
   "cell_type": "markdown",
   "metadata": {},
   "source": [
    "11\\. Vous avez certainement observer que l’algorithme ne produire pas toujours la même sortie et que les résultats dépendent de la sélection aléatoire des positions de départ s. Pour augmenter nous chances de retrouvez les bons motifs, nous allons implémenter une version itérative ``GreedyProfileMotifSearchIte`` \n",
    "qui a chaque fois sauvegarde s et le score du profile associé à s, après I itération, l’algorithme renvoie le vecteur s ayant le plus grand score."
   ]
  },
  {
   "cell_type": "code",
   "execution_count": 38,
   "metadata": {},
   "outputs": [
    {
     "name": "stdout",
     "output_type": "stream",
     "text": [
      "['ACGGGCA', 'ACTGGTA', 'GCTGGCA', 'ACTAGCC', 'ACTAGCC', 'ACACGCC', 'ACGTGTG', 'GCAGGCT', 'GCTTGCA', 'ACATACG', 'ACTGTCA', 'GCTGTCG', 'ACTGGCA', 'ACTGGCA', 'AATGGCA', 'ACTTGCT', 'ACTGGCC', 'AATGGCG', 'GCCGGCG', 'ACTGACG']\n"
     ]
    }
   ],
   "source": [
    "def maximumIndice(liste):\n",
    "    maxi = liste[0]\n",
    "    indice_max = 0\n",
    "    longueur=len(liste)\n",
    "    for i in range(longueur):\n",
    "        if liste[i] >= maxi:\n",
    "            maxi = liste[i]\n",
    "            indice_max = i\n",
    "    return indice_max\n",
    "\n",
    "def GreedyProfileMotifSearchIte(sequences, t, n, k, It):\n",
    "    Scores = []\n",
    "    Positions = []\n",
    "    \n",
    "    for i in range(It):\n",
    "        s, score = GreedyProfileMotifSearch(sequences, t, n, k)\n",
    "        Scores.append(score)\n",
    "        Positions.append(s)\n",
    "    \n",
    "    J = maximumIndice(Scores)\n",
    "    \n",
    "    return Positions[J], Scores[J]\n",
    "    \n",
    "s, bestScore = GreedyProfileMotifSearchIte(sequences, t, n, k, 100)\n",
    "motifs = extractSeqs(s, sequences)\n",
    "print (motifs)"
   ]
  },
  {
   "cell_type": "markdown",
   "metadata": {},
   "source": [
    "12\\. Tester algorithme  ``GreedyProfileMotifSearchIte`` sur vos données de chipSeq."
   ]
  },
  {
   "cell_type": "code",
   "execution_count": 39,
   "metadata": {},
   "outputs": [
    {
     "name": "stdout",
     "output_type": "stream",
     "text": [
      "ACCTTATGGTATTTATTTTCAAGATTCAGCTACACCTAATCAAGAAGGTATTTTAGAATTACATGATAATATTATGTTTT 912 80 7\n",
      "12\n",
      "4279.0 [19, 16, 37, 34, 11, 0, 17, 44, 67, 8, 30, 12, 72, 20, 20, 20, 68, 35, 54, 16, 63, 60, 2, 68, 30, 42, 48, 17, 64, 26, 27, 45, 60, 71, 1, 46, 17, 49, 0, 33, 71, 27, 19, 42, 54, 50, 55, 8, 64, 1, 4, 25, 55, 49, 19, 47, 44, 22, 46, 48, 2, 1, 47, 7, 14, 2, 21, 16, 50, 6, 9, 37, 71, 3, 69, 60, 65, 23, 22, 26, 68, 65, 27, 50, 30, 3, 18, 33, 64, 26, 45, 53, 0, 63, 2, 47, 47, 27, 15, 63, 1, 68, 34, 31, 20, 24, 62, 48, 24, 73, 34, 26, 50, 6, 72, 73, 26, 32, 56, 14, 46, 67, 35, 28, 20, 8, 22, 29, 70, 60, 66, 47, 57, 1, 7, 43, 50, 13, 68, 2, 44, 45, 40, 15, 1, 22, 5, 6, 27, 41, 57, 66, 56, 27, 32, 1, 57, 30, 32, 0, 55, 12, 69, 67, 7, 30, 59, 14, 70, 59, 70, 1, 39, 31, 24, 41, 7, 50, 5, 70, 47, 11, 64, 26, 55, 5, 17, 19, 57, 70, 50, 49, 60, 25, 62, 63, 65, 58, 0, 48, 29, 24, 39, 62, 6, 68, 3, 51, 73, 35, 49, 31, 49, 47, 29, 34, 16, 29, 12, 64, 59, 37, 43, 41, 17, 47, 37, 55, 41, 63, 44, 56, 66, 9, 6, 35, 70, 4, 68, 3, 7, 19, 58, 17, 27, 52, 65, 25, 24, 24, 55, 38, 43, 16, 70, 3, 32, 8, 12, 0, 18, 63, 30, 50, 50, 35, 21, 61, 56, 18, 23, 19, 22, 72, 54, 25, 25, 44, 14, 9, 58, 0, 37, 4, 12, 34, 14, 63, 31, 26, 3, 37, 51, 24, 2, 36, 45, 68, 0, 20, 25, 38, 4, 1, 60, 10, 38, 20, 11, 37, 38, 56, 38, 19, 14, 30, 23, 40, 5, 8, 14, 14, 50, 3, 13, 15, 27, 37, 10, 70, 16, 40, 11, 35, 49, 55, 9, 9, 49, 67, 58, 53, 53, 17, 49, 69, 73, 49, 21, 13, 9, 36, 62, 15, 10, 2, 1, 61, 51, 1, 15, 36, 50, 46, 26, 5, 57, 65, 49, 59, 66, 34, 0, 10, 5, 52, 12, 4, 44, 20, 9, 64, 20, 59, 12, 70, 41, 26, 48, 48, 39, 71, 8, 2, 26, 35, 46, 41, 52, 20, 47, 37, 35, 3, 61, 18, 44, 64, 21, 10, 60, 70, 12, 67, 32, 52, 55, 31, 18, 8, 17, 27, 66, 0, 15, 5, 24, 1, 57, 19, 56, 23, 2, 38, 43, 3, 45, 65, 52, 53, 62, 30, 36, 4, 61, 21, 66, 27, 5, 10, 33, 6, 43, 56, 64, 12, 33, 15, 23, 45, 61, 66, 30, 27, 29, 18, 14, 12, 61, 34, 45, 49, 5, 50, 3, 61, 59, 51, 73, 31, 72, 3, 67, 25, 25, 70, 64, 23, 14, 73, 25, 53, 9, 57, 43, 4, 31, 43, 37, 34, 49, 17, 5, 55, 37, 32, 20, 45, 35, 3, 33, 47, 69, 37, 8, 57, 61, 2, 13, 57, 52, 30, 63, 63, 52, 49, 10, 36, 6, 0, 47, 5, 33, 55, 1, 13, 48, 52, 57, 52, 39, 64, 53, 40, 50, 35, 48, 18, 27, 17, 29, 3, 17, 60, 25, 70, 64, 6, 26, 7, 8, 48, 41, 16, 36, 26, 1, 35, 32, 0, 56, 53, 38, 35, 34, 13, 17, 50, 67, 30, 12, 3, 54, 68, 63, 30, 5, 48, 49, 46, 73, 73, 5, 52, 24, 22, 21, 9, 27, 62, 55, 49, 65, 23, 0, 25, 10, 19, 13, 17, 46, 1, 40, 50, 12, 39, 65, 39, 13, 56, 48, 13, 46, 39, 42, 29, 59, 32, 27, 28, 46, 40, 11, 59, 44, 32, 70, 14, 23, 15, 41, 37, 46, 61, 67, 67, 37, 37, 32, 33, 65, 15, 33, 7, 62, 56, 64, 34, 39, 1, 16, 16, 60, 0, 42, 0, 41, 2, 37, 38, 67, 26, 55, 16, 1, 26, 29, 22, 48, 3, 54, 10, 3, 12, 61, 52, 0, 50, 59, 45, 23, 10, 52, 12, 28, 3, 64, 50, 38, 65, 51, 2, 7, 2, 18, 55, 9, 67, 13, 8, 13, 54, 26, 33, 20, 24, 51, 73, 12, 42, 47, 19, 14, 67, 32, 63, 33, 33, 22, 67, 0, 2, 44, 20, 69, 38, 70, 13, 17, 6, 9, 21, 36, 39, 42, 11, 29, 32, 31, 64, 72, 55, 47, 64, 62, 34, 55, 23, 30, 31, 43, 55, 11, 10, 54, 69, 40, 30, 24, 16, 44, 45, 26, 61, 23, 68, 6, 46, 49, 15, 36, 54, 43, 54, 24, 60, 10, 40, 0, 10, 43, 43, 16, 20, 72, 41, 48, 10, 52, 35, 39, 66, 68, 13, 1, 67, 1, 28, 19, 10, 68, 64, 23, 47, 47, 50, 31, 71, 11, 11, 39, 71, 33, 22, 13, 27, 51, 22, 72, 55, 4, 10, 30, 46, 13, 34, 37, 8, 49, 59, 11, 2, 56, 19, 29, 6, 64, 28, 43, 26, 58, 63, 4, 16, 39, 39, 17, 18, 11, 48, 5, 2, 58, 4, 38, 6, 42, 17, 65, 43, 60, 45, 27, 23, 44, 71, 9, 73, 42, 14, 28, 6, 60, 23, 26, 7, 65, 47, 16, 46, 57, 24, 25, 46, 38, 66, 61, 32, 10, 33, 11, 56, 39, 62, 46, 1, 39, 52, 20, 19, 12, 5]\n",
      "['ATTATTA', 'ATTATTT', 'ATTATTT', 'ATTATTT', 'ATTATTA', 'TTTATTA', 'ATTATTA', 'ATTATTT', 'AATATTA', 'ATTATTT', 'ATTATTT', 'ATTATAT', 'ATGATTT', 'ATTATTA', 'ATGATTT', 'ATTATTT', 'ATTTTTA', 'ATTATTT', 'TTTATTA', 'ATTATTA', 'TTTAATT', 'ATTCTTA', 'ATTATTA', 'ATTATAT', 'ATTAATT', 'AATATAA', 'AATATAT', 'ATTGTTT', 'AATATTA', 'AATAAAA', 'TATATTT', 'AATATAT', 'ATTATAT', 'ATTAATT', 'TTTATAT', 'ATTAATT', 'ATTAATA', 'ATTATTA', 'AATATTT', 'TTGATTT', 'ATTATTT', 'ATTATTA', 'ATTCTTT', 'ATTATTT', 'ATTCTTA', 'ATGATTA', 'ATTATTT', 'ATTATTA', 'AATATAT', 'TATATTT', 'TTTATTT', 'AATCTTA', 'AATATAT', 'TATATTT', 'ATTATTT', 'ATTATTT', 'ATTCTAT', 'ATTATTT', 'ATTCTTA', 'AATATTT', 'TTTATTT', 'ATTATTA', 'ATTATTA', 'TTTATTT', 'ATTATTT', 'TTTATTA', 'ATTATTA', 'ATTATTA', 'ATTATTT', 'TTTATTT', 'TTTATTT', 'AATCTTT', 'ATTAATT', 'ATTCTTT', 'ATTATTT', 'AATATTT', 'ATTAATT', 'ATTATTA', 'AATATTT', 'ATTAATT', 'TATATTT', 'AATATTA', 'ATGGTTA', 'AATATAT', 'ATTATTA', 'ATTATTT', 'ATTAATT', 'ATTCTAT', 'AATATTA', 'ATTATTT', 'ATTCTTA', 'AATATAA', 'AATATAT', 'ATTATTA', 'AATGTAT', 'ACTGTTT', 'ATTATAT', 'ATTCATT', 'TATATTA', 'ATTTTTT', 'ATTACTA', 'ACTACTT', 'ATTGTTT', 'ATTCTGT', 'TTGCTTT', 'TTTATTT', 'AAGACAA', 'TGTAAAA', 'ACTGTTA', 'TTTGTTA', 'AATATAT', 'AATCTTC', 'AAGATTT', 'AAGAATT', 'ATTGTTG', 'ATTAATA', 'TTTATTT', 'TTTATTT', 'ATTGAAA', 'TCTATTT', 'TTTCTAT', 'AAAATTT', 'TTGATAA', 'AATCATA', 'ATTATGA', 'AACACAA', 'TTTCCTT', 'AATCAAA', 'ATTACAT', 'AATATTT', 'TCTCTTT', 'ATGATTT', 'AAGAATT', 'TTTAATT', 'AATGCTT', 'AAGAATT', 'ACTACTA', 'ATGGTTT', 'TATTTTT', 'TTGAAAA', 'ACTAAAA', 'ATTAATA', 'AGTGATT', 'ATTATAA', 'ATTAATT', 'AATGATT', 'AGTATTT', 'ATGATTA', 'ATTATAT', 'ATGTTTT', 'ATGATAA', 'TAGGTAT', 'ATTGTAT', 'AGTAATT', 'ATTAATA', 'ATTCATA', 'TTTATTT', 'ATTCTAA', 'AAGGTTT', 'AGCAATT', 'ATTCCAC', 'ATGACTT', 'ATGATAG', 'AAGATAA', 'AATAAAT', 'ATTATAT', 'TATCCAT', 'AACCATT', 'TTTATAT', 'ATTGTTT', 'ATTGTTC', 'TTTAAGA', 'AATAATC', 'GTTGTTT', 'AGCAATA', 'TAGGCTT', 'AGTCATC', 'ATTGTAT', 'ATTGTTA', 'TTTATAT', 'AGAAATT', 'AACCATT', 'ATTTTTT', 'ATTCTTT', 'AGTATAT', 'TATATAA', 'TTTGTTA', 'TCTGCTT', 'TTTCTGT', 'ATTCTAT', 'TATATTT', 'ATTGTTA', 'ATGATAA', 'AAGCTTA', 'TTTATTA', 'AATGTTT', 'TTTCTTT', 'ATGATAT', 'ATTGATA', 'ATTATTT', 'TTCATTT', 'AATATAC', 'TTTGTTT', 'ATTTTTT', 'TTTATTC', 'TTTCTTT', 'AATAAAT', 'AATCTAT', 'AATATTA', 'AAGACTT', 'ATCGTTA', 'ACTGCTT', 'TATGTTA', 'ATGAATT', 'AAAATTA', 'AAGATAA', 'AAGAAAA', 'ATTAATT', 'AGTCTTT', 'TCTATTT', 'AGGGTTT', 'ATTATTA', 'ATTAATT', 'ATTCTTA', 'TTTCTTT', 'TTGATTT', 'AATAATA', 'ATTATAA', 'TTGGTTA', 'AATAATT', 'ACTCTTT', 'ACTATTT', 'AATGTTT', 'TTTGTTT', 'ATTTTTT', 'AATATAA', 'ATTCTTT', 'ATTCTTT', 'TTGATTA', 'TTTCTTT', 'TTTATTT', 'AATATTT', 'ATTCTTA', 'AAAATTT', 'TTTATTT', 'AAGAATT', 'TTTCTTA', 'AATAAAT', 'ATTAATT', 'AGTACTT', 'ATTATTT', 'ATTATTT', 'ATTACTT', 'ATCAAAA', 'TTTCATT', 'TATGTTA', 'TTTTTTT', 'ATTATAT', 'ATTATTC', 'ATCATAT', 'ATTCATA', 'AATATTA', 'TTTATTT', 'ATTATTT', 'AAGAAAA', 'ATTATTA', 'TTTGTTA', 'ATTAATA', 'TATATTT', 'TATGTTT', 'ACTCTTT', 'ATTCTTT', 'AATGTTT', 'TCTATTT', 'TTTATAT', 'ATTCTTA', 'ATTCTAT', 'TTTATTA', 'AATCATT', 'ATGATTT', 'ATCATTT', 'AATAAAT', 'ATGATTT', 'AGTATTA', 'AATATTT', 'AATATTT', 'ATTCCTT', 'ATGATAT', 'ATTAATA', 'AATGTTT', 'ATGATTA', 'AATCTTT', 'TTTCTTT', 'AATATTT', 'ATTTTTT', 'AATATTT', 'AAGCTTT', 'AATAATC', 'TTTCTTT', 'TATCTTT', 'AATATTT', 'ATGATTT', 'TTTATTC', 'AATCATA', 'ATTATAT', 'AATGTTA', 'TAGAATT', 'ATTCTTT', 'TATAATA', 'TATAATT', 'AATATAT', 'AATATAA', 'AATCTAT', 'ATGATTT', 'AATCTTT', 'AATATAT', 'TTTCTTT', 'TTTCTTT', 'AAGCTTT', 'ATTCATA', 'AATATTT', 'TTTAAAA', 'AATAATT', 'TTTCAAT', 'TTTATTA', 'TTAATTT', 'ATTATTA', 'ACTATTT', 'TTTGATA', 'AATATTT', 'AATGTTT', 'TATGTTT', 'ATGATAT', 'AGTCTTT', 'ATTGTTT', 'TTTCTTT', 'TTTCTTT', 'ATCAATT', 'TTTGATA', 'TATATTT', 'TATATTA', 'AAGATTA', 'AATCTTC', 'AATATTT', 'AATATAT', 'ATTGAAA', 'ATTACAA', 'ATTCAAT', 'ATTCCTT', 'ATTGTTT', 'TATATTT', 'TTTATTT', 'ACTATTA', 'TTTTTTT', 'ATCGTTT', 'AATACAT', 'ATTATAA', 'TTTAATA', 'ATTATTT', 'ATTAATT', 'AAGATTT', 'ATTCTTC', 'ATTCTTT', 'ATTAATA', 'AATATTT', 'TTTGATT', 'ATTGTTT', 'ATGAAAT', 'ATTATTT', 'ATTGTTT', 'AATCCAT', 'AAGAATA', 'ATCCAAA', 'ATCCAAA', 'AACCTAT', 'AATAATC', 'AATAATC', 'AAAATTT', 'AATATTA', 'AATAATA', 'ATGCTTT', 'AATTTTT', 'ATTACAT', 'TATATTT', 'ATTTTTT', 'ATTCAAT', 'ATTATTA', 'AATACTT', 'AATATTT', 'ATTTTTT', 'ATGATTT', 'TTTATTT', 'ATGATAA', 'AATAAAA', 'ACTATAT', 'AATTTTT', 'TTTGTTA', 'ATTTTTT', 'ATTCCAT', 'ACTATAT', 'AATATTC', 'AGTATTA', 'AAGAAAT', 'AATAATA', 'ATTAATA', 'AAGAAAT', 'AATAAAT', 'AATATTT', 'ATGAATT', 'ATGAAAT', 'TATAATT', 'ATTCTTT', 'AATGTAT', 'ATTGATA', 'ATCAATA', 'AAGATTT', 'AATAATT', 'AGGATAT', 'AATAATC', 'ATAATTT', 'AACATTC', 'AATGTTC', 'ATTAATT', 'TTTATTA', 'AATATAT', 'ATAAATT', 'TTGATAT', 'AATCTTT', 'TTTATTC', 'TATAATT', 'AATCTAA', 'ACTATTT', 'AATCTTT', 'AGTCTTT', 'TTGTTTT', 'AAGAATT', 'AATGATA', 'ATTACTT', 'ATTGCTT', 'ATGGTAA', 'ACTAATC', 'ATGGTAA', 'AAGCTTT', 'AATATTA', 'TATATTT', 'TTGCCTA', 'AATGTAA', 'AGTGTTT', 'GTTATTA', 'ATTATTT', 'ATTTTTT', 'AATATTA', 'TTTGTTT', 'ATAAATA', 'AATATTT', 'ATTCATT', 'TATCTTT', 'ATGCTTT', 'ATTGTAA', 'TTTCATT', 'TTTATTA', 'TATGTTA', 'AATATAT', 'AATATTT', 'TATATTT', 'ATTGATT', 'ATTGATA', 'AATATTT', 'ATTATAT', 'ATTATTT', 'AGTATTT', 'ATGAATT', 'ACTATTT', 'ATTCATA', 'ATTCTTC', 'ATTGTAT', 'TATCTAT', 'AATATAT', 'AATATAT', 'ATTATAA', 'AATCTAT', 'ATGATAT', 'ATAGATT', 'TTTAATT', 'AATCTTT', 'AATTTTT', 'AAGCATT', 'AATATAT', 'ATGATTT', 'AATATTC', 'AATCTTT', 'ATTGTTT', 'ATTTTTA', 'ATGATTT', 'ACTGTTT', 'TTTCTAT', 'TTGACTT', 'ATCATTA', 'AATAAAA', 'AATATTT', 'AGTATTT', 'ATCATAT', 'TTTCTTC', 'TTTAATT', 'ATTATAA', 'AATCATC', 'AAAATTT', 'AAGCATT', 'ATGATAT', 'TTTGTTT', 'GTTATTT', 'ATTGATT', 'TTTAATA', 'TGTATAT', 'AATATAT', 'ATGATAA', 'AAAGTTT', 'AAGTTTT', 'ATTCTTC', 'TTTATAT', 'AATGTAT', 'ATTGATT', 'AAACTTA', 'AACCTTT', 'AAGACAT', 'ATACATA', 'ATTCTTC', 'AACATTA', 'ATTTTAT', 'ATTATTT', 'AATAAAA', 'ATTCAAA', 'GTTATTT', 'ATGATTT', 'AAAATTT', 'ACTACTT', 'TTGATTT', 'ATGATAT', 'ATTATTT', 'ATTGAAA', 'ACTATAA', 'TATATTT', 'AATATAT', 'ATCATTT', 'TATATTT', 'ATTATCT', 'ATTGTAC', 'AATCTAT', 'ATACTTT', 'AATATTT', 'AAAACTA', 'AATATTT', 'TATCTAT', 'TATATAA', 'ATGGTTT', 'AAGCTTT', 'ATTATTA', 'ATGATAT', 'TTTGTTT', 'ATTCTAA', 'ATTCTTA', 'AATATTT', 'AATATTT', 'TATATTA', 'AATATAT', 'GTGATTT', 'AATGTTA', 'ATTCTAT', 'ATGGTTT', 'AATGTAA', 'ATTATTA', 'AATGTAA', 'ATTATAT', 'ATGAATA', 'ATTATAA', 'ATTCATT', 'AATCATA', 'AATGTTC', 'ATTATTT', 'ATTTTTT', 'TAGAATA', 'TTGATTT', 'ATTATAT', 'AACATAA', 'ATGAATT', 'ATTGTAT', 'ACGGTTT', 'AAGATTT', 'AATCCTT', 'ATTCTTT', 'ATTCTTT', 'ACTATTA', 'ATCGTTA', 'ATGCAAT', 'AGTATTT', 'AATATAA', 'TTGGATA', 'TAGATTT', 'ATCGTAT', 'TATATTA', 'AATGATA', 'AATAAAT', 'TATCTTT', 'ATTATTA', 'AATTTTT', 'ATGATTT', 'AATGTAT', 'TTTATTA', 'ATTCTAT', 'ACTATTA', 'AATAAAA', 'AATAAAA', 'TTTGTTT', 'AAGAATA', 'AATATTC', 'TAGAAAT', 'AGTGTTT', 'AGTAATT', 'TCTGTAA', 'AATATAA', 'TTGATTA', 'AATCCTA', 'AAGAATT', 'ATTGTAT', 'ATGATTT', 'AATATAT', 'ATTAAAT', 'ATTGTAA', 'TTTCTTA', 'AACATAA', 'ATACTTC', 'TCTCATT', 'ACTCTTT', 'ATTCTAT', 'AATTTTA', 'AATCTTT', 'AATCTTA', 'AATACTA', 'AATCAAT', 'AAGAAAA', 'AACATTT', 'ATTATTT', 'AATTTTT', 'ATAAATT', 'TATATTA', 'ATTCTTT', 'ATTTTTA', 'TTTCTTT', 'TATATAT', 'TATCTTT', 'TTTATTC', 'ATGATAA', 'ATTGATT', 'ATTCATT', 'ATTAATA', 'ATTCTTA', 'ATTGTAA', 'TTTGTTT', 'AAAATTA', 'AATATAT', 'TTTCTAT', 'AATCTTA', 'TTTGTTA', 'ATGCTTT', 'AATAATT', 'TTTAAAT', 'ATTCATA', 'ATAAAAT', 'ATTTTTT', 'ATTATAA', 'ATGAATT', 'TATCATA', 'AAAATTA', 'TAGCATT', 'AATAAAA', 'ATTAAAT', 'TATAATA', 'ATTGTTA', 'TTTAATT', 'ATTATAT', 'ATTCTTT', 'AATATTT', 'AATATGT', 'AATCTTA', 'ATGTTTT', 'AATGAAA', 'TTGATAC', 'ACTGTTT', 'TAGATTT', 'TCTGCTT', 'ATTGTTT', 'AAGATTT', 'ATGATTT', 'TTTAATA', 'AATCAAA', 'ATCACTT', 'AATACTT', 'ATCATTT', 'AATTTTT', 'TTTATTA', 'TTTGTTT', 'GATCTTT', 'ATTCATA', 'ACTCATT', 'AGTTTTT', 'AATGATA', 'AAGCATA', 'ATCATTT', 'AATTTTT', 'AAGGTAT', 'ATTATAT', 'ATGAATA', 'TATATTT', 'ATTGTTA', 'ATGACTC', 'AGAACAT', 'AACATGA', 'ATTATTA', 'AATATTT', 'AAGCTTT', 'ATAATAT', 'AAAATTT', 'ATTTTAT', 'ATTCATA', 'ATCATAA', 'AAGCTTT', 'ACTCTTT', 'AAGAAAT', 'ATTGTAT', 'ATGAATT', 'ATTTTGT', 'ATTATTT', 'AATGCTA', 'ATTCCTT', 'TAGCTTT', 'AAGAAAT', 'TTGGTTT', 'ATTATAT', 'ATTCCTT', 'ATGATTT', 'AAAATTT', 'AATGTTA', 'AAAATTT', 'ATTCTAT', 'AGTGTTT', 'AACCATT', 'TCTATTA', 'AATGATA', 'TATGTAA', 'AAGTTTT', 'AAAAAAA', 'TATATAA', 'AACATGT', 'ATGACTT', 'AATGTTC', 'TATCTTA', 'AATCTTT', 'AAAATTA', 'TTTCTTT', 'AGTATTT', 'AATTTTA', 'ATTGATC', 'ATTATAA', 'ATTCATA', 'AATGTTT', 'AATGTTA', 'ATTATAT', 'ATTATTA', 'TTTATAT', 'TTTCATT', 'TAGATAT', 'ATTCATT', 'AATATTA', 'TTGATAT', 'AACAATA', 'TTGATTA', 'AATAAAA', 'AGTATTT', 'ATCCTGT', 'ATGCTTA', 'TCTGTTC', 'ATTCTTC', 'AACAAAT', 'ACTAATT', 'AATGTAC', 'ATCAATT', 'ATGCTAT', 'ATGATAT', 'ATTGTTT', 'ATTGATA', 'ATGATTT', 'ATTACTT', 'AGTAATT', 'TTTAATT', 'AAGCTTA', 'ACTCCTA', 'ATTACTC', 'AGTATTT', 'TTTTTTT', 'ATGATTT', 'ATTAAAT', 'AATATTA', 'AACAATT', 'AATACAA', 'AATATTA', 'AGGGATT', 'ATTCAAT', 'AGGCTTT', 'ATGGTTT', 'TTTCTTA', 'TTGCTTT', 'AATACTT', 'AGTGTTT', 'ATTATTC', 'AATATTT', 'TACATTT', 'TTTAAAT', 'ATTGCTT', 'ATCAATA', 'ATGATTC', 'ATGATAA', 'TTTCTTT', 'AGGAATT', 'ACGCTTT', 'AAGGAAA', 'GTGGTTT', 'AATCAAA', 'TACATTA', 'AAACTTT', 'ATGCAAT', 'ATGCTTA', 'AATCCAA', 'AATAATT', 'TTTATTT', 'ATTGTAT', 'TTCGTTA', 'AAGAATT', 'AATATTA', 'ATTCATT', 'TTTATTT', 'TTCATTT', 'TATGCTC', 'ACTGTAT', 'AGTCTAA', 'ATTTTAT', 'AGGCAAT', 'ATTCCAC', 'ACTACTA', 'ATTCTAA', 'TTTCTTT', 'TTTATTT', 'ATTTTTT', 'ATTATTT', 'ACTATAT', 'AAAATAT', 'TGGGTTT', 'ATTGTTC', 'AATTTTT', 'ACTATTA', 'ATTATTA', 'AATAATA', 'TTTATTA', 'ATTCTAT', 'TTGGTTT', 'ATTAATT', 'ATTCTAT', 'AATACTA', 'ATGGTAT', 'AATCTAA', 'ATTCTTT', 'TTTCTAT', 'ATGATAT', 'AATGTTA', 'TTGGTTT', 'ATTGATA', 'TATGTTT', 'ATCATTT', 'TTCATTT', 'ATTGTTA', 'AAACTAT', 'ATCCATT', 'AATCCTA', 'TTCCAAT', 'ATGCTTA', 'ATGATAC', 'AGTATTT', 'ATTGATC', 'ATGATTT', 'ACTGTAT', 'AGTCATT', 'TTTCCTT', 'AGTCTTT', 'ATTGATA', 'TACAAAT', 'TTCCAAT', 'GTTATTT', 'ATGCTTT', 'ATTCATA', 'TTTGAAT', 'AAGAATA', 'AATATGA', 'AAGATTA', 'ATTGTAC', 'AATGTTA', 'TATGTTA', 'GTGGTTT', 'TTTGATT', 'TATGTAT', 'ATTATTA', 'ATTGTTA', 'AGGGATA', 'GTTCTAT']\n"
     ]
    }
   ],
   "source": [
    "k=7; v=1; t=20; n=80\n",
    "\n",
    "def readFasta(genome, n):\n",
    "    sequence = []\n",
    "    file = open(genome, \"r\")\n",
    "    sequence = []\n",
    "    for s in file:\n",
    "        if s[0] != \">\":\n",
    "            sequence.append(s.strip().upper())\n",
    "    sequenceStr = \"\".join(sequence)\n",
    "    \n",
    "    sequence = [sequenceStr[i:i+n] for i in range(0, len(sequenceStr), n)]\n",
    "    sequenceRet = [x for x in sequence if x]\n",
    "    return sequenceRet\n",
    "\n",
    "genome = \"Sequence_by_Peaks_8.fasta\" #path of your fasta seqs\n",
    "\n",
    "\n",
    "sequencesChip   = readFasta(genome, n)\n",
    "t = len(sequencesChip)\n",
    "print (sequencesChip[8], t, n, k)\n",
    "print(len(sequencesChip[len(sequencesChip) - 1]))\n",
    "\n",
    "s, bestScore = GreedyProfileMotifSearchIte(sequencesChip, t, n, k, 100)\n",
    "print (bestScore, s)\n",
    "motifs = extractSeqs(s, sequencesChip)\n",
    "print (motifs)"
   ]
  },
  {
   "cell_type": "markdown",
   "metadata": {},
   "source": [
    "13\\. Nous allons implémenter l'algorithme ``randomProjection``. Faire une fonction pour générer une projection de l à k, voir un exemple dans les slides de cours"
   ]
  },
  {
   "cell_type": "code",
   "execution_count": 53,
   "metadata": {},
   "outputs": [
    {
     "name": "stdout",
     "output_type": "stream",
     "text": [
      "[0, 3, 4, 5]\n"
     ]
    }
   ],
   "source": [
    "k=7 #taille de motif\n",
    "v=4 #nb de positions variable dans le motif\n",
    "t=20 #nb de sequences\n",
    "n=50 #longuer des sequence\n",
    "\n",
    "def getRandomFixePositions(k, n):\n",
    "    listR = []\n",
    "       \n",
    "    for i in range(n):\n",
    "        posHasard = random.randint(0, k-1)\n",
    "        while posHasard in listR:\n",
    "            posHasard = random.randint(0, k-1)\n",
    "        listR.append(posHasard)\n",
    "    return listR\n",
    "\n",
    "lR = getRandomFixePositions(7, 4)\n",
    "lR.sort()\n",
    "print (lR)\n",
    "\n",
    "def generateKey(positions, motif):\n",
    "    m = \"\"\n",
    "    for i in positions:\n",
    "        m = m + motif[i]\n",
    "    \n",
    "    return m\n",
    "\n",
    "\n",
    "def tousLesKmersList(seqs, k):\n",
    "    \"\"\"\n",
    "    List(String) -> List(String)\n",
    "    Rend la liste de tous les k-mers present dans les sequences de seqs\n",
    "    \"\"\"\n",
    "    List_des_Kmer = []\n",
    "    for sequence in seqs:\n",
    "        for i in range(len(sequence) - k + 1):\n",
    "            seq_i = \"\"\n",
    "            for j in range(k):\n",
    "                seq_i = seq_i + sequence[i+j]\n",
    "            List_des_Kmer.append(seq_i)\n",
    "            \n",
    "    return List_des_Kmer\n",
    "\n",
    "def removeLowComplexe(motifs, minrep):\n",
    "    validMotif = []\n",
    "    for mot in motifs:\n",
    "        if mot.count('A') < minrep and mot.count('C') < minrep and mot.count('G') < minrep and mot.count('T') < minrep:\n",
    "            validMotif.append(mot)\n",
    "    return validMotif\n",
    "\n",
    "\n",
    "def removeLowComplexePair(motifs):\n",
    "    validMotif = []\n",
    "    \n",
    "    for cle in motifs:\n",
    "        list_tmp = []\n",
    "        list_tmp.append(cle[0])\n",
    "        for i in range(2, len(cle), 2):\n",
    "            if cle[i] == list_tmp[0]:\n",
    "                list_tmp.append(cle[i])\n",
    "        cpt_pos_pair = len(list_tmp)\n",
    "        list_tmp = []\n",
    "        list_tmp.append(cle[1])\n",
    "        for i in range(3, len(cle), 2):\n",
    "            if cle[i] == list_tmp[0]:\n",
    "                list_tmp.append(cle[i])\n",
    "        cpt_pos_impair = len(list_tmp)\n",
    "        \n",
    "        if not cpt_pos_pair == ((len(cle) // 2) + 1) and not cpt_pos_impair == (len(cle) // 2):\n",
    "            validMotif.append(cle)\n",
    "              \n",
    "    return validMotif\n",
    "\n",
    "\n",
    "minrep = 5"
   ]
  },
  {
   "cell_type": "markdown",
   "metadata": {},
   "source": [
    "14\\. Implémenter l'algorithme ``randomProjection``."
   ]
  },
  {
   "cell_type": "code",
   "execution_count": 82,
   "metadata": {},
   "outputs": [
    {
     "name": "stdout",
     "output_type": "stream",
     "text": [
      "{'TAGT': 3, 'CTCC': 5, 'CCTT': 2, 'GTCG': 8, 'AGCC': 8, 'ACGT': 4, 'CTAC': 6, 'GCAC': 5, 'TCCG': 4, 'CGGA': 5, 'AATA': 2, 'AACC': 12, 'CCAG': 6, 'TGAT': 3, 'TCTA': 4, 'AACA': 4, 'CATC': 4, 'ACAT': 4, 'CCAT': 3, 'GTCA': 4, 'TCGA': 7, 'CAAC': 6, 'ACTC': 3, 'CCCG': 4, 'GGAA': 3, 'GACT': 5, 'GTGC': 6, 'CCGA': 8, 'AAGC': 5, 'GGAG': 9, 'AGCG': 12, 'CGGC': 6, 'CCAA': 4, 'CACC': 4, 'ACCG': 4, 'CGCA': 3, 'GCCC': 8, 'GCGC': 7, 'ACGA': 8, 'GAGC': 5, 'TGGG': 4, 'GGTA': 5, 'CAAG': 3, 'TGGC': 4, 'ATTC': 3, 'TCCC': 4, 'TCAA': 5, 'GATT': 7, 'CTTC': 4, 'AACT': 1, 'ATAT': 2, 'GTAG': 4, 'CGAC': 4, 'CACA': 3, 'GACG': 4, 'TCGC': 4, 'ACAC': 3, 'GCTC': 5, 'GCAG': 3, 'GGGA': 2, 'CAGT': 4, 'ATGA': 6, 'CACG': 7, 'GACC': 3, 'GCTG': 3, 'TGGA': 6, 'ACTT': 4, 'TGAG': 4, 'GGGT': 2, 'GTTA': 5, 'GAGA': 6, 'AGGT': 6, 'CTTG': 2, 'TTAA': 4, 'TAAC': 6, 'ACTG': 2, 'AGTA': 2, 'GAAA': 6, 'AAAT': 4, 'TTGT': 2, 'CTAA': 7, 'CAAA': 4, 'CAGG': 5, 'AGGC': 7, 'GCCT': 9, 'CTAG': 10, 'GGGG': 3, 'TGCC': 6, 'GATG': 5, 'CGTC': 4, 'TCGG': 2, 'AGCT': 3, 'TTTT': 2, 'GGTC': 8, 'CTGA': 6, 'AAGT': 1, 'TTCC': 1, 'ACAG': 4, 'GGTG': 5, 'GGAC': 6, 'GAGT': 4, 'AAGG': 3, 'TGCG': 2, 'CGAA': 5, 'TATG': 5, 'ATTG': 2, 'GGAT': 3, 'CGGT': 3, 'GACA': 4, 'GAGG': 3, 'CGTG': 6, 'CCAC': 4, 'TCAG': 3, 'CAGC': 6, 'CCCT': 7, 'TTCA': 3, 'ACGC': 8, 'ATAC': 5, 'CGAG': 2, 'TGCA': 3, 'GATC': 5, 'GCGT': 2, 'TAGG': 6, 'CGCG': 9, 'TCAT': 4, 'TCTG': 3, 'AGCA': 5, 'CTAT': 5, 'GTGA': 4, 'TGAA': 2, 'AACG': 4, 'ACCT': 9, 'TAAG': 3, 'CCTC': 1, 'TCCA': 7, 'TACT': 3, 'TCCT': 2, 'ATGT': 2, 'CTTT': 3, 'TGCT': 5, 'TATC': 2, 'ACCC': 2, 'ACTA': 4, 'CATA': 2, 'AAAA': 1, 'TACC': 5, 'GAAC': 6, 'TGGT': 2, 'CTCG': 3, 'AGTG': 3, 'GCTA': 4, 'CCGT': 3, 'TTAT': 3, 'GTCC': 2, 'CCTG': 7, 'TTTG': 2, 'AGAC': 2, 'GCTT': 2, 'GCCA': 5, 'TAGA': 3, 'CGCT': 1, 'GTTT': 5, 'GGGC': 2, 'CGGG': 4, 'AGAA': 5, 'CTGC': 3, 'CTGG': 4, 'GCAT': 2, 'AGAG': 7, 'AGGG': 2, 'CGTT': 3, 'ATAG': 3, 'ATAA': 2, 'ACAA': 2, 'GAAG': 3, 'GGCG': 1, 'TCAC': 3, 'CCCA': 4, 'CATG': 3, 'GCGA': 3, 'TGTC': 5, 'ACGG': 3, 'GGTT': 2, 'GTAT': 4, 'ATGG': 4, 'GTAA': 3, 'TACG': 3, 'CGTA': 1, 'CCGG': 3, 'TACA': 2, 'ATCG': 2, 'CGCC': 6, 'GCAA': 2, 'TGTA': 1, 'CTCA': 3, 'TGAC': 2, 'TCTT': 1, 'ATTT': 2, 'CATT': 2, 'TTGA': 2, 'AATC': 3, 'TCTC': 5, 'TATT': 4, 'TCGT': 3, 'ATCA': 3, 'TTAC': 2, 'GGCC': 1, 'AGTC': 3, 'TTGG': 5, 'TAAT': 4, 'AGGA': 2, 'GTGG': 4, 'AAAG': 3, 'GGCT': 3, 'GCGG': 3, 'ATCC': 2, 'ACCA': 2, 'TAAA': 4, 'GGCA': 2, 'GCCG': 2, 'TTAG': 2, 'GATA': 2, 'CAAT': 3, 'ATTA': 2, 'AGAT': 2, 'TTCG': 1, 'CACT': 2, 'ATCT': 2, 'AAGA': 3, 'CCGC': 1, 'TGTG': 2, 'AGTT': 3, 'CTTA': 3, 'CCTA': 1, 'TAGC': 1, 'CTCT': 2, 'TGTT': 1, 'AATG': 1, 'GTAC': 1, 'CAGA': 2, 'TTCT': 1, 'ATGC': 1, 'GTTC': 1, 'GTCT': 1}\n",
      "{'A': array([229., 230., 236., 228.]), 'C': array([247., 251., 253., 253.]), 'G': array([243., 244., 239., 249.]), 'T': array([198., 192., 189., 187.])}\n"
     ]
    }
   ],
   "source": [
    "def randomProjection(k, v, sequences):\n",
    "    motifs  = {}; motifsSeq  = {}\n",
    "    L_L_tuple = removeLowComplexe(tousLesKmersList(sequences, k), minrep)\n",
    "    L_L_tuple = removeLowComplexePair(L_L_tuple) #On enleve les motifs peu complexes\n",
    "    rfp = getRandomFixePositions(k, v)\n",
    "    \n",
    "    for mot in L_L_tuple:\n",
    "        m = generateKey(rfp, mot)\n",
    "        if m in motifs: \n",
    "            motifs[m] = motifs[m] + 1\n",
    "        else:\n",
    "            motifs[m] = 1\n",
    "        if m in motifsSeq:\n",
    "            motifsSeq[m].append(mot)\n",
    "        else:\n",
    "            motifsSeq[m] = [mot]\n",
    "    \n",
    "    return motifs, motifsSeq\n",
    "#motifsSort = sorted(motifs, reverse=True, key=motifs.get)\n",
    "motifs, motifsSeq = randomProjection(7, 4, sequences)\n",
    "print (motifs)\n",
    "#print(motifsSeq)\n",
    "p_test = profile_from_dict(motifs, 4)\n",
    "print(p_test)\n"
   ]
  },
  {
   "cell_type": "markdown",
   "metadata": {},
   "source": [
    "15\\. Avez vous trouvez le motif implanté? Rexécuter l’algorithme plusieurs fois pour le trouver. "
   ]
  },
  {
   "cell_type": "markdown",
   "metadata": {},
   "source": [
    "reponse: Sans itérations, le resultat depend GRANDEMENT de generateRandomS(sequences, k)"
   ]
  },
  {
   "cell_type": "markdown",
   "metadata": {},
   "source": [
    "16\\. Implémenter la version itérative de l’algorithme ``randomProjection``. "
   ]
  },
  {
   "cell_type": "code",
   "execution_count": 85,
   "metadata": {},
   "outputs": [
    {
     "name": "stdout",
     "output_type": "stream",
     "text": [
      "1012.0\n",
      "{'TCCA': 371, 'CTTT': 210, 'CCGC': 459, 'GCCT': 387, 'AGTG': 362, 'AACC': 438, 'CACT': 387, 'GCGC': 458, 'TGAC': 361, 'CTAG': 407, 'ACCA': 474, 'AAGA': 239, 'CATC': 385, 'TCCG': 321, 'CTAT': 333, 'TCAC': 374, 'ATCA': 321, 'CATA': 347, 'ACCC': 495, 'CATT': 291, 'CCAC': 439, 'AGAA': 260, 'TACC': 406, 'CTCA': 407, 'ACGC': 552, 'CAAC': 451, 'GCTG': 381, 'GGCA': 441, 'GGAT': 349, 'CGCC': 447, 'ACGA': 433, 'CAGC': 559, 'GCGG': 452, 'AGCG': 489, 'CAAG': 438, 'CCCC': 192, 'CCGA': 523, 'ACAC': 509, 'CACG': 524, 'GGCC': 493, 'GGAC': 467, 'AGCC': 556, 'GAGA': 369, 'TCGG': 344, 'ATAG': 291, 'GAGG': 472, 'CGCA': 496, 'TCTG': 269, 'ACCT': 390, 'TAAC': 349, 'TTTC': 180, 'GTCA': 400, 'CGAT': 418, 'ACTC': 391, 'AATA': 229, 'AAGT': 320, 'GACT': 362, 'CGAG': 441, 'CCAA': 463, 'GCCA': 513, 'ATCC': 375, 'GAGC': 421, 'GGTG': 351, 'CGAA': 450, 'ACGT': 421, 'CAGA': 453, 'TCCC': 261, 'GTGA': 388, 'TGCG': 404, 'ATTA': 252, 'AAGC': 451, 'GAGT': 344, 'TGTG': 226, 'GTAG': 420, 'GGGA': 424, 'ATGG': 372, 'CAGT': 405, 'AAAG': 216, 'TACT': 305, 'TTGA': 288, 'ATAC': 338, 'GATA': 285, 'AGTA': 285, 'TAAT': 244, 'CGTA': 430, 'TCGA': 419, 'GTAT': 322, 'GGGG': 227, 'ACTG': 395, 'CGGT': 331, 'GCCG': 498, 'TGAG': 395, 'TTGC': 283, 'CGGG': 396, 'TCTC': 232, 'ATTG': 284, 'TAGT': 298, 'CTCT': 254, 'CGTT': 272, 'ATGC': 430, 'GACG': 512, 'GGAG': 473, 'AGTC': 362, 'GAAA': 238, 'TAAG': 316, 'CTGG': 360, 'TTAG': 297, 'AATT': 242, 'CCAG': 533, 'GCAT': 389, 'TAGC': 392, 'CTGC': 331, 'CCGG': 407, 'ACAG': 435, 'AGCA': 457, 'AACG': 434, 'TCGC': 367, 'GAAG': 379, 'CCTA': 378, 'TCGT': 233, 'GCAA': 428, 'AAAA': 131, 'CACC': 453, 'TCAG': 404, 'GACA': 441, 'GGTC': 370, 'TATG': 296, 'TTCC': 259, 'CTGT': 258, 'CGCT': 391, 'GCTT': 295, 'GGGT': 333, 'ATGA': 301, 'CGCG': 417, 'TTCA': 281, 'CTCG': 378, 'TTTA': 217, 'GCTC': 415, 'TGTC': 280, 'ATTT': 244, 'CCGT': 381, 'AATC': 308, 'AACA': 316, 'TCAT': 276, 'CAAA': 351, 'TATA': 254, 'GTAA': 331, 'GGTT': 273, 'ACGG': 461, 'AAAT': 226, 'GCCC': 408, 'TCCT': 254, 'GTGT': 270, 'CGAC': 533, 'GATC': 400, 'GGAA': 378, 'AGGT': 388, 'CACA': 463, 'GCAC': 476, 'TGGA': 375, 'GTGG': 340, 'CGGC': 475, 'CTTG': 291, 'GCGT': 352, 'GGCT': 329, 'GCAG': 528, 'CTGA': 364, 'ATCG': 371, 'TGCC': 373, 'CCTT': 246, 'CCCG': 429, 'ACCG': 500, 'AGGG': 394, 'AATG': 316, 'TCAA': 321, 'AGTT': 298, 'TGAT': 290, 'CAGG': 497, 'GAAC': 436, 'AGCT': 402, 'GGCG': 418, 'ACAT': 355, 'GTCC': 404, 'TGGG': 340, 'ATTC': 293, 'GATG': 385, 'CCTG': 395, 'AGGC': 522, 'AAGG': 361, 'AGAC': 444, 'AAAC': 310, 'TTAC': 330, 'TCTA': 342, 'GATT': 266, 'TACA': 340, 'TTTG': 155, 'CCAT': 382, 'GCTA': 408, 'TGAA': 319, 'TTCT': 212, 'GTTC': 275, 'CGTG': 389, 'GTCT': 293, 'CGTC': 339, 'TAGA': 345, 'CTCC': 299, 'GTAC': 400, 'TGTT': 193, 'AGAT': 321, 'GCGA': 499, 'GTGC': 370, 'TGGC': 381, 'TTGG': 292, 'GTTG': 224, 'CAAT': 348, 'ACTA': 325, 'ATAA': 240, 'CGGA': 527, 'ACTT': 328, 'TACG': 409, 'AACT': 347, 'ACAA': 334, 'GACC': 548, 'GTCG': 377, 'TCTT': 220, 'ATGT': 313, 'TGTA': 278, 'TATT': 255, 'CTTA': 291, 'CTAA': 337, 'TGCA': 390, 'GGGC': 404, 'CCTC': 278, 'AGAG': 344, 'TTTT': 109, 'CCCT': 299, 'ATAT': 207, 'GGTA': 355, 'TAGG': 378, 'ATCT': 326, 'TATC': 329, 'AGGA': 398, 'TTCG': 246, 'TTGT': 149, 'GTTA': 278, 'TTAA': 248, 'CTAC': 364, 'CCCA': 471, 'CTTC': 259, 'GAAT': 272, 'CATG': 431, 'TAAA': 228, 'GTTT': 175, 'TTAT': 212, 'TGCT': 297, 'TGGT': 244}\n"
     ]
    }
   ],
   "source": [
    "def randomProjIt(sequences, k, v, It):\n",
    "    total_score=[]\n",
    "    total_seqsMotifs=[]\n",
    "    total_score_dict = {} #dictionnaire des occurences\n",
    "    \n",
    "    for i in range(It):\n",
    "        score, seqsMotif = randomProjection(k, v, sequences)\n",
    "        \n",
    "        p_score = profile_from_dict(score, v)\n",
    "        score_t = getScore(p_score, v)\n",
    "        \n",
    "        for cle in score:\n",
    "            if cle in total_score_dict:\n",
    "                total_score_dict[cle] = total_score_dict[cle] + score[cle]\n",
    "            else:\n",
    "                total_score_dict[cle] = score[cle]\n",
    "        \n",
    "        total_score.append(score_t)\n",
    "        total_seqsMotifs.append(seqsMotif)\n",
    "    \n",
    "    J = maximumIndice(total_score)\n",
    "        \n",
    "    return total_score[J], total_seqsMotifs[J], total_score_dict\n",
    "\n",
    "    #ou alors ...(ce que j'avais fait au debut...)\n",
    "    \"\"\"\n",
    "    total_score={}\n",
    "    total_seqsMotifs={}\n",
    "    \n",
    "    for i in range(It):\n",
    "        score, seqsMotif = randomProjection(k, v, sequences)\n",
    "        \n",
    "        for cle in score:\n",
    "            if cle in total_score:\n",
    "                total_score[cle] = total_score[cle] + score[cle]\n",
    "            else:\n",
    "                total_score[cle] = score[cle]\n",
    "            if cle in total_seqsMotifs:\n",
    "                for mot in seqsMotif[cle]:\n",
    "                    if mot not in total_seqsMotifs[cle]:\n",
    "                        total_seqsMotifs[cle].append(mot)\n",
    "            else:\n",
    "                total_seqsMotifs[cle] = seqsMotif[cle]\n",
    "    return total_score, total_seqsMotifs\n",
    "    \"\"\"\n",
    "        \n",
    "\n",
    "score, seqsMotif, total_score_dict = randomProjIt(sequences, 7, 4, 100)\n",
    "\n",
    "print (score)\n",
    "print(total_score_dict)\n",
    "#print(seqsMotif)"
   ]
  },
  {
   "cell_type": "markdown",
   "metadata": {},
   "source": [
    "17\\. Tester l'algorithme  ``randomProjection`` sur vos données de chipSeq. Puis générér le LOGO du motif trouvé"
   ]
  },
  {
   "cell_type": "code",
   "execution_count": 99,
   "metadata": {},
   "outputs": [
    {
     "name": "stdout",
     "output_type": "stream",
     "text": [
      "71196.0\n",
      "[('TATA', 50409), ('TTAA', 50348), ('AATT', 49534), ('ATAT', 49446), ('ATTA', 49336), ('TAAT', 49313), ('TTTA', 44805), ('TATT', 44046), ('TTAT', 43830), ('ATTT', 43810), ('TAAA', 40218), ('AAAT', 39989), ('AATA', 39599), ('ATAA', 39530), ('GTAT', 35318), ('TTGA', 35012), ('GATT', 34614), ('ATTG', 34560), ('TATG', 34302), ('GTTA', 34281), ('TTCA', 34096), ('AGTT', 34089), ('CATT', 33846), ('ATTC', 33797), ('GAAT', 33790), ('TATC', 33747), ('TGTA', 33681), ('TGAT', 33665), ('CTAT', 33565), ('AATG', 33544), ('TAGT', 33530), ('TTAG', 33487), ('TGAA', 33362), ('GTAA', 33320), ('ACTT', 33281), ('TAGA', 33271), ('ATGT', 33211), ('ATGA', 32875), ('TAAG', 32826), ('TCTA', 32752), ('TACT', 32739), ('ATCT', 32717), ('AATC', 32709), ('TCAT', 32596), ('ATAG', 32593), ('GATA', 32477), ('CTTA', 32453), ('CAAT', 32395), ('AGAT', 32354), ('AAGT', 32343), ('AGTA', 32144), ('TTAC', 32110), ('TACA', 32008), ('CTAA', 31978), ('ATAC', 31962), ('ATCA', 31435), ('ACAT', 31340), ('TCAA', 31329), ('TAAC', 31141), ('TTTG', 30915), ('CATA', 30866), ('ACTA', 30795), ('CTTT', 30488), ('TTTC', 30486), ('AACT', 30375), ('TTCT', 30234), ('TGTT', 30212), ('GTTT', 30183), ('TTGT', 30179), ('TCTT', 29542), ('AAAG', 27962), ('AAGA', 27364), ('AAAC', 27254), ('AGAA', 27089), ('GAAA', 27077), ('AACA', 26539), ('CAAA', 26519), ('ACAA', 26160), ('GTGT', 25249), ('GGTT', 24811), ('GTTG', 24613), ('TGGT', 24460), ('TGTG', 24273), ('TTGG', 24236), ('TCCT', 23918), ('TTCC', 23778), ('TCTC', 23676), ('CCTT', 23663), ('CTCT', 23585), ('ACAC', 23494), ('CTTC', 23468), ('GGAT', 23371), ('GAGT', 23350), ('ACCA', 23265), ('AACC', 23171), ('TGGA', 23059), ('CTTG', 22914), ('GTGA', 22842), ('CAAC', 22829), ('CACA', 22800), ('AGGA', 22777), ('ACTC', 22770), ('CTCA', 22763), ('GGAA', 22709), ('CCAA', 22699), ('CCAT', 22696), ('AGTG', 22678), ('GTCT', 22601), ('GCTT', 22587), ('CACT', 22587), ('ATCC', 22560), ('AAGG', 22560), ('TGCT', 22534), ('CATC', 22525), ('TCCA', 22513), ('TGTC', 22449), ('TAGG', 22449), ('AGAG', 22399), ('GATG', 22358), ('ATGG', 22314), ('TCTG', 22259), ('GAGA', 22217), ('GGTA', 22202), ('TGAG', 22160), ('TTGC', 22105), ('CTAC', 22084), ('AGGT', 22044), ('TACC', 22005), ('TCGT', 22000), ('GTAG', 21996), ('GAAG', 21994), ('CGTT', 21953), ('ACCT', 21894), ('CTGT', 21772), ('CCTA', 21654), ('GTTC', 21624), ('TCAC', 21573), ('TTCG', 21546), ('GCAT', 21514), ('ATGC', 21310), ('AGTC', 21197), ('CATG', 21120), ('TGCA', 21109), ('TTTT', 21016), ('ACTG', 20980), ('AGAC', 20827), ('CTAG', 20808), ('GTCA', 20771), ('CAGT', 20768), ('ACAG', 20682), ('TCGA', 20646), ('GACT', 20624), ('TAGC', 20538), ('TGAC', 20512), ('AAGC', 20473), ('GCTA', 20471), ('TCAG', 20461), ('CTGA', 20404), ('CGAT', 20340), ('AGCT', 20148), ('CAAG', 20108), ('ACGT', 20048), ('ATCG', 20003), ('GATC', 19977), ('TACG', 19921), ('AGCA', 19894), ('CAGA', 19847), ('GACA', 19824), ('GCAA', 19819), ('ACGA', 19790), ('CGAA', 19784), ('GTAC', 19677), ('CGTA', 19609), ('AACG', 19429), ('GAAC', 19252), ('AAAA', 18700), ('GGGT', 15124), ('CCCA', 14790), ('ACCC', 14684), ('CCCT', 14345), ('TGGG', 14180), ('CCAC', 14042), ('GGTG', 14040), ('GCGT', 14025), ('CCTC', 13893), ('TCCC', 13874), ('GCCT', 13860), ('CCTG', 13857), ('CACC', 13838), ('GTGG', 13835), ('GGCT', 13775), ('TCGG', 13716), ('GCTG', 13676), ('TGGC', 13611), ('TGCC', 13595), ('CGCT', 13574), ('CTCC', 13558), ('CGTG', 13552), ('TCGC', 13357), ('CTCG', 13311), ('CGGT', 13307), ('AGCC', 13287), ('CGCA', 13174), ('GTCG', 13108), ('ACGC', 13097), ('CCAG', 13077), ('TGCG', 13072), ('GTGC', 13068), ('CCGT', 13067), ('CTGG', 13053), ('TCCG', 12995), ('GGAG', 12950), ('CGAC', 12942), ('GGTC', 12936), ('AGGC', 12910), ('GCCA', 12900), ('ACCG', 12899), ('GGGA', 12874), ('CGTC', 12788), ('CACG', 12760), ('CTGC', 12745), ('AGGG', 12689), ('GCTC', 12677), ('GAGG', 12659), ('GTCC', 12599), ('GGCA', 12583), ('GCGA', 12554), ('CAGG', 12500), ('CGGA', 12456), ('GCAG', 12389), ('ACGG', 12339), ('CAGC', 12324), ('GCAC', 12303), ('AGCG', 12273), ('CGAG', 12260), ('CCGA', 12241), ('GACC', 12170), ('GGAC', 12096), ('GAGC', 11965), ('GACG', 11869), ('CCCG', 7446), ('CCGG', 7346), ('CGCG', 7267), ('CGCC', 7265), ('CGGC', 7258), ('GCCG', 7129), ('GCGC', 7110), ('GGCC', 7080), ('GCGG', 7066), ('CCGC', 6991), ('CGGG', 6958), ('GCCC', 6846), ('GGGC', 6795), ('GGCG', 6747), ('CCCC', 5109), ('GGGG', 4687)]\n",
      "TTATTTA\n"
     ]
    },
    {
     "data": {
      "text/plain": [
       "'\\ntest_L_val_cle = element_des_lists_valeur(seqsMotif)\\ntest_profil = profile(test_L_val_cle, 7, t)\\nprint(test_profil)\\nconc = concensus(test_profil, 7)\\nprint(conc)\\n'"
      ]
     },
     "execution_count": 99,
     "metadata": {},
     "output_type": "execute_result"
    }
   ],
   "source": [
    "k=7; v=1; t=len(sequencesChip); n=80\n",
    "\n",
    "score, seqsMotif, total_score_dict = randomProjIt(sequencesChip, 7, 4, 100)\n",
    "print(score)\n",
    "total_score_dict = sorted(total_score_dict.items(), reverse = True) #donne une liste de tuple ordonné\n",
    "total_score_dict = sorted(total_score_dict,key = lambda x : x[1] , reverse = True) #liste triée selon les valeur de cles\n",
    "print(total_score_dict)\n",
    "#print(seqsMotif)\n",
    "\n",
    "def element_des_lists_valeur(dic):\n",
    "    \"\"\"\n",
    "    Dict -> List[String]\n",
    "    Rend la liste des motifs des valeur de chaque cle de dic\n",
    "    \"\"\"\n",
    "    L = []\n",
    "    for cle in dic:\n",
    "        for mot in dic[cle]:\n",
    "            L.append(mot)\n",
    "    \n",
    "    return L\n",
    "\n",
    "def concensus(P,k):\n",
    "    concen = \"\"\n",
    "    L_tmp = []\n",
    "    \n",
    "    for cle in P:\n",
    "        for i in range(len(nuc)):\n",
    "            L_tmp.append(P[cle])\n",
    "    \n",
    "    for i in range(k):\n",
    "        maxi_tmp = []\n",
    "        for j in range(len(L_tmp)):\n",
    "            maxi_tmp.append(L_tmp[j][i])\n",
    "        for cle in P:\n",
    "            if P[cle][i] == max(maxi_tmp):\n",
    "                concen = concen + cle\n",
    "                break\n",
    "    return concen\n",
    " \n",
    "#test perso...  \n",
    "m1, n1 = total_score_dict[0]\n",
    "\n",
    "p_t = profile(seqsMotif[m1], 7, t)\n",
    "conc = concensus(p_t, 7)\n",
    "print(conc)\n",
    "\"\"\"\n",
    "test_L_val_cle = element_des_lists_valeur(seqsMotif)\n",
    "test_profil = profile(test_L_val_cle, 7, t)\n",
    "print(test_profil)\n",
    "conc = concensus(test_profil, 7)\n",
    "print(conc)\n",
    "\"\"\"\n"
   ]
  },
  {
   "cell_type": "code",
   "execution_count": null,
   "metadata": {},
   "outputs": [],
   "source": []
  },
  {
   "cell_type": "code",
   "execution_count": null,
   "metadata": {},
   "outputs": [],
   "source": []
  }
 ],
 "metadata": {
  "celltoolbar": "Raw Cell Format",
  "kernelspec": {
   "display_name": "Python 3",
   "language": "python",
   "name": "python3"
  },
  "language_info": {
   "codemirror_mode": {
    "name": "ipython",
    "version": 3
   },
   "file_extension": ".py",
   "mimetype": "text/x-python",
   "name": "python",
   "nbconvert_exporter": "python",
   "pygments_lexer": "ipython3",
   "version": "3.7.4"
  }
 },
 "nbformat": 4,
 "nbformat_minor": 2
}
