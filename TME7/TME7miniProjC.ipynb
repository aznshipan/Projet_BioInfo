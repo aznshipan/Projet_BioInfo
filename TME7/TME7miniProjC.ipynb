{
 "cells": [
  {
   "cell_type": "markdown",
   "metadata": {},
   "source": [
    "# TME 7 : Mini-projet Detection de motifs\n",
    "\n",
    "\n",
    "## Partie C : Recheche de pattern (motifs) en utilisant les algoritmes randomisés\n",
    "\n",
    "Les algorithmes randomisés prendre des décisions aléatoire plutôt que déterministes.\n",
    "l'algorithme s'exécute différemment à chaque fois. Ils sont couramment utilisés dans situations où aucun algorithme exact et rapide est connu. Nous allons implémenter deux algorithmes randomisés pour la recherche de motifs : Greedy Profile Motif Search et random Projections.\n"
   ]
  },
  {
   "cell_type": "markdown",
   "metadata": {},
   "source": [
    "1\\. Nous allons réutiliser les fonctions du TME6 pour générer t séquences artificielles de taille n, et implanter dans chaque séquence un motif de taille k à des positions aléatoires avec v substitutions choisies aléatoirement."
   ]
  },
  {
   "cell_type": "code",
   "execution_count": 1,
   "metadata": {},
   "outputs": [],
   "source": [
    "import random\n",
    "import numpy as np\n",
    "import copy\n",
    "\n",
    "nuc = ('A', 'C', 'G', 'T')\n",
    "\n",
    "k=7 #taille de motif\n",
    "v=4 #nb de positions variable dans le motif\n",
    "t=20 #nb de sequences\n",
    "n=50 #longuer des sequence\n",
    "\n",
    "def generateRandomSequence(n, I):\n",
    "    seq_tmp = \"\"\n",
    "    \n",
    "    if I == True:\n",
    "        for i in range(n):\n",
    "            seq_tmp = seq_tmp + random.choice(nuc)\n",
    "    else:\n",
    "        for i in range(n):\n",
    "            seq_tmp = seq_tmp + random.choice(nuc).lower()\n",
    "\n",
    "    return seq_tmp\n",
    "    \n",
    "\n",
    "def generateRandomSequences(n, t):\n",
    "    sequences = [generateRandomSequence(n, True) for i in range(t)]\n",
    "   \n",
    "    return sequences\n",
    "\n",
    "\n",
    "def implantMotifVar(k, v, t, n):\n",
    "    sequences = generateRandomSequences(n, t)\n",
    "    motif = generateRandomSequence(k, True)\n",
    "    print(\"Motif : \", motif)\n",
    "    \n",
    "    for i in range(len(sequences)):\n",
    "        L_seq = list(sequences[i])\n",
    "        L_motif = list(motif)\n",
    "        for nb_mutation in range(v):\n",
    "            index_mutation_motif = random.randint(0,len(motif) - 1)\n",
    "            L_motif[index_mutation_motif] = random.choice(nuc)\n",
    "        chn_motif_mute = \"\".join(L_motif)\n",
    "        print(chn_motif_mute)\n",
    "        L_seq.insert(random.randint(0, len(L_seq) - 1), chn_motif_mute)\n",
    "        \n",
    "        sequences[i] = \"\".join(L_seq)\n",
    "    return sequences\n"
   ]
  },
  {
   "cell_type": "code",
   "execution_count": 2,
   "metadata": {},
   "outputs": [
    {
     "name": "stdout",
     "output_type": "stream",
     "text": [
      "Motif :  AGCACGA\n",
      "AGCACTA\n",
      "ATGACGT\n",
      "AACGAGA\n",
      "AGTGCGA\n",
      "AATAGGA\n",
      "CGGACGT\n",
      "TGCGCTA\n",
      "AGAAATT\n",
      "AACACGA\n",
      "ATCTCGG\n",
      "AGCTCGA\n",
      "AGCGCGA\n",
      "AGTACGT\n",
      "ACCATTA\n",
      "AGCGCTA\n",
      "CGCATTA\n",
      "TGCACGG\n",
      "CGGAAGG\n",
      "AGGACGG\n",
      "AGTACGA\n",
      "['GGTTACGAGAGGATCTCTTTTTTGGTACGAAGGTGGAAGCACTATGCCTATTAGCTA', 'TTCTGTACTAGCCCTTCTACTGCGGATGACGTCACCACTGGCTATCTTGAGTAAATT', 'AATTGATCGCTCTTCTAGGAACGAGAACTACGGGACGTATATGCACAATTCGATACC', 'GTGCCTTTTATGTATGAAGTAAGTGCGATACTGCGAACCATCAACAATTACTCCCGA', 'ATAAAAATACGCCATAGGCCTTGTGCCTAAGGAGGCGTCCGTTACAACGAATAGGAA', 'CGAAGCGCTTGATCTGTCGTCTCCCCCTGCTAGGATAAAAGGGCCGGACGTCGCACC', 'CAAGTAACCAGGTCAACTTGCTGTTGCGCTAATTAACGAAATGACAATTCCCCAGGG', 'GTGGATTACACCGTGTATCTGGCAACCAGAAATTCCGAATCTCGCCAGTTTTACGCC', 'CTAACACGACACGCGCATTCAACATCTCTGAATCTAGTGCATTTACTGTGAGTAGTT', 'CGGCGTATTCACATAGGGTCTTCTGTGTAACAGCATAGGGTTCTGTAATCTCGGGCG', 'TAAAGGCCCAGCCGCGACCGTGGTATTCACGTACACTGACTCTACACCCAGCTCGAC', 'CAAGTCGGACTCTGCAGGATTAGCGCGAGAGTTGTTTGTGATCCGAACGTGCTCAGA', 'ACTAGTACGTAGCGTTTACTACTCCTATGCGGTTTCCCGCCACTTAGGGGAACCTGG', 'TGATATCCCACCATTAACCAAGAGAGATCATATTCTGCCAAGTATAATGAGTTACCC', 'AATTCCCTGCTAGCGCTATCATTTTCTGCGCGGGGGGAGAAGTGGTAGGAAAGAATT', 'TGGTCATCGAATGTGCAGTTAACGCATTATCTAAGTTGCTTGTTATAGGAACCCAAT', 'TTGCACGGCTTCTTACTCTCGGCGCTCTGTAGCTTTGTCCGGATTCGACATCAATCA', 'TCTGCCGGAAGGATCTGTGCAGCCTAATCAAATTTAGCCCCGTGCAGAAGTGCCTAC', 'TGGTTTATTCTAGGACGGATAACGCGGGAGTGTAGCGGGTTAATCGCACCGTCACCC', 'AATGTAGTACGATCAGGATACCCGCATTCGCAGTTCGGACGCTTGTGACGCGGTCCC']\n"
     ]
    }
   ],
   "source": [
    "#generate and implant variavel motifs\n",
    "\n",
    "\n",
    "sequences = implantMotifVar(k, v, t, n)\n",
    "print (sequences)\n"
   ]
  },
  {
   "cell_type": "markdown",
   "metadata": {},
   "source": [
    "2\\. Faire une fonction pour sélectionner des positions de départ aléatoirement s = (s1, …,st).\n"
   ]
  },
  {
   "cell_type": "code",
   "execution_count": 3,
   "metadata": {},
   "outputs": [
    {
     "name": "stdout",
     "output_type": "stream",
     "text": [
      "[27, 22, 19, 41, 4, 16, 2, 36, 46, 24, 26, 49, 22, 5, 42, 34, 48, 41, 39, 44]\n",
      "20\n"
     ]
    }
   ],
   "source": [
    "#creating vector s\n",
    "#Get t random positions from 0 to n - k\n",
    "def generateRandomS(sequences, k):\n",
    "    s = []\n",
    "    for i in range(t):\n",
    "        s.append(random.randint(0, len(sequences[i]) - k))\n",
    "    return s\n",
    "\n",
    "s = generateRandomS(sequences, k)\n",
    "print (s)\n",
    "print(len(s))"
   ]
  },
  {
   "cell_type": "markdown",
   "metadata": {},
   "source": [
    "3\\. Extraire les motifs en utilisant le vecteur s, et construire un profile. Attention, utiliser les pseudocount 1 pour éviter les probabilités zéro.\n"
   ]
  },
  {
   "cell_type": "code",
   "execution_count": 4,
   "metadata": {},
   "outputs": [
    {
     "name": "stdout",
     "output_type": "stream",
     "text": [
      "['CGAAGGT', 'CGGATGA', 'AACGAGA', 'CAACAAT', 'AAATACG', 'TCGTCTC', 'AGTAACC', 'GAATCTC', 'TGTGAGT', 'GTGTAAC', 'TCACGTA', 'TGCTCAG', 'TCCTATG', 'TCCCACC', 'TGGTAGG', 'GTTGCTT', 'CATCAAT', 'GTGCAGA', 'TTAATCG', 'GTGACGC']\n",
      "{'A': array([ 4.,  6.,  7.,  6., 12.,  5.,  5.]), 'C': array([5., 5., 5., 6., 6., 5., 7.]), 'G': array([6., 7., 7., 4., 3., 8., 6.]), 'T': array([9., 6., 5., 8., 3., 6., 6.])}\n"
     ]
    }
   ],
   "source": [
    "#extract sequences from seqs\n",
    "def extractSeqs(s, seqs):\n",
    "    motifs = []\n",
    "    for i in range(len(s)):\n",
    "        seq_tmp = \"\"\n",
    "        for j in range(s[i], s[i] + k):\n",
    "            seq_tmp = seq_tmp + seqs[i][j]\n",
    "        motifs.append(seq_tmp)        \n",
    "    \n",
    "    return motifs\n",
    "        \n",
    "motifs = extractSeqs(s, sequences)\n",
    "print (motifs)\n",
    "\n",
    "#construct Profiles\n",
    "def profile(motifs, k, t):\n",
    "    q = len(nuc)\n",
    "    PWM = np.ones((q, k))#pseudo count\n",
    "    \n",
    "    L = [x for x in nuc]\n",
    "    \n",
    "    dictionnaire = {}\n",
    "    for i in range(len(L)):\n",
    "        dictionnaire[L[i]] = PWM[i]\n",
    "    \n",
    "    for i in range(k):\n",
    "        for j in range(len(motifs)):\n",
    "            dictionnaire[motifs[j][i]][i] = dictionnaire[motifs[j][i]][i] + 1\n",
    "            \n",
    "    #print(dictionnaire)\n",
    "    for i in range(q):\n",
    "        PWM[i] = dictionnaire[L[i]]\n",
    "    \n",
    "    #print(PWM)\n",
    "            \n",
    "    return dictionnaire\n",
    "\n",
    "pro = profile(motifs, k, t)\n",
    "print(pro)"
   ]
  },
  {
   "cell_type": "markdown",
   "metadata": {},
   "source": [
    "4\\. Transformer le Profile en PWM. Il faut diviser chaque élément par la somme de ses colonnes."
   ]
  },
  {
   "cell_type": "code",
   "execution_count": 5,
   "metadata": {},
   "outputs": [
    {
     "name": "stdout",
     "output_type": "stream",
     "text": [
      "{'A': array([0.16666667, 0.25      , 0.29166667, 0.25      , 0.5       ,\n",
      "       0.20833333, 0.20833333]), 'C': array([0.20833333, 0.20833333, 0.20833333, 0.25      , 0.25      ,\n",
      "       0.20833333, 0.29166667]), 'G': array([0.25      , 0.29166667, 0.29166667, 0.16666667, 0.125     ,\n",
      "       0.33333333, 0.25      ]), 'T': array([0.375     , 0.25      , 0.20833333, 0.33333333, 0.125     ,\n",
      "       0.25      , 0.25      ])}\n",
      "{'A': array([ 4.,  6.,  7.,  6., 12.,  5.,  5.]), 'C': array([5., 5., 5., 6., 6., 5., 7.]), 'G': array([6., 7., 7., 4., 3., 8., 6.]), 'T': array([9., 6., 5., 8., 3., 6., 6.])}\n"
     ]
    }
   ],
   "source": [
    "#Somme des colonnes est toujours = t + len(nuc) = 24\n",
    "def somme_colonnes(profile):\n",
    "    colonne = []\n",
    "    for i in range(k):\n",
    "        s = 0\n",
    "        for j in nuc:\n",
    "            s = s + profile[j][i]\n",
    "        colonne.append(s)\n",
    "    return colonne\n",
    "\n",
    "def PWM(profile):\n",
    "    s_colonne = somme_colonnes(profile)\n",
    "    profile_modifie = copy.deepcopy(profile)\n",
    "    \n",
    "    for i in range(k):\n",
    "        for j in profile_modifie:\n",
    "            profile_modifie[j][i] = profile_modifie[j][i] / s_colonne[i]\n",
    "    \n",
    "    return profile_modifie\n",
    "\n",
    "pwm = PWM(pro)\n",
    "print(pwm)\n",
    "print(pro)"
   ]
  },
  {
   "cell_type": "markdown",
   "metadata": {},
   "source": [
    "5\\. Faire une fonction pour calculer la probabilité d'un motif de taille k selon une PWM.\n"
   ]
  },
  {
   "cell_type": "code",
   "execution_count": 6,
   "metadata": {},
   "outputs": [],
   "source": [
    "def probability(PWM, seq):\n",
    "    \"\"\"\n",
    "    Hypothese : on suppose que la taille de seq est egale a la taille d'une valeur de PWM\n",
    "    \"\"\"\n",
    "    prob = 1\n",
    "    \n",
    "    for i in range(len(seq)):\n",
    "        prob = prob * PWM[seq[i]][i]\n",
    "        \n",
    "    return prob\n",
    "\n"
   ]
  },
  {
   "cell_type": "markdown",
   "metadata": {},
   "source": [
    "6\\. Faire une fonction pour calculer le pMostProbkmer d'une séquence, voir un exemple dans les slides de cours."
   ]
  },
  {
   "cell_type": "code",
   "execution_count": 7,
   "metadata": {},
   "outputs": [
    {
     "name": "stdout",
     "output_type": "stream",
     "text": [
      "3\n"
     ]
    }
   ],
   "source": [
    "def tousLesKmers(ADN, k):\n",
    "    \"\"\"\n",
    "    String -> List(String)\n",
    "    Rend la liste de tous les k-mers present dans ADN\n",
    "    \"\"\"\n",
    "    List_des_Kmer = []\n",
    "    for i in range(len(ADN)-k+1):\n",
    "        seq_i = \"\"\n",
    "        for j in range(k):\n",
    "            seq_i = seq_i + ADN[i+j]\n",
    "        List_des_Kmer.append(seq_i)\n",
    "    return List_des_Kmer\n",
    "\n",
    "def pMostProbkmer(P, k, sequence):\n",
    "    maxProb = 0\n",
    "    s = 0 # position du k-mer le plus probable dans la sequence    \n",
    "    L_kmer = tousLesKmers(sequence, k)\n",
    "    \n",
    "    for kmer in L_kmer:\n",
    "        if probability(P, kmer) > maxProb:\n",
    "            maxProb = probability(P, kmer)\n",
    "            s = sequence.find(kmer)\n",
    "    return s\n",
    "\n",
    "s1 = pMostProbkmer(pwm, k, \"GCCGGATACT\")\n",
    "print(s1)\n"
   ]
  },
  {
   "cell_type": "markdown",
   "metadata": {},
   "source": [
    "7\\. Faire une fonction pour obtenir les nouvelles positions de départ s = (s1, …,st), c’était à dire les positions qui contiens les k-mer le plus probables."
   ]
  },
  {
   "cell_type": "code",
   "execution_count": 8,
   "metadata": {},
   "outputs": [
    {
     "name": "stdout",
     "output_type": "stream",
     "text": [
      "[33, 5, 12, 5, 48, 27, 41, 19, 49, 27, 20, 17, 2, 0, 42, 42, 26, 16, 29, 27]\n"
     ]
    }
   ],
   "source": [
    "def getNewS(P, k, sequences):\n",
    "    \n",
    "    s = []\n",
    "    for sequence in sequences:\n",
    "        s.append(pMostProbkmer(P, k, sequence))\n",
    "    \n",
    "    return s\n",
    "\n",
    "ns = getNewS(pwm, k, sequences)\n",
    "print (ns)"
   ]
  },
  {
   "cell_type": "markdown",
   "metadata": {},
   "source": [
    "8\\. La condition d’arrêt d’algorithme est le non changement du Profile d'une itération à l'autre, faire une fonction pour comparer deux Profils (matrice) et détecter le changement."
   ]
  },
  {
   "cell_type": "code",
   "execution_count": 9,
   "metadata": {},
   "outputs": [
    {
     "name": "stdout",
     "output_type": "stream",
     "text": [
      "58.0\n",
      "[27, 22, 19, 41, 4, 16, 2, 36, 46, 24, 26, 49, 22, 5, 42, 34, 48, 41, 39, 44] [33, 5, 12, 5, 48, 27, 41, 19, 49, 27, 20, 17, 2, 0, 42, 42, 26, 16, 29, 27]\n",
      "58.0\n"
     ]
    }
   ],
   "source": [
    "def changeProfile(P1, P2):\n",
    "    \n",
    "    changement = False\n",
    "    \n",
    "    L = [x for x in nuc]\n",
    "    L2 = [[\"Pareil\" for i in range(len(P1[L[0]]))] for j in range(len(P1))]\n",
    "    dictionnaire = {}\n",
    "    \n",
    "    for i in range(len(L)):\n",
    "        dictionnaire[L[i]] = L2[i]\n",
    "        \n",
    "    for nucleo in nuc:\n",
    "        for i in range(len(P1[nucleo])):\n",
    "            if P1[nucleo][i] != P2[nucleo][i]:\n",
    "                dictionnaire[nucleo][i] = P2[nucleo][i]\n",
    "                changement = True #Il y a un changement\n",
    "\n",
    "    for definition in dictionnaire:\n",
    "        print(definition, \" \", dictionnaire[definition])\n",
    "    \n",
    "    \n",
    "    return changement \n",
    "    \n",
    "\n",
    "def getScore(P, k):\n",
    "    sc = 0\n",
    "    S = random.choice(nuc)\n",
    "    \n",
    "    for i in range(len(P[S])):\n",
    "        colonne = []\n",
    "        for cle in P:\n",
    "            colonne.append(P[cle][i])\n",
    "        sc = sc + max(colonne)\n",
    "    \n",
    "    return sc\n",
    "\n",
    "def score(s, seqs):\n",
    "    sc = 0\n",
    "    profile1 = profile(extractSeqs(s, seqs), k, t)\n",
    "    \n",
    "    L_max_colonne = []\n",
    "    \n",
    "    for i in range(len(profile1[\"A\"])):\n",
    "        L_tmp = []\n",
    "        for j in nuc:\n",
    "            L_tmp.append(profile1[j][i])\n",
    "        sc = sc + max(L_tmp)\n",
    "    \n",
    "    return (sc)\n",
    "\n",
    "print(score(s, sequences))\n",
    "\n",
    "ns = getNewS(pwm, k, sequences)\n",
    "print (s, ns)\n",
    "\n",
    "sc = getScore(pro, k)\n",
    "print (sc)\n",
    "#test = changeProfile(pwm, pwm)\n",
    "#print(test)"
   ]
  },
  {
   "cell_type": "markdown",
   "metadata": {},
   "source": [
    "9\\. Implementer l'algorithme ``GreedyProfileMotifSearch`` en utilisant les fonctions precedentes. \n"
   ]
  },
  {
   "cell_type": "code",
   "execution_count": 10,
   "metadata": {},
   "outputs": [
    {
     "name": "stdout",
     "output_type": "stream",
     "text": [
      "['TACGAGA', 'TACTAGC', 'GACGTAT', 'TGCGAAC', 'TACAACG', 'GACGTCG', 'GACAATT', 'GGCAACC', 'CACGACA', 'GTCTTCT', 'CGCGACC', 'GATTAGC', 'TACTACT', 'GATATCC', 'TGCTAGC', 'CATTATC', 'GACATCA', 'GAAGTGC', 'GATAACG', 'TACGATC']\n"
     ]
    }
   ],
   "source": [
    "def GreedyProfileMotifSearch(sequences, t, n, k):\n",
    "    \n",
    "    bestScore = 0\n",
    "    s = generateRandomS(sequences, k)\n",
    "    \n",
    "    while score(s, sequences) > bestScore:\n",
    "        pro = profile(extractSeqs(s, sequences), k, t)\n",
    "        pwm = PWM(pro)\n",
    "        bestScore = score(s, sequences)\n",
    "        #print(bestScore)\n",
    "            \n",
    "        s = getNewS(pwm, k, sequences)\n",
    "   \n",
    "    return s, bestScore\n",
    "    \n",
    "        \n",
    "s, bestScore = GreedyProfileMotifSearch(sequences, t, n, k)   \n",
    "motifs = extractSeqs(s, sequences)\n",
    "print (motifs)\n",
    "        "
   ]
  },
  {
   "cell_type": "markdown",
   "metadata": {},
   "source": [
    "10\\. Avez vous trouvez le motif implanté? Rexécuter l’algorithme plusieurs fois pour le trouver. "
   ]
  },
  {
   "cell_type": "markdown",
   "metadata": {},
   "source": [
    "Reponse: Trouvé en exécutant beaucoup de fois..."
   ]
  },
  {
   "cell_type": "markdown",
   "metadata": {},
   "source": [
    "11\\. Vous avez certainement observer que l’algorithme ne produire pas toujours la même sortie et que les résultats dépendent de la sélection aléatoire des positions de départ s. Pour augmenter nous chances de retrouvez les bons motifs, nous allons implémenter une version itérative ``GreedyProfileMotifSearchIte`` \n",
    "qui a chaque fois sauvegarde s et le score du profile associé à s, après I itération, l’algorithme renvoie le vecteur s ayant le plus grand score."
   ]
  },
  {
   "cell_type": "code",
   "execution_count": 11,
   "metadata": {},
   "outputs": [
    {
     "name": "stdout",
     "output_type": "stream",
     "text": [
      "['ATCTCTT', 'AGCCCTT', 'CGCTCTT', 'TGCCTTT', 'AGGCCTT', 'AGCGCTT', 'TGCTGTT', 'AGTTTTA', 'ATCTCTG', 'GGGTCTT', 'AGCTCGA', 'AGTTGTT', 'AGCGTTT', 'AGATCAT', 'AGCGCTA', 'TGCTTGT', 'AGCTTTG', 'AGTGCCT', 'AGCGGGT', 'AGTTCGG']\n"
     ]
    }
   ],
   "source": [
    "def maximumIndice(liste):\n",
    "    maxi = liste[0]\n",
    "    indice_max = 0\n",
    "    longueur=len(liste)\n",
    "    for i in range(longueur):\n",
    "        if liste[i] >= maxi:\n",
    "            maxi = liste[i]\n",
    "            indice_max = i\n",
    "    return indice_max\n",
    "\n",
    "def GreedyProfileMotifSearchIte(sequences, t, n, k, It):\n",
    "    Scores = []\n",
    "    Positions = []\n",
    "    \n",
    "    for i in range(It):\n",
    "        s, score = GreedyProfileMotifSearch(sequences, t, n, k)\n",
    "        Scores.append(score)\n",
    "        Positions.append(s)\n",
    "    \n",
    "    J = maximumIndice(Scores)\n",
    "    \n",
    "    return Positions[J], Scores[J]\n",
    "    \n",
    "s, bestScore = GreedyProfileMotifSearchIte(sequences, t, n, k, 100)\n",
    "motifs = extractSeqs(s, sequences)\n",
    "print (motifs)"
   ]
  },
  {
   "cell_type": "markdown",
   "metadata": {},
   "source": [
    "12\\. Tester algorithme  ``GreedyProfileMotifSearchIte`` sur vos données de chipSeq."
   ]
  },
  {
   "cell_type": "code",
   "execution_count": 13,
   "metadata": {},
   "outputs": [
    {
     "name": "stdout",
     "output_type": "stream",
     "text": [
      "ACCTTATGGTATTTATTTTCAAGATTCAGCTACACCTAATCAAGAAGGTATTTTAGAATTACATGATAATATTATGTTTT 912 80 7\n",
      "12\n",
      "4233.0 [19, 30, 33, 7, 11, 46, 17, 31, 10, 0, 62, 8, 19, 20, 72, 33, 68, 38, 53, 54, 63, 60, 70, 8, 30, 36, 49, 4, 3, 37, 26, 32, 18, 65, 4, 50, 17, 7, 14, 4, 9, 27, 63, 14, 13, 73, 11, 44, 65, 4, 3, 42, 56, 62, 66, 25, 67, 21, 12, 12, 55, 41, 47, 10, 73, 1, 21, 16, 33, 65, 12, 56, 56, 44, 69, 26, 65, 55, 25, 26, 71, 18, 71, 49, 21, 12, 18, 10, 53, 29, 51, 61, 1, 41, 51, 26, 46, 11, 72, 63, 1, 12, 34, 32, 24, 24, 16, 48, 0, 73, 35, 25, 66, 9, 71, 73, 30, 31, 56, 17, 14, 71, 66, 28, 10, 8, 22, 29, 71, 60, 1, 47, 5, 1, 12, 61, 3, 8, 67, 52, 50, 45, 73, 42, 1, 36, 28, 5, 26, 45, 56, 48, 55, 31, 32, 1, 57, 30, 58, 6, 13, 69, 66, 66, 8, 22, 17, 14, 69, 59, 70, 1, 11, 41, 28, 1, 11, 44, 61, 73, 47, 47, 64, 22, 43, 7, 17, 24, 57, 71, 49, 36, 63, 29, 61, 54, 70, 35, 0, 44, 5, 18, 43, 62, 40, 67, 23, 12, 33, 47, 49, 0, 49, 38, 0, 71, 53, 29, 26, 63, 4, 37, 43, 41, 40, 50, 37, 57, 49, 63, 13, 55, 60, 32, 18, 67, 54, 28, 37, 2, 10, 16, 58, 32, 30, 61, 64, 26, 24, 40, 34, 38, 43, 61, 59, 13, 2, 35, 1, 3, 18, 63, 70, 54, 26, 35, 20, 61, 55, 17, 45, 62, 72, 2, 59, 25, 9, 31, 8, 48, 41, 1, 45, 33, 30, 35, 14, 22, 31, 31, 15, 66, 19, 27, 47, 45, 18, 37, 42, 34, 24, 56, 6, 46, 65, 5, 19, 24, 11, 38, 39, 55, 39, 33, 3, 31, 44, 40, 39, 8, 17, 13, 47, 22, 12, 70, 27, 40, 10, 54, 16, 29, 62, 3, 60, 8, 56, 9, 49, 33, 59, 14, 40, 14, 14, 69, 73, 50, 21, 0, 59, 39, 29, 16, 68, 3, 3, 61, 54, 1, 18, 49, 68, 46, 55, 5, 57, 13, 49, 12, 10, 50, 0, 10, 4, 18, 51, 48, 43, 20, 13, 64, 0, 62, 12, 52, 41, 4, 61, 48, 43, 70, 7, 3, 1, 36, 62, 41, 38, 53, 46, 33, 38, 3, 61, 1, 41, 63, 62, 15, 15, 70, 33, 67, 32, 55, 55, 36, 17, 8, 32, 1, 66, 39, 18, 5, 44, 5, 43, 16, 25, 25, 40, 0, 65, 42, 45, 65, 48, 47, 44, 1, 4, 3, 27, 29, 39, 53, 44, 50, 33, 29, 35, 56, 65, 63, 28, 67, 23, 45, 28, 15, 60, 28, 20, 18, 14, 13, 62, 19, 48, 26, 63, 50, 21, 21, 35, 68, 46, 68, 52, 8, 63, 22, 29, 70, 35, 22, 35, 14, 26, 8, 9, 60, 31, 3, 50, 56, 30, 38, 52, 22, 4, 67, 44, 60, 45, 17, 47, 2, 34, 47, 69, 12, 5, 56, 1, 7, 12, 58, 67, 30, 63, 68, 16, 49, 39, 49, 7, 0, 31, 5, 56, 58, 60, 7, 22, 33, 57, 73, 42, 17, 50, 43, 49, 35, 47, 61, 58, 20, 29, 3, 18, 57, 72, 49, 64, 44, 2, 6, 8, 8, 42, 15, 35, 0, 14, 36, 58, 49, 56, 53, 54, 3, 62, 13, 24, 29, 70, 30, 64, 13, 63, 68, 7, 40, 72, 47, 50, 46, 69, 72, 9, 43, 21, 17, 57, 8, 66, 61, 55, 50, 60, 23, 0, 28, 60, 19, 9, 16, 70, 2, 39, 56, 41, 10, 22, 54, 12, 9, 47, 18, 69, 2, 27, 30, 60, 28, 56, 27, 23, 44, 15, 73, 11, 36, 46, 14, 49, 19, 35, 36, 47, 61, 66, 40, 37, 37, 33, 60, 64, 3, 33, 7, 62, 56, 60, 18, 28, 2, 15, 16, 60, 11, 42, 0, 41, 41, 37, 38, 19, 26, 57, 20, 42, 26, 29, 49, 35, 2, 61, 11, 4, 21, 16, 52, 51, 10, 58, 0, 23, 41, 20, 12, 24, 3, 55, 29, 0, 55, 41, 38, 7, 71, 7, 55, 32, 70, 14, 13, 12, 31, 37, 33, 13, 20, 51, 73, 35, 52, 69, 22, 14, 67, 31, 14, 56, 52, 21, 70, 0, 56, 25, 20, 39, 42, 69, 16, 17, 10, 63, 25, 39, 20, 66, 11, 44, 32, 69, 68, 72, 29, 20, 45, 40, 33, 72, 22, 66, 34, 43, 49, 73, 27, 39, 14, 39, 47, 23, 16, 61, 45, 36, 5, 23, 20, 33, 49, 16, 28, 65, 50, 42, 21, 25, 60, 2, 25, 12, 10, 46, 43, 13, 20, 61, 31, 32, 13, 54, 64, 39, 39, 68, 13, 1, 39, 2, 32, 46, 10, 67, 65, 27, 46, 48, 20, 42, 17, 11, 33, 38, 70, 10, 31, 25, 31, 52, 25, 72, 59, 15, 34, 30, 49, 9, 40, 40, 59, 49, 63, 6, 41, 31, 5, 29, 30, 13, 67, 43, 9, 61, 63, 58, 15, 18, 56, 36, 54, 60, 48, 5, 16, 59, 8, 38, 32, 27, 21, 14, 22, 59, 61, 27, 55, 44, 9, 12, 24, 42, 13, 32, 6, 0, 70, 29, 10, 10, 50, 50, 46, 57, 24, 25, 23, 2, 69, 18, 12, 10, 31, 71, 50, 38, 47, 45, 37, 39, 47, 20, 19, 68, 4]\n",
      "['ATTATTA', 'ATTTATA', 'ATTTATT', 'ATTTAAA', 'ATTATTA', 'ATTAATA', 'ATTATTA', 'ATTTATT', 'ATTTATT', 'ATTTATT', 'ATTAATT', 'TTTTATT', 'TTTTATT', 'ATTATTA', 'ATTAAAT', 'ATTTATT', 'ATTTTTA', 'ATTTGTA', 'ATTTATT', 'TTTTATT', 'TTTAATT', 'ATTCTTA', 'ATTAATA', 'ATATATA', 'ATTAATT', 'ATATATA', 'ATATATA', 'TTTTATA', 'ATTAATA', 'ATAGATA', 'ATATATT', 'ATATATA', 'ATTTATT', 'ATATATA', 'ATATATA', 'ATTAATA', 'ATTAATA', 'ATATATA', 'ATTAATT', 'ATCAATT', 'ATTAATT', 'ATTATTA', 'ATTTATT', 'ATATATT', 'ATTTCTA', 'AATTAAA', 'ATTAATT', 'ATTAATT', 'ATATATA', 'ATTTATA', 'ATTTATT', 'ATAAATA', 'ATATATA', 'TTTAATA', 'ATTAATT', 'ATTTATT', 'ATTTCTT', 'AATTATT', 'TTTTATA', 'ATATATA', 'ATTAATT', 'ATTTTTA', 'ATTATTA', 'ATTTGTA', 'ATTTATA', 'ATTTATT', 'ATTATTA', 'ATTATTA', 'ATTAATT', 'ATTTATT', 'ATTTATT', 'ATTAAAA', 'ATTTATA', 'ATTTATA', 'ATTATTT', 'ATTATTA', 'ATTAATT', 'ATTAATT', 'ATTTATT', 'ATTAATT', 'ATTTTTT', 'ATTTATT', 'ATTAGTT', 'AAATATA', 'ATTTATT', 'ATATATA', 'ATTAATT', 'ATTAAAA', 'ATTAATA', 'ATTTATA', 'ATTTTTA', 'ATATATA', 'ATATATT', 'ATTAATA', 'ATAATTA', 'ATATAAA', 'AATTATA', 'ATATATA', 'ATTGATA', 'ATTTTTT', 'ATTACTA', 'TACCTTA', 'ATTGTTT', 'TTCTGTA', 'TTTCATA', 'TTTATTT', 'AAAAGTT', 'TGTAAAA', 'TTAGTTA', 'TTTGTTA', 'ATATATT', 'TAATCTT', 'ATTGGTT', 'AATTCAA', 'TATTGTT', 'ATTAATA', 'TTTAATT', 'ATTTATT', 'ATTGAAA', 'ATTTTAA', 'AAAAAAT', 'TTTGATA', 'TTTTCTA', 'AATCATA', 'TTTCAAA', 'AACACAA', 'TTTCCTT', 'AATCAAA', 'TTACATT', 'AATATTT', 'ATAAGTT', 'ATGATTT', 'TTAAATA', 'TTTAATT', 'TTCTATA', 'ATATATA', 'TAACAAT', 'ATATCAT', 'TTATTTT', 'ATACTGA', 'ATCTCTT', 'ATTAATA', 'AGTGATA', 'ATTGATA', 'ATTAATT', 'ATAGATT', 'AATTTTA', 'AATGATT', 'TATTATA', 'TTTCAGT', 'TATGATA', 'TATTTGA', 'TATTGTA', 'ATTGAAA', 'ATTAATA', 'ATTCATA', 'TTTATTT', 'ATTCTAA', 'TAATAAA', 'TTCGGTA', 'ATCCCAT', 'AAAGCTT', 'AACATGA', 'AAAGATA', 'ATAAATT', 'ATTAATA', 'ATCCCTA', 'AACCATT', 'ATTTATA', 'ATTGTTT', 'ATTGTTC', 'TTTAAGA', 'AGTTGTA', 'ATATAGT', 'ATAGACA', 'AATGGGA', 'ATCGGGA', 'ATATATA', 'TTTTATA', 'ATATATT', 'AGAAATT', 'ATCTAGA', 'ATTTTTT', 'ATTTATT', 'TTTGATA', 'TATAATA', 'TTTGTTA', 'TTCTCCT', 'TTTCTGT', 'TTCTATA', 'ATATATT', 'ATTTTTT', 'ATAAATT', 'TTAACTT', 'ATTTATT', 'ATCTTTA', 'TTTTGTA', 'AAAGATT', 'ATTGATA', 'ATTGATT', 'TTTCATA', 'ATTTTGA', 'TTTAGTA', 'ATTTTTT', 'TTCCTTA', 'ATTTCTT', 'ATTTATA', 'AATTATA', 'ATATATA', 'TTAGCTT', 'ATCGTTA', 'TTCTCAA', 'TATGTTA', 'ATTGATA', 'TAATATA', 'AGAAATT', 'ATCTGTT', 'ATTAATT', 'ATTAGTA', 'TTCTATT', 'ATCTAAA', 'ATTATTA', 'ATTAATT', 'ATTCTTA', 'AATTCTA', 'ATTTCTA', 'AATAATA', 'TATAATA', 'ATCGCAA', 'AATAATT', 'ATATCTT', 'AACTATT', 'AATTCTA', 'TATAATA', 'ATTCATA', 'TTATATA', 'ATTGATT', 'TTTTATT', 'ATTTCTT', 'TTTTCTT', 'ATTTTTT', 'AATAATA', 'ATTCTTA', 'ATTTCTA', 'ATTTTTA', 'AATCATA', 'TTTTCTT', 'ATAAATA', 'ATTAATT', 'AACCATA', 'TTTTATA', 'ATTATTT', 'ATTACTT', 'ATCTGTA', 'ATATTTT', 'TTTGATT', 'ATAAATA', 'ATTAATT', 'ATCTTAA', 'ATATTTT', 'ATTCATA', 'AATATTA', 'TTTTCTA', 'TTTAATA', 'AAATTGA', 'ATTATTA', 'ATTTGTT', 'ATTAATA', 'TTATATT', 'ATATGTT', 'ATAAGTT', 'TTTTATA', 'ATTTCTT', 'AATTCTT', 'ATCTATT', 'ATTCTTA', 'ATAAATA', 'ATTCATA', 'ATTGATA', 'AATAATT', 'ATTTTTT', 'ATAAATT', 'AAATATA', 'AATAAAA', 'ATTGATT', 'ATATTTT', 'ATTCCTT', 'ATTTGTA', 'ATTAATA', 'TTTTATA', 'ATTAGTT', 'TTTTATA', 'ATTTATA', 'ATTTTTT', 'ATTGATA', 'ATTTATT', 'TTTCATA', 'ATTCAAA', 'ATCTTTA', 'AAATATT', 'AAATATT', 'ATTAAAT', 'TATTCTA', 'TTTTATA', 'ATTTTTT', 'ATTTAAA', 'TTTTCTT', 'TTTATTA', 'TATAATA', 'ATAATTA', 'ATATATT', 'AAATATA', 'ATCTATT', 'ATTGATA', 'AATTATA', 'ATATATT', 'AATTTTA', 'TTTCTTT', 'AATCATA', 'ATTCATA', 'ATTTTTT', 'TTTTAAA', 'ATAAATA', 'TTTAGTA', 'TTTTATT', 'ATTTAAT', 'ATTATTA', 'ATTTAGT', 'TTTGATA', 'ATTAAAA', 'AATGTTT', 'ATTACTA', 'TTACATA', 'ATACATT', 'ATCTATA', 'ATTTCTT', 'ATCTTTT', 'ATCAATT', 'TTTGATA', 'TTCCATA', 'ATATTAA', 'ATTGAAT', 'AACCATT', 'TTTAATA', 'ATCTTTA', 'ATTGAAA', 'ATTACAA', 'TTCAATA', 'ATTCCTT', 'TTCTATA', 'ATTGATT', 'ATTTTTA', 'TATAATA', 'TTTTTTA', 'ATCACTA', 'ATACATA', 'TATAATA', 'TTTAATA', 'ATTTATA', 'ATTAATT', 'ATTTTTT', 'ATTGGTA', 'TTTAATA', 'ATTAATA', 'TTTAATA', 'TTTGATT', 'ATTGTTT', 'AACACTA', 'ATTATTT', 'AAAAATA', 'AGTTTTA', 'ATCCAAA', 'ATCCAAA', 'ATCCAAA', 'AAACCTA', 'ATAGATA', 'ATAAGTA', 'ATAGTTT', 'AAATATT', 'AATAATA', 'TTTTGAT', 'AATTTTT', 'ATTGAAA', 'ATTTATT', 'ATTTTTT', 'ATTTAAA', 'ATTATTA', 'ATTGATA', 'ATTAATT', 'ATTTTTT', 'TTTTCTA', 'TTTTATT', 'AATGATA', 'ATAAAAA', 'AATTATT', 'ATTTTTA', 'TTTTCTT', 'ATTTTTT', 'ATATAGA', 'TTTTCTA', 'TAATATT', 'ATATAGT', 'AAATTTT', 'AATAATA', 'ATTAATA', 'TTTGATA', 'TTCAATA', 'AAATATT', 'AACAATA', 'ATTTCAA', 'TTTTTTT', 'ATTCTTT', 'TTAAATT', 'ATTGATA', 'ATCAATA', 'ATTTGTT', 'AATAATT', 'ATCCAAT', 'AAATAAT', 'ATAATTT', 'TTTCCTA', 'AAACAAA', 'ATTAATT', 'AATTTTA', 'ATATCTT', 'ATAAATT', 'ATTGAAA', 'TTTAATA', 'TTTTATT', 'ATTTATA', 'ATATAAT', 'TATTTTA', 'AAATATA', 'ATTTGTA', 'TTCTTTT', 'ATCTTTT', 'AATGATA', 'ATTACTT', 'TTATATT', 'ATTCAGA', 'ATCACAA', 'ATTTGAT', 'TTTTCTT', 'AAATATT', 'AATGATA', 'AACTGTA', 'TTTCCTT', 'ATTTTCA', 'ATCCCTA', 'ATAAATA', 'ATTTTTT', 'ATTGATA', 'TTTTATA', 'ATAAATA', 'ATATTTA', 'ATTTTTA', 'ATACTTA', 'TTTGATA', 'ATTGTAA', 'TTTCATT', 'ATTTTTA', 'AATTATA', 'TATTATA', 'ATATTTT', 'TTTTATT', 'ATTGATT', 'ATTGATA', 'ATATTTA', 'TTATATT', 'ATTATTA', 'ATTTAAA', 'TTTTCTA', 'AATTATA', 'ATTCATA', 'TTAGATA', 'ATTGCTA', 'AATTTGA', 'ATTTAAA', 'ATTGATA', 'ATATATA', 'ATATGTA', 'ATTCAGA', 'ATATATA', 'TTTTTTA', 'TTTATTA', 'AATTTTT', 'ATATGTA', 'AAATATA', 'ATATGTT', 'TTTTGTA', 'ATCTTTA', 'AATTTTT', 'ATTTTTA', 'ATTTATA', 'ATAGAAT', 'TTTTCTA', 'ATTCAGA', 'ATTAGTA', 'ATTTCTA', 'TTTTATT', 'ATTTGTT', 'ATAAATT', 'TTTTCTT', 'ATTTTTA', 'ATTTTTT', 'TTTTCTA', 'TTTTGTA', 'ATCGATA', 'TTCAATA', 'ATTTGTT', 'TTATTTA', 'ATTGATT', 'TTTAATA', 'AAATCTA', 'TTCAATA', 'AATGATA', 'ATATTAA', 'TTCAATA', 'AATTCTT', 'TTATATT', 'TTTCTTA', 'ATTGATT', 'AAACTTA', 'TTTTCTT', 'TTTCAGA', 'ATACATA', 'TTCCATA', 'ATTGAAA', 'TTTTATT', 'ATTATTT', 'ATTTAGA', 'ATTCAAA', 'ATATGTA', 'ATTTCAA', 'ATTTAAA', 'ATATAAA', 'TATTTTA', 'TTTAGTA', 'ATTATTT', 'ATTTAAT', 'ATAAGTT', 'AATTATT', 'AATAATA', 'ATTTCAA', 'ATATATT', 'ATTATCT', 'TATTGTA', 'TTTAATA', 'ATTTCAA', 'ATTTCTA', 'AAAACTA', 'AATATTT', 'ATCTATT', 'AACTATA', 'ATTTCTT', 'TTTGATA', 'ATTATTA', 'ATTTCTA', 'ATTTAAA', 'AATTCTA', 'ATTCTTA', 'ATTCATA', 'ATATTTT', 'ATATATT', 'AAATATA', 'AGTAAGA', 'TTTTATT', 'TTCTATA', 'AATGATA', 'ATCTCTT', 'ATTATTA', 'AATGTAA', 'AATGATA', 'ATTGGTT', 'ATTTTTA', 'ATTCATT', 'ATAGATA', 'TTATCTT', 'ATTTTTT', 'ATTTTTT', 'ATATAGT', 'TTTGATA', 'ATTCATT', 'AACATAA', 'ATTTATT', 'ATATAGA', 'TACTTTA', 'AAAGATT', 'ATCCTTA', 'ATTCTTT', 'ATAGATT', 'AACTATT', 'TTATATA', 'ATTGAGT', 'ATTAGTA', 'ATTTGAA', 'ATCGGTA', 'ATAGATT', 'TTTTCAA', 'ATATATT', 'AATGATA', 'ATAAATA', 'ATAGATA', 'ATTATTA', 'AATTTTT', 'ATTTTTT', 'ATTCGTT', 'TTTATTA', 'ATTGATT', 'AACTATT', 'ATACATA', 'ATAAAAA', 'TTTTGTT', 'ATACTTA', 'ATCCATA', 'TTTGGTA', 'ATAACTT', 'ATATTTA', 'ATCTGTA', 'ATTTAAA', 'TTTGATT', 'TATTATT', 'ATTGCTA', 'AATTAAA', 'ATACGTA', 'ATATATA', 'TTAAATA', 'AATTATT', 'TTTGTTA', 'AAACATA', 'ATCAACA', 'ATTGACA', 'TTTGATA', 'ATTCATA', 'TTTTATA', 'TTTCATT', 'ATTTTTT', 'AATACTA', 'TTATAAT', 'AAATAAA', 'TAAAATA', 'AATTATT', 'ATTTTTA', 'ATAAATT', 'TTATATT', 'ATACATA', 'ATTTTTA', 'TTTCTTT', 'ATATATA', 'TTTGCTA', 'TTTTATT', 'TTTGGTA', 'ATTGATT', 'ATTCATT', 'ATTAATA', 'ATTCTTA', 'AATTATT', 'ATTTAAA', 'ATTTAGA', 'ATATATT', 'TTTTCTA', 'AATCTTA', 'TTTGTTA', 'AATTTTT', 'AATAATT', 'TTTAAAT', 'ATTCATA', 'ATAAAAA', 'ATTTTTT', 'ATTATAA', 'TTATTTA', 'TATCATA', 'AATTAAA', 'ATTGTGA', 'ATAGTTA', 'ATTAAAT', 'TATAATA', 'ATTGATA', 'TTTTATA', 'AATTATA', 'ATCAATA', 'ATATTTT', 'ATATGTA', 'ATTGATA', 'ATTGAAA', 'AATGAAA', 'ATCTGTA', 'ATCTTTA', 'ATAGATT', 'ATATCTT', 'ATTGTTT', 'ATTGATT', 'AATTATT', 'TTTAATA', 'ATAAAAT', 'ATCACTT', 'TTCAATT', 'AACTATA', 'TTTCATA', 'ATTTAGA', 'AATCATT', 'ATTGGTA', 'ATTCATA', 'TTCTCTT', 'ATAAGTA', 'AATGATA', 'ATCTCTA', 'ATTTAAA', 'ATTTTTA', 'ATTCCAA', 'TATTATA', 'TTTGATT', 'TTTTATA', 'ATTGTTA', 'ATCCAGT', 'ATAGAGA', 'AACATGA', 'ATTATTA', 'ATATATA', 'TTTACTT', 'TTTTCTT', 'ATTTGTA', 'ATTTTAT', 'ATTCATA', 'TATCATA', 'TTCTAAT', 'AATTACA', 'AAAGTTA', 'AATTGTA', 'AATTCGA', 'ATTTTGT', 'ATTTATT', 'AAAGATA', 'ATTCCTT', 'TTCAGTA', 'AATCAGA', 'TTTGGTT', 'ATATTTT', 'ATTCCTT', 'TTTAATT', 'TTTTTTT', 'TTAGATA', 'ATTTTGA', 'ATTTTTT', 'AAATAAA', 'AACCATT', 'ATCGATA', 'AATGATA', 'AGACATA', 'TTTTAGA', 'AAAAAAA', 'AAATCTA', 'ATACAGA', 'ATCAAGT', 'AAATCTA', 'TTATCTT', 'ATTTCTA', 'AAAAATT', 'ATTTCTT', 'ATTTGTA', 'AATTTTA', 'TTTCCTA', 'AATTATT', 'ATATATA', 'TTTCATT', 'ATTACTT', 'AATTATA', 'ATTGATA', 'TTTTATA', 'TTTCATT', 'ATATGTA', 'ATTCATT', 'ATATATT', 'ATTGAAA', 'AACAATA', 'ATAAATA', 'ATTTATT', 'ATTTATA', 'ATCGAGA', 'AAATAAT', 'TATGACA', 'TTCTATT', 'AAACAAA', 'ATCAATT', 'ATGTACA', 'ATCAATT', 'ATTTACA', 'ATTTATA', 'ATACATA', 'ATTGATA', 'ATTTATT', 'ATTACTT', 'ATAAGTA', 'TTTAATT', 'AATAAGT', 'TTCTCTT', 'AAAAAAA', 'ATTTCCA', 'TTTTTTA', 'ATTTGTA', 'ATTAAAT', 'TTTTATA', 'AACAATT', 'AATACAA', 'AATATTA', 'TTACGTA', 'TTCAATA', 'TTTTGTA', 'AAAAATA', 'TTTCTTA', 'TTTGCTT', 'ATACTTA', 'TTTAGTA', 'AATTATT', 'ATATTTA', 'ATATTTT', 'TAATATT', 'ATACATA', 'ATCAATA', 'TTATGTA', 'AATGATA', 'TTTTCTT', 'ATTTGTA', 'TGAAATT', 'ATTCACA', 'TTTCCGT', 'ATCAAAA', 'ATTAACA', 'AAACTTT', 'AATAAGA', 'AGCTATA', 'ATTTAGA', 'AATAATT', 'ATTTATA', 'ATCTATT', 'ATCAGTA', 'AATTACA', 'TTTGATT', 'ATTCATT', 'TTTTATA', 'ATCTCTT', 'AGTCCAA', 'AACTGTT', 'AACAGTT', 'ATTTTAT', 'TGAGAGT', 'TTATATG', 'ATCACTA', 'ATTCTAA', 'TTTAATA', 'ATTTATA', 'ATTTTTT', 'TTTTATT', 'TACTATA', 'ATCTATT', 'TTAACAA', 'AAAAAAA', 'TTTCATA', 'TTTGATT', 'ATTATTA', 'AATAATA', 'ATTGATT', 'TTCTATA', 'TTTACTA', 'ATTAATT', 'ATAATTT', 'TTTTATT', 'TATTATT', 'AATAAAA', 'ATTTAGA', 'TTTTCTA', 'AACAATA', 'AATGTTA', 'ATCTCTA', 'ATTGATA', 'AATTTTA', 'ATTTGTA', 'ATCTCTA', 'ATTGTTA', 'AAAACTA', 'ATTTCTA', 'AATCCTA', 'TTCTAAT', 'AATAGAA', 'ATACATA', 'ATTTATA', 'ATACCTA', 'ATTTATT', 'ATAACTA', 'AGTCATT', 'TTTCCTT', 'AGTCTTT', 'ATTGATA', 'TACAGTA', 'TTCTAAT', 'ATTTGAA', 'ATTTGTT', 'TTTTATA', 'TTTGAAT', 'ATAAGAA', 'TTCTCTT', 'ATTTAGA', 'AATTGTA', 'ATAAATA', 'ATATGTT', 'AGAGATA', 'TTTGATT', 'TACTCTA', 'ATTATTA', 'ATTGTTA', 'AATTAGA', 'AGTTCTA']\n"
     ]
    }
   ],
   "source": [
    "k=7; v=1; t=20; n=80\n",
    "\n",
    "def readFasta(genome, n):\n",
    "    sequence = []\n",
    "    file = open(genome, \"r\")\n",
    "    sequence = []\n",
    "    for s in file:\n",
    "        if s[0] != \">\":\n",
    "            sequence.append(s.strip().upper())\n",
    "    sequenceStr = \"\".join(sequence)\n",
    "    \n",
    "    sequence = [sequenceStr[i:i+n] for i in range(0, len(sequenceStr), n)]\n",
    "    sequenceRet = [x for x in sequence if x]\n",
    "    return sequenceRet\n",
    "\n",
    "genome = \"Sequence_by_Peaks_8.fasta\" #path of your fasta seqs\n",
    "\n",
    "\n",
    "sequencesChip   = readFasta(genome, n)\n",
    "t = len(sequencesChip)\n",
    "print (sequencesChip[8], t, n, k)\n",
    "print(len(sequencesChip[len(sequencesChip) - 1]))\n",
    "\n",
    "s, bestScore = GreedyProfileMotifSearchIte(sequencesChip, t, n, k, 100)\n",
    "print (bestScore, s)\n",
    "motifs = extractSeqs(s, sequencesChip)\n",
    "print (motifs)"
   ]
  },
  {
   "cell_type": "markdown",
   "metadata": {},
   "source": [
    "13\\. Nous allons implémenter l'algorithme ``randomProjection``. Faire une fonction pour générer une projection de l à k, voir un exemple dans les slides de cours"
   ]
  },
  {
   "cell_type": "code",
   "execution_count": 16,
   "metadata": {},
   "outputs": [
    {
     "name": "stdout",
     "output_type": "stream",
     "text": [
      "[3, 4, 5, 6]\n"
     ]
    }
   ],
   "source": [
    "k=7 #taille de motif\n",
    "v=4 #nb de positions variable dans le motif\n",
    "t=20 #nb de sequences\n",
    "n=50 #longuer des sequence\n",
    "\n",
    "def getRandomFixePositions(k, n):\n",
    "    listR = []\n",
    "       \n",
    "    for i in range(n):\n",
    "        posHasard = random.randint(0, k-1)\n",
    "        while posHasard in listR:\n",
    "            posHasard = random.randint(0, k-1)\n",
    "        listR.append(posHasard)\n",
    "    return listR\n",
    "\n",
    "lR = getRandomFixePositions(7, 4)\n",
    "lR.sort()\n",
    "print (lR)\n",
    "\n",
    "def generateKey(positions, motif):\n",
    "    m = \"\"\n",
    "    for i in positions:\n",
    "        m = m + motif[i]\n",
    "    \n",
    "    return m\n",
    "\n"
   ]
  },
  {
   "cell_type": "markdown",
   "metadata": {},
   "source": [
    "14\\. Implémenter l'algorithme ``randomProjection``."
   ]
  },
  {
   "cell_type": "code",
   "execution_count": 30,
   "metadata": {},
   "outputs": [
    {
     "name": "stdout",
     "output_type": "stream",
     "text": [
      "{'AACG': 1, 'AATA': 1, 'ATAT': 1, 'ATTT': 1, 'TGCT': 1, 'GGCC': 2, 'TAAT': 1, 'ATGA': 1, 'TTCA': 1, 'ATGC': 1, 'CGCT': 1, 'GACC': 1, 'TTGT': 1, 'ACCC': 1, 'TGCC': 1, 'AGAT': 1, 'GCGT': 1, 'TCAT': 1, 'CGGA': 1}\n",
      "{'AACG': ['GTACGAA'], 'AATA': ['GAGTAAA'], 'ATAT': ['CGTATAT'], 'ATTT': ['CTTTTAT'], 'TGCT': ['GGCCTTG'], 'GGCC': ['GGGCCGG', 'TGTCCGG'], 'TAAT': ['CTAATTA'], 'ATGA': ['TCCGAAT'], 'TTCA': ['GCGCATT'], 'ATGC': ['ACAGCAT'], 'CGCT': ['CAGCTCG'], 'GACC': ['GATCCGA'], 'TTGT': ['GCGGTTT'], 'ACCC': ['ATCCCAC'], 'TGCC': ['TTCCCTG'], 'AGAT': ['GTTATAG'], 'GCGT': ['GAAGTGC'], 'TCAT': ['TTTATTC'], 'CGGA': ['TCGGACG']}\n"
     ]
    }
   ],
   "source": [
    "def randomProjection(k, v, sequences):\n",
    "    motifs  = {}; motifsSeq  = {}\n",
    "    s = generateRandomS(sequences, k)\n",
    "    L_L_tuple = extractSeqs(s, sequences)\n",
    "    rfp = getRandomFixePositions(k, v)\n",
    "    \n",
    "    for mot in L_L_tuple:\n",
    "        m = generateKey(rfp, mot)\n",
    "        if m in motifs: \n",
    "            motifs[m] = motifs[m] + 1\n",
    "        else:\n",
    "            motifs[m] = 1\n",
    "        if m in motifsSeq:\n",
    "            motifsSeq[m].append(mot)\n",
    "        else:\n",
    "            motifsSeq[m] = [mot]\n",
    "    \n",
    "    return motifs, motifsSeq\n",
    "#motifsSort = sorted(motifs, reverse=True, key=motifs.get)\n",
    "motifs, motifsSeq = randomProjection(7, 4, sequences)\n",
    "print (motifs)\n",
    "print(motifsSeq)"
   ]
  },
  {
   "cell_type": "markdown",
   "metadata": {},
   "source": [
    "15\\. Avez vous trouvez le motif implanté? Rexécuter l’algorithme plusieurs fois pour le trouver. "
   ]
  },
  {
   "cell_type": "markdown",
   "metadata": {},
   "source": [
    "reponse: Sans itérations, le resultat depend GRANDEMENT de generateRandomS(sequences, k)"
   ]
  },
  {
   "cell_type": "markdown",
   "metadata": {},
   "source": [
    "16\\. Implémenter la version itérative de l’algorithme ``randomProjection``. "
   ]
  },
  {
   "cell_type": "code",
   "execution_count": 33,
   "metadata": {},
   "outputs": [
    {
     "name": "stdout",
     "output_type": "stream",
     "text": [
      "{'GTTT': 12, 'CTCT': 9, 'TGCA': 6, 'ATTA': 4, 'AATA': 13, 'AGAA': 6, 'CTAT': 10, 'TAAC': 9, 'TACT': 9, 'GCTC': 6, 'CCTA': 9, 'TTCG': 9, 'AATC': 4, 'CTTC': 8, 'TTCC': 9, 'ACAT': 12, 'GTGC': 6, 'AGAT': 7, 'AGGT': 9, 'AGGG': 12, 'TCAT': 12, 'TCAC': 14, 'CAAC': 10, 'GGAG': 14, 'TGTC': 11, 'CCCT': 11, 'GACT': 10, 'GGTA': 10, 'CAGG': 9, 'CTAG': 13, 'GATC': 14, 'CAAA': 5, 'GAGG': 8, 'CCAT': 6, 'TAGG': 7, 'ATGC': 12, 'TTCT': 5, 'CCTG': 8, 'ACGC': 3, 'CTGT': 10, 'CACG': 5, 'TAAG': 4, 'TCAA': 12, 'AAAC': 5, 'GTTC': 14, 'GACG': 8, 'GGCA': 10, 'AAGG': 9, 'ATTT': 7, 'CTTA': 7, 'ATCT': 8, 'TATA': 8, 'GTCA': 9, 'TGGG': 2, 'TGTA': 11, 'ACCT': 13, 'GAAA': 7, 'CATA': 10, 'CTAA': 7, 'TTCA': 5, 'TATT': 7, 'ACCG': 7, 'TTGC': 9, 'CGCC': 11, 'GAGC': 5, 'TTTT': 10, 'GCGG': 5, 'AAGC': 7, 'TGGT': 10, 'CAGT': 10, 'CACT': 11, 'CTGA': 11, 'CTGC': 7, 'CCGG': 7, 'GATA': 9, 'AAAG': 9, 'TAAT': 10, 'CTTG': 12, 'TTTG': 8, 'TGGA': 10, 'TGCT': 9, 'TGTG': 9, 'TCAG': 10, 'AGTT': 5, 'GCGC': 3, 'AGCA': 8, 'GAAC': 7, 'GGTG': 5, 'AACA': 7, 'TCTA': 9, 'CATC': 8, 'GGGC': 4, 'TTTC': 10, 'GAAG': 9, 'GTGA': 6, 'CCTC': 10, 'GGGA': 12, 'TGAT': 6, 'GCAC': 6, 'TCTG': 6, 'GCGA': 10, 'CCGT': 9, 'CTCA': 10, 'CGCT': 7, 'CCGC': 14, 'CTTT': 9, 'CGAC': 9, 'AATG': 9, 'GCTT': 4, 'AGTG': 13, 'CGTT': 8, 'AGCG': 5, 'CAAG': 7, 'AACT': 13, 'GTCG': 8, 'TGGC': 8, 'TCTT': 14, 'CTAC': 10, 'TTAA': 10, 'CCAG': 10, 'GATG': 10, 'TAAA': 11, 'CGGT': 5, 'GTAT': 6, 'TCCG': 8, 'GTCC': 8, 'TCTC': 9, 'TCCA': 11, 'GGAA': 9, 'TCCC': 6, 'GTGT': 8, 'CACA': 5, 'GTTA': 8, 'GAGA': 10, 'GACC': 7, 'AGAG': 3, 'CGGA': 8, 'GCAT': 4, 'CTGG': 2, 'GCCT': 9, 'TATC': 10, 'ATAG': 8, 'ATGT': 5, 'GCCC': 9, 'ACGG': 9, 'CGTA': 5, 'GGGG': 8, 'GCAA': 10, 'CATT': 15, 'TACG': 7, 'TTGT': 13, 'CCGA': 8, 'AAGT': 7, 'AGTC': 7, 'AGCC': 7, 'TGAA': 12, 'AGGA': 6, 'GATT': 7, 'AAAA': 5, 'ATTG': 10, 'GTTG': 8, 'CCAC': 8, 'CGCG': 6, 'GTGG': 7, 'CGAT': 12, 'GTAA': 5, 'CCCC': 10, 'ACAC': 5, 'TCGG': 4, 'TTAG': 5, 'CTCG': 5, 'TCGT': 11, 'GTCT': 11, 'ACTG': 6, 'AGCT': 8, 'AACC': 8, 'CAAT': 7, 'GCTG': 4, 'CGCA': 9, 'ACGA': 5, 'CGTC': 7, 'TGAG': 11, 'ACGT': 10, 'TCGA': 6, 'TTGA': 10, 'CCCA': 10, 'ATAC': 6, 'CCCG': 8, 'TTGG': 11, 'CAGC': 5, 'TTAT': 10, 'TAGC': 5, 'ATGA': 10, 'AAAT': 8, 'GGTC': 8, 'GGAT': 8, 'TACC': 8, 'TAGA': 9, 'CATG': 5, 'TGAC': 3, 'AAGA': 9, 'TTTA': 5, 'GTAG': 7, 'AGGC': 10, 'TCCT': 5, 'GCCG': 6, 'GCTA': 6, 'CCAA': 8, 'TATG': 9, 'CGGC': 4, 'GCAG': 6, 'ACAG': 8, 'GGGT': 4, 'ATCC': 8, 'AACG': 5, 'CGAG': 9, 'TGTT': 5, 'CCTT': 9, 'CGGG': 6, 'AGAC': 5, 'AATT': 6, 'CTCC': 5, 'CGAA': 7, 'AGTA': 5, 'ATAA': 8, 'TCGC': 5, 'ACTT': 8, 'GGCG': 7, 'TGCC': 9, 'GAAT': 5, 'ACTA': 8, 'ATAT': 4, 'ACCC': 7, 'CAGA': 4, 'ACTC': 6, 'ATCA': 6, 'ATCG': 9, 'GCGT': 8, 'ACAA': 6, 'GGTT': 6, 'ATTC': 8, 'TAGT': 2, 'ATGG': 9, 'GGCC': 8, 'TTAC': 4, 'GCCA': 5, 'TACA': 5, 'ACCA': 9, 'CGTG': 5, 'GGCT': 7, 'CACC': 3, 'GTAC': 2, 'GACA': 11, 'GAGT': 3, 'GGAC': 4, 'TGCG': 2} {'GTTT': ['GCCTATT', 'GGTTTAT', 'TGTGTAA', 'TTTTGGT', 'TTCTGCG', 'TGTTTGT', 'GCTTTGT', 'GGTTCTG', 'TTGCTTG', 'TTGTGCC', 'ATCTAGT'], 'CTCT': ['CTGTACT', 'GTCAACT', 'CCTTCTA', 'CGCTCTT', 'TCTTCTG', 'TCCGAAT', 'ATCTCTT', 'TACTACT', 'GTTTCCC'], 'TGCA': ['TTGATCG', 'TGTAGCG', 'CGCAGTT', 'ATTCGCA', 'ATTAACG', 'TCTTGAG'], 'ATTA': ['AACAATT', 'AGAAATT', 'CTAATTA', 'TTCGATA'], 'AATA': ['AAAAATA', 'AAGTATA', 'TAATGAG', 'ATCAAAT', 'ATAATGA', 'AAATTTA', 'ACCATTA', 'TAATTAA', 'GGATAAA', 'AAAGAAT', 'GGATAAC'], 'AGAA': ['ATAAAAG', 'TAGGAAA', 'TAATGAG', 'TAACGAA', 'ATAACGC', 'ATAATGA'], 'CTAT': ['CGCTAAT', 'GTACACT', 'CTAATTA', 'CTTGAGT', 'AGATCAT', 'TACGATC', 'AGGGTTC', 'TTAACGC', 'CGCATTC', 'GTTAATC'], 'TAAC': ['TTCCGAA', 'CATCGAA', 'TAACCAA', 'AAAATAC', 'AGTTAAC', 'TCGACAT', 'ACCATTA', 'GCCTAAT', 'TTCAACA'], 'TACT': ['TAGTGCA', 'TTAGCGC', 'TTAGCTA', 'CGTTACA', 'CATTATC', 'TTCTTAC', 'GGTCATC', 'GACAATT', 'GAATCTA'], 'GCTC': ['GGTCTTC', 'CGCGGTC', 'TCCCTGC', 'GTCTTCT', 'CGCCAGT', 'ACACCGT'], 'CCTA': ['CTGACTC', 'CATTCGC', 'ACCGTGT', 'TAATCTC', 'CCACTTA', 'CACCATT', 'GTCGCAC', 'ACGGCTT', 'TGGCAAC'], 'TTCG': ['TCGGACT', 'TGCTAGG', 'TACTGTG', 'GGCTTCT', 'TTTACTG', 'CTGCTAG', 'GCTCTGT', 'GGATCTC', 'GATCGCT'], 'AATC': ['ACTCCTA', 'CCACTTA', 'ATTCACA', 'GCGCTAA'], 'CTTC': ['CACCATT', 'CTTCTTA', 'TTTCTGC', 'TCTCTTT', 'TACTCTC', 'GTCTTCT', 'CTGTCGT', 'TTACTCT'], 'TTCC': ['TAGCGCT', 'TCTCCCC', 'TCTCGCC', 'ATTCCCC', 'TTCTACT', 'TTAGCCC', 'CTCTTTT', 'CCCTTCT'], 'ACAT': ['AGTTAAC', 'GTCACCA', 'CTAAGTT', 'ACAATTC', 'CAAATTT', 'AATTCCC', 'TCACATA', 'CTATCAT', 'AGCCTAA', 'AGTTACC', 'AGAGATC', 'CCACCAT'], 'GTGC': ['GCTCTGT', 'TTCTAGG', 'GACGCTT', 'TACTGCG', 'TTGCTTG', 'AGGGTCT'], 'AGAT': ['AATTTAG', 'GACGTAT', 'AAGTTGC', 'ATTCGAC', 'AGAAATT', 'TCTAAGT', 'CTAAGGA'], 'AGGT': ['AGTTCGG', 'GACGTAT', 'ATGAAGT', 'ACTGCGG', 'AAGGTGG', 'GTATGAA', 'TCTAGGA', 'TGCGAAC', 'AGTGCGA'], 'AGGG': ['GGTACGA', 'GAAGGAT', 'CTGCAGG', 'CGAGAGG', 'AGAAGTG', 'CGGGACG', 'AGGAGGC', 'GAACGAG', 'TAGCGGG', 'GGGGGGA', 'GCGGGAG'], 'TCAT': ['TACTGCG', 'CTTCTAC', 'TTGATCG', 'CTAATTA', 'CGATACT', 'TACTACT', 'TCGCAGT', 'AGGATCT', 'TTATCTA', 'GCTATCT', 'TCTACTG'], 'TCAC': ['CAATTCG', 'TCAATCA', 'GCCTAAG', 'ATTACAC', 'GGATACC', 'CGACCGT', 'AATTCCC', 'ACCAGGT', 'GCCACTT', 'ATATCCC', 'AAGTGCC', 'CACCATT', 'CTAGCGC', 'CTAGGAC'], 'CAAC': ['CAACAAT', 'CAACGAA', 'GCCATAG', 'TACTACT', 'TACAACG', 'TATCCCA', 'GAACCCA', 'ATGCACA', 'GGCAACC', 'ACGGGAC'], 'GGAG': ['GAAGCGC', 'CGGACGT', 'CGGAAGG', 'GAGAGGA', 'GGGGGAG', 'GGGGAGA', 'GCGGGAG', 'GGTGGAA', 'GGAGGCG', 'GTTCGGA', 'ACGAAGG', 'AAGGAGG', 'AGGAAAG'], 'TGTC': ['CTGTTGC', 'CCCTGCT', 'TACTGCG', 'GCGCTCT', 'TTCCCGC', 'TACTGTG', 'CCTTGTG', 'GTTTTAC', 'GTTTCCC', 'ATTGATC', 'GGTCTTC'], 'CCCT': ['TCTCGCC', 'TTCCCGC', 'TCTCCCC', 'TTCCCCA', 'CGCATTC', 'CGTCTCC', 'CTTACTC', 'CATCTCT', 'GCCCTTC', 'CCTATGC', 'CGGCTTC'], 'GACT': ['TCTGAAT', 'CAGCCTA', 'CGTCGCA', 'GCACTAT', 'ACAGCAT', 'GTCATCG', 'GTGTAAC', 'GATCAGG', 'GAAGTGC', 'TCTGGCA'], 'GGTA': ['ATAGGGT', 'GTTATAG', 'GAATGTG', 'TGAGTTA', 'GTACTAG', 'GAGTAGT', 'CTTAGGG', 'TTGTGAT', 'CGGATGA'], 'CAGG': ['GGCCCAG', 'ACGCGGG', 'CGTGTAT', 'TAGGAAC', 'CGCGGGA', 'CCCAGGG', 'GTCCGGA', 'GGTACGA', 'GCTAGCG'], 'CTAG': ['GAACGTG', 'TAACAGC', 'GACGCTT', 'TCGACAT', 'CACATAG', 'CGTTACA', 'CCAGCTC', 'GTACGTA', 'GAGATCA', 'CTCTGCA', 'TTCGACA', 'ACAGCAT'], 'GATC': ['CTAGTAC', 'TCTGTAA', 'TCTGCCA', 'CTGTGTA', 'TACACTG', 'GCATTCG', 'TCGAATG', 'TACGTAG', 'GAAATTC', 'TGCTCAG', 'AGGGTTC', 'TACTGTG', 'GGACGCT'], 'CAAA': ['AACCAAG', 'AATCAAA', 'GAAATTC', 'AATTCGA', 'ATTAACG'], 'GAGG': ['GGAGAAG', 'CGCGAGA', 'GGGGAGA', 'GGGGGGA', 'GCGGGAG', 'GCGGATG', 'TATGCGG', 'CGGGTTA'], 'CCAT': ['TAACGCA', 'CTGAATC', 'CTGGCAA', 'CTTCTAC', 'GCTCAGA', 'TATCCCA'], 'TAGG': ['GGGTTAA', 'ATGTATG', 'TAGGAAC', 'ATAGGGT', 'GCCTAAG', 'GTGCGAT', 'GAAGTGG'], 'ATGC': ['CGCAGTT', 'GCAGTTA', 'CATAGGG', 'CAGAAGT', 'CTGCCAA', 'TAGGCCT', 'TCTAGGA', 'ATAGGCC', 'AGCGCTA', 'GCCACTT', 'TAGGAAC', 'TAGCCCC'], 'TTCT': ['CTCTTTT', 'TCTCTTT', 'GCCTTTT', 'TGTGCCT'], 'CCTG': ['CGTCACC', 'GGCTATC', 'GCCTTGT', 'CGCATTC', 'CGCTCTT', 'GCCCTTC', 'CCGCATT', 'CGCGGTC'], 'ACGC': ['TCGATAC', 'ACTGCGA', 'ATCTGGC'], 'CTGT': ['GTGCGAT', 'TCTTGAG', 'TCTGGCA', 'TACTGTG', 'TTGATCT', 'TCCTATG', 'ATCTGTG', 'GTAGCGT', 'CTTTGTC', 'TGGTACG'], 'CACG': ['CGCCATA', 'AACCAGG', 'CACCCAG', 'ACCCAGC', 'TCGCACC'], 'TAAG': ['GGATAAA', 'ATCAGGA', 'CTAGGAA', 'GAAGTAA'], 'TCAA': ['CAATTCC', 'TTACAAC', 'TTACTAC', 'CAACATC', 'TAACGCA', 'CACCATT', 'AATGACA', 'AATTACT', 'TTAACCA', 'ACAATTC', 'AAGTAAC', 'GAGAACT'], 'AAAC': ['GCAACCA', 'ACCAAGA', 'AACCATC', 'AGCCTAA', 'GAACCCA'], 'GTTC': ['TCTGAAT', 'CCGTGGT', 'ATACTGC', 'GCTCTTC', 'GCTGTTG', 'GCGTTTA', 'GACTCTA', 'GCTTGAT', 'TTTACTG', 'GTCGTCT', 'TTCCCTG', 'GGCTTCT', 'ATCTGTG', 'TTCTAGG'], 'GACG': ['CGCGAGA', 'ACCGTGG', 'TAGCGGG', 'GGAAGCA', 'ATGTGCA', 'GAACGAG', 'CCGAACG', 'ACGGGAC'], 'GGCA': ['TACGTAG', 'TAGCGCG', 'CGCGGGA', 'GTGCAGC', 'TAGTGCA', 'CTGTGAG', 'AAGTTGC', 'CTACGGG', 'GGCAACC', 'GGTCATC'], 'AAGG': ['GGGAGAA', 'CGAGAAC', 'TAGGATA', 'CGGATAA', 'CGAGAGT', 'AAGAGAG', 'TATGAAG', 'AAGTAAG', 'GAAGGAT'], 'ATTT': ['ATTATCT', 'ATGAGTT', 'ATATTCT', 'TTTATGT', 'TATGTAT', 'GTTTATT', 'TCTTCTA'], 'CTTA': ['CATCAAT', 'CATTATC', 'TCTTACT', 'TATGCCT', 'CCGGATT', 'TGCCTAT', 'CACTTAG'], 'ATCT': ['ATCAAAT', 'TATCCCA', 'ACATCTC', 'CTGTACT', 'CGCTTGA', 'CAGGATT', 'CGCATTC', 'TGAATCT'], 'TATA': ['TATTCTA', 'CATTTAC', 'ATCATAT', 'TAATTAA', 'AACATCT', 'AATTGAT', 'ATCATTT'], 'GTCA': ['GACGCTT', 'TTCGATA', 'GACGTAT', 'GACGTCA', 'GTAGTAC', 'CGTACAC', 'ATAACGC', 'TTAACGC', 'TACTGCG'], 'TGGG': ['AGAGGAT', 'GTGCGAT'], 'TGTA': ['AATTGAT', 'AGAAATT', 'GTGTATC', 'GACGCTT', 'TTTGTGA', 'GCTAATT', 'TTAGGGG', 'TCTGTAA', 'GATCTGT', 'GAATGTG', 'CGTATAT'], 'ACCT': ['CTCCCGA', 'GTGCCTA', 'ATTCCCT', 'CCGTCAC', 'AACCATC', 'AATCTCG', 'CCGCATT', 'CCTGCTA', 'CGTACAC', 'CGGACTC', 'ATTCAAC', 'GCTCGAC', 'CCATCAA'], 'GAAA': ['TAAAAGG', 'GAGAAGT', 'AGTAAAT', 'AACAGCA', 'GAAGGAT', 'AGGAAAG', 'AATAGGA'], 'CATA': ['AAGTAAC', 'GTCAACT', 'ACGTAGC', 'GAAGTGC', 'ACTCTAC', 'TAACGCA', 'CAACAAT', 'AAGTCGG', 'ACAATTA', 'GCTATCA'], 'CTAA': ['GAAATTC', 'AGTGCAT', 'CGTATAT', 'TCAACAT', 'CTGAATC', 'CTATCAT'], 'TTCA': ['CATCTCT', 'TACTACT', 'CGTTTAC', 'ATCTCGC', 'ACTCTAC'], 'TATT': ['CTGTAAT', 'GTAATCT', 'TAATTAA', 'TATCTAA', 'TGAGTTA', 'TCTGAAT', 'TCAACTT'], 'ACCG': ['AGGCCCA', 'GACACGC', 'GGAACCC', 'GGCCCAG', 'GCGAACC', 'ATAACGC', 'AGCGCGA'], 'TTGC': ['GCGGTTT', 'GCCTTGT', 'TCTCGGC', 'GGGTCTT', 'GCCCTTC', 'GCGCTCT', 'AGCGCTT', 'TTCTGCC', 'GTTCGGA'], 'CGCC': ['TCTCGGC', 'CCCCCTG', 'GGCGTCC', 'TACACCG', 'CCAGCCG', 'CTAGCCC', 'ACTCCCG', 'ACCCAGC', 'CGGTCCC', 'CGACACG', 'TCCCCAG'], 'GAGC': ['GCAGAAG', 'AAGGATC', 'ACGCGGG', 'ACTTAGG', 'CGGACGC'], 'TTTT': ['TTATTCT', 'TTTTTGG', 'TCTTTTT', 'GCTTCTT', 'TGTTATA', 'CTTTTTT', 'TCTTCTA', 'TGCATTT', 'GTTGTTT', 'TCTCTTT'], 'GCGG': ['GAGGATC', 'GCGGTCC', 'CTCGGCG', 'TCGGGCG', 'GCGGGAG'], 'AAGC': ['CTAGGAA', 'ACGCGCA', 'TGGCAAC', 'AACGAAT', 'GTCACCA', 'GTTAACG', 'ATCAGGA'], 'TGGT': ['TATGAAG', 'TTGCGCT', 'GTGGTAT', 'ATAGGGT', 'TTTGTGA', 'GCTTGTG', 'AGTAGTT', 'GATCGCT', 'GTGCAGT', 'TGGTAGG'], 'CAGT': ['TACGCCA', 'TTCGACA', 'GTTCGGA', 'CTAGCGC', 'AGGCGTC', 'ACACTGA', 'GCTCGAC', 'TATCTTG', 'ATTCGAC', 'TACAACG'], 'CACT': ['TTCCCCA', 'CTTACTC', 'CCCGCAT', 'CTCTGTA', 'ACACTGA', 'CTCGCCA', 'CTCTGCA', 'TTAACGC', 'TACCCGC', 'CTCTGAA', 'CAATTAC'], 'CTGA': ['ACCGTGT', 'TCCGAAC', 'TAGCGCT', 'CTCTGTA', 'TCGCACC', 'TAGGACG', 'TAGTACG', 'GCACTAT', 'CTAAGTT', 'TGCCTAC', 'CGGACTC'], 'CTGC': ['CGCGCAT', 'TAGCCCT', 'AGGCGTC', 'GGAACCT', 'CCCTGCT', 'CAACTTG', 'ATCGCTC'], 'CCGG': ['GTCGGAC', 'CAGCCGC', 'GCGTCCG', 'CGGCGCT', 'CGCACCG', 'TCTGCCG', 'GCGGTCC'], 'GATA': ['AAGTATA', 'AATTTAG', 'CCTAAGG', 'TCCGAAT', 'AATGAGT', 'TAACCAG', 'TAATGAG', 'GAGTAGT', 'TATAGGA'], 'AAAG': ['GAAAGAA', 'AGGAACG', 'AAGGATC', 'TGAGTAA', 'GAAGTAA', 'ACCAGAA', 'GTTACAA', 'ATAAAAG'], 'TAAT': ['TATAGGA', 'ATTAACG', 'AGATCAT', 'TCACATA', 'AGAAATT', 'TAATCAA', 'AGTAAAT', 'CCTAATC', 'ATCAAAT', 'CATTAAC'], 'CTTG': ['GCCTAAT', 'TCGATAC', 'TGTCCGG', 'CTGTGTA', 'TATATGC', 'TTGCTGT', 'GCCACTT', 'CTTCTGT', 'TGCTTGT', 'TGATATC', 'GTTTACT', 'ACTGGCT'], 'TTTG': ['GGTTAAT', 'TTGTTTG', 'GTTGTTT', 'GTTTATT', 'TTTTTGG', 'TCTGTCG', 'TGGTATT'], 'TGGA': ['AATGTAG', 'CGAATGT', 'TCTGCAG', 'AGGTGGA', 'GTGGATT', 'AGTTCGG', 'CGAGAGT', 'GGATTAG', 'GAGAAGT', 'ACTTAGG'], 'TGCT': ['TTGGTAC', 'TGTCCGG', 'CCAGTTT', 'GATCGCT', 'GTTGCTT', 'CGTATAT', 'TTGTGCC', 'TTCTGCC', 'TTCTAGG'], 'TGTG': ['TGGCTAT', 'TGGTCAT', 'GTGGTAG', 'TTTGGTA', 'GCTGTTG', 'GATCTGT', 'TTGTGAT', 'TGGTTTA', 'GGAGTGT'], 'TCAG': ['TGCACAA', 'GGTCATC', 'GTTCGGA', 'TGCTCAG', 'TAGCCCT', 'CGGGAGT', 'TTCGGAC', 'AACTTGC', 'ATACTGC', 'GTGCAGA'], 'AGTT': ['ATGAAGT', 'TTTGTGA', 'ACTCTGC', 'TTGTGAT', 'ATTTAGC'], 'GCGC': ['GCCTAAG', 'GCGCGAG', 'GGCGCTC'], 'AGCA': ['AAGTAAC', 'TACGTAG', 'AGAACTA', 'TAACCAG', 'AGCGCTA', 'TAGTACG', 'AGAGATC', 'GTAACCA'], 'GAAC': ['GCATTTA', 'GTCAACT', 'GCTATCA', 'ATCCGAA', 'GCAGAAG', 'ATTTAGC', 'CTGGCAA'], 'GGTG': ['GGGTTCT', 'CGGGTTA', 'GGGACGT', 'CGAGAGT', 'GGAGTGT'], 'AACA': ['AAAGGCC', 'AACCCAA', 'CAGCATA', 'ATGACAA', 'GTACGAA', 'TTCAACA'], 'TCTA': ['TACTCCT', 'TAATCTC', 'ACTCTGC', 'TATTCAC', 'GCTAATT', 'TTTACGC', 'TTAATCG', 'ACAATTA'], 'CATC': ['CCACCAT', 'TCAACTT', 'CTGTGCA', 'CTGCTAG', 'AGTGCCT', 'CATCAAT', 'AACGTGC', 'CGAATCT'], 'GGGC': ['GCGGGGG', 'CGGGGGG', 'GCACGGC'], 'TTTC': ['TCTTACT', 'TCTACTG', 'GCTCTGT', 'TTATTCT', 'CTTTTTT', 'ATCTGTC', 'TCTCTTT', 'TTACTGT', 'CTCTTCT'], 'GAAG': ['GGAAGGA', 'AAGTAAG', 'GAGAAGT', 'GTATGAA', 'TAGGAAA', 'ACGAAGG', 'GAGTTAC', 'GTGGAAG', 'TAGGATA'], 'GTGA': ['GATAACG', 'GTAGGAA', 'GGGAGTG', 'ATAGGGT', 'AAGTCGG', 'AGGTGGA'], 'CCTC': ['CCCGCAT', 'CCCGTGC', 'CTCCCCC', 'GTTACCC', 'CCCCTGC', 'CTCGCCA', 'TCTCCCC', 'CGTCTCC', 'TACTCCC', 'CGTCACC'], 'GGGA': ['CGAGAGG', 'AGAGAGA', 'CGAAGGT', 'GCGCGAG', 'GAAGTGC', 'CGCGGGA', 'GGGGGAG', 'GAGAGGA', 'ACTGCGG', 'GGTTACG'], 'TGAT': ['AGTAAAT', 'CTTGTTA', 'GCTTGAT', 'TGTGAGT', 'TCTACTG', 'GTGCAGT'], 'GCAC': ['TCCCCAG', 'AGGCCCA', 'CCGCCAC', 'TGCCTAT', 'CCCGCCA', 'ATACCCG'], 'TCTG': ['GCGCATT', 'AGGGTTC', 'TAAGTGC', 'GGGTTCT', 'AGTGCCT', 'CTTGTGC'], 'GCGA': ['GCATAGG', 'GCAGCCT', 'TGGAAGC', 'GGCAACC', 'GAGGCGT', 'GACGCGG', 'CTGTGAG', 'GGATACC', 'CTATGCG', 'CGGATGA'], 'CCGT': ['ACTCTGC', 'GTGCCTA', 'TCTGCGC', 'TTAGCCC', 'CCCGTGC', 'CTCGGCG', 'GCGGTCC', 'TCTACTG', 'CTGTCGT'], 'CTCA': ['CTACTCC', 'CCCAGCT', 'CAGCTCG', 'CGACATC', 'CGATACC', 'CCAGCTC', 'TGCCTAC', 'TAATCTC', 'GCCAGTT', 'GCCAAGT'], 'CGCT': ['AGTTACC', 'CTAGCCC', 'CTTCTGT', 'TTTACGC', 'CGTATTC', 'TTTGTCC', 'TCCTATG'], 'CCGC': ['TCCCTGC', 'CGCGCAT', 'CCCAGCT', 'CGGTCCC', 'GCGGTCC', 'ATCTCGC', 'CCAGGTC', 'CCAGCCG', 'CCCGCCA', 'CGCACCG', 'CCCGCAT', 'CCCCAGG', 'CCCCTGC'], 'CTTT': ['CTTTGTC', 'TTATCTA', 'ATCTCTT', 'CTTTTAT', 'TTTCTGC', 'TTTACTG', 'TGCCTTT', 'GCTTGTT', 'ATTTTCT'], 'CGAC': ['TGCCTAC', 'GCCTAAT', 'CTAGCGC', 'CCAGCCG', 'ATCGCAC', 'TACAACG', 'AGCACTA', 'CGCACCG', 'TTAACGC'], 'AATG': ['GAGTGTA', 'GTAATCT', 'TGAAGTA', 'AATTGAT', 'TAGTACG', 'GGACGTA', 'AGCATAG', 'AGGATAC', 'GCCAAGT'], 'GCTT': ['GCTTGTG', 'TTGCGCT', 'GTTCTGT', 'GCTCTGT'], 'AGTG': ['AAGTGCG', 'CGAAATG', 'TAGGGTC', 'ATCTCGG', 'TGAGTTA', 'TGGTACG', 'AAGGTGG', 'CGAACGT', 'GGATCTG', 'CGTGGTA', 'GAAGTAA', 'AGTTGTT', 'TCTGCAG'], 'CGTT': ['CCTTGTG', 'GCTTTGT', 'GATCTCT', 'AGCTTTG', 'CTATGCG', 'TTACTGT', 'CTTTGTC', 'CTTGCTG'], 'AGCG': ['AAGCGCT', 'ACTGCGG', 'GGAGGCG', 'GTAGCGG', 'CATAGGG'], 'CAAG': ['CAGAAAT', 'ATACCCG', 'TAAGTGC', 'AACCAAG', 'GGGAACC', 'AGCGCGA', 'ACCAAGA'], 'AACT': ['ATTCACG', 'CTAATCA', 'ATTCAAC', 'ATACGCC', 'GAAATTC', 'TTAACGA', 'ACCATCA', 'TGCCTAA', 'TAGGAAC', 'TTACAAC', 'AAGTAAC'], 'GTCG': ['GTGCTCA', 'TTCTGTG', 'GCGGGTT', 'CTGCGGA', 'TGCGCGG', 'TTGCTGT', 'GGATTCG', 'GTTGCGC'], 'TGGC': ['TGCGGTT', 'GTCGCAC', 'GTCCGTT', 'GGATTCG', 'CCGTGGT', 'CTCTCGG', 'AGGCGTC', 'CTGCGCG'], 'TCTT': ['TATTCTG', 'CTTGTTA', 'CTTCTTA', 'TTCTGCC', 'CTATCTT', 'TCTTTTT', 'GCTTTGT', 'CATATTC', 'ATTAGCT', 'GCTTCTT', 'TTATTCT', 'TTTACTG', 'ATTTAGC'], 'CTAC': ['CGCATTA', 'CCTATTA', 'ATCAACA', 'CTATCAT', 'GGATCTC', 'CCACTTA', 'CTCCTAT', 'ATTCACA', 'AAGCACT', 'TTACACC'], 'TTAA': ['TCAATCA', 'CCACTTA', 'AAATTTA', 'TCGACAT', 'TGACAAT', 'AGTGCAT', 'TCATATT', 'ATCATAT', 'ATGTGCA', 'TTAACCA'], 'CCAG': ['CGGACGC', 'CACGCGC', 'CACGGCT', 'CCGCCAC', 'CGACACG', 'AGGGCCG', 'GACGCGG', 'ATACGCC', 'AATACGC', 'ATACTGC'], 'GATG': ['AGGATCT', 'GCTCAGA', 'GGATTAG', 'GGGAGTG', 'TGCCGGA', 'CTGCTAG', 'ATAGGAA', 'ACCGTGG', 'GAGTGTA', 'AGTGCGA'], 'TAAA': ['ATAAAAA', 'TAATCAA', 'AGGATAA', 'TCAACAA', 'ACATAGG', 'CATTAAC', 'ACGAAAT', 'AAAGAAT', 'AAAATAC', 'ACAGCAT', 'TAAAAAT'], 'CGGT': ['GCTTGAT', 'CATAGGG', 'CTGTTGC', 'TCTGGCA', 'GGTTACG'], 'GTAT': ['TGTGAGT', 'TTGTGAT', 'GAGTAGT', 'ATCTAGT', 'TTTGTGA', 'GTGTATC'], 'TCCG': ['CTGACTC', 'CCAGCTC', 'TCCCTGC', 'ATGCACA', 'CTGTACT', 'ATGCCTA', 'CGGCGCT', 'CCTGCTA'], 'GTCC': ['TGCTCAG', 'TCGGACT', 'GTCGTCT', 'GTCAACT', 'ATCGCTC', 'GTCTCCC', 'GCCCCGT', 'CTGCGGA'], 'TCTC': ['CTCCTAT', 'GTGCCTA', 'CGTGCTC', 'CGTATTC', 'CCGTTAC', 'CATTTTC', 'CGTTTAC', 'TCTTCTA', 'CTTTGTC'], 'TCCA': ['CTAGCGC', 'CTCTGCA', 'TTCGGAC', 'TACACCC', 'TTACTCC', 'CTATCAT', 'CTACACC', 'TTACTCT', 'ATTCCCC', 'ATCAATC'], 'GGAA': ['GGATACC', 'TATGAAG', 'TAGGAAA', 'AAGGAGG', 'GGAAAGA', 'AACGAGA', 'AGGTGGA', 'AGTCGGA', 'GGGGAGA'], 'TCCC': ['CACTGGC', 'TCCCGCC', 'TCTCCCC', 'TCTACAC', 'CTCCCCC'], 'GTGT': ['TAGGCCT', 'CGCTTGT', 'TGTGTAA', 'GTTGCTT', 'CAGTTCG', 'GCTTGTT', 'GTGTATC', 'TTCTAGG'], 'CACA': ['AACCAGA', 'CAACCAG', 'ATCAATC', 'GATCCGA', 'AATTCCC'], 'GTTA': ['TCTGTAA', 'TTGTTAT', 'TAAGTGC', 'GTGGTAT', 'TCAGGAT', 'AACTTGC', 'AGTAGTT', 'TGTGTAA'], 'GAGA': ['AGGGGAA', 'TAGGGGA', 'GAGTAAA', 'AATAGGA', 'GAAGTGC', 'GAGAGGA', 'GAAGTAA', 'AATGTAG', 'GGTGGAA', 'GAATAGG'], 'GACC': ['ATCGCAC', 'TCTGGCA', 'GCACAAT', 'GCCGCGA', 'CCAGCCG', 'CTGTAGC'], 'AGAG': ['GAGTAAA', 'ACGAGAA', 'AGTCGGA'], 'CGGA': ['ACGGGAC', 'TGCGGAT', 'CGAAGGT', 'CTAGTGC', 'ACGAGAG', 'GAAGTGC', 'AGGGCCG'], 'GCAT': ['TGCGAAC', 'AGCGCTA', 'TGTGACG', 'TGCCGGA'], 'CTGG': ['GCTTGAT', 'TGCTTGT'], 'GCCT': ['TGCTCAG', 'CTGCGAA', 'CTTGCTG', 'CTCGGGC', 'CTGCGCG', 'ACTTGCT', 'TTCCCGC', 'GTGCCTA', 'GGTTTCC'], 'TATC': ['CTAGTAC', 'CTTGTTA', 'CATCAAT', 'ATTCACA', 'TCAAATT', 'TTCTAGG', 'TACGTAG', 'CCTGCTA', 'CATTTAC', 'CAGGATT'], 'ATAG': ['GATCATA', 'AGAAGTG', 'ATCTAAG', 'AGGATAA', 'AAGGATC', 'GTAACCA', 'ACTAGTA', 'ATGTAGT'], 'ATGT': ['TATAGGA', 'GTATATG', 'ATGTGCA', 'GTGGATT', 'TAATGAG'], 'GCCC': ['CGCTCTG', 'CCCAGCT', 'GCTCGAC', 'CACCCAG', 'CCCAGCC', 'CTCGGCG', 'CGCATTC', 'ACCCAGC'], 'ACGG': ['GACGGAT', 'GCCCAGC', 'CTGCGGA', 'ACGGGAC', 'CCGCGAC', 'CTAGGAA', 'GGAAGCA', 'AGGACGG', 'GTACTAG'], 'CGTA': ['ACGCTTG', 'TGTAATC', 'CAGTTTT', 'GACGTAT', 'TGTGCAG'], 'GGGG': ['GGAGGCG', 'GCGGGGG', 'GGGGGAG', 'CGGGGGG', 'GCGGGAG', 'CGCGGGA', 'GGGGGGA'], 'GCAA': ['AAGCGCT', 'TCGATAC', 'GAAGCAC', 'ATGACAA', 'ACTGCGA', 'AACCAGA', 'ATTCACG', 'ACCAGAA', 'ACGGGAC', 'GATGACG'], 'CATT': ['TTTACGC', 'CCTTTTA', 'ACAATTC', 'AATTCCC', 'CTCTGCA', 'GACAATT', 'CAGTTAA', 'TATCTTG', 'CGTATTC', 'CGCATTC', 'CGTATAT', 'CGAATGT', 'TATTAGC', 'TCTTCTA', 'CCTATGC'], 'TACG': ['CGCATTC', 'GATACTG', 'GACGTCA', 'GATGACG', 'CCGTGTA', 'CTGACTC', 'CGCTTGA'], 'TTGT': ['GTATTCA', 'TTTTGGT', 'TAGCGTT', 'TCTGTGT', 'GTTTGTG', 'GCTTTGT', 'TTTATGT', 'GCGGTTT', 'TTGCTGT', 'ATCTGTC', 'CGGTTTC', 'TTTTCTG', 'TTTTTTG'], 'CCGA': ['GATCCGA', 'GAACCTG', 'ACCCGCA', 'TAACAGC', 'CAGCCGC', 'CACGACA', 'GAACTAC', 'CATTCGC'], 'AAGT': ['GTTAATC', 'GAAATGA', 'ACGTATA', 'GAGTAAA', 'ATAATGA', 'GATAAAA', 'TTAACGA'], 'AGTC': ['TCGGACG', 'AATTCCG', 'GACGCTT', 'ACGGATA', 'GCAGTTC', 'ACTAGTA'], 'AGCC': ['CTAGCCC', 'CCACTGG', 'ACGCGCA', 'ACACTGA', 'CTATGCC', 'AACCAAG', 'CGCACCG'], 'TGAA': ['ATTGATC', 'ATTCTAG', 'TAATGAG', 'GGATAAC', 'GGATACC', 'GTATAAT', 'AAAGAAT', 'AATTGAT', 'TGTACTA', 'AATGAGT', 'AGTAAAT'], 'AGGA': ['ATAGGAA', 'GGAGAAG', 'AAGTCGG', 'GGAAGGA', 'AGGAAAG', 'AAAAGGG'], 'GATT': ['TTGATCT', 'GTGTAAC', 'GTGGTAT', 'TAGGATA', 'CTCTGTA', 'CTGTGAG', 'TATGTAT'], 'AAAA': ['AGAAATT', 'AAGTAAC', 'AAAGAAT', 'AACGAAA', 'ATAAAAA'], 'ATTG': ['GTATTCA', 'TGGCTAT', 'TTGCACG', 'GGATTAG', 'GTAAATT', 'TTATGTA', 'CTGTGTA', 'TATGTAT', 'TCTGTAC', 'TTGGTAC'], 'GTTG': ['GCGTTTA', 'AGCTTTG', 'TTTTGGT', 'TCTCGGC', 'GTGGTAT', 'TCTGTGT', 'GGTATTC', 'GTTGCTT'], 'CCAC': ['CACCATT', 'ACACGAC', 'CCCAGCC', 'ATCCCAC', 'TAGCCCT', 'GCGAACC', 'TTACACC'], 'CGCG': ['GGCGCTC', 'GAAGCGC', 'GGCGTCC', 'CTCGGCG', 'CTGCGCG'], 'GTGG': ['GAGTGTA', 'GAGAAGT', 'GGAGTGT', 'TAGGGGA', 'GAGGCGT', 'TGCGGAT', 'GTAAGTG'], 'CGAT': ['GTACTAG', 'ACACCGT', 'GGTCAAC', 'CATAGGC', 'TCTGTAC', 'ACTCTCG', 'GGATACC', 'CGAGAGT', 'CTCCCGA', 'CGTAGCG', 'GATTCGA', 'GTCGGAC'], 'GTAA': ['GACGTAT', 'GATACTG', 'GTATAAT', 'GATAACG', 'GGATACC'], 'CCCC': ['TCGCACC', 'CTACACC', 'CTACTCC', 'GTCACCC', 'CTCGCCA', 'CTAGCCC', 'CCCCCTG', 'TTCCCCA', 'TCCCCAG', 'GCCCAGC'], 'ACAC': ['TCTACAC', 'CGATACC', 'ACCAAGA', 'ACCCAGC', 'CCCACCA'], 'TCGG': ['TGCTAGC', 'TGCTTGT', 'TCTCGGG', 'ATGCGGT'], 'TTAG': ['TGGTCAT', 'AGTAAAT', 'TTTTATG', 'ATGAGTT', 'TGTATGA'], 'CTCG': ['CGGCGCT', 'TTCCCGC', 'TTCCCTG', 'TCTGTGC', 'CTCGCCA'], 'TCGT': ['GTGTAGC', 'TTACTGT', 'TATCTTG', 'ATTCCGA', 'CTAGTGC', 'GACGCTT', 'ATTCTGC', 'GGTATTC', 'ACTGGCT', 'CGTGCTC', 'ATCTCGG'], 'GTCT': ['GCCTATT', 'TTTTCTG', 'TGCCTAT', 'ACTTGCT', 'GTCTTCT', 'TCTTCTG', 'GCTAATT', 'GCTTCTT', 'TTACGAG', 'TTTGTCC', 'ACGCTTG'], 'ACTG': ['ATTCTGC', 'CTAGTAC', 'TGCTAGC', 'CAGGTCA', 'GCGTATT', 'CCGTTAC'], 'AGCT': ['AGCTTTG', 'ATTCACG', 'CTTAGGG', 'ACCGTCA', 'TAACACG', 'TTCGGAC', 'AACGAAT', 'TGGTCAT'], 'AACC': ['ACCGTCA', 'ACCCGCA', 'ACTACTC', 'TACGCCA', 'AACCCAA', 'AAGGCCC', 'GAACCCA'], 'CAAT': ['GCGATAC', 'ATCAAAT', 'ACAATTC', 'AAGCACT', 'ATTCAAC', 'TAGTACG'], 'GCTG': ['AGGCGTC', 'TGTCGTC', 'CTTGTGA', 'GGATCTG'], 'CGCA': ['CCGGACG', 'CAGTTCG', 'CCTAAGG', 'GGAACCC', 'CCGAACG', 'ACCAGAA', 'TCGATAC', 'AAGGCCC', 'GACGTCA'], 'ACGA': ['AACCAGA', 'AACCTGG', 'TAGGAAC', 'GCATAGG', 'GCAACCA'], 'CGTC': ['CCAGCTC', 'CTCCCGA', 'ACTCCCG', 'CCCCTGC', 'CGTCCGT', 'TGACTCT', 'TGCCTAC'], 'TGAG': ['GTCGGAC', 'GGATCTG', 'TCTAGGA', 'GAATGTG', 'CTGTGAG', 'CATAGGG', 'GTTATAG', 'GAAGTGC', 'GTTAACG', 'GTGGAAG', 'CTGGCTA'], 'ACGT': ['AACCTGG', 'ATAGGCC', 'AGGCGTC', 'GCGCATT', 'TCGAATG', 'ACCACTG', 'TATGCAC', 'GACGTCA', 'TCTGGCA', 'TTAGCTA'], 'TCGA': ['GTGCAGT', 'AGTAACC', 'GAATCTC', 'GTGCATT', 'TTACTGT', 'CGTGGTA'], 'TTGA': ['ATTTAGC', 'CGCATTA', 'GGAGTGT', 'TTCTAGG', 'GCAGTTA', 'TGGATTA', 'GGCGTAT', 'GGTTTAT', 'ATATGCA', 'GCAGTTC'], 'CCCA': ['TCGCACC', 'CCCAGCC', 'ATCCCAC', 'CCTGCTA', 'CAGCCTA', 'CCCACCA', 'TAGCCCT', 'GTCACCC', 'CTAACAC', 'TCACCAC'], 'ATAC': ['ACCACTG', 'ATTTAGC', 'CAAGTAT', 'ACCAGGT', 'ATCAAAT', 'CAAGTAA'], 'CCCG': ['CGTCGCA', 'GCCCAGC', 'TCTGCCA', 'CTCTCGG', 'ACGCCAT', 'TCGCACC', 'TAGCCCT', 'CCAGGTC'], 'TTGG': ['TGTGATC', 'CTTGTGA', 'TGTGCCT', 'AGGCCTT', 'TAGGGTC', 'CTGTTGC', 'GACTCTG', 'GTGGTAT', 'GCGCTTG', 'GCGGTTT', 'TGCTTGT'], 'CAGC': ['CCGGAAG', 'ACCAGAA', 'CGCGACC', 'GCGAACC', 'TAGCGCG'], 'TTAT': ['TTTATTC', 'TTATTCT', 'ATTTTCT', 'ATTCTGC', 'AGTTGTT', 'TTTTATG', 'TGGTATT', 'TCTGAAT', 'TTCTGTA', 'TTATCTA'], 'TAGC': ['TCAGGAT', 'TACTGTG', 'GACGTAT', 'AACGCAT', 'TGCCGGA'], 'ATGA': ['ATAGGAA', 'AACGAAT', 'ATCAGGA', 'ACGTAGC', 'TGCAGGA', 'AGAAGTG', 'AATTTAG', 'ATAGGGT', 'ATGAAGT', 'GAGAGTT'], 'AAAT': ['GAAATTC', 'TAATCAA', 'AAGCACT', 'GTTACAA', 'AGTAAGT', 'CAGAAAT', 'AATTGAT', 'GGATAAA'], 'GGTC': ['GGGTTCT', 'TTGCACG', 'TGCTGTT', 'GGTTCTG', 'CTCTCGG', 'AGCTTTG', 'GGTCAAC', 'GACCGTG'], 'GGAT': ['AGGATTA', 'GAGTTGT', 'GATCCGA', 'CGTGCAG', 'GTGCATT', 'GGGTTAA', 'GTGGAAG', 'TTCGCAG'], 'TACC': ['GCGCATT', 'TCACCAC', 'ATCAACA', 'CAACATC', 'CTACTCC', 'GATCCGA', 'TTCGACA', 'CCGTGCA'], 'TAGA': ['TGTAATC', 'TAACGCA', 'AGTACGA', 'AATGTAG', 'AATTTAG', 'GGGTTAA', 'ACTAGTA', 'ATGTGCA', 'CATAGGC'], 'CATG': ['TTCGACA', 'GGATTAC', 'TAGGCCT', 'GTACACT', 'AGGATAC'], 'TGAC': ['CTATTAG', 'ATCTAGT', 'CCGTGTA'], 'AAGA': ['AACGAGA', 'CAGTTAA', 'ACAGCAT', 'GTAAATT', 'TAATGAG', 'ATAGGAA', 'AACGAAA', 'GTATGAA', 'GGATAAA'], 'TTTA': ['AGCGTTT', 'TGTATCT', 'CATTTAC', 'TAGGGTT', 'TTTGGTA'], 'GTAG': ['GTACGAT', 'GTGCAGT', 'TGCAGTT', 'TGGATTA', 'GAAGGTG', 'ACGCTTG', 'TACGAGA'], 'AGGC': ['TGGAAGC', 'AGGGCCG', 'GGGGAAC', 'AGCGCGA', 'ATCAGGA', 'GCTCGAC', 'GCCGGAA', 'GCGACCG', 'GCGCGAG', 'ACCAGGT'], 'TCCT': ['CCCTTCT', 'CATTCGC', 'TCCCCCT', 'GGTCTTC', 'TCGTCTC'], 'GCCG': ['TACTGCG', 'GCAGCCT', 'GTGACGC', 'GACGTCA', 'GCGGTCC', 'GCCGCGA'], 'GCTA': ['CGTCGCA', 'CTATTAG', 'GGCTATC', 'GGATTCG', 'ACAGCAT', 'CCATAGG'], 'CCAA': ['GTAACCA', 'GAACCCA', 'CTAACAC', 'TGCCTAA', 'AACCATC', 'CGAACCA', 'ACTACGG', 'CCCACCA'], 'TATG': ['AATCTAG', 'TCTGTAG', 'AGTAAGT', 'AGTAGTT', 'ACCGTGT', 'GCGTATT', 'TCATCGA', 'GACTCTA'], 'CGGC': ['CCGGACG', 'GTCGCAC', 'GGCCCAG', 'GCCCAGC'], 'GCAG': ['GAAGTGC', 'CTAAGGA', 'ACGTGCT', 'GCCGGAA', 'CGGACGC', 'GCTAGCG'], 'ACAG': ['ATAACGC', 'GAAGTGC', 'TCGAATG', 'AAGCGCT', 'AGTAACC', 'CCATAGG', 'ACGGGAC', 'GAAGCGC'], 'GGGT': ['GTAAGTG', 'GCTGTTG', 'GGGAGTG', 'AAGGTGG'], 'ATCC': ['TACGCCA', 'TCTGCCA', 'TACTACT', 'CTGGCTA', 'CCGAATC', 'ATCGCTC', 'CCTGCTA', 'ACTCCTA'], 'AACG': ['ATTCCGA', 'AGGACGG', 'AACGCAT', 'CAGTTAA'], 'CGAG': ['GCCCAGC', 'GTGTAGC', 'CGGGAGT', 'CGCTTGA', 'AAAGGGC', 'GGAACCT', 'GGATGAC', 'GGATTAC', 'GAACGAG'], 'TGTT': ['GTTGTTT', 'AGTTTTA', 'GAGTTGT', 'GCGGTTT', 'AGTTGTT'], 'CCTT': ['CGGTTTC', 'CGCATTC', 'ACTCTAC', 'GATATCC', 'GCGCTCT', 'ATCTCTT', 'AGGCCTT', 'TCGTCTC'], 'CGGG': ['GGGGAAC', 'CGGGAGT', 'CGGGGGG', 'GGGCCGG', 'GCGAGAG', 'TGCGGTT'], 'AGAC': ['GAACGAG', 'ACCAGGT', 'AGCACTA', 'CGAAGCG', 'TGCCAAG'], 'AATT': ['GTATGAA', 'ATTCGAC', 'GACAATT', 'CTGTAAT', 'TGTACTA', 'TTTACTA'], 'CTCC': ['TCCCCCT', 'TACTCCT', 'CAATTCC', 'CACCGTC'], 'CGAA': ['GCGAACC', 'CGCGAGA', 'TATGCAC', 'TAACACG', 'CCAGAAA', 'AACAGCA', 'AACCAAG'], 'AGTA': ['GAGTAGT', 'GTATATG', 'ATAGGAA', 'TATGTAT', 'TCTAGGA'], 'ATAA': ['TATAATG', 'TAATTAA', 'AACAATT', 'ACGGATA', 'AGAAGTG', 'AGATCAT', 'TAATCAA'], 'TCGC': ['CTAGCGC', 'GCAGTTC', 'CGTCTCC', 'CCATAGG', 'GGTTTCC'], 'ACTT': ['CAGTTAA', 'ATTCGAC', 'CCTAATC', 'AATTACT', 'ACTATGC', 'CGTGTAT', 'TATCTAA', 'TATTAGC'], 'GGCG': ['GGACGGA', 'AGGGCCG', 'GGGCCGG', 'CGCGGGG', 'GCGCGGG', 'CCCAGGG'], 'TGCC': ['TCGCACC', 'TCGCAGT', 'TCGGACT', 'CGCATTC', 'AACGCAT', 'GGACGTC', 'CGGCTTC', 'GATCGCT', 'TCTGGCA'], 'GAAT': ['GTAACAG', 'GGTGGAA', 'CACTGAC', 'AGTGGTA', 'GGATAAA'], 'ACTA': ['ACGTCAC', 'ATTAACG', 'ACCGTCA', 'ATATTCT', 'CGGATGA', 'TTACAAC', 'GGATTAC', 'CTCTACA'], 'ATAT': ['ATGAGTT', 'AGTATAA', 'ATCTAAG', 'AGTAAAT'], 'ACCC': ['ACACGCG', 'ATCGCAC', 'CGCATTC', 'CCGTCAC', 'CGCGACC', 'CTCTGCA', 'CACGTAC'], 'CAGA': ['CGGATAA', 'CTAGTAC', 'AGCTCGA', 'GGGGAAC'], 'ACTC': ['TCTGTAC', 'AATTCCG', 'ATCAACA', 'CCACTTA', 'GCTATCA', 'CAACAAT'], 'ATCA': ['GGATAAC', 'AACATCT', 'AAATACG', 'AAGCACT', 'CTGTAAT', 'TCAACAT'], 'ATCG': ['CTGTACT', 'ATGCCTA', 'CCGTGTA', 'GGTATTC', 'GTGCAGC', 'CAGAAGT', 'ATTCGAC', 'TGTGCAG', 'GTAGCGG'], 'GCGT': ['CATAGGC', 'GATCGCT', 'CTGCGCG', 'GGATTCG', 'ATTAGCG', 'GTTACGA', 'GATTAGC'], 'ACAA': ['TACGAGA', 'ATTAACC', 'TCAAATT', 'GAACCAT', 'AGGATAC', 'CATTCAA'], 'GGTT': ['GTAAGTG', 'GCCTTGT', 'TGTGTAA', 'TGTGAGT', 'CGCTTGT'], 'ATTC': ['ATCTGTC', 'CCGTGTA', 'TGCCTAT', 'CATATTC', 'AATTCGA', 'CCAGTTT', 'TTCACAT', 'ATGACGT'], 'TAGT': ['TCTGCAG', 'TTTTATG'], 'ATGG': ['AGGTGGA', 'TGCAGGA', 'CCGTGCA', 'GCCATAG', 'TGTGATC', 'GTGGATT', 'CAGGTCA', 'GTGGTAG', 'GTAGGAA'], 'GGCC': ['TCTGTCG', 'GCCGCGA', 'ACGTAGC', 'CAGCTCG', 'CGGCGCT', 'CGGCTTC', 'GGCGTCC', 'CAAGTCG'], 'TTAC': ['TTCTAGG', 'TTCACGT', 'ATTCAAC', 'ATTCACG'], 'GCCA': ['AGGCCCA', 'TGCCAAG', 'GGCAACC', 'CTGCCAA', 'ACTACGG'], 'TACA': ['AACAATT', 'TAATCAA', 'GTAACCA', 'CGACATC', 'AAGCGCT'], 'ACCA': ['GTCACCA', 'ACACGCG', 'AACCATC', 'AGGAACC', 'GTAACCA', 'CGAACCA', 'CCACTTA', 'ATATCCC', 'ATTCAAC'], 'CGTG': ['GAAGTGC', 'GGAACCT', 'CTTGTGA', 'TCGGACT', 'GGCGTAT'], 'GGCT': ['GACGTCA', 'GGATCTG', 'TTGCACG', 'TGATCGC', 'AGGCGTC', 'GTTAACG', 'TCGGGCG'], 'CACC': ['CTCTGCA', 'TCCCACC', 'CTCGCCA'], 'GTAC': ['GCCAGTT', 'AACGAAT'], 'GACA': ['CAAGAGA', 'GTTACAA', 'AAAGGGC', 'GCCATAG', 'GGACGGA', 'GGAACCC', 'AATACGC', 'CAACCAG', 'GATGACG', 'ATAACGC', 'AACACGA'], 'GAGT': ['GCTTGAT', 'GTGTAAC', 'ACTGCGA'], 'GGAC': ['ATCTGGC', 'TGTGCAG', 'CTGCGGA', 'AACGCGG'], 'TGCG': ['GGTTACG', 'TCTCGGC']}\n"
     ]
    }
   ],
   "source": [
    "def randomProjIt(sequences, k, v, It):\n",
    "    total_score={}\n",
    "    total_seqsMotifs={}\n",
    "    \n",
    "    for i in range(It):\n",
    "        score, seqsMotif = randomProjection(k, v, sequences)\n",
    "        \n",
    "        for cle in score:\n",
    "            if cle in total_score:\n",
    "                total_score[cle] = total_score[cle] + score[cle]\n",
    "            else:\n",
    "                total_score[cle] = score[cle]\n",
    "            if cle in total_seqsMotifs:\n",
    "                for mot in seqsMotif[cle]:\n",
    "                    if mot not in total_seqsMotifs[cle]:\n",
    "                        total_seqsMotifs[cle].append(mot)\n",
    "            else:\n",
    "                total_seqsMotifs[cle] = seqsMotif[cle]\n",
    "    return total_score, total_seqsMotifs\n",
    "        \n",
    "\n",
    "score, seqsMotif = randomProjIt(sequences, 7, 4, 100)\n",
    "\n",
    "print (score, seqsMotif)\n"
   ]
  },
  {
   "cell_type": "markdown",
   "metadata": {},
   "source": [
    "17\\. Tester l'algorithme  ``randomProjection`` sur vos données de chipSeq. Puis générér le LOGO du motif trouvé"
   ]
  },
  {
   "cell_type": "code",
   "execution_count": 39,
   "metadata": {},
   "outputs": [
    {
     "name": "stdout",
     "output_type": "stream",
     "text": [
      "{'TTAA': 34, 'TATT': 64, 'CCAC': 2, 'TTTC': 18, 'GCTA': 7, 'TAAT': 42, 'TTAG': 18, 'TTAT': 63, 'TTTT': 67, 'CACG': 1, 'TATA': 31, 'AAAT': 20, 'AGAG': 3, 'TATC': 11, 'ATTA': 35, 'CGTT': 8, 'AGTT': 16, 'TCAA': 13, 'TAGT': 21, 'ATAA': 22, 'CGCT': 4, 'ATGT': 11, 'GTTT': 25, 'AATA': 25, 'AGAC': 6, 'GAAA': 8, 'AGGA': 6, 'CCAT': 6, 'GTAC': 8, 'TGCC': 1, 'TTTA': 61, 'GTAG': 4, 'TTGT': 24, 'TCCT': 6, 'AGAT': 13, 'AAAC': 3, 'AACT': 6, 'TCAC': 6, 'ATCG': 2, 'AGTC': 6, 'CTTA': 12, 'CTCT': 7, 'AAGT': 19, 'GATG': 13, 'AACA': 11, 'TGTG': 8, 'TAAC': 9, 'TGCT': 10, 'TCGG': 2, 'GATT': 18, 'CCTG': 4, 'TTAC': 13, 'AATT': 33, 'AGTG': 5, 'ACGG': 2, 'CAAT': 12, 'ATAG': 18, 'AAAA': 20, 'TGTT': 20, 'TCTA': 18, 'AAGG': 5, 'ATGA': 18, 'ACTT': 13, 'ATGC': 5, 'GCAA': 3, 'TATG': 24, 'CTGT': 4, 'AACC': 3, 'ATTT': 66, 'TTGA': 15, 'AATC': 6, 'TGTA': 23, 'CTAA': 11, 'TCGA': 4, 'GTGA': 5, 'TACG': 4, 'CGTA': 3, 'ATAT': 33, 'ATCA': 13, 'ATCT': 12, 'GGTA': 6, 'TCTT': 16, 'GACT': 7, 'TAGG': 6, 'TTCG': 2, 'GGAT': 9, 'AATG': 13, 'AGTA': 14, 'GTAA': 9, 'ACAT': 7, 'CGCA': 1, 'TGAA': 13, 'AGCT': 4, 'TTCT': 14, 'TGAT': 18, 'ACTA': 6, 'CAGC': 1, 'CGAC': 3, 'ACAG': 7, 'GATC': 2, 'GAAT': 12, 'TAAA': 24, 'TTTG': 16, 'ATTC': 20, 'CCTT': 12, 'CTAT': 20, 'TGAC': 6, 'CATT': 15, 'TGCA': 6, 'TACA': 7, 'ATTG': 12, 'GTTA': 17, 'ATAC': 11, 'CTCC': 1, 'ACTC': 4, 'TGAG': 9, 'CCAA': 3, 'TTCA': 11, 'AGCG': 1, 'TACT': 9, 'CACA': 2, 'TCTC': 5, 'TAGC': 4, 'GGAA': 8, 'GGTC': 2, 'AAGA': 14, 'GCCT': 1, 'ACGA': 3, 'GCCG': 1, 'TAGA': 13, 'AGCA': 3, 'TTGG': 5, 'CTTC': 9, 'GCAG': 1, 'GGAG': 1, 'TTGC': 3, 'ATGG': 3, 'CTTG': 8, 'AAAG': 7, 'CTTT': 11, 'GTGT': 7, 'TCAT': 12, 'ACAA': 6, 'CGGT': 2, 'TCGT': 4, 'ACGT': 3, 'CCGA': 1, 'CAAA': 1, 'CAGT': 5, 'GTAT': 20, 'CAGG': 2, 'CGAT': 7, 'GGAC': 3, 'GGCT': 3, 'CAAG': 4, 'CGGA': 1, 'GAGA': 6, 'CCAG': 2, 'AGAA': 9, 'CATA': 13, 'CTCA': 2, 'TCTG': 9, 'GCTT': 5, 'GTTG': 3, 'CCGG': 1, 'ACCT': 1, 'GAGT': 4, 'CCTC': 2, 'CATG': 2, 'AAGC': 4, 'GTTC': 5, 'TGGA': 3, 'TCAG': 2, 'ACCA': 3, 'GGGA': 1, 'AGGG': 1, 'ACTG': 7, 'GGTT': 3, 'TGTC': 4, 'CTAC': 6, 'CAGA': 2, 'CGAG': 1, 'GCTG': 2, 'ACCC': 1, 'ACAC': 2, 'GATA': 7, 'CATC': 3, 'AGGT': 5, 'ACCG': 3, 'TGGT': 8, 'TGCG': 1, 'ATCC': 2, 'CGAA': 3, 'TCCA': 2, 'CCTA': 2, 'GACA': 1, 'CAAC': 2, 'GAAG': 4, 'TACC': 4, 'GCCC': 2, 'GCTC': 1, 'GAAC': 2, 'TCCC': 2, 'CTAG': 3, 'CGCC': 1, 'TTCC': 2, 'GTCT': 3, 'CACT': 2, 'CGTG': 3, 'TCGC': 1, 'TAAG': 2, 'GTCA': 3, 'CGTC': 1, 'GTCG': 2, 'GCAC': 2, 'AACG': 1, 'CTGG': 1, 'GTGC': 1, 'AGCC': 1, 'GTCC': 1}\n",
      "{'TTAA': ['ATACAAT', 'TTTATTA', 'TAATTTC', 'TATTTAT', 'TATTAAA', 'CATTATT', 'TAGTAGT', 'TGAATTA', 'TATTATA', 'CATTTTA', 'ACATATT', 'TTAACAG', 'TAATTAT', 'AAGTTTA', 'ATATATT', 'AATGATA', 'AATATTA', 'AAAGTAT', 'TACTTTA', 'TTAACTA', 'ATAAATT', 'AAATTAT', 'TTACAGG', 'ATTGAAT', 'TTATTTA', 'AATTGAA', 'GGTAATA', 'ATTATGT', 'AATATAT', 'TATCAAT', 'AGTATGA', 'AATGTTA', 'AGTTTCA'], 'TATT': ['TATGTTT', 'TATTCAT', 'ATATTCA', 'ATTTGAT', 'ATTTTAA', 'TTATCTT', 'TTTATAC', 'GTTATTC', 'TCCTTTA', 'TTATTAT', 'TAATTTT', 'ATTATTT', 'TTTATTT', 'TTCATCT', 'TTATGTT', 'ATTTGTA', 'ATTTTTA', 'TATTTAT', 'TTATTCA', 'TCATTTT', 'TATTTTA', 'GATTTAT', 'TGGTTAT', 'TCCATTT', 'TTAATTT', 'TGATTAT', 'TCTTAAT', 'TATTATC', 'CATTATT', 'TCTTAGC', 'ATTTTAT', 'TATCTTA', 'AATATTA', 'TGTATTC', 'TTCATTA', 'TTATTTG', 'TATTATT', 'TTTTATT', 'ATGTTTT', 'TGTTAAA', 'TGTTATT', 'CCTTATG', 'TCTTATG', 'ATGTTAT', 'ATTGCTG', 'TTTTTAA', 'TTAGTTT', 'TATTTAG'], 'CCAC': ['ACAGCAC', 'ACCAGCA'], 'TTTC': ['TTCTCAT', 'CTTCTCA', 'ATTTCAT', 'TCATTAT', 'TATTGCT', 'ATATTCC', 'TCATTTT', 'TTATCTT', 'TATTCTT', 'ATTTCTA', 'TTTCATT', 'TACATTA', 'TCTCATT', 'TATTTTC', 'TCCTTTA', 'CTTTAAT', 'TACTTCA'], 'GCTA': ['TCTTATG', 'TAGTACC', 'TTTGTAC', 'ATCCTGG', 'CTATGAC', 'GGACATC', 'AATCAAG'], 'TAAT': ['AACTTTT', 'TAAATAT', 'ATTTAAA', 'ATAAATT', 'ATATGAA', 'ATTAGAT', 'TAATATT', 'TATATTT', 'AATTATT', 'AGTAGTA', 'TTAATTA', 'ATATTAG', 'GTAATGC', 'TTGAACT', 'ATGAAGT', 'TATTACC', 'TCATCTA', 'TAAATGT', 'AAGATTA', 'CATTATT', 'TTATTAA', 'ATTGAGG', 'AATTTTA', 'TTTTAAT', 'ATTGGAA', 'AAATTAA', 'ATTCTGA', 'TATTAAT', 'TTTATTA', 'TTAGTAT', 'GTTGTAA', 'ATATTTA', 'TATTATC', 'AATTAAG', 'TATTACA', 'TTAAATT', 'TGTTAAA', 'TAATTAG', 'ATCTTAT', 'ATTTTAG', 'TATTAAA'], 'TTAG': ['ATTTGGT', 'TGCTAAT', 'GATATTT', 'TTAGGAC', 'TGATTAT', 'GAATTTG', 'TGATATT', 'AAGATTC', 'ATGTTAT', 'TATGCTA', 'TTGGATA', 'TTGTATT', 'TTTAGGT', 'TATCTGC', 'TGTTAAA', 'TAGATGC', 'TTGATTA', 'GTAATAT'], 'TTAT': ['ATTATTT', 'TATAACT', 'CTTAATT', 'AATTTTA', 'TTATGTT', 'TTATTTT', 'TATTATT', 'TATTAAT', 'CATTTTT', 'TTCATAT', 'CATTTAT', 'TTATTTC', 'TTATTAA', 'TTATATT', 'TGATTAT', 'TTATTTA', 'GTATTCT', 'TATTTTA', 'GTTTAGT', 'TTGTAAT', 'TAATTTT', 'TTACATG', 'TTAATGG', 'TATGTTA', 'TTAATTA', 'TTTAGTA', 'TAAGTAT', 'TTAGTAT', 'ATTTTAT', 'TTTTATT', 'TAGTAGT', 'TTTGTAT', 'ATTTATC', 'ATCCTAT', 'AGCTATT', 'ATTTATT', 'TTGTATT', 'TATTACA', 'TATACAT', 'TTTGATT', 'CTTTAGT', 'CTTTAAT', 'ATTTTAA', 'CTTTATT', 'ATTCTTA', 'TTTTCCA', 'TATTATG', 'GTTATTT', 'TTTGTAG', 'TTAGTAC', 'TATTACT', 'TAATTAT'], 'TTTT': ['TTATTTT', 'TTTATTT', 'TTTTTGT', 'TTTTGTA', 'TTTTATT', 'TTTAATT', 'TTTTTAA', 'CTTTAAT', 'ATTTAGT', 'TTTATTA', 'CTTTTGT', 'TTATGTT', 'TGATGTT', 'TATTCTT', 'TTGTATT', 'TGTTATT', 'ATTTTGC', 'ATGTTAT', 'TTATTAT', 'TTTCATT', 'TTCTTCT', 'ATTATTA', 'ATTATTT', 'TTATTTG', 'AACTTTT', 'ATGTTTG', 'GTTATTT', 'TACTATT', 'GTTTTTG', 'TATTTTA', 'TTATTTA', 'TTTATGT', 'GCATTTT', 'AATTTGT', 'AATTTAT', 'TATATTT', 'TTATTGG', 'TTATTAA', 'GTATTTA', 'TGTTTAT', 'TATTTTT', 'TATTATT'], 'CACG': ['CATGGAC'], 'TATA': ['TATGACT', 'TAGTAGT', 'TAATTTC', 'TAATTGA', 'TTAATTA', 'AATTTAT', 'TTTAAAG', 'ATTTTAA', 'ACTATTA', 'ATTACTG', 'ATTACAT', 'ATTATCA', 'TCATTAT', 'ATTAGTA', 'TGATATT', 'CTAATAT', 'GTATTAC', 'TATTATT', 'CTATTAA', 'TTTATGA', 'TAATTTT', 'TTACAAT', 'TAAATTA', 'TTACATG', 'TTAGTAT', 'TTAGTAA', 'AAACTAT', 'AATCCTT', 'AATTAAT', 'TATTAGA'], 'AAAT': ['AATATGA', 'ACAAATT', 'ATTTATA', 'CACAATT', 'ACAATTT', 'ATAATAT', 'ATAGAAT', 'TTAAGAA', 'TTAAGAT', 'ATAAATT', 'CATCTAA', 'AACTATG', 'AATATCT', 'TGATAAT', 'TCAATGA', 'AAAAATC', 'AGATTAA', 'ATCCAAG', 'AGTAATT', 'AGTAATG'], 'AGAG': ['AGAAGAA', 'ATGGTGA', 'GGACAAA'], 'TATC': ['TAATCCT', 'ATCTTAA', 'GCATTAC', 'TTGCTAT', 'ATCTTTA', 'CATCCTG', 'TTATTCA', 'TGAATCA', 'TGCTAAT', 'CATCTAT', 'ACTATTA'], 'ATTA': ['TTTTAAA', 'AATTGGA', 'AGTTTTA', 'GAATGTT', 'TGATTTA', 'TTCATAT', 'TGGATAT', 'ACCTAAT', 'AATTGAA', 'TAATGAT', 'TATTACA', 'ATTGGAT', 'ATTATTA', 'TAATTAT', 'AATATTA', 'ACCTTTA', 'ATTTTCA', 'TATGATT', 'GATTATT', 'GATGATT', 'CATTATT', 'TTTATTA', 'AGTAGTA', 'ATTTGTA', 'AAGCTAT', 'ATACATT', 'GTAATAT', 'AATTTTA', 'ATTTTAT', 'TTATTAG', 'TATTTCA', 'TTATTTA', 'TTATTAT'], 'CGTT': ['TGTATTC', 'ATGTGCC', 'GTTTCCA', 'TTCAGTA', 'TTTGCTG', 'CTAGTTT', 'TCCTGAT', 'GCTTTAA'], 'AGTT': ['TGAATGA', 'GTAATTG', 'ATTTTAG', 'GTTTTAT', 'CTTTAGG', 'TTTTAGT', 'TATTATG', 'TTAAAGT', 'ATTTAGT', 'TGCTAAT', 'TAGGTAT', 'TTTATGT', 'TTATGCT', 'TTGTAAT', 'GTTTATT', 'TGTTAAA'], 'TCAA': ['ACCTATT', 'ACATTAT', 'TACATGG', 'AACTATT', 'AATCCTA', 'ACTATTA', 'CCTAATC', 'ACAATTA', 'ATACACA', 'ACCTAAT', 'TCAAAAA', 'GTTTAAC', 'AGTTTCA'], 'TAGT': ['TTAGTAT', 'ATGTTGC', 'ATGTTTG', 'TGATAAT', 'TGGAATG', 'TGATATT', 'TTTAGTA', 'TGAGGAT', 'TTACATG', 'AGGTATT', 'GTTGTAA', 'GTTAAAA', 'TATTTGT', 'GATTATC', 'GATTAAG', 'ATGGTTG', 'ATTTTAG', 'GATGTGC', 'AATTTGA', 'TGATGTG', 'TTTGATT'], 'ATAA': ['AGTATGA', 'AAAAGAT', 'AATTTAA', 'AACTATT', 'ATTCAAA', 'AATTACA', 'AAACATG', 'TAGTAAC', 'AAAGATT', 'AGCAGTA', 'ATTATTA', 'TAAAGAT', 'TAAACAT', 'GTAATGA', 'AATTATT', 'TTAAAGG', 'TTAAATG', 'AAAAATC', 'TAATCAA', 'AATGATA'], 'CGCT': ['CAGCTTT', 'TAGTACC', 'CAGCTAT', 'TACCTGT'], 'ATGT': ['ATTGAAT', 'TTAGGTA', 'GCTATTT', 'ATTCCTG', 'GGTATTT', 'GGTTTAA', 'TGATTAG', 'AGCTGGT', 'TGAATTT', 'TTTAGTA', 'TTCAAGA'], 'GTTT': ['GTTTTCT', 'GTTTAGT', 'TTTGCAT', 'ATTACTG', 'ATGTTAT', 'TAGGATT', 'TTAGTTT', 'TGTTATT', 'TTTTGTA', 'GATGATT', 'TATTGGT', 'GATTTGT', 'CTTTAGT', 'TTTAGTA', 'CTTTAGG', 'AGGATTT', 'TGCATTT', 'AGATTTG', 'TGTTTTT', 'TTATGTT', 'TGATTAT', 'GATTTAT', 'TTTTAGG', 'TTCCTGG', 'TTCAGTA'], 'AATA': ['AAATACA', 'TAAACAT', 'TAAAACA', 'TAAATTA', 'CAAATTA', 'ATTTAAA', 'ATTAAAC', 'AGATTAA', 'AATATTA', 'TAAAGAT', 'AGATGAT', 'TACATTA', 'AACATAT', 'TTAAATA', 'AAAGTAT', 'TTAAAAC', 'AAAAGAT', 'AAATTTA', 'AATTACT', 'ACAAATT', 'AATTGAA', 'AATGATA', 'ATGAATA'], 'AGAC': ['AAGATTC', 'AGGACAA', 'AAGGACA', 'AGGACAT', 'ATCAGGT'], 'GAAA': ['GAAATTA', 'AAAGCTA', 'TAAAGTA', 'AGATGAT', 'AGAAAGT', 'AAGAAGG', 'TCGAAAG', 'AAGTTAT'], 'AGGA': ['ATGGTGA', 'TTGGATA', 'AGGAGCT', 'AACAGGA', 'TTGAGGA', 'AATGGTG'], 'CCAT': ['CACATAT', 'ATTCTTC', 'CTTAGCT', 'ATACACA', 'ATTCCTG', 'ATCCTTT'], 'GTAC': ['GCTAATC', 'TTGTACC', 'CATCAGG', 'TACAGCT', 'TTACTGA', 'AGGACAT', 'CGAAAGT', 'TTCAAGA'], 'TGCC': ['TTGCTGC'], 'TTTA': ['TATTTTA', 'TAATTAT', 'TAATGAT', 'CATTTAT', 'CTTATGG', 'TTTAGTA', 'TTTGGTA', 'TTTTCAA', 'TATTTAT', 'GTTAAAT', 'TTTCTAA', 'TTATGAT', 'TTATTAT', 'TATATTT', 'ATTTTAA', 'TGATGTT', 'CATTATT', 'TTTTAGT', 'ATTTATT', 'TTTATTT', 'ATGTTTA', 'TATGTTT', 'TTTTATG', 'CTATTTT', 'ATATGTT', 'TTTATTA', 'TCATTTT', 'TATTATC', 'GTATTTA', 'TAAGTTT', 'TAATTTA', 'TCTAATT', 'TTAAATT', 'TTAATTA', 'TTCCTGA', 'TTTCATT', 'TTCTGAT', 'ATTGCTT', 'TTAATGG', 'ATGTTAT', 'TATTTTC', 'TATTTCA', 'TATTAAA', 'AAATTAT', 'TGATTAT', 'AATTATT', 'TATTATT', 'TATTACT', 'TATTAAT', 'GATTCTT', 'TTTGTAT', 'TATATTA', 'TTCATTA', 'TTTAATT', 'TTTACCT', 'ATGTTAA', 'ATATTTA'], 'GTAG': ['ATGGTTA', 'TAGAAGA', 'GGACATC', 'GTAATGA'], 'TTGT': ['GTTTTCT', 'TTTAGGT', 'GGTTTAA', 'TTGTACA', 'TAGTTTA', 'AGTTATT', 'CGTTTTC', 'GTTTATT', 'TGTGCTT', 'CTGTTGA', 'TTATGAT', 'TTAGGTG', 'GTATTTA', 'GTTATTA', 'TGTTATT', 'TTATGGT', 'CCTTTAG', 'TTGGTAT', 'TTTAGCT', 'GATATTA', 'GTTATTC'], 'TCCT': ['CCTTATG', 'ACCTGTT', 'CTGCTAT', 'TCTTCTC', 'TTCTCAT', 'TTCTTCT'], 'AGAT': ['AGTATCA', 'AGGTATT', 'AGAATTG', 'AAAGTAG', 'GATTGAG', 'AGTAATT', 'AGATTAT', 'AAGATGA', 'TGGTAGA', 'ATCAATG', 'GATAATG', 'AATTGTT', 'ATTAGGT'], 'AAAC': ['AACATGG', 'ACAATTA', 'CAAAAAA'], 'AACT': ['CATATGT', 'ATTTCAT', 'CTTTAAC', 'ACTATAA', 'AAGCCTA', 'ATGGCTA'], 'TCAC': ['ACCTGTT', 'CTATTCC', 'CTAATAC', 'CCTATTA', 'TAACAGC', 'TAACACC'], 'ATCG': ['CTGATGT', 'CTTTAGC'], 'AGTC': ['TGCATTT', 'ATGCATT', 'AATCAAG', 'TTACATG', 'TAATGGC', 'ACCTGAA'], 'CTTA': ['TTACAGG', 'TCTGCTA', 'TACTATT', 'CATATTA', 'TATTCAA', 'AATTACT', 'ATCTTCT', 'CATTACA', 'ATGCATT', 'TATTCCT', 'TATCACA', 'ATATCAA'], 'CTCT': ['CTTCTCA', 'ATCCTTT', 'CTGCTAA', 'CCTTATG', 'CCTGATA', 'TTTATCC', 'TATTACC'], 'AAGT': ['GATATTT', 'GTAAAGA', 'AGATTAA', 'ATTTGTA', 'TTAGTAA', 'TAATGCA', 'ATGATAA', 'ATTTTAG', 'CAGTAAT', 'GTTAAAA', 'ATTTGAA', 'GATAATA', 'ATTAGTA', 'AGCAGTA', 'TTAAAGC', 'ATAGAAT', 'TTGAGGA'], 'GATG': ['TAGGTGT', 'TTAATGG', 'GGTATTA', 'GGTATTG', 'ATTAGGT', 'TGGTAAT', 'TGATGAT', 'TATGTGC', 'AGATGAT', 'AGTAGAT', 'ATGGACA', 'GTAATGA', 'GATTGAG'], 'AACA': ['CAAATTA', 'AATACTT', 'ACCTAAT', 'AAACTAT', 'GACAAAC', 'TCAAAAA', 'TCGAAAG', 'GGACAAA', 'AAATACA', 'AACAGGA'], 'TGTG': ['TGATTAG', 'TATTGGA', 'GTTTTTG', 'GTGTTAT', 'TTAGTAG', 'GTAATGA', 'GAATTGG', 'TTGCTGC'], 'TAAC': ['ACCTTTA', 'ACATGGA', 'AATCATA', 'TATTCAA', 'TTACCTA', 'ATTACCA', 'AGTATCA', 'AAACATA', 'TATCTTA'], 'TGCT': ['CTTTAGG', 'TCCTATG', 'TCTTTGC', 'TGTGCTT', 'AGCTATG', 'CTAGTTT', 'TAGTTTC', 'CATGGTT', 'GTTTTCT', 'GCTATTC'], 'TCGG': ['GGCTATC', 'GGTGAAC'], 'GATT': ['TTAGCTA', 'TTAGGTA', 'GATTATT', 'TAATTGA', 'TGTACCA', 'GTATTCT', 'GTATTTT', 'CTTTAGT', 'TATTGGT', 'GTTATTT', 'AATTTGT', 'AAGTTTA', 'TTATTAG', 'GATGTGC', 'TTTGATT', 'AGATTCT', 'TATTAGA', 'TACTGAT'], 'CCTG': ['TGCCAAC', 'AGTACCT', 'TTTCCAG', 'TTCTCTG'], 'TTAC': ['ACATGAT', 'TCTAATT', 'TATTCCT', 'TATTACC', 'CTATCTT', 'TTCATTT', 'TTACAGG', 'TCATTTT', 'ATCCTAT', 'TTACCTT', 'TTTACTT', 'AATCATA', 'AGTATTC'], 'AATT': ['TTCAGTA', 'GTATTTA', 'ATTATTT', 'ATTACTG', 'TTTATTA', 'ATTTTAA', 'TTGTTAA', 'TTCTTAA', 'TTAAGAT', 'TGATAAT', 'AACTTTT', 'ATTAATT', 'GATTAAA', 'ACATTAT', 'AAATTAT', 'ATATTCT', 'ATTTATA', 'TATTATA', 'TTTAATT', 'ATATATT', 'TACATTA', 'CTTAATT', 'TATATTC', 'TATTAGA', 'TGATGAA', 'TCAAGAT', 'ATATTTA', 'GGATATT', 'TGATTAT', 'AATTATT'], 'AGTG': ['TGCATGG', 'GTTTAGT', 'TTATGTG', 'TGGATAT', 'GGACATC'], 'ACGG': ['GGTAATC', 'GCCTACG'], 'CAAT': ['TTCAAGA', 'GAAAGTC', 'TTACCTA', 'CTAATCC', 'ATTCATG', 'ATGACTA', 'TTCTAAT', 'AATTACA', 'CAATTTT', 'AATGCAT', 'TTACTAT', 'CCTAATC'], 'ATAG': ['CGAAAGT', 'TGAAATT', 'TGAAGTT', 'TCATATG', 'AGATTAA', 'GCTTTAA', 'ATTAGGT', 'TAGTATG', 'GAATATT', 'ATGGATA', 'TAAATGT', 'AGTAGTA', 'TAATGAT', 'GAATGAT', 'ACAGCTT', 'TGATACA', 'GCTTAGA', 'GATTAAA'], 'AAAA': ['AAATACA', 'AAAAAGA', 'TAAACAT', 'TAAAGGA', 'AGGACAA', 'AATTACA', 'AAAATCC', 'TTAAACA', 'CAATTAA', 'AAAAGAT', 'AAGTAGA', 'TATTAAA', 'AGAAGTA', 'TGATAAA', 'AAAACAT', 'AAAATAT', 'AAAGTAG', 'GAAAATA', 'ACAATTA'], 'TGTT': ['ATTTTAG', 'GTGTTAT', 'TTTAGTT', 'TTCTTTG', 'CTTTTGT', 'GTATTTT', 'TCTCTGG', 'TATTTAG', 'ATTATTG', 'ATGTTGC', 'CTGTTGA', 'GTTTAAG', 'TTATTTG', 'ATTTGGT', 'CCTGTTG', 'GTTTCAT', 'TTGCTTT', 'GTTTATT', 'TGTTTTT'], 'TCTA': ['TATTTAC', 'TTCATTT', 'TATTACT', 'ATGACTA', 'TATTCCT', 'TACTTCA', 'AATTTCT', 'TCCTTTA', 'GCTGATG', 'TTATCTT', 'GTATCAT', 'TCATTAA', 'CAATTTT', 'TTTATCC', 'ACTTCAG', 'CATGATA'], 'AAGG': ['TGATGAA', 'GATAGAA', 'AGGACAT', 'GAGCTGA', 'AAGAAGG'], 'ATGA': ['TAATGGT', 'GGTATTA', 'ATGTTAT', 'GGTTTAA', 'AAATGTT', 'ATTGAAT', 'TAAGAAA', 'AAGTAAT', 'AATTGAA', 'ATTTTAG', 'ACTTTAG', 'ACCTGAA', 'GTAATTT', 'GATAATA', 'GAATTAT', 'GAACTAA', 'GCTAATA', 'AGAAAGT'], 'ACTT': ['ATACTTC', 'ATTCCTG', 'TTACTAT', 'TTCTAAT', 'TTTACTT', 'ATTACAT', 'TTTCCAT', 'GATTATC', 'AACTTTT', 'GCTATTA', 'TAATCAA', 'CTTTACA', 'CTATCTT'], 'ATGC': ['GCATGGT', 'CAGTAAT', 'CCTGGTA', 'GTTTCAT', 'AGTACCT'], 'GCAA': ['CAGCATC', 'AAAGCTA', 'ATGACTA'], 'TATG': ['AGTTTTA', 'TTAGTAT', 'TGTTAAA', 'TTTAGGT', 'ATTAGTA', 'ATTTTAG', 'TATGTTT', 'TTAAGTA', 'ATGTTAT', 'GAATGTT', 'TTGATTA', 'AAGGTAT', 'TCTTATG', 'GAGTATT', 'TTGTAGT', 'TTTAGTA', 'TATGGTA', 'TAAAGAT', 'TAGTATC', 'AGTAATT', 'GTTATTT', 'GCTATTT', 'TTCCTAG', 'TTAGGTA'], 'CTGT': ['GGTTCAA', 'GCTGATG', 'GCATTTT', 'GCTATCT'], 'AACC': ['GCACAAT', 'ACAGCAC', 'CCAAGCC'], 'ATTT': ['GTTTATT', 'TATTATT', 'ATTGTTA', 'ATGATTT', 'ATTCATA', 'ATTTGTA', 'TTACTTT', 'TTTTAAT', 'TATTTTT', 'ATTTTAT', 'TATTACC', 'CTTTATT', 'GATTTAT', 'ATGTTAA', 'ATGTTTC', 'ATTATTA', 'ATATTAG', 'AATTTAT', 'TTATTAT', 'TATTTAT', 'ATTTTAA', 'GTATTAA', 'TGTTATT', 'TAATTAT', 'ATGTTAT', 'ATTATTT', 'CTTAATT', 'TTATATT', 'TATGTTT', 'TTGATTA', 'TTACATT', 'TAGGTTT', 'GTATGAT', 'GTATTCT', 'TAATATC', 'TTTAATT', 'GCTATCT', 'TTTATTA', 'TAGTTTA', 'TTATTTG', 'TGATAAT', 'TGATGTT', 'TAATCCT', 'TTATGTT', 'ATATTTA', 'TGATTTT', 'ATTTATT', 'TTATTTT', 'TTATTTC', 'TTTCTAA', 'TGGTATT', 'TTTTATT', 'ACTTTTG', 'TTTCCAT'], 'TTGA': ['GGTATTG', 'TACCTGA', 'TATTGCT', 'TGGTATT', 'ATATGAA', 'GATTATT', 'CTGATGA', 'TTATGTT', 'GTATGAT', 'TTGGATA', 'TTTAGAA', 'GAAGTTA', 'GATTTGT', 'TATTTGT', 'GAAATTA'], 'AATC': ['ATACATT', 'ATATGCT', 'ATGATAC', 'AAGCTAT', 'CAAATTA', 'TGACTAT'], 'TGTA': ['ATGATTT', 'ATGCATT', 'TGATAAT', 'TTGTAAT', 'GTATTAA', 'AGGTATT', 'TATTTGA', 'GGTATTT', 'TTATTTG', 'TTTAGGT', 'AGTAATT', 'TTGAATT', 'TAAGTAT', 'TATTGTA', 'TAGTAGT', 'TTATTAG', 'TTATGTT', 'ATTCATG', 'TGATGTT', 'TTGTATT', 'CTTTAGT', 'CTTTAGG'], 'CTAA': ['GATACTT', 'CAGGTAC', 'TAATATC', 'GAATCAT', 'GAGCTGA', 'TGCTAAT', 'GACAATT', 'ATATTCC', 'CATTAAG', 'TAATGCA', 'ATTACCT'], 'TCGA': ['AGCATCT', 'ACCAGCT', 'GCTATGA', 'CTTTAGC'], 'GTGA': ['TGGTTCA', 'GATGTGC', 'TGGATAT', 'CAGCAGT', 'GGTTTAA'], 'TACG': ['ATCTTAG', 'CTCTCGA', 'ATTACTG', 'TCCTGAT'], 'CGTA': ['GCTATGA', 'TACCTGA', 'CTATGGC'], 'ATAT': ['TAATGAT', 'ATAACTT', 'TATTAAA', 'ATATTAT', 'ATGATAT', 'AATTTTA', 'TAATTTA', 'CAATTGT', 'ATTTGAA', 'TAATTAG', 'AATTATT', 'ATATTAG', 'TACAATT', 'TATTATG', 'CTATAAC', 'ATTAATT', 'ATTAATA', 'TATTTAT', 'AAATATA', 'TCTCGAA', 'ATAATAT', 'TTATTAT', 'GAACTAT', 'TAGTAAT', 'TATTATT', 'GTATGAT', 'CAAATTA', 'TTTTAGA', 'ACCTATT', 'TGTTAAA', 'AATTTAT', 'ATTATTA'], 'ATCA': ['TACTTCA', 'GCTATTA', 'AGCCTAC', 'TGCTAGA', 'GCACAAT', 'TTACAAT', 'TATTATC', 'AAGATTC', 'CAAGCCT', 'GCTAATC', 'TCTAATC', 'CAGCATC', 'ACTATGT'], 'ATCT': ['TACCATT', 'CTACGTT', 'GTTTAAC', 'TACTTTA', 'CTGCTAT', 'TTGTACC', 'ATTCCTA', 'AGATTCT', 'ACTTTAA', 'CTATCTT', 'ACATATT', 'TGCTTTA'], 'GGTA': ['GGTATTA', 'GGATATC', 'TAGCTGG', 'ATGCATG', 'GAATTGG', 'AGATGCT'], 'TCTT': ['CTTAATT', 'TTTTCTC', 'TTATTTC', 'CTTTCTC', 'TTCTCTG', 'TTCTCTC', 'ATTCCTG', 'ATCTTCT', 'TATTCCT', 'TAATCCT', 'TACTGAT', 'TACTGTT', 'TACAATT', 'TTTCTTC', 'ATTCTTC', 'TATTCTT'], 'GACT': ['AGCATCT', 'CCTATGG', 'TAATGCA', 'TGTACCA', 'AGTACCA', 'GGTGAAC', 'ATATGCT'], 'TAGG': ['AGGTACA', 'TGGTGAA', 'GCTATGA', 'TTTAGGA', 'GTTGAGT', 'ATGCATG'], 'TTCG': ['TGCTATT', 'CTTCAGT'], 'GGAT': ['GTAGATT', 'TAGTATG', 'TCGAAAG', 'GTTTAGT', 'AGATGAT', 'TATGTGC', 'TGGTTAT', 'TGGAATG', 'ATTTGGT'], 'AATG': ['AGTAACA', 'TGATTAT', 'AAGTAAT', 'TGATACA', 'AAAGATT', 'AATATGG', 'TGAAATT', 'TTGAACT', 'TTAGAAG', 'AAATGTT', 'AGATTTG', 'GGTAGAT', 'GGTAATA'], 'AGTA': ['TAATTGA', 'AATGCAT', 'AAGATTA', 'CATGATA', 'ATGGCAT', 'AATCAAG', 'ATCATGA', 'ATGGTGA', 'AAATATG', 'TAAGAAA', 'TTAAATG', 'TAGAGCT', 'TAGTAAT', 'TAGAAGA'], 'GTAA': ['TAGAATT', 'GATAAAT', 'TTAAAGC', 'TATGTGA', 'GAAAATA', 'ACATGGT', 'AATGATG', 'AGAATTG', 'AATTGAA'], 'ACAT': ['TTAAACA', 'TACATTA', 'AACATAT', 'AGCCTAC', 'GATATCA', 'GTAGTAC', 'CTAATCA'], 'CGCA': ['CACCAGC'], 'TGAA': ['CATATGT', 'TAAAGAT', 'TAATGAT', 'TCAAGAT', 'AAAGATT', 'CTCGAAA', 'TATTAGA', 'AGATTTG', 'ATCAATG', 'AGGATAT', 'ATGATAT', 'ATATGGA', 'ATGATTA'], 'AGCT': ['TTACAGG', 'ACATGAT', 'AGAGCTT', 'CAGGTAC'], 'TTCT': ['TTTCTTC', 'GCTGCTT', 'TATTCAT', 'TCTCATT', 'ATTTCAT', 'ATCTATT', 'TTACATG', 'CAGCTTT', 'CTTTCTC', 'CTATTTT', 'TCTTTGC', 'TATTCCT', 'TTACTGT'], 'TGAT': ['GAGTATT', 'GTATAAA', 'GTATCAT', 'ATTAAGA', 'TAATTAG', 'TTAGTTT', 'TAAGATT', 'ATTAAAG', 'ATGCTTT', 'GTTGTAA', 'CCTTTAG', 'GTAATAT', 'TAGTAGT', 'GATTAGG', 'AGGATTT', 'ACGTTTT', 'GTATTAA', 'TTTAGCT'], 'ACTA': ['TTCACCA', 'TTAACAG', 'TACTGAT', 'ACATTAT', 'ACCTAAT', 'ATCATGA'], 'CAGC': ['GGACATC'], 'CGAC': ['CAGCATC', 'CACCAGC', 'GCTAATC'], 'ACAG': ['AGGACAA', 'AGAGCTT', 'CAGCTAC', 'GAAGGAC', 'AAAGGAC', 'ACCAGCA', 'GGACAAA'], 'GATC': ['GCTAATA', 'CTATGTT'], 'GAAT': ['GTTTAAC', 'GAATATT', 'TTAAGAA', 'TAGTAGT', 'GGTTTAA', 'ATATGGA', 'AGATTAA', 'TGATTAG', 'CAGGTAA', 'ATGAATA', 'ATGTTAT', 'GGTAATA'], 'TAAA': ['TATTAAT', 'TATTAAA', 'ATTATTA', 'ATACATT', 'GATAATA', 'TTATTAA', 'TTAGTAA', 'TGATAAA', 'ATAAATT', 'ATACTGA', 'TGTTAAA', 'TCAAAAA', 'TTAATTA', 'TTAATGA', 'GATAGAA', 'AAAAGAT', 'ATACACA', 'ATTAATG', 'ATTAAAT', 'AGTATGA', 'AAAATAT', 'TTAAAGC', 'AAACATA'], 'TTTG': ['TGTATTC', 'TATTAGT', 'GTTTATT', 'TGCTATT', 'TATTGGT', 'TTATTTG', 'TGGTTGA', 'TTAATGG', 'TTTGGTA', 'TTTGTAT', 'ATTGGAT', 'AGTTTAG', 'AAGTTAT', 'TGATAAT', 'TATGTTT', 'TATTGTA'], 'ATTC': ['ATTTTCC', 'GTTTCCA', 'CATTTAT', 'CATTATT', 'TATCTTA', 'TCTTATG', 'TATTTTC', 'ATTCTTT', 'ATTCTTA', 'ATTTCTA', 'TTGTACA', 'CTTTAAT', 'TACCATT', 'TGTATTC', 'ATATCTT', 'TAATCCT', 'TTATTGC', 'GCATTAC', 'TGCTAAT'], 'CCTT': ['CTTTCTC', 'TATTACC', 'TTTCCAT', 'ATTCCTG', 'TTTCTCT', 'TCCTTTA', 'CTATCTT', 'TACCATC', 'ATCTTCT', 'TTCTCTC', 'TCTTCTC'], 'CTAT': ['CAAATTA', 'TACTTCA', 'TACCTAT', 'GTATTCT', 'ATTTTCT', 'AATCCTG', 'AATATCT', 'ATATGCT', 'ATTCTTA', 'TGACTAT', 'ATTCATG', 'AATTTCT', 'CTTAATT', 'CTTTAGT', 'TTTAAAC', 'AACTATG', 'ATCTTAT', 'ATCTAAT', 'CATTATT', 'TATCACA'], 'TGAC': ['TAATGCA', 'GATTATC', 'GTACAGC', 'TCAGGTA', 'CTATGGC', 'GCTATTT'], 'CATT': ['CTTAATT', 'ATCCTTT', 'TTGAACT', 'CTGGTAG', 'TTGTACA', 'TAATCCT', 'TGTACCA', 'TATTCCT', 'CCTTTAT', 'GTATTAC', 'TTACAAT', 'ATTCTTA', 'ATTTTCC', 'AGCTATT', 'TAAACAT'], 'TGCA': ['TACTGAT', 'AAACATG', 'TGTACCA', 'TCATGAA', 'GCAGTAA', 'GAATCAT'], 'TACA': ['TCATTAT', 'CATTTAT', 'TAAATAC', 'CATTTTA', 'CACCTAA', 'TTAAATC', 'GCTATTA'], 'ATTG': ['ATTCTGA', 'AATGCAT', 'TTAGTAT', 'TGTTATT', 'TGGTAAT', 'TTAGTTT', 'TTATGTT', 'GATCTAT', 'TACTGAT', 'GTATTCT', 'TTACATG', 'TAGTAAT'], 'GTTA': ['ATTAAAG', 'ATTTTAG', 'TATTTGT', 'ATGGTTA', 'GAGCTTT', 'TTTATGC', 'TAGTTTA', 'TATGTTA', 'TCAGTAG', 'TTAGTAG', 'TGTTTAT', 'TAATGAT', 'ATTATGT', 'TTTATGG', 'ATGTTAT', 'TATTAGA', 'ATTTGAA'], 'ATAC': ['TATTACA', 'CTTAGAA', 'TAACTAT', 'ATTACTA', 'ATTACAT', 'TACCATC', 'ACAATTT', 'AATATCT', 'AGATACT', 'AAAAATC', 'TGAACTA'], 'CTCC': ['TCTCACC'], 'ACTC': ['GTACCTT', 'CTCATTA', 'TTTCCAG', 'TGTACCT'], 'TGAG': ['TATGGTA', 'TTAGAAG', 'AATGGTG', 'GATTTGT', 'GGTATTG', 'GGTAGAT', 'ATTAGGT', 'GGTAAAG', 'TATGTTG'], 'CCAA': ['CTCGAAA', 'TTACCTA', 'TACCTAT'], 'TTCA': ['TGTGCCA', 'TTTACAA', 'TTCACCA', 'TATGCTT', 'TTTCAAG', 'CATCCTG', 'AAGATTC', 'TTAAATC', 'CTATTAT', 'CTATTGT', 'ACAATTT'], 'AGCG': ['GTACCTG'], 'TACT': ['AATGCAT', 'TAATATC', 'TACCATC', 'CTTTATT', 'AATATCT', 'TTCTAAT', 'ATTACCT', 'TACAGCT', 'TACAATT'], 'CACA': ['CACCTAA', 'AAATCCT'], 'TCTC': ['TTATTCC', 'CTTCTCA', 'TTCTCAT', 'TTCTCTT', 'CCTGATA'], 'TAGC': ['GAATGCA', 'ATGCTAA', 'TTCCTGA', 'TAATGCA'], 'GGAA': ['GATTAGG', 'ACAGGTA', 'AGTAGTA', 'AAGAAGG', 'CAGGTAC', 'ATGGCTA', 'AGAAGGT'], 'GGTC': ['GCTTTAG', 'CCTGATG'], 'AAGA': ['AATTGGA', 'ATATGAA', 'TGGACAA', 'GAATCAT', 'CAAGAAG', 'TTAAGAA', 'AAAAGAT', 'ATGAATA', 'TTTAGAA', 'GACAAAT', 'GAAAATA', 'AATTGAA', 'GTATAAA'], 'GCCT': ['GTAACAC'], 'ACGA': ['AAAGGAC', 'CAAGATT', 'CCAGCAG'], 'GCCG': ['GTACAGC'], 'TAGA': ['ATGGCTA', 'AGATGAT', 'TCAGTAG', 'AGATTAT', 'GGTAATA', 'ATGGTTA', 'ATATGGA', 'TGATGAA', 'AAAGATT', 'ATTAATG', 'AATATGA', 'TGTACAA', 'ATGATAT'], 'AGCA': ['ATCCAAG', 'GACAAAC', 'GTAACAC'], 'TTGG': ['GTAGATT', 'AGATTTG', 'AGGTTTA', 'TGATGTG', 'TTGGTTC'], 'CTTC': ['CCTTATT', 'TTTCTCT', 'CCATTTA', 'TTTTCCA', 'TTCTCTT', 'TCTCTCG', 'TGTGCCA', 'TTCTTCT', 'CTTTCCC'], 'GCAG': ['GGACAAT'], 'GGAG': ['GGAGCTG'], 'TTGC': ['CATGGTT', 'CTTATGT', 'TGCTGCT'], 'ATGG': ['TAGGTAT', 'AATTTGG', 'AATGGTG'], 'CTTG': ['TAGTACC', 'GCTTTCT', 'GTTTGCT', 'ATGTGCT', 'TGTTTCC', 'CTGATGA', 'CTGTTTT', 'GCTATTT'], 'AAAG': ['ATGATAA', 'GCAGTAA', 'CAAGAAG', 'AAAGGAC', 'AAAAGAT', 'AATTGAA', 'AAGAAGG'], 'CTTT': ['TATTCCT', 'TCTTAGC', 'CTGTTGA', 'CTTTTGT', 'TTCATTA', 'CATTATT', 'ATTCTTA', 'TCCTGAT', 'TTTTCTT', 'TATTATC', 'TTTAACT'], 'GTGT': ['TTATTGG', 'CTCTGGA', 'GGTTTAG', 'TCTCTGG', 'AGGTGTT', 'GGTAATA', 'TTAGGTA'], 'TCAT': ['GTGCTTA', 'CTATTTT', 'TCTATTC', 'TTATTTC', 'CTATTGA', 'GCTTTAA', 'TTCTGAT', 'TCTTATG', 'TCTTAAT', 'CTCATTA', 'CTATTAC', 'TATTTTC'], 'ACAA': ['CACCTAA', 'GGACAAA', 'ACTATAA', 'ACCATCA', 'AACTATA', 'ACACATA'], 'CGGT': ['CAGGTAC', 'TGGTTCA'], 'TCGT': ['TTGCTAT', 'GTTATTC', 'TTCTTTG', 'GATGCTA'], 'ACGT': ['GAGCTGA', 'ATGCTAA', 'GGCATAT'], 'CCGA': ['CAGCATC'], 'CAAA': ['ACAATTT'], 'CAGT': ['ACGTTTT', 'GTTTCCA', 'GAATCAT', 'CTACGTT', 'TTCATGA'], 'GTAT': ['TTATGTT', 'ATATGGA', 'GGTATTA', 'TTCAAGA', 'ACTGTTT', 'AGTATTA', 'CTGGTAA', 'GGTGTTA', 'TATTTAG', 'GTTAAAG', 'TTAGTTT', 'TTTGATT', 'TAAGATT', 'TAGGTAT', 'GCTATTA', 'AGGTATT', 'AGTATGA', 'TTACATG', 'ATGATTT', 'GATTATT'], 'CAGG': ['TGGACAA', 'ACAGGAG'], 'CGAT': ['TTGTACA', 'CTTTAGT', 'AGATGCT', 'TTCCTAG', 'TCACAAG', 'CTCGAAA', 'TACAGCT'], 'GGAC': ['CTGTTGA', 'ACATGGA', 'CTGGTAG'], 'GGCT': ['TAGATGC', 'TTGCTGC', 'TTAGCTG'], 'CAAG': ['GAATGCA', 'CCAAGCC', 'CAGTAAT', 'TCACAAG'], 'CGGA': ['CCTGGTA'], 'GAGA': ['GAAAGTC', 'GATGATT', 'AACAGGA', 'GAAAGTA', 'GGATAGA', 'AATGGCT'], 'CCAG': ['CCTGATG', 'ACCAGCT'], 'AGAA': ['ATGCTAA', 'AGTAATT', 'AGGACAA', 'CACAAGA', 'ATGATAA', 'ATGAATA', 'AAGGACA', 'AAAGTAT', 'TTAAGAA'], 'CATA': ['TTTAACA', 'CATTATT', 'CAAACTA', 'TTATCCA', 'TCATGAA', 'TATGCTA', 'TTTCTAA', 'TCTAATT', 'TCGAAAG', 'TGATACA', 'TGTACAA', 'ATTATCC', 'ATATTCT'], 'CTCA': ['ACCAGCT', 'CACCTAA'], 'TCTG': ['TGGTTCA', 'CTGATGA', 'ACTGTTT', 'CCTGATG', 'TTTGTAC', 'TTGCTGC', 'TGCTGCT', 'TACATGG'], 'GCTT': ['GTATTCT', 'ACCTGTT', 'GACTATT', 'AAGATTC', 'CTTATGT'], 'GTTG': ['GGATTTA', 'TAGGTAT', 'ATGGTAT'], 'CCGG': ['CCTGGTA'], 'ACCT': ['CTGCTAA'], 'GAGT': ['GTAATGC', 'GTGCCAA', 'CTGATGA', 'TGCTAGA'], 'CCTC': ['TTCACCA', 'CTCACCT'], 'CATG': ['ATGGACA', 'GATACAA'], 'AAGC': ['GGACAAT', 'TCGAAAG', 'GGACAAA', 'ACAAGAA'], 'GTTC': ['TTACTGA', 'TGCTGCT', 'CTGCTTT', 'CATGGTT', 'TACCTGT'], 'TGGA': ['GGTTTAA', 'TGATGAT', 'TTTAGGT'], 'TCAG': ['GCTAATC', 'AGTATCA'], 'ACCA': ['CAAGCCT', 'GTAACAC', 'CAGCACA'], 'GGGA': ['GAGCTGA'], 'AGGG': ['GGATAGA'], 'ACTG': ['GGTAATC', 'TCATATG', 'TTCCAGC', 'GGTACAG', 'TTAGTAC', 'TTAGGAC', 'TACTGAT'], 'GGTT': ['TTATTGG', 'GCTGGTT', 'CATGGTT'], 'TGTC': ['TATTCTG', 'TGTTGCT', 'CTTTGCA', 'TACTGAT'], 'CTAC': ['AGTACCT', 'ACAAACT', 'ATACTTC', 'AGCATCT', 'TTACCTA', 'CTATTCC'], 'CAGA': ['TAGGACA', 'AGTAACA'], 'CGAG': ['AGCTGGT'], 'GCTG': ['TGGACAA', 'TATGGCA'], 'ACCC': ['CCAGCTA'], 'ACAC': ['GCACAAT', 'AAAATCC'], 'GATA': ['GAAAGTC', 'GGTTCAA', 'TAAAGAT', 'AAGTATA', 'GCACAAT', 'GTAGATT', 'GAAGTAA'], 'CATC': ['AATCCTT', 'CATATGC', 'CTATTCC'], 'AGGT': ['GTTAAAG', 'ATCAGGT', 'TGGTGAA', 'AGCTGAT', 'ATGGTTG'], 'ACCG': ['CAGCATC', 'TATCTGC', 'CATCAGG'], 'TGGT': ['TTGGATA', 'TGTTTGC', 'GGTTGAG', 'AGTTTAG', 'TGTTGAT', 'GTTTGCT', 'TAGCTGG', 'GGTATTG'], 'TGCG': ['GGAATGC'], 'ATCC': ['ATACTTC', 'CTCTTTA'], 'CGAA': ['TCACAAG', 'GACAAAC', 'TTCAAGA'], 'TCCA': ['TCCATTT', 'CTTTACC'], 'CCTA': ['CTACACC', 'TTTACCT'], 'GACA': ['CCTGAAT'], 'CAAC': ['ACACCTA', 'TACCTGA'], 'GAAG': ['AGAAGAA', 'GAAGGTA', 'ATGGTTA', 'AGATGAT'], 'TACC': ['CAGGTAC', 'TTACCAT', 'ATTACCA', 'CAAACTA'], 'GCCC': ['CCAAGCC', 'CCATCAG'], 'GCTC': ['TTGCTGC'], 'GAAC': ['AGTACCA', 'ACAGGAG'], 'TCCC': ['CTTCTCT', 'TCTCACC'], 'CTAG': ['CTGAATG', 'GATACAA', 'CTGATAA'], 'CGCC': ['CCATCAG'], 'TTCC': ['CCTTTAG', 'TCTTCTC'], 'GTCT': ['ACAGCTT', 'TTGTACA', 'CTGCTAT'], 'CACT': ['AATCCTA', 'CTAATCA'], 'CGTG': ['ATCCTGG', 'TAGAGCT', 'GGTTCAA'], 'TCGC': ['GTACCAT'], 'TAAG': ['ATTAGTA', 'TTGAATC'], 'GTCA': ['CTGATTT', 'AGCTATG', 'TTATTGC'], 'CGTC': ['TCCAGCA'], 'GTCG': ['TGGTTCA'], 'GCAC': ['CTGCTAA', 'CAAGCCT'], 'AACG': ['GTAATGC'], 'CTGG': ['GTACCTG'], 'GTGC': ['TTGGTTC'], 'AGCC': ['CAGCATC'], 'GTCC': ['CTACGTT']}\n"
     ]
    },
    {
     "data": {
      "text/plain": [
       "'\\nfor cle in seqsMotif:\\n    for mot in seqsMotif[cle]:\\n        print(mot)\\n'"
      ]
     },
     "execution_count": 39,
     "metadata": {},
     "output_type": "execute_result"
    }
   ],
   "source": [
    "score, seqsMotif = randomProjIt(sequencesChip, 7, 4, 100)\n",
    "print(score)\n",
    "print(seqsMotif)\n",
    "\n",
    "\n",
    "\"\"\"\n",
    "for cle in seqsMotif:\n",
    "    for mot in seqsMotif[cle]:\n",
    "        print(mot)\n",
    "\"\"\""
   ]
  },
  {
   "cell_type": "code",
   "execution_count": null,
   "metadata": {},
   "outputs": [],
   "source": []
  }
 ],
 "metadata": {
  "celltoolbar": "Raw Cell Format",
  "kernelspec": {
   "display_name": "Python 3",
   "language": "python",
   "name": "python3"
  },
  "language_info": {
   "codemirror_mode": {
    "name": "ipython",
    "version": 3
   },
   "file_extension": ".py",
   "mimetype": "text/x-python",
   "name": "python",
   "nbconvert_exporter": "python",
   "pygments_lexer": "ipython3",
   "version": "3.7.4"
  }
 },
 "nbformat": 4,
 "nbformat_minor": 2
}
