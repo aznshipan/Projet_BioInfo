{
 "cells": [
  {
   "cell_type": "markdown",
   "metadata": {},
   "source": [
    "# TME 7 : Mini-projet Detection de motifs\n",
    "\n",
    "\n",
    "## Partie C : Recheche de pattern (motifs) en utilisant les algoritmes randomisés\n",
    "\n",
    "Les algorithmes randomisés prendre des décisions aléatoire plutôt que déterministes.\n",
    "l'algorithme s'exécute différemment à chaque fois. Ils sont couramment utilisés dans situations où aucun algorithme exact et rapide est connu. Nous allons implémenter deux algorithmes randomisés pour la recherche de motifs : Greedy Profile Motif Search et random Projections.\n"
   ]
  },
  {
   "cell_type": "markdown",
   "metadata": {},
   "source": [
    "1\\. Nous allons réutiliser les fonctions du TME6 pour générer t séquences artificielles de taille n, et implanter dans chaque séquence un motif de taille k à des positions aléatoires avec v substitutions choisies aléatoirement."
   ]
  },
  {
   "cell_type": "code",
   "execution_count": 447,
   "metadata": {},
   "outputs": [],
   "source": [
    "import random\n",
    "import numpy as np\n",
    "import copy\n",
    "\n",
    "nuc = ('A', 'C', 'G', 'T')\n",
    "\n",
    "k=7 #taille de motif\n",
    "v=4 #nb de positions variable dans le motif\n",
    "t=20 #nb de sequences\n",
    "n=50 #longuer des sequence\n",
    "\n",
    "def generateRandomSequence(n, I):\n",
    "    seq_tmp = \"\"\n",
    "    \n",
    "    if I == True:\n",
    "        for i in range(n):\n",
    "            seq_tmp = seq_tmp + random.choice(nuc)\n",
    "    else:\n",
    "        for i in range(n):\n",
    "            seq_tmp = seq_tmp + random.choice(nuc).lower()\n",
    "\n",
    "    return seq_tmp\n",
    "    \n",
    "\n",
    "def generateRandomSequences(n, t):\n",
    "    sequences = [generateRandomSequence(n, True) for i in range(t)]\n",
    "   \n",
    "    return sequences\n",
    "\n",
    "\n",
    "def implantMotifVar(k, v, t, n):\n",
    "    sequences = generateRandomSequences(n, t)\n",
    "    motif = generateRandomSequence(k, True)\n",
    "    print(\"Motif : \", motif)\n",
    "    \n",
    "    for i in range(len(sequences)):\n",
    "        L_seq = list(sequences[i])\n",
    "        L_motif = list(motif)\n",
    "        for nb_mutation in range(v):\n",
    "            index_mutation_motif = random.randint(0,len(motif) - 1)\n",
    "            L_motif[index_mutation_motif] = random.choice(nuc)\n",
    "        chn_motif_mute = \"\".join(L_motif)\n",
    "        print(chn_motif_mute)\n",
    "        L_seq.insert(random.randint(0, len(L_seq) - 1), chn_motif_mute)\n",
    "        \n",
    "        sequences[i] = \"\".join(L_seq)\n",
    "    return sequences\n"
   ]
  },
  {
   "cell_type": "code",
   "execution_count": 448,
   "metadata": {},
   "outputs": [
    {
     "name": "stdout",
     "output_type": "stream",
     "text": [
      "Motif :  GCGTCAG\n",
      "GAGCTAG\n",
      "GCATAAC\n",
      "TCGTCGG\n",
      "GCGACAG\n",
      "GAGTCAG\n",
      "GCAACAG\n",
      "GCGTCAG\n",
      "GATTCGA\n",
      "GCCTTAC\n",
      "GCATGTA\n",
      "TGGTCCG\n",
      "TCGCCAC\n",
      "ATGTCAC\n",
      "GCGGCGG\n",
      "GGGGGGG\n",
      "GGATCAC\n",
      "GCGTAAA\n",
      "ACGTCTA\n",
      "GTGTGAC\n",
      "GTGTAAG\n",
      "['ACATGAGTAGCCGGGAGCTAGCATACAGGTGTGAGCGTCTGGGCCTCCTAGGCGGCC', 'GTTGGGAGCGCCTTAAGAGGCTGGTAGCCAGAGCATAACGTCAAGGCTTGGAAGCGT', 'GTGCGCATACCAACTCCAGTCTCAGTCCAGCCACGGCCTACTACCCCTCGTCGGTTG', 'CATGTATATAGCGACAGGAATTTGCGAGACTAGCTATGAGTATTTATTAGGGCTGAT', 'TACGCCAAATCGAGTCAGCCGGTAATCAAGTAGGTTCGACTGAAATATCGGGGGCTC', 'TCATAAACAATAGTTGAGGGACAAGAAATGATCTGAGGCATTTGCAACAGACACGCT', 'GCGTCAGTCTTTGCTCCCCTCAGGCTGGATCCTAAGTGGAGGGGACTTTGATGAAGC', 'AGGCACTGGAAACAATTTCCAGGATTCGACCGAAATGCCTCCCCACGACCGCCGGTG', 'AACTCACTCCACGTTTGTCTTACTGGCCTTACTCAGCTTCGAGGAGAGATTATGACA', 'GCAGAGCATGTAGCTCAACAGGTGGCCAAAGCAGCTGTCGCCACTCCACTGATTTTG', 'TTTGCGACATCTAAAAGTGACTCGAATAGTGGTCCGTTCATCATAAGCGCCTAGTGT', 'ACTTTTCGCCACGCGTACCGTGCGAGGACTCATTTATCCCACCAGTCTCTATATCTC', 'CAATAAGGTTTTGATATTTTGATCAATGTCACTGTGGGGGATTAATGAGCTTCGGTT', 'CCGGCCCAACGGCGGCGGGCTCCATACTGAGCGTTTTATGCTCGGTGGGGATCTCTC', 'GCGGGGGGGAAGAATATCGACGTACATTCGTTCGCTCACCGGCTCAATAATTCGACT', 'ATAAATACGAGTTGTGCGTGGGCTCTTGAATCGGTTTTACTTACGAAGTGGATCACC', 'GGTCGCGAACTGCTTGTAACGCGTAAACTAATTTCCTCCCCGGAATGTTGAATCCGC', 'TGAGTCGACGCGACGAGCTAACGTAGACGTCTAGAAATTAGGTGAGAATTGAACATC', 'CACTCATGTCGTTAACTGGCAAACATTCGACCCTAATTGGCTGTGTGACGGTCTTAT', 'CCTGGTTTCCCATACTGTAACGAGCCCACGTAGAGAAGGTCAGGTCAAGTGTAAGAT']\n"
     ]
    }
   ],
   "source": [
    "#generate and implant variavel motifs\n",
    "\n",
    "\n",
    "sequences = implantMotifVar(k, v, t, n)\n",
    "print (sequences)\n"
   ]
  },
  {
   "cell_type": "markdown",
   "metadata": {},
   "source": [
    "2\\. Faire une fonction pour sélectionner des positions de départ aléatoirement s = (s1, …,st).\n"
   ]
  },
  {
   "cell_type": "code",
   "execution_count": 449,
   "metadata": {},
   "outputs": [
    {
     "name": "stdout",
     "output_type": "stream",
     "text": [
      "[39, 8, 34, 33, 26, 10, 36, 5, 24, 28, 23, 39, 22, 6, 16, 38, 16, 35, 14, 11]\n",
      "20\n"
     ]
    }
   ],
   "source": [
    "#creating vector s\n",
    "#Get t random positions from 0 to n - k\n",
    "def generateRandomS(sequences, k):\n",
    "    s = []\n",
    "    for i in range(t):\n",
    "        s.append(random.randint(0, len(sequences[i]) - k))\n",
    "    return s\n",
    "\n",
    "s = generateRandomS(sequences, k)\n",
    "print (s)\n",
    "print(len(s))"
   ]
  },
  {
   "cell_type": "markdown",
   "metadata": {},
   "source": [
    "3\\. Extraire les motifs en utilisant le vecteur s, et construire un profile. Attention, utiliser les pseudocount 1 pour éviter les probabilités zéro.\n"
   ]
  },
  {
   "cell_type": "code",
   "execution_count": 450,
   "metadata": {},
   "outputs": [
    {
     "name": "stdout",
     "output_type": "stream",
     "text": [
      "['TGGGCCT', 'CGCCTTA', 'GGCCTAC', 'CTATGAG', 'CAAGTAG', 'TAGTTGA', 'TGGAGGG', 'CTGGAAA', 'GGCCTTA', 'AAGCAGC', 'GAATAGT', 'CACCAGT', 'TCAATGT', 'CAACGGC', 'TCGACGT', 'ACTTACG', 'TAACGCG', 'AATTAGG', 'ACTGGCA', 'ATACTGT']\n",
      "{'A': array([6., 9., 8., 4., 7., 5., 6.]), 'C': array([7., 5., 5., 9., 3., 5., 4.]), 'G': array([ 4.,  6.,  7.,  5.,  6., 11.,  7.]), 'T': array([7., 4., 4., 6., 8., 3., 7.])}\n"
     ]
    }
   ],
   "source": [
    "#extract sequences from seqs\n",
    "def extractSeqs(s, seqs):\n",
    "    motifs = []\n",
    "    for i in range(len(s)):\n",
    "        seq_tmp = \"\"\n",
    "        for j in range(s[i], s[i] + k):\n",
    "            seq_tmp = seq_tmp + seqs[i][j]\n",
    "        motifs.append(seq_tmp)        \n",
    "    \n",
    "    return motifs\n",
    "        \n",
    "motifs = extractSeqs(s, sequences)\n",
    "print (motifs)\n",
    "\n",
    "#construct Profiles\n",
    "def profile(motifs, k, t):\n",
    "    q = len(nuc)\n",
    "    PWM = np.ones((q, k))#pseudo count\n",
    "    \n",
    "    L = [x for x in nuc]\n",
    "    \n",
    "    dictionnaire = {}\n",
    "    for i in range(len(L)):\n",
    "        dictionnaire[L[i]] = PWM[i]\n",
    "    \n",
    "    for i in range(k):\n",
    "        for j in range(len(motifs)):\n",
    "            dictionnaire[motifs[j][i]][i] = dictionnaire[motifs[j][i]][i] + 1\n",
    "            \n",
    "    #print(dictionnaire)\n",
    "    for i in range(q):\n",
    "        PWM[i] = dictionnaire[L[i]]\n",
    "    \n",
    "    #print(PWM)\n",
    "            \n",
    "    return dictionnaire\n",
    "\n",
    "pro = profile(motifs, k, t)\n",
    "print(pro)"
   ]
  },
  {
   "cell_type": "markdown",
   "metadata": {},
   "source": [
    "4\\. Transformer le Profile en PWM. Il faut diviser chaque élément par la somme de ses colonnes."
   ]
  },
  {
   "cell_type": "code",
   "execution_count": 451,
   "metadata": {},
   "outputs": [
    {
     "name": "stdout",
     "output_type": "stream",
     "text": [
      "{'A': array([0.25      , 0.375     , 0.33333333, 0.16666667, 0.29166667,\n",
      "       0.20833333, 0.25      ]), 'C': array([0.29166667, 0.20833333, 0.20833333, 0.375     , 0.125     ,\n",
      "       0.20833333, 0.16666667]), 'G': array([0.16666667, 0.25      , 0.29166667, 0.20833333, 0.25      ,\n",
      "       0.45833333, 0.29166667]), 'T': array([0.29166667, 0.16666667, 0.16666667, 0.25      , 0.33333333,\n",
      "       0.125     , 0.29166667])}\n",
      "{'A': array([6., 9., 8., 4., 7., 5., 6.]), 'C': array([7., 5., 5., 9., 3., 5., 4.]), 'G': array([ 4.,  6.,  7.,  5.,  6., 11.,  7.]), 'T': array([7., 4., 4., 6., 8., 3., 7.])}\n"
     ]
    }
   ],
   "source": [
    "#Somme des colonnes est toujours = t + len(nuc) = 24\n",
    "def somme_colonnes(profile):\n",
    "    colonne = []\n",
    "    for i in range(k):\n",
    "        s = 0\n",
    "        for j in nuc:\n",
    "            s = s + profile[j][i]\n",
    "        colonne.append(s)\n",
    "    return colonne\n",
    "\n",
    "def PWM(profile):\n",
    "    s_colonne = somme_colonnes(profile)\n",
    "    profile_modifie = copy.deepcopy(profile)\n",
    "    \n",
    "    for i in range(k):\n",
    "        for j in profile_modifie:\n",
    "            profile_modifie[j][i] = profile_modifie[j][i] / s_colonne[i]\n",
    "    \n",
    "    return profile_modifie\n",
    "\n",
    "pwm = PWM(pro)\n",
    "print(pwm)\n",
    "print(pro)"
   ]
  },
  {
   "cell_type": "markdown",
   "metadata": {},
   "source": [
    "5\\. Faire une fonction pour calculer la probabilité d'un motif de taille k selon une PWM.\n"
   ]
  },
  {
   "cell_type": "code",
   "execution_count": 452,
   "metadata": {},
   "outputs": [],
   "source": [
    "def probability(PWM, seq):\n",
    "    \"\"\"\n",
    "    Hypothese : on suppose que la taille de seq est egale a la taille d'une valeur de PWM\n",
    "    \"\"\"\n",
    "    prob = 1\n",
    "    \n",
    "    for i in range(len(seq)):\n",
    "        prob = prob * PWM[seq[i]][i]\n",
    "        \n",
    "    return prob\n",
    "\n"
   ]
  },
  {
   "cell_type": "markdown",
   "metadata": {},
   "source": [
    "6\\. Faire une fonction pour calculer le pMostProbkmer d'une séquence, voir un exemple dans les slides de cours."
   ]
  },
  {
   "cell_type": "code",
   "execution_count": 453,
   "metadata": {},
   "outputs": [
    {
     "name": "stdout",
     "output_type": "stream",
     "text": [
      "3\n"
     ]
    }
   ],
   "source": [
    "def tousLesKmers(ADN, k):\n",
    "    \"\"\"\n",
    "    String -> List(String)\n",
    "    Rend la liste de tous les k-mers present dans ADN\n",
    "    \"\"\"\n",
    "    List_des_Kmer = []\n",
    "    for i in range(len(ADN)-k+1):\n",
    "        seq_i = \"\"\n",
    "        for j in range(k):\n",
    "            seq_i = seq_i + ADN[i+j]\n",
    "        List_des_Kmer.append(seq_i)\n",
    "    return List_des_Kmer\n",
    "\n",
    "def pMostProbkmer(P, k, sequence):\n",
    "    maxProb = 0\n",
    "    s = 0 # position du k-mer le plus probable dans la sequence    \n",
    "    L_kmer = tousLesKmers(sequence, k)\n",
    "    \n",
    "    for kmer in L_kmer:\n",
    "        if probability(P, kmer) > maxProb:\n",
    "            maxProb = probability(P, kmer)\n",
    "            s = sequence.find(kmer)\n",
    "    return s\n",
    "\n",
    "s1 = pMostProbkmer(pwm, k, \"GCCGGATACT\")\n",
    "print(s1)\n"
   ]
  },
  {
   "cell_type": "markdown",
   "metadata": {},
   "source": [
    "7\\. Faire une fonction pour obtenir les nouvelles positions de départ s = (s1, …,st), c’était à dire les positions qui contiens les k-mer le plus probables."
   ]
  },
  {
   "cell_type": "code",
   "execution_count": 454,
   "metadata": {},
   "outputs": [
    {
     "name": "stdout",
     "output_type": "stream",
     "text": [
      "[25, 17, 10, 11, 36, 44, 32, 9, 19, 31, 26, 39, 28, 12, 47, 8, 16, 38, 12, 45]\n"
     ]
    }
   ],
   "source": [
    "def getNewS(P, k, sequences):\n",
    "    \n",
    "    s = []\n",
    "    for sequence in sequences:\n",
    "        s.append(pMostProbkmer(P, k, sequence))\n",
    "    \n",
    "    return s\n",
    "\n",
    "ns = getNewS(pwm, k, sequences)\n",
    "print (ns)"
   ]
  },
  {
   "cell_type": "markdown",
   "metadata": {},
   "source": [
    "8\\. La condition d’arrêt d’algorithme est le non changement du Profile d'une itération à l'autre, faire une fonction pour comparer deux Profils (matrice) et détecter le changement."
   ]
  },
  {
   "cell_type": "code",
   "execution_count": 455,
   "metadata": {},
   "outputs": [
    {
     "name": "stdout",
     "output_type": "stream",
     "text": [
      "59.0\n",
      "[39, 8, 34, 33, 26, 10, 36, 5, 24, 28, 23, 39, 22, 6, 16, 38, 16, 35, 14, 11] [25, 17, 10, 11, 36, 44, 32, 9, 19, 31, 26, 39, 28, 12, 47, 8, 16, 38, 12, 45]\n",
      "59.0\n"
     ]
    }
   ],
   "source": [
    "def changeProfile(P1, P2):\n",
    "    \n",
    "    changement = False\n",
    "    \n",
    "    L = [x for x in nuc]\n",
    "    L2 = [[\"Pareil\" for i in range(len(P1[L[0]]))] for j in range(len(P1))]\n",
    "    dictionnaire = {}\n",
    "    \n",
    "    for i in range(len(L)):\n",
    "        dictionnaire[L[i]] = L2[i]\n",
    "        \n",
    "    for nucleo in nuc:\n",
    "        for i in range(len(P1[nucleo])):\n",
    "            if P1[nucleo][i] != P2[nucleo][i]:\n",
    "                dictionnaire[nucleo][i] = P2[nucleo][i]\n",
    "                changement = True #Il y a un changement\n",
    "\n",
    "    for definition in dictionnaire:\n",
    "        print(definition, \" \", dictionnaire[definition])\n",
    "    \n",
    "    \n",
    "    return changement \n",
    "    \n",
    "\n",
    "def getScore(P, k):\n",
    "    sc = 0\n",
    "    S = random.choice(nuc)\n",
    "    \n",
    "    for i in range(len(P[S])):\n",
    "        colonne = []\n",
    "        for cle in P:\n",
    "            colonne.append(P[cle][i])\n",
    "        sc = sc + max(colonne)\n",
    "    \n",
    "    return sc\n",
    "\n",
    "def score(s, seqs):\n",
    "    sc = 0\n",
    "    profile1 = profile(extractSeqs(s, seqs), k, t)\n",
    "    \n",
    "    L_max_colonne = []\n",
    "    \n",
    "    for i in range(len(profile1[\"A\"])):\n",
    "        L_tmp = []\n",
    "        for j in nuc:\n",
    "            L_tmp.append(profile1[j][i])\n",
    "        sc = sc + max(L_tmp)\n",
    "    \n",
    "    return (sc)\n",
    "\n",
    "print(score(s, sequences))\n",
    "\n",
    "ns = getNewS(pwm, k, sequences)\n",
    "print (s, ns)\n",
    "\n",
    "sc = getScore(pro, k)\n",
    "print (sc)\n",
    "#test = changeProfile(pwm, pwm)\n",
    "#print(test)"
   ]
  },
  {
   "cell_type": "markdown",
   "metadata": {},
   "source": [
    "9\\. Implementer l'algorithme ``GreedyProfileMotifSearch`` en utilisant les fonctions precedentes. \n"
   ]
  },
  {
   "cell_type": "code",
   "execution_count": 456,
   "metadata": {},
   "outputs": [
    {
     "name": "stdout",
     "output_type": "stream",
     "text": [
      "['CCTAGGC', 'TCAAGGC', 'TCTCAGT', 'GCGAGAC', 'GTTCGAC', 'CATAAAC', 'CCTAAGT', 'CCGAAAT', 'GAGAGAT', 'GCTCAAC', 'TCTAAAA', 'TCTATAT', 'GATCAAT', 'GCTCGGT', 'GCTCAAT', 'GATCACC', 'GCGAACT', 'TCTAGAA', 'GTTAACT', 'GTAAGAT']\n"
     ]
    }
   ],
   "source": [
    "def GreedyProfileMotifSearch(sequences, t, n, k):\n",
    "    \n",
    "    bestScore = 0\n",
    "    s = generateRandomS(sequences, k)\n",
    "    \n",
    "    while score(s, sequences) > bestScore:\n",
    "        pro = profile(extractSeqs(s, sequences), k, t)\n",
    "        pwm = PWM(pro)\n",
    "        bestScore = score(s, sequences)\n",
    "        #print(bestScore)\n",
    "            \n",
    "        s = getNewS(pwm, k, sequences)\n",
    "   \n",
    "    return s, bestScore\n",
    "    \n",
    "        \n",
    "s, bestScore = GreedyProfileMotifSearch(sequences, t, n, k)   \n",
    "motifs = extractSeqs(s, sequences)\n",
    "print (motifs)\n",
    "        "
   ]
  },
  {
   "cell_type": "markdown",
   "metadata": {},
   "source": [
    "10\\. Avez vous trouvez le motif implanté? Rexécuter l’algorithme plusieurs fois pour le trouver. "
   ]
  },
  {
   "cell_type": "markdown",
   "metadata": {},
   "source": [
    "Reponse: Trouvé en exécutant beaucoup de fois..."
   ]
  },
  {
   "cell_type": "markdown",
   "metadata": {},
   "source": [
    "11\\. Vous avez certainement observer que l’algorithme ne produire pas toujours la même sortie et que les résultats dépendent de la sélection aléatoire des positions de départ s. Pour augmenter nous chances de retrouvez les bons motifs, nous allons implémenter une version itérative ``GreedyProfileMotifSearchIte`` \n",
    "qui a chaque fois sauvegarde s et le score du profile associé à s, après I itération, l’algorithme renvoie le vecteur s ayant le plus grand score."
   ]
  },
  {
   "cell_type": "code",
   "execution_count": 457,
   "metadata": {},
   "outputs": [
    {
     "name": "stdout",
     "output_type": "stream",
     "text": [
      "['GCGTCTG', 'GCCAGAG', 'GCCACGG', 'GCGACAG', 'TCGACTG', 'GCAACAG', 'GCGTCAG', 'TCGACCG', 'TCCACGT', 'TCCACTG', 'GCGACAT', 'GCCACGC', 'GTCACTG', 'GCGGCGG', 'TCGACGT', 'GCGTGGG', 'TCCCCGG', 'TCGACGC', 'GTGACGG', 'CCCACGT']\n"
     ]
    }
   ],
   "source": [
    "def maximumIndice(liste):\n",
    "    maxi = liste[0]\n",
    "    indice_max = 0\n",
    "    longueur=len(liste)\n",
    "    for i in range(longueur):\n",
    "        if liste[i] >= maxi:\n",
    "            maxi = liste[i]\n",
    "            indice_max = i\n",
    "    return indice_max\n",
    "\n",
    "def GreedyProfileMotifSearchIte(sequences, t, n, k, It):\n",
    "    Scores = []\n",
    "    Positions = []\n",
    "    \n",
    "    for i in range(It):\n",
    "        s, score = GreedyProfileMotifSearch(sequences, t, n, k)\n",
    "        Scores.append(score)\n",
    "        Positions.append(s)\n",
    "    \n",
    "    J = maximumIndice(Scores)\n",
    "    \n",
    "    return Positions[J], Scores[J]\n",
    "    \n",
    "s, bestScore = GreedyProfileMotifSearchIte(sequences, t, n, k, 100)\n",
    "motifs = extractSeqs(s, sequences)\n",
    "print (motifs)"
   ]
  },
  {
   "cell_type": "markdown",
   "metadata": {},
   "source": [
    "12\\. Tester algorithme  ``GreedyProfileMotifSearchIte`` sur vos données de chipSeq."
   ]
  },
  {
   "cell_type": "code",
   "execution_count": 460,
   "metadata": {},
   "outputs": [
    {
     "name": "stdout",
     "output_type": "stream",
     "text": [
      "ACCTTATGGTATTTATTTTCAAGATTCAGCTACACCTAATCAAGAAGGTATTTTAGAATTACATGATAATATTATGTTTT 912 80 7\n",
      "12\n",
      "4255.0 [19, 16, 37, 34, 11, 46, 17, 44, 65, 8, 30, 12, 72, 20, 20, 20, 68, 35, 48, 12, 29, 15, 66, 0, 30, 40, 48, 1, 6, 27, 28, 45, 60, 71, 11, 46, 17, 52, 14, 4, 71, 27, 60, 42, 0, 50, 55, 44, 41, 12, 54, 31, 53, 61, 19, 47, 67, 22, 11, 33, 55, 1, 47, 7, 14, 55, 12, 16, 50, 62, 32, 33, 53, 64, 69, 60, 65, 55, 5, 26, 71, 68, 60, 50, 18, 3, 18, 7, 53, 26, 64, 58, 58, 37, 51, 28, 47, 13, 16, 63, 1, 68, 34, 31, 1, 24, 16, 48, 10, 34, 34, 13, 50, 6, 34, 73, 26, 72, 47, 17, 14, 67, 65, 29, 20, 8, 0, 27, 70, 60, 1, 47, 30, 1, 64, 44, 69, 25, 5, 41, 47, 45, 12, 15, 1, 10, 5, 6, 27, 41, 57, 9, 49, 27, 73, 28, 60, 62, 46, 0, 13, 12, 66, 67, 8, 59, 64, 65, 70, 43, 66, 1, 40, 41, 24, 67, 30, 30, 1, 5, 47, 22, 64, 22, 55, 3, 65, 57, 49, 70, 69, 36, 63, 29, 65, 41, 31, 58, 43, 48, 32, 52, 11, 26, 16, 42, 3, 2, 73, 13, 47, 66, 47, 47, 46, 71, 1, 29, 29, 46, 12, 37, 43, 62, 15, 35, 38, 55, 71, 63, 33, 20, 50, 35, 6, 33, 50, 27, 71, 71, 10, 19, 8, 17, 4, 62, 13, 25, 24, 24, 55, 38, 43, 16, 59, 37, 2, 35, 34, 0, 45, 66, 30, 50, 51, 35, 31, 61, 32, 16, 45, 38, 0, 2, 59, 51, 9, 11, 43, 9, 58, 1, 37, 60, 12, 34, 26, 54, 31, 27, 3, 23, 16, 24, 2, 36, 46, 33, 14, 34, 25, 38, 41, 2, 60, 34, 48, 9, 58, 38, 38, 52, 52, 19, 4, 30, 43, 17, 16, 50, 14, 0, 51, 4, 8, 65, 27, 14, 16, 70, 14, 16, 11, 3, 45, 8, 56, 9, 10, 67, 61, 53, 62, 17, 49, 65, 15, 31, 45, 64, 9, 31, 14, 35, 3, 2, 1, 53, 51, 1, 18, 26, 2, 5, 26, 19, 30, 65, 49, 11, 7, 34, 4, 14, 52, 32, 42, 4, 42, 21, 64, 64, 16, 62, 12, 9, 41, 26, 61, 48, 39, 69, 8, 23, 1, 35, 61, 41, 57, 19, 7, 66, 36, 4, 3, 19, 44, 64, 21, 10, 12, 70, 21, 25, 18, 52, 55, 31, 17, 8, 43, 55, 66, 28, 13, 5, 40, 2, 43, 71, 27, 22, 44, 32, 43, 42, 11, 65, 59, 43, 72, 6, 66, 59, 61, 59, 57, 41, 6, 10, 33, 6, 34, 56, 64, 63, 58, 1, 54, 19, 37, 34, 30, 27, 59, 19, 62, 12, 61, 34, 45, 49, 59, 46, 64, 4, 13, 51, 73, 34, 2, 3, 63, 70, 51, 70, 68, 23, 14, 10, 33, 49, 17, 57, 33, 21, 45, 43, 37, 34, 49, 22, 3, 64, 22, 30, 20, 2, 35, 27, 45, 21, 69, 71, 8, 60, 18, 29, 41, 57, 57, 26, 51, 47, 12, 0, 60, 36, 6, 0, 48, 1, 34, 55, 1, 4, 48, 52, 57, 73, 42, 13, 51, 40, 51, 35, 46, 57, 48, 17, 28, 3, 22, 10, 72, 34, 64, 6, 3, 3, 14, 48, 41, 15, 36, 0, 10, 31, 59, 30, 56, 58, 38, 35, 58, 50, 53, 26, 67, 30, 13, 3, 54, 68, 63, 26, 56, 48, 21, 41, 42, 7, 29, 66, 24, 22, 10, 9, 15, 61, 36, 49, 5, 23, 0, 25, 21, 32, 21, 57, 46, 4, 22, 51, 10, 39, 22, 39, 9, 54, 6, 69, 47, 0, 42, 29, 59, 28, 33, 12, 63, 18, 43, 54, 8, 43, 46, 14, 37, 16, 41, 37, 46, 61, 70, 35, 37, 56, 30, 54, 45, 15, 52, 3, 62, 1, 60, 30, 39, 56, 73, 17, 5, 8, 42, 0, 42, 2, 37, 38, 67, 8, 55, 40, 1, 26, 73, 53, 39, 3, 50, 10, 3, 39, 61, 32, 16, 10, 67, 2, 7, 10, 52, 12, 24, 3, 64, 50, 38, 52, 42, 15, 3, 66, 18, 53, 10, 67, 13, 9, 13, 54, 27, 48, 17, 24, 51, 73, 12, 70, 47, 19, 14, 34, 32, 35, 53, 34, 36, 67, 0, 2, 58, 63, 39, 38, 11, 13, 72, 6, 9, 19, 36, 20, 71, 38, 20, 25, 25, 65, 72, 53, 47, 64, 63, 35, 36, 22, 7, 31, 42, 56, 70, 24, 35, 22, 40, 33, 47, 30, 60, 12, 24, 17, 29, 71, 33, 46, 49, 30, 0, 50, 43, 21, 25, 60, 15, 40, 37, 73, 43, 24, 16, 20, 61, 3, 32, 10, 71, 35, 39, 66, 68, 13, 1, 5, 2, 17, 52, 14, 30, 64, 23, 46, 47, 20, 4, 12, 11, 54, 61, 47, 33, 31, 31, 31, 52, 56, 9, 59, 53, 56, 30, 46, 9, 40, 37, 8, 27, 62, 11, 65, 31, 43, 29, 52, 10, 67, 19, 35, 58, 60, 4, 4, 39, 68, 52, 16, 29, 48, 60, 8, 45, 8, 38, 32, 9, 30, 14, 64, 0, 45, 58, 38, 9, 7, 9, 73, 40, 58, 32, 66, 0, 70, 30, 7, 60, 47, 50, 4, 38, 29, 32, 29, 2, 65, 13, 57, 24, 33, 11, 1, 71, 60, 44, 66, 26, 3, 20, 65, 57, 1]\n",
      "['ATTATTA', 'ATTATTT', 'ATTATTT', 'ATTATTT', 'ATTATTA', 'ATTAATA', 'ATTATTA', 'ATTATTT', 'ATAATAT', 'ATTATTT', 'ATTATTT', 'ATTATAT', 'ATGATTT', 'ATTATTA', 'ATGATTT', 'ATTATTT', 'ATTTTTA', 'ATTATTT', 'ATGATAT', 'ATAAATT', 'AGTATTA', 'ATTACAT', 'ATTAATT', 'ATAATTT', 'ATTAATT', 'ATAATAT', 'AATATAT', 'ATATTTT', 'AATATAT', 'ATAAAAT', 'ATATTTT', 'AATATAT', 'ATTATAT', 'ATTAATT', 'ATAAAAT', 'ATTAATT', 'ATTAATA', 'ATTAATT', 'ATTAATT', 'ATCAATT', 'ATTATTT', 'ATTATTA', 'AACATTT', 'ATTATTT', 'AGTATTT', 'ATGATTA', 'ATTATTT', 'ATTAATT', 'ATTAAAT', 'ATAATAT', 'ATAATTT', 'AGTATTT', 'ATAATAT', 'ATTTAAT', 'ATTATTT', 'ATTATTT', 'ATTTCTT', 'ATTATTT', 'ATTTTAT', 'ATTATAT', 'ATTAATT', 'ATTATTA', 'ATTATTA', 'TTTATTT', 'ATTATTT', 'ATCATAT', 'ATCATTT', 'ATTATTA', 'ATTATTT', 'ATCATTT', 'ATCAATT', 'ATGAAAT', 'ATAATTT', 'AATAATT', 'ATTATTT', 'AATATTT', 'ATTAATT', 'ATTAATT', 'ATTATAT', 'ATTAATT', 'ATTTTTT', 'ATTAATT', 'AAAATTA', 'AATATAT', 'ATAATTT', 'ATTATTT', 'ATTAATT', 'ATCATTA', 'ATTAATA', 'ATTATTT', 'ATTAAGT', 'AACATAT', 'AGTATTT', 'ATAAATT', 'ATAATTA', 'ATAAAAA', 'ATTATAT', 'ATATATT', 'ATATTAT', 'ATTTTTT', 'ATTACTA', 'ACTACTT', 'ATTGTTT', 'ATTCTGT', 'ATTTGCT', 'TTTATTT', 'AAAAGTT', 'TGTAAAA', 'ATCTTGT', 'AGTAGTT', 'AATATAT', 'AAGAAAA', 'AAGATTT', 'AAGAATT', 'ATCTTGA', 'ATTAATA', 'TTTATTT', 'ATTAATT', 'AATATGT', 'ATTTTAA', 'AAAAAAT', 'AAAATTT', 'ATTTTCT', 'ATCATAT', 'ATTATGA', 'AACACAA', 'AGGATGA', 'AGAATCA', 'ATTACAT', 'AATATTT', 'ATAAGTT', 'ATGATTT', 'AGTAATT', 'TTTAATT', 'TGGATTT', 'AGAATTT', 'ATGATGA', 'ATCATGT', 'ATCAAAA', 'AGCAAGT', 'AAAATCT', 'ATTAATA', 'AGCAATT', 'ATTATAA', 'ATTAATT', 'AAGAATT', 'AGTATTT', 'ATGATTA', 'ATTATAT', 'ATGTTTT', 'ATGATAA', 'AGAAACT', 'AGGACTT', 'AGTAATT', 'ATGAATT', 'AAAATAT', 'ATTTTAT', 'AGGATAA', 'AACAGTT', 'AGCAATT', 'ATCCCAT', 'ATGACTT', 'AACATGA', 'AAGATAA', 'ATAAATT', 'ATAATTT', 'ATCACAA', 'TGCATTT', 'TTTATAT', 'AACTTTT', 'AGGCATT', 'TTTAAGA', 'ATAATCA', 'ATATAGT', 'AGCAATA', 'GTGATGT', 'AGTTGGA', 'ATCATGT', 'ATATATT', 'ATCATTT', 'AGAAATT', 'AAGATCT', 'ATTTTTT', 'ATTTATT', 'AGTATAT', 'AGTATAT', 'ATGTTCT', 'AGGTCGT', 'ATCAGGT', 'ATTCTAT', 'ATTTTTT', 'ATTTTTT', 'ATAAATT', 'TTAACTT', 'ATTAATA', 'AGGATTT', 'AATAAGT', 'ATGATAT', 'TTAATTT', 'ATTATTT', 'ATTTTGT', 'ATAATAA', 'TTCAATT', 'ATAATAT', 'AACATCA', 'ATGACTT', 'AATAAAT', 'ATTTAAT', 'AATATTA', 'AAGATGT', 'AGATCGT', 'ACTATCT', 'AGTATGT', 'ATGAATT', 'AAAATAT', 'AGAAATT', 'AAAAAAA', 'ATTAATT', 'AGTAAAT', 'AAAAAAA', 'AGGAAGT', 'ATTATTA', 'ATTAATT', 'AGTATAA', 'ATTTTCT', 'ATGACTT', 'ATAATAA', 'ATTATAA', 'ATGATGT', 'AATAATT', 'AACATAT', 'ATAACTT', 'AACATGT', 'AATAAAT', 'ATTTTTT', 'ATAATAT', 'ATAAATT', 'ATTTTAT', 'ATTATGT', 'ATCAAGT', 'ATTTTTT', 'AATATTT', 'ATGATAA', 'AAAATTT', 'ATAATTT', 'ATCATAT', 'TTCATGT', 'AATAAAT', 'ATTAATT', 'AGTACTT', 'ATTATTT', 'ATTATTT', 'ATTACTT', 'ATCAAAA', 'ATATTTT', 'ATAATGT', 'ATAAATA', 'ATTAATT', 'TGTATTT', 'ATCATAT', 'ATGAATA', 'ATTAAGT', 'TTTATTT', 'ATTATTT', 'AGAAAAT', 'ATTATTA', 'ATAATGT', 'ATTAATA', 'ATGATTA', 'AATATGT', 'ATAAGTT', 'ATTACTT', 'ATAATTT', 'AATTCTT', 'ATCTATT', 'AAAACTT', 'ATAAATA', 'AGTAATA', 'TACATTT', 'ATGATTT', 'ATCATTT', 'ATAAATT', 'ATGATTT', 'ATGTTTT', 'AATATTT', 'AATATTT', 'AGTAAAT', 'ATCAATT', 'ATTAATA', 'ATGTTTT', 'ATGATTA', 'ATGAATT', 'AGAATTT', 'AATATTT', 'ATTTTTT', 'AATATTT', 'AGCTTTT', 'TAGAATT', 'ATAATCT', 'AAATATT', 'AATATTT', 'ATGATTT', 'AGTAATT', 'ATCATAT', 'ATTATAT', 'AAAAATT', 'AGTAATA', 'ATTAAAT', 'AGTAAGT', 'ATAATTA', 'AATATAT', 'ATTAAAT', 'AAAAATT', 'ATGATTT', 'ATTATAA', 'AATATAT', 'AAATTTT', 'ATCTAGT', 'ATGTATT', 'AGTTTTT', 'AATATTT', 'TTGTTTT', 'ATAATTT', 'TTCAATT', 'ATCATTT', 'ATCAAAT', 'ATTATTA', 'ATGAAAT', 'AGAAATA', 'AATATTT', 'AAAATGT', 'AGTTTTT', 'ATGATAT', 'ATACATT', 'AGTAATT', 'ATTTCTT', 'ATCTTTT', 'ATCAATT', 'AGGAATA', 'TATATTT', 'ATTAAGT', 'AAGATTA', 'TGGATTT', 'AATATTT', 'AATATAT', 'AGCAATT', 'AGATATT', 'AGCATAT', 'ATGACTT', 'AATAGTT', 'TATATTT', 'ATTTTTT', 'AGAAAAT', 'ATATTTT', 'AATATGA', 'AATACAT', 'ATTATAA', 'ATTATGA', 'ATTATTT', 'ATTAATT', 'ATTTTTT', 'AACTTTT', 'AGAATAT', 'AGTATTT', 'AATATTT', 'ATAATCT', 'ATGAAAT', 'ATGAAAT', 'ATTATTT', 'AAAAAAT', 'ATCAGTT', 'AAGAATA', 'AAAACCT', 'AAAACCT', 'TTGACAT', 'AAGAAAT', 'ATGATGT', 'AAAATTT', 'AAAATAT', 'ATAATAA', 'AGGTATT', 'AATTTTT', 'AAAAATT', 'ATTTATT', 'ATTTTTT', 'AGTTTTT', 'ATTATTA', 'AATACTT', 'ATTAATT', 'ATTTTTT', 'ATGATTT', 'ATTTTAT', 'ATGATAA', 'AGTTTTT', 'AATTATT', 'AATTTTT', 'ATTTTCT', 'ATTTTTT', 'ATCAAAT', 'AACTATA', 'AGCAATT', 'AGAAATT', 'AGAAATT', 'ATAATAA', 'AAAATTT', 'AGAAATT', 'AATAAAT', 'AATATTT', 'ATGAATT', 'ATGAAAT', 'ATCTTTT', 'ATTCTTT', 'AGTAATT', 'AATATGA', 'AGAATAT', 'AAGATTT', 'AATAATT', 'AGGATAT', 'AAATAAT', 'ATAATTT', 'TCAATTT', 'AAAATCA', 'ATTAATT', 'AGCATTT', 'ATAATAT', 'ATAAATT', 'AACTATT', 'ATCTTTA', 'TTTTATT', 'AATATGT', 'ATAATGT', 'AACTATT', 'ATAAAGT', 'ATCATAA', 'TTGTTTT', 'ATCTTTT', 'AGAATTT', 'ATTACTT', 'AGCATTT', 'AAGTATT', 'AAGATCT', 'ATGTTTA', 'AGAATTA', 'ATGATAT', 'TATATTT', 'ATCATCT', 'AGTATGT', 'ATTATGT', 'TTATTAT', 'ATTATTT', 'ATTTTTT', 'AATATTA', 'ATTTTAT', 'ATAAATA', 'AATATTT', 'ATTTTTA', 'ATTAAGT', 'ATAATGT', 'AAAATGT', 'ATCATAA', 'AGAATTT', 'ATCTATT', 'AATATAT', 'AATATTT', 'AGTAAAT', 'TTGATTT', 'ATCATAT', 'AATATTT', 'ATTATAT', 'ATTATTT', 'AGTATTT', 'ATGAATT', 'AACAAAT', 'AGTAATT', 'AAAAATT', 'ATGAAAT', 'ATCAGAT', 'AATATAT', 'AATATAT', 'ATAATAT', 'ATCATAT', 'ATGATAT', 'ATATATA', 'ATCAAAT', 'ATTACAT', 'AATTTTT', 'ATTAAGT', 'AATATAT', 'ATGATTT', 'AACTTTT', 'ATCACTT', 'AAAAATT', 'AGGATTT', 'ATGATTT', 'AGAATTT', 'AGTATAA', 'AACAAAT', 'ATCATTA', 'AATAAAA', 'AATATTT', 'AGTATTT', 'ATAAATT', 'ATTTTCT', 'AGCATTT', 'ATCATTT', 'ATAATCA', 'AAAATTT', 'ATCAAGT', 'ATGATAT', 'ATGTATT', 'ATCAAAT', 'ATTAGAT', 'TTTAATA', 'AACATGT', 'AATATAT', 'ATAACTT', 'ATGAGTT', 'AGAAATT', 'TTCATAT', 'TTTATAT', 'ATGATCT', 'ATCTATT', 'ATCTAGT', 'TTCAATT', 'TGAATTT', 'AGGAATA', 'ATCAACT', 'AACATTA', 'ATTTTAT', 'ATTATTT', 'ATAAAAA', 'TGTAATT', 'TTATTTA', 'ATGATTT', 'AAAATTT', 'AGGATAT', 'TTGATTT', 'ATGATAT', 'ATTATTT', 'ATTTAAT', 'ATAAGTT', 'ATGAAAT', 'ATAATAT', 'ATCATTT', 'ATATTTT', 'ATTATCT', 'ATATTGT', 'AAGTTTT', 'ATTTTGT', 'AATATTT', 'AAAAACT', 'AATATTT', 'ATTAAGT', 'AGCAATT', 'ATTTCTT', 'AAAATTT', 'ATTATTA', 'ATGATAT', 'TTTAAAT', 'AAAAATT', 'ATCACTT', 'AATATTT', 'AATATTT', 'ATATATT', 'AATATAT', 'AGTAAGA', 'AGAATTT', 'AAGAATT', 'ATGATAA', 'ATAATCT', 'ATTATTA', 'AACAGAT', 'ATTATAT', 'ATGAATA', 'ATGAATT', 'ATAAATT', 'ATAAAAT', 'AGTTTAT', 'ATTATTT', 'ATTTTTT', 'AGAATAT', 'TTGATTT', 'ATTATAT', 'AACATAA', 'ATGAATT', 'AGGTATT', 'AGAAGTT', 'AAGATTT', 'AAGACTT', 'AGGATAT', 'ATCTTTA', 'ATAACTT', 'ATGTGAT', 'AGAATGT', 'AGTATTT', 'AATATAA', 'ATGAACT', 'TAGATTT', 'AAATTAT', 'ATATATT', 'AAGATGT', 'AATAAAT', 'AAAACTT', 'ATTATTA', 'AATTTTT', 'ATGATTT', 'AAGTTTT', 'AAGATAT', 'ATAAATT', 'AGTATAA', 'AATAAAA', 'AAAAAAT', 'AACATTA', 'AGAATAT', 'AGAATAT', 'TAGAAAT', 'ATAACTT', 'AGTAATT', 'AGCATCT', 'ATAATAT', 'TGTATTT', 'TGGATTT', 'AGAATTT', 'TTAATTA', 'ATGATTT', 'AATATAT', 'ATTAAAT', 'AATTATT', 'ATCATCT', 'AAAAAGT', 'ATAACCT', 'AACACTA', 'AACACAT', 'TTGATAT', 'ATATTTT', 'ATCACTT', 'ATTTTTT', 'AATACTA', 'AGTACTT', 'AGAAAAT', 'AACATTT', 'ATTATTT', 'AATTTTT', 'ATAAATT', 'ATTAACT', 'ATCAAAT', 'ATTTTTA', 'AGAACTT', 'AGTATAT', 'AGCAAGT', 'ATATAGT', 'ATGATAA', 'ATGATCT', 'TTGAATT', 'ATTAATA', 'ATCAAAT', 'AATTATT', 'AATTTTT', 'AAAATTA', 'ATAATAT', 'AGTTATT', 'ATCTTAT', 'ATAAAAT', 'ATCAATT', 'AATAATT', 'TTTAAAT', 'TTCATAT', 'ATAAAAT', 'ATTTTTT', 'ATTATAA', 'ATGAATT', 'ATCACTT', 'AAAATTA', 'AAAAGAT', 'AATAAAA', 'ATTAAAT', 'ATATTAT', 'ATAAAGA', 'ATAATTT', 'ATTATAT', 'AAAAATT', 'AATATTT', 'AATATGT', 'ATGAATA', 'ATGTTTT', 'TTGATGT', 'TTAAAGT', 'ATCTTTA', 'AAGAAGT', 'ATCTTGT', 'ATATCTT', 'AAGATTT', 'ATGATTT', 'TTTAATA', 'ATAAAAT', 'ATCACTT', 'AATACTT', 'ATCATTT', 'AATTTTT', 'AGAATTT', 'ATCATTA', 'AGTTCTT', 'TTGAATT', 'AGCTTTT', 'AGTTTTT', 'AGAATGA', 'AGCATAT', 'ATCATTT', 'AATTTTT', 'AGGTATT', 'ATTATAT', 'ATGAATA', 'ATATTTT', 'ATCAATA', 'AGTATGA', 'AGAACAT', 'AACATGA', 'ATTATTA', 'AATATTT', 'ATTATCT', 'ATAATAT', 'AAAATTT', 'ATTTTAT', 'ATGACCT', 'ATCATAA', 'AGTTTGT', 'AGCAATT', 'AGAAATT', 'AAGTTAT', 'ATGAATT', 'ATTTTGT', 'ATTATTT', 'AGAACTT', 'ATCACAT', 'TTCAGTA', 'AAGAAAT', 'ATGTCTT', 'ATTATAT', 'AAAAACT', 'ATGATTT', 'AAAATTT', 'AAAATGT', 'AAAATTT', 'ATTTTTT', 'AACAAAA', 'ATGTCAT', 'ATCAGTT', 'ATAACGT', 'AGGAGCT', 'AGTTTTT', 'AAAAAAA', 'AGTATAT', 'AACATGT', 'ATGACTT', 'ATGTTCT', 'ATCTTAT', 'AACATTT', 'AAAAATT', 'ATTTTGT', 'AGTATTT', 'AAATTTT', 'TTGATCT', 'AAAAATT', 'AACATAT', 'ATCATTT', 'ATCATAT', 'ATTATAT', 'ATTATAT', 'ATCATTT', 'AGGATTT', 'AATATGT', 'ATAATAT', 'ATAATAT', 'AAGACTT', 'AGCATTT', 'ATTATGT', 'ATTTATT', 'AGTATTT', 'ATCCTGT', 'ATAATGT', 'AGGTTAT', 'TTCTATT', 'AACAAAT', 'ATCAATT', 'ATGTACA', 'ATCAATT', 'ATATCGT', 'ATGATAT', 'ATAATAA', 'ATAAAAT', 'ATGATTT', 'AGTAATT', 'AGTAATT', 'TTTAATT', 'AATAAGT', 'AGGAAGA', 'AAAAAAA', 'AGTATTT', 'ATGTTTT', 'ATGATTT', 'ATTAAAT', 'AATATTA', 'AACAATT', 'AATACAA', 'AATATTA', 'ATCAACT', 'TTCAATA', 'TGATTTT', 'AGTTTTT', 'TTAATTT', 'AGCTTTT', 'AATACTT', 'AGTGTTT', 'AATTATT', 'AATATTT', 'ATATTTT', 'ATTATCT', 'ATACTAT', 'ATCAATA', 'AAAAAGA', 'ATAAAGT', 'AAAACTT', 'AGGAATT', 'TGAAATT', 'ATCAAGA', 'TTTCCGT', 'ATCAAAA', 'AGGAATT', 'AAAATGT', 'AATAAGA', 'AGGATGT', 'AAAATCT', 'AATAATT', 'TTTATTT', 'ATCTATT', 'ATCAGTA', 'AAGAATT', 'AATATTA', 'TTGAATT', 'ATTTTAT', 'TTCATTT', 'AAGTTGT', 'AACTGTT', 'AAGTTGT', 'ATTTTAT', 'AGCATGT', 'AGCTTAT', 'ATCACTA', 'AGTATGT', 'ATAAAAT', 'TTTATTT', 'AAAATTT', 'ATTATTT', 'AAAATGT', 'AAAATAT', 'AGTACAA', 'AAGAAAT', 'AAAATTT', 'ATGATGT', 'ATTATTA', 'ATGTTTT', 'ATGAAAT', 'ATGATAT', 'TTTACTA', 'ATTAATT', 'ATAATTT', 'AACATAT', 'AGTTAGT', 'AATAAAA', 'AGAATTT', 'AACATAT', 'ATGATAT', 'ATGATAT', 'AAGTTAT', 'AAGTTGT', 'AGAATTT', 'ATCATTT', 'TTCATTT', 'ATATTGT', 'ATCACGT', 'ATTTCTA', 'AATACCA', 'TTCTAAT', 'AATAGAA', 'TACATAT', 'AGTATTT', 'ATGAGAT', 'ATGATTT', 'ATAACTA', 'ATGTTGT', 'ATGAGGT', 'TTAATGT', 'AGAACAT', 'AACAAGT', 'TTCTAAT', 'AGTTATT', 'AGTAAAT', 'ATCAAAT', 'AAGTTGT', 'AAGAATA', 'AATATGA', 'AGTAATT', 'TGGATAT', 'ATAATGT', 'AATATGT', 'AGGAACT', 'AGATGTT', 'TAAAAAT', 'ATTATTA', 'ATATAGT', 'AGAATGT', 'AGAAGTT']\n"
     ]
    }
   ],
   "source": [
    "k=7; v=1; t=20; n=80\n",
    "\n",
    "def readFasta(genome, n):\n",
    "    sequence = []\n",
    "    file = open(genome, \"r\")\n",
    "    sequence = []\n",
    "    for s in file:\n",
    "        if s[0] != \">\":\n",
    "            sequence.append(s.strip().upper())\n",
    "    sequenceStr = \"\".join(sequence)\n",
    "    \n",
    "    sequence = [sequenceStr[i:i+n] for i in range(0, len(sequenceStr), n)]\n",
    "    sequenceRet = [x for x in sequence if x]\n",
    "    return sequenceRet\n",
    "\n",
    "genome = \"Sequence_by_Peaks_8.fasta\" #path of your fasta seqs\n",
    "\n",
    "\n",
    "sequencesChip   = readFasta(genome, n)\n",
    "t = len(sequencesChip)\n",
    "print (sequencesChip[8], t, n, k)\n",
    "print(len(sequencesChip[len(sequencesChip) - 1]))\n",
    "\n",
    "s, bestScore = GreedyProfileMotifSearchIte(sequencesChip, t, n, k, 100)\n",
    "print (bestScore, s)\n",
    "motifs = extractSeqs(s, sequencesChip)\n",
    "print (motifs)"
   ]
  },
  {
   "cell_type": "markdown",
   "metadata": {},
   "source": [
    "13\\. Nous allons implémenter l'algorithme ``randomProjection``. Faire une fonction pour générer une projection de l à k, voir un exemple dans les slides de cours"
   ]
  },
  {
   "cell_type": "code",
   "execution_count": null,
   "metadata": {},
   "outputs": [],
   "source": [
    "def getRandomFixePositions(k, n):\n",
    "    listR = []\n",
    "   \n",
    "    return listR\n",
    "\n",
    "lR = getRandomFixePositions(7, 4)\n",
    "lR.sort()\n",
    "print (lR)\n",
    "\n",
    "def generateKey(positions, motif):\n",
    "    m = \"\"\n",
    "    \n",
    "    return m\n",
    "\n"
   ]
  },
  {
   "cell_type": "markdown",
   "metadata": {},
   "source": [
    "14\\. Implémenter l'algorithme ``randomProjection``."
   ]
  },
  {
   "cell_type": "code",
   "execution_count": null,
   "metadata": {},
   "outputs": [],
   "source": [
    "def randomProjection(k, v, sequences):\n",
    "    motifs  = {}; motifsSeq  = {}\n",
    "    \n",
    "    return motifs, motifsSeq\n",
    "\n",
    "#motifsSort = sorted(motifs, reverse=True, key=motifs.get)\n",
    "motifs, motifsSeq = randomProjection(7, 4, sequences)\n",
    "print (motifs)"
   ]
  },
  {
   "cell_type": "markdown",
   "metadata": {},
   "source": [
    "15\\. Avez vous trouvez le motif implanté? Rexécuter l’algorithme plusieurs fois pour le trouver. "
   ]
  },
  {
   "cell_type": "markdown",
   "metadata": {},
   "source": [
    "reponse: "
   ]
  },
  {
   "cell_type": "markdown",
   "metadata": {},
   "source": [
    "16\\. Implémenter la version itérative de l’algorithme ``randomProjection``. "
   ]
  },
  {
   "cell_type": "code",
   "execution_count": null,
   "metadata": {},
   "outputs": [],
   "source": [
    "def randomProjIt(sequences, k, v, It):\n",
    "    \n",
    "\n",
    "score, seqsMotif = randomProjIt(sequences, 7, 4, 100)\n",
    "\n",
    "print (score, seqsMotif)\n"
   ]
  },
  {
   "cell_type": "markdown",
   "metadata": {},
   "source": [
    "17\\. Tester l'algorithme  ``randomProjection`` sur vos données de chipSeq. Puis générér le LOGO du motif trouvé"
   ]
  },
  {
   "cell_type": "code",
   "execution_count": null,
   "metadata": {},
   "outputs": [],
   "source": [
    "score, seqsMotif = randomProjIt(sequencesChip, 7, 4, 100)"
   ]
  }
 ],
 "metadata": {
  "celltoolbar": "Raw Cell Format",
  "kernelspec": {
   "display_name": "Python 3",
   "language": "python",
   "name": "python3"
  },
  "language_info": {
   "codemirror_mode": {
    "name": "ipython",
    "version": 3
   },
   "file_extension": ".py",
   "mimetype": "text/x-python",
   "name": "python",
   "nbconvert_exporter": "python",
   "pygments_lexer": "ipython3",
   "version": "3.7.4"
  }
 },
 "nbformat": 4,
 "nbformat_minor": 2
}
